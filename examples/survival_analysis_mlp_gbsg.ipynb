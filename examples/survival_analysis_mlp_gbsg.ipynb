{
  "cells": [
    {
      "cell_type": "markdown",
      "source": [
        "This project uses a StaticHazardModel, an MLP, to predict patient risk scores from features for survival analysis on the GBSG dataset.\n",
        "\n",
        "The model is trained with the cox_loss function, which focuses on risk ranking. It uses an Adam optimizer and a learning rate scheduler for efficient training.\n",
        "\n",
        "Hyperparameter tuning is done with Optuna and Stratified K-Fold cross-validation. It finds optimal settings for parameters like learning rate and batch size by minimizing the Integrated Brier Score (IBS).\n",
        "\n",
        "The best model is retrained on the full dataset. Final evaluation uses metrics like Concordance Index (Ctd), time-dependent AUC, IBS, Brier Score, and Expected Calibration Error (ECE) to assess performance."
      ],
      "metadata": {
        "id": "d4Mzk8DlIr6i"
      }
    },
    {
      "cell_type": "markdown",
      "source": [
        "This project utilizes two key classes to handle data and define the survival analysis task:\n",
        "*   GBSGDataset: Manages loading and accessing the GBSG breast cancer patient dataset. It provides the raw clinical and survival data.\n",
        "*   SurvivalAnalysisGBSG: Defines the survival analysis task for the GBSG data. It specifies which patient attributes are used as model inputs and what survival outcomes (time and event) are the targets for prediction."
      ],
      "metadata": {
        "id": "Z6NFFmT_JXEP"
      }
    },
    {
      "cell_type": "code",
      "execution_count": 1,
      "metadata": {
        "colab": {
          "base_uri": "https://localhost:8080/"
        },
        "id": "fw-x6S2eQERE",
        "outputId": "3e26eef9-4e5c-4c3e-feb5-e04475a1e31a"
      },
      "outputs": [
        {
          "output_type": "stream",
          "name": "stdout",
          "text": [
            "Cloning into 'PyHealth'...\n",
            "remote: Enumerating objects: 6908, done.\u001b[K\n",
            "remote: Counting objects: 100% (1348/1348), done.\u001b[K\n",
            "remote: Compressing objects: 100% (459/459), done.\u001b[K\n",
            "remote: Total 6908 (delta 1104), reused 897 (delta 889), pack-reused 5560 (from 3)\u001b[K\n",
            "Receiving objects: 100% (6908/6908), 112.04 MiB | 11.93 MiB/s, done.\n",
            "Resolving deltas: 100% (4375/4375), done.\n"
          ]
        }
      ],
      "source": [
        "!git clone https://github.com/chrisyu-uiuc/PyHealth"
      ]
    },
    {
      "cell_type": "code",
      "execution_count": 7,
      "metadata": {
        "colab": {
          "base_uri": "https://localhost:8080/",
          "height": 1000
        },
        "id": "RBIhA92BQHWe",
        "outputId": "0809f9c9-b521-47b4-c7ba-6f25c3831f4e"
      },
      "outputs": [
        {
          "output_type": "stream",
          "name": "stdout",
          "text": [
            "Requirement already satisfied: virtualenv in /usr/local/lib/python3.11/dist-packages (20.30.0)\n",
            "Requirement already satisfied: distlib<1,>=0.3.7 in /usr/local/lib/python3.11/dist-packages (from virtualenv) (0.3.9)\n",
            "Requirement already satisfied: filelock<4,>=3.12.2 in /usr/local/lib/python3.11/dist-packages (from virtualenv) (3.18.0)\n",
            "Requirement already satisfied: platformdirs<5,>=3.9.1 in /usr/local/lib/python3.11/dist-packages (from virtualenv) (4.3.7)\n",
            "Found existing installation: numpy 1.23.5\n",
            "Uninstalling numpy-1.23.5:\n",
            "  Successfully uninstalled numpy-1.23.5\n",
            "Found existing installation: pandas 2.2.3\n",
            "Uninstalling pandas-2.2.3:\n",
            "  Successfully uninstalled pandas-2.2.3\n",
            "Found existing installation: pyhealth 1.1.4\n",
            "Uninstalling pyhealth-1.1.4:\n",
            "  Successfully uninstalled pyhealth-1.1.4\n",
            "Files removed: 188\n",
            "Collecting numpy==1.23.5\n",
            "  Downloading numpy-1.23.5-cp311-cp311-manylinux_2_17_x86_64.manylinux2014_x86_64.whl.metadata (2.3 kB)\n",
            "Downloading numpy-1.23.5-cp311-cp311-manylinux_2_17_x86_64.manylinux2014_x86_64.whl (17.1 MB)\n",
            "\u001b[2K   \u001b[90m━━━━━━━━━━━━━━━━━━━━━━━━━━━━━━━━━━━━━━━━\u001b[0m \u001b[32m17.1/17.1 MB\u001b[0m \u001b[31m284.0 MB/s\u001b[0m eta \u001b[36m0:00:00\u001b[0m\n",
            "\u001b[?25hInstalling collected packages: numpy\n",
            "\u001b[31mERROR: pip's dependency resolver does not currently take into account all the packages that are installed. This behaviour is the source of the following dependency conflicts.\n",
            "formulaic 1.1.1 requires pandas>=1.0, which is not installed.\n",
            "lifelines 0.30.0 requires pandas>=2.1, which is not installed.\n",
            "scikit-survival 0.24.1 requires pandas>=1.4.0, which is not installed.\n",
            "db-dtypes 1.4.2 requires pandas>=0.24.2, which is not installed.\n",
            "arviz 0.21.0 requires pandas>=1.5.0, which is not installed.\n",
            "shap 0.47.2 requires pandas, which is not installed.\n",
            "dask-cuda 25.2.0 requires pandas>=1.3, which is not installed.\n",
            "statsmodels 0.14.4 requires pandas!=2.1.0,>=1.4, which is not installed.\n",
            "bqplot 0.12.44 requires pandas<3.0.0,>=1.0.0, which is not installed.\n",
            "xarray 2025.3.1 requires pandas>=2.1, which is not installed.\n",
            "mlxtend 0.23.4 requires pandas>=0.24.2, which is not installed.\n",
            "holoviews 1.20.2 requires pandas>=1.3, which is not installed.\n",
            "bokeh 3.7.2 requires pandas>=1.2, which is not installed.\n",
            "datascience 0.17.6 requires pandas, which is not installed.\n",
            "geemap 0.35.3 requires pandas, which is not installed.\n",
            "dask-cudf-cu12 25.2.2 requires pandas<2.2.4dev0,>=2.0, which is not installed.\n",
            "mizani 0.13.3 requires pandas>=2.2.0, which is not installed.\n",
            "bigframes 2.1.0 requires pandas>=1.5.3, which is not installed.\n",
            "pandas-gbq 0.28.0 requires pandas>=1.1.4, which is not installed.\n",
            "seaborn 0.13.2 requires pandas>=1.2, which is not installed.\n",
            "cmdstanpy 1.2.5 requires pandas, which is not installed.\n",
            "plotnine 0.14.5 requires pandas>=2.2.0, which is not installed.\n",
            "cufflinks 0.17.3 requires pandas>=0.19.2, which is not installed.\n",
            "prophet 1.1.6 requires pandas>=1.0.4, which is not installed.\n",
            "tensorflow-decision-forests 1.11.0 requires pandas, which is not installed.\n",
            "pymc 5.22.0 requires pandas>=0.24.0, which is not installed.\n",
            "yfinance 0.2.57 requires pandas>=1.3.0, which is not installed.\n",
            "sklearn-pandas 2.2.0 requires pandas>=1.1.4, which is not installed.\n",
            "fastai 2.7.19 requires pandas, which is not installed.\n",
            "bigquery-magics 0.9.0 requires pandas>=1.1.0, which is not installed.\n",
            "cudf-cu12 25.2.1 requires pandas<2.2.4dev0,>=2.0, which is not installed.\n",
            "dopamine-rl 4.1.2 requires pandas>=0.24.2, which is not installed.\n",
            "geopandas 1.0.1 requires pandas>=1.4.0, which is not installed.\n",
            "panel 1.6.3 requires pandas>=1.2, which is not installed.\n",
            "xarray 2025.3.1 requires numpy>=1.24, but you have numpy 1.23.5 which is incompatible.\n",
            "jax 0.5.2 requires numpy>=1.25, but you have numpy 1.23.5 which is incompatible.\n",
            "scikit-image 0.25.2 requires numpy>=1.24, but you have numpy 1.23.5 which is incompatible.\n",
            "bigframes 2.1.0 requires numpy>=1.24.0, but you have numpy 1.23.5 which is incompatible.\n",
            "treescope 0.1.9 requires numpy>=1.25.2, but you have numpy 1.23.5 which is incompatible.\n",
            "albumentations 2.0.6 requires numpy>=1.24.4, but you have numpy 1.23.5 which is incompatible.\n",
            "imbalanced-learn 0.13.0 requires numpy<3,>=1.24.3, but you have numpy 1.23.5 which is incompatible.\n",
            "pymc 5.22.0 requires numpy>=1.25.0, but you have numpy 1.23.5 which is incompatible.\n",
            "albucore 0.0.24 requires numpy>=1.24.4, but you have numpy 1.23.5 which is incompatible.\n",
            "blosc2 3.3.1 requires numpy>=1.26, but you have numpy 1.23.5 which is incompatible.\n",
            "thinc 8.3.6 requires numpy<3.0.0,>=2.0.0, but you have numpy 1.23.5 which is incompatible.\n",
            "jaxlib 0.5.1 requires numpy>=1.25, but you have numpy 1.23.5 which is incompatible.\n",
            "tensorflow 2.18.0 requires numpy<2.1.0,>=1.26.0, but you have numpy 1.23.5 which is incompatible.\n",
            "chex 0.1.89 requires numpy>=1.24.1, but you have numpy 1.23.5 which is incompatible.\u001b[0m\u001b[31m\n",
            "\u001b[0mSuccessfully installed numpy-1.23.5\n"
          ]
        },
        {
          "output_type": "display_data",
          "data": {
            "application/vnd.colab-display-data+json": {
              "pip_warning": {
                "packages": [
                  "numpy"
                ]
              },
              "id": "f9efbdd201d849e7b23f4f220b08ad85"
            }
          },
          "metadata": {}
        },
        {
          "output_type": "stream",
          "name": "stdout",
          "text": [
            "Collecting pandas==1.5.3\n",
            "  Downloading pandas-1.5.3-cp311-cp311-manylinux_2_17_x86_64.manylinux2014_x86_64.whl.metadata (11 kB)\n",
            "Requirement already satisfied: python-dateutil>=2.8.1 in /usr/local/lib/python3.11/dist-packages (from pandas==1.5.3) (2.9.0.post0)\n",
            "Requirement already satisfied: pytz>=2020.1 in /usr/local/lib/python3.11/dist-packages (from pandas==1.5.3) (2025.2)\n",
            "Requirement already satisfied: numpy>=1.21.0 in /usr/local/lib/python3.11/dist-packages (from pandas==1.5.3) (1.23.5)\n",
            "Requirement already satisfied: six>=1.5 in /usr/local/lib/python3.11/dist-packages (from python-dateutil>=2.8.1->pandas==1.5.3) (1.17.0)\n",
            "Downloading pandas-1.5.3-cp311-cp311-manylinux_2_17_x86_64.manylinux2014_x86_64.whl (12.0 MB)\n",
            "\u001b[2K   \u001b[90m━━━━━━━━━━━━━━━━━━━━━━━━━━━━━━━━━━━━━━━━\u001b[0m \u001b[32m12.0/12.0 MB\u001b[0m \u001b[31m136.4 MB/s\u001b[0m eta \u001b[36m0:00:00\u001b[0m\n",
            "\u001b[?25hInstalling collected packages: pandas\n",
            "\u001b[31mERROR: pip's dependency resolver does not currently take into account all the packages that are installed. This behaviour is the source of the following dependency conflicts.\n",
            "lifelines 0.30.0 requires pandas>=2.1, but you have pandas 1.5.3 which is incompatible.\n",
            "google-colab 1.0.0 requires pandas==2.2.2, but you have pandas 1.5.3 which is incompatible.\n",
            "xarray 2025.3.1 requires numpy>=1.24, but you have numpy 1.23.5 which is incompatible.\n",
            "xarray 2025.3.1 requires pandas>=2.1, but you have pandas 1.5.3 which is incompatible.\n",
            "dask-cudf-cu12 25.2.2 requires pandas<2.2.4dev0,>=2.0, but you have pandas 1.5.3 which is incompatible.\n",
            "mizani 0.13.3 requires pandas>=2.2.0, but you have pandas 1.5.3 which is incompatible.\n",
            "bigframes 2.1.0 requires numpy>=1.24.0, but you have numpy 1.23.5 which is incompatible.\n",
            "plotnine 0.14.5 requires pandas>=2.2.0, but you have pandas 1.5.3 which is incompatible.\n",
            "pymc 5.22.0 requires numpy>=1.25.0, but you have numpy 1.23.5 which is incompatible.\n",
            "dask-expr 1.1.21 requires pandas>=2, but you have pandas 1.5.3 which is incompatible.\n",
            "cudf-cu12 25.2.1 requires pandas<2.2.4dev0,>=2.0, but you have pandas 1.5.3 which is incompatible.\u001b[0m\u001b[31m\n",
            "\u001b[0mSuccessfully installed pandas-1.5.3\n"
          ]
        },
        {
          "output_type": "display_data",
          "data": {
            "application/vnd.colab-display-data+json": {
              "pip_warning": {
                "packages": [
                  "pandas"
                ]
              },
              "id": "9983ce1b217e46d3bf6a4940af8b36ee"
            }
          },
          "metadata": {}
        },
        {
          "output_type": "stream",
          "name": "stdout",
          "text": [
            "created virtual environment CPython3.11.12.final.0-64 in 493ms\n",
            "  creator CPython3Posix(dest=/content/pyhealth_env, clear=False, no_vcs_ignore=False, global=False)\n",
            "  seeder FromAppData(download=False, pip=bundle, setuptools=bundle, wheel=bundle, via=copy, app_data_dir=/root/.local/share/virtualenv)\n",
            "    added seed packages: pip==25.0.1, setuptools==78.1.0, wheel==0.45.1\n",
            "  activators BashActivator,CShellActivator,FishActivator,NushellActivator,PowerShellActivator,PythonActivator\n",
            "\u001b[31mERROR: Invalid requirement: 'pandas==1.5.3#': Expected end or semicolon (after version specifier)\n",
            "    pandas==1.5.3#\n",
            "          ~~~~~~~^\u001b[0m\u001b[31m\n",
            "\u001b[0mfatal: destination path 'PyHealth' already exists and is not an empty directory.\n",
            "Processing /content/PyHealth\n",
            "  Preparing metadata (setup.py) ... \u001b[?25l\u001b[?25hdone\n",
            "Requirement already satisfied: torch>=1.8.0 in /usr/local/lib/python3.11/dist-packages (from pyhealth==1.1.4) (2.6.0+cu124)\n",
            "Requirement already satisfied: torchvision>=0.9.0 in /usr/local/lib/python3.11/dist-packages (from pyhealth==1.1.4) (0.21.0+cu124)\n",
            "Requirement already satisfied: rdkit>=2022.03.4 in /usr/local/lib/python3.11/dist-packages (from pyhealth==1.1.4) (2024.9.6)\n",
            "Requirement already satisfied: scikit-learn>=0.24.2 in /usr/local/lib/python3.11/dist-packages (from pyhealth==1.1.4) (1.6.1)\n",
            "Requirement already satisfied: networkx>=2.6.3 in /usr/local/lib/python3.11/dist-packages (from pyhealth==1.1.4) (3.4.2)\n",
            "Requirement already satisfied: pandas<2,>=1.3.2 in /usr/local/lib/python3.11/dist-packages (from pyhealth==1.1.4) (1.5.3)\n",
            "Requirement already satisfied: pandarallel>=1.5.3 in /usr/local/lib/python3.11/dist-packages (from pyhealth==1.1.4) (1.6.5)\n",
            "Requirement already satisfied: mne>=1.0.3 in /usr/local/lib/python3.11/dist-packages (from pyhealth==1.1.4) (1.9.0)\n",
            "Requirement already satisfied: urllib3<=1.26.15 in /usr/local/lib/python3.11/dist-packages (from pyhealth==1.1.4) (1.26.15)\n",
            "Requirement already satisfied: numpy in /usr/local/lib/python3.11/dist-packages (from pyhealth==1.1.4) (1.23.5)\n",
            "Requirement already satisfied: tqdm in /usr/local/lib/python3.11/dist-packages (from pyhealth==1.1.4) (4.67.1)\n",
            "Requirement already satisfied: polars in /usr/local/lib/python3.11/dist-packages (from pyhealth==1.1.4) (1.21.0)\n",
            "Requirement already satisfied: transformers in /usr/local/lib/python3.11/dist-packages (from pyhealth==1.1.4) (4.51.3)\n",
            "Requirement already satisfied: decorator in /usr/local/lib/python3.11/dist-packages (from mne>=1.0.3->pyhealth==1.1.4) (4.4.2)\n",
            "Requirement already satisfied: jinja2 in /usr/local/lib/python3.11/dist-packages (from mne>=1.0.3->pyhealth==1.1.4) (3.1.6)\n",
            "Requirement already satisfied: lazy-loader>=0.3 in /usr/local/lib/python3.11/dist-packages (from mne>=1.0.3->pyhealth==1.1.4) (0.4)\n",
            "Requirement already satisfied: matplotlib>=3.6 in /usr/local/lib/python3.11/dist-packages (from mne>=1.0.3->pyhealth==1.1.4) (3.10.0)\n",
            "Requirement already satisfied: packaging in /usr/local/lib/python3.11/dist-packages (from mne>=1.0.3->pyhealth==1.1.4) (24.2)\n",
            "Requirement already satisfied: pooch>=1.5 in /usr/local/lib/python3.11/dist-packages (from mne>=1.0.3->pyhealth==1.1.4) (1.8.2)\n",
            "Requirement already satisfied: scipy>=1.9 in /usr/local/lib/python3.11/dist-packages (from mne>=1.0.3->pyhealth==1.1.4) (1.15.2)\n",
            "Requirement already satisfied: dill>=0.3.1 in /usr/local/lib/python3.11/dist-packages (from pandarallel>=1.5.3->pyhealth==1.1.4) (0.4.0)\n",
            "Requirement already satisfied: psutil in /usr/local/lib/python3.11/dist-packages (from pandarallel>=1.5.3->pyhealth==1.1.4) (5.9.5)\n",
            "Requirement already satisfied: python-dateutil>=2.8.1 in /usr/local/lib/python3.11/dist-packages (from pandas<2,>=1.3.2->pyhealth==1.1.4) (2.9.0.post0)\n",
            "Requirement already satisfied: pytz>=2020.1 in /usr/local/lib/python3.11/dist-packages (from pandas<2,>=1.3.2->pyhealth==1.1.4) (2025.2)\n",
            "Requirement already satisfied: Pillow in /usr/local/lib/python3.11/dist-packages (from rdkit>=2022.03.4->pyhealth==1.1.4) (11.2.1)\n",
            "Requirement already satisfied: joblib>=1.2.0 in /usr/local/lib/python3.11/dist-packages (from scikit-learn>=0.24.2->pyhealth==1.1.4) (1.4.2)\n",
            "Requirement already satisfied: threadpoolctl>=3.1.0 in /usr/local/lib/python3.11/dist-packages (from scikit-learn>=0.24.2->pyhealth==1.1.4) (3.6.0)\n",
            "Requirement already satisfied: filelock in /usr/local/lib/python3.11/dist-packages (from torch>=1.8.0->pyhealth==1.1.4) (3.18.0)\n",
            "Requirement already satisfied: typing-extensions>=4.10.0 in /usr/local/lib/python3.11/dist-packages (from torch>=1.8.0->pyhealth==1.1.4) (4.13.2)\n",
            "Requirement already satisfied: fsspec in /usr/local/lib/python3.11/dist-packages (from torch>=1.8.0->pyhealth==1.1.4) (2025.3.2)\n",
            "Requirement already satisfied: nvidia-cuda-nvrtc-cu12==12.4.127 in /usr/local/lib/python3.11/dist-packages (from torch>=1.8.0->pyhealth==1.1.4) (12.4.127)\n",
            "Requirement already satisfied: nvidia-cuda-runtime-cu12==12.4.127 in /usr/local/lib/python3.11/dist-packages (from torch>=1.8.0->pyhealth==1.1.4) (12.4.127)\n",
            "Requirement already satisfied: nvidia-cuda-cupti-cu12==12.4.127 in /usr/local/lib/python3.11/dist-packages (from torch>=1.8.0->pyhealth==1.1.4) (12.4.127)\n",
            "Requirement already satisfied: nvidia-cudnn-cu12==9.1.0.70 in /usr/local/lib/python3.11/dist-packages (from torch>=1.8.0->pyhealth==1.1.4) (9.1.0.70)\n",
            "Requirement already satisfied: nvidia-cublas-cu12==12.4.5.8 in /usr/local/lib/python3.11/dist-packages (from torch>=1.8.0->pyhealth==1.1.4) (12.4.5.8)\n",
            "Requirement already satisfied: nvidia-cufft-cu12==11.2.1.3 in /usr/local/lib/python3.11/dist-packages (from torch>=1.8.0->pyhealth==1.1.4) (11.2.1.3)\n",
            "Requirement already satisfied: nvidia-curand-cu12==10.3.5.147 in /usr/local/lib/python3.11/dist-packages (from torch>=1.8.0->pyhealth==1.1.4) (10.3.5.147)\n",
            "Requirement already satisfied: nvidia-cusolver-cu12==11.6.1.9 in /usr/local/lib/python3.11/dist-packages (from torch>=1.8.0->pyhealth==1.1.4) (11.6.1.9)\n",
            "Requirement already satisfied: nvidia-cusparse-cu12==12.3.1.170 in /usr/local/lib/python3.11/dist-packages (from torch>=1.8.0->pyhealth==1.1.4) (12.3.1.170)\n",
            "Requirement already satisfied: nvidia-cusparselt-cu12==0.6.2 in /usr/local/lib/python3.11/dist-packages (from torch>=1.8.0->pyhealth==1.1.4) (0.6.2)\n",
            "Requirement already satisfied: nvidia-nccl-cu12==2.21.5 in /usr/local/lib/python3.11/dist-packages (from torch>=1.8.0->pyhealth==1.1.4) (2.21.5)\n",
            "Requirement already satisfied: nvidia-nvtx-cu12==12.4.127 in /usr/local/lib/python3.11/dist-packages (from torch>=1.8.0->pyhealth==1.1.4) (12.4.127)\n",
            "Requirement already satisfied: nvidia-nvjitlink-cu12==12.4.127 in /usr/local/lib/python3.11/dist-packages (from torch>=1.8.0->pyhealth==1.1.4) (12.4.127)\n",
            "Requirement already satisfied: triton==3.2.0 in /usr/local/lib/python3.11/dist-packages (from torch>=1.8.0->pyhealth==1.1.4) (3.2.0)\n",
            "Requirement already satisfied: sympy==1.13.1 in /usr/local/lib/python3.11/dist-packages (from torch>=1.8.0->pyhealth==1.1.4) (1.13.1)\n",
            "Requirement already satisfied: mpmath<1.4,>=1.1.0 in /usr/local/lib/python3.11/dist-packages (from sympy==1.13.1->torch>=1.8.0->pyhealth==1.1.4) (1.3.0)\n",
            "Requirement already satisfied: huggingface-hub<1.0,>=0.30.0 in /usr/local/lib/python3.11/dist-packages (from transformers->pyhealth==1.1.4) (0.30.2)\n",
            "Requirement already satisfied: pyyaml>=5.1 in /usr/local/lib/python3.11/dist-packages (from transformers->pyhealth==1.1.4) (6.0.2)\n",
            "Requirement already satisfied: regex!=2019.12.17 in /usr/local/lib/python3.11/dist-packages (from transformers->pyhealth==1.1.4) (2024.11.6)\n",
            "Requirement already satisfied: requests in /usr/local/lib/python3.11/dist-packages (from transformers->pyhealth==1.1.4) (2.32.3)\n",
            "Requirement already satisfied: tokenizers<0.22,>=0.21 in /usr/local/lib/python3.11/dist-packages (from transformers->pyhealth==1.1.4) (0.21.1)\n",
            "Requirement already satisfied: safetensors>=0.4.3 in /usr/local/lib/python3.11/dist-packages (from transformers->pyhealth==1.1.4) (0.5.3)\n",
            "Requirement already satisfied: contourpy>=1.0.1 in /usr/local/lib/python3.11/dist-packages (from matplotlib>=3.6->mne>=1.0.3->pyhealth==1.1.4) (1.3.2)\n",
            "Requirement already satisfied: cycler>=0.10 in /usr/local/lib/python3.11/dist-packages (from matplotlib>=3.6->mne>=1.0.3->pyhealth==1.1.4) (0.12.1)\n",
            "Requirement already satisfied: fonttools>=4.22.0 in /usr/local/lib/python3.11/dist-packages (from matplotlib>=3.6->mne>=1.0.3->pyhealth==1.1.4) (4.57.0)\n",
            "Requirement already satisfied: kiwisolver>=1.3.1 in /usr/local/lib/python3.11/dist-packages (from matplotlib>=3.6->mne>=1.0.3->pyhealth==1.1.4) (1.4.8)\n",
            "Requirement already satisfied: pyparsing>=2.3.1 in /usr/local/lib/python3.11/dist-packages (from matplotlib>=3.6->mne>=1.0.3->pyhealth==1.1.4) (3.2.3)\n",
            "Requirement already satisfied: platformdirs>=2.5.0 in /usr/local/lib/python3.11/dist-packages (from pooch>=1.5->mne>=1.0.3->pyhealth==1.1.4) (4.3.7)\n",
            "Requirement already satisfied: six>=1.5 in /usr/local/lib/python3.11/dist-packages (from python-dateutil>=2.8.1->pandas<2,>=1.3.2->pyhealth==1.1.4) (1.17.0)\n",
            "Requirement already satisfied: charset-normalizer<4,>=2 in /usr/local/lib/python3.11/dist-packages (from requests->transformers->pyhealth==1.1.4) (3.4.1)\n",
            "Requirement already satisfied: idna<4,>=2.5 in /usr/local/lib/python3.11/dist-packages (from requests->transformers->pyhealth==1.1.4) (3.10)\n",
            "Requirement already satisfied: certifi>=2017.4.17 in /usr/local/lib/python3.11/dist-packages (from requests->transformers->pyhealth==1.1.4) (2025.4.26)\n",
            "Requirement already satisfied: MarkupSafe>=2.0 in /usr/local/lib/python3.11/dist-packages (from jinja2->mne>=1.0.3->pyhealth==1.1.4) (3.0.2)\n",
            "Building wheels for collected packages: pyhealth\n",
            "  Building wheel for pyhealth (setup.py) ... \u001b[?25l\u001b[?25hdone\n",
            "  Created wheel for pyhealth: filename=pyhealth-1.1.4-py3-none-any.whl size=321514 sha256=67f9318846e419d41ae88fb40df416428692a0784fd015a4835052149e76a12d\n",
            "  Stored in directory: /tmp/pip-ephem-wheel-cache-l1r6hdgw/wheels/fe/80/ec/c38e2873528c14d8c907179c508544b0676de56dc94d9c6c92\n",
            "Successfully built pyhealth\n",
            "Installing collected packages: pyhealth\n",
            "Successfully installed pyhealth-1.1.4\n"
          ]
        }
      ],
      "source": [
        "# Install virtualenv (if not already installed)\n",
        "!pip install virtualenv\n",
        "!pip uninstall -y numpy pandas pyhealth\n",
        "!pip cache purge\n",
        "!pip install numpy==1.23.5 --no-cache-dir\n",
        "!pip install pandas==1.5.3 --no-cache-dir\n",
        "\n",
        "# Create a new virtual environment\n",
        "!virtualenv pyhealth_env\n",
        "\n",
        "# Activate the environment (Linux/Colab)\n",
        "!source pyhealth_env/bin/activate\n",
        "\n",
        "# Install pyhealth with compatible numpy/pandas\n",
        "!pip install numpy==1.23.5 pandas==1.5.3# pyhealth==1.1.4\n",
        "!git clone https://github.com/sunlabuiuc/PyHealth/\n",
        "!cd PyHealth && pip3 install .\n",
        "\n",
        "#Restart Once the installation is completed"
      ]
    },
    {
      "cell_type": "code",
      "execution_count": 1,
      "metadata": {
        "colab": {
          "base_uri": "https://localhost:8080/"
        },
        "id": "mpAGanoASfPT",
        "outputId": "ab45795e-4d5b-4f34-df10-0555fe3bfa34"
      },
      "outputs": [
        {
          "output_type": "stream",
          "name": "stdout",
          "text": [
            "Path to dataset files: /kaggle/input/breast-cancer-dataset-used-royston-and-altman\n"
          ]
        }
      ],
      "source": [
        "import kagglehub\n",
        "\n",
        "# Download latest version\n",
        "path = kagglehub.dataset_download(\"utkarshx27/breast-cancer-dataset-used-royston-and-altman\")\n",
        "\n",
        "print(\"Path to dataset files:\", path)"
      ]
    },
    {
      "cell_type": "code",
      "execution_count": 2,
      "metadata": {
        "colab": {
          "base_uri": "https://localhost:8080/"
        },
        "id": "bc3bp2B9SgMy",
        "outputId": "46956da3-c755-422c-bd8e-84222cf56eca"
      },
      "outputs": [
        {
          "output_type": "stream",
          "name": "stdout",
          "text": [
            "File successfully copied from /kaggle/input/breast-cancer-dataset-used-royston-and-altman/gbsg.csv to /content/datasets\n"
          ]
        }
      ],
      "source": [
        "import shutil\n",
        "import os\n",
        "\n",
        "# Correct source path (no /1/ needed)\n",
        "source_path = \"/kaggle/input/breast-cancer-dataset-used-royston-and-altman/gbsg.csv\"\n",
        "#\"/root/.cache/kagglehub/datasets/utkarshx27/breast-cancer-dataset-used-royston-and-altman/versions/1/gbsg.csv\"\n",
        "destination_dir = \"/content/datasets\"\n",
        "\n",
        "# Create destination directory if it doesn't exist\n",
        "os.makedirs(destination_dir, exist_ok=True)\n",
        "\n",
        "# Copy the file\n",
        "shutil.copy(source_path, destination_dir)\n",
        "\n",
        "print(f\"File successfully copied from {source_path} to {destination_dir}\")"
      ]
    },
    {
      "cell_type": "code",
      "execution_count": 3,
      "metadata": {
        "colab": {
          "base_uri": "https://localhost:8080/"
        },
        "id": "aGusktY7URKj",
        "outputId": "2340d6be-80a4-4d1f-c2cb-de5ee2913d41"
      },
      "outputs": [
        {
          "output_type": "stream",
          "name": "stdout",
          "text": [
            "Initializing gbsg_study dataset from /content/datasets/ (dev mode: False)\n"
          ]
        },
        {
          "output_type": "stream",
          "name": "stderr",
          "text": [
            "INFO:pyhealth.datasets.base_dataset:Initializing gbsg_study dataset from /content/datasets/ (dev mode: False)\n"
          ]
        },
        {
          "output_type": "stream",
          "name": "stdout",
          "text": [
            "Scanning table: gbsg from /content/datasets/gbsg.csv\n"
          ]
        },
        {
          "output_type": "stream",
          "name": "stderr",
          "text": [
            "INFO:pyhealth.datasets.base_dataset:Scanning table: gbsg from /content/datasets/gbsg.csv\n"
          ]
        },
        {
          "output_type": "stream",
          "name": "stdout",
          "text": [
            "<pyhealth.datasets.gbsg.GBSGDataset object at 0x791c494df710>\n",
            "Setting task SurvivalAnalysisGBSG for gbsg_study base dataset...\n"
          ]
        },
        {
          "output_type": "stream",
          "name": "stderr",
          "text": [
            "INFO:pyhealth.datasets.base_dataset:Setting task SurvivalAnalysisGBSG for gbsg_study base dataset...\n"
          ]
        },
        {
          "output_type": "stream",
          "name": "stdout",
          "text": [
            "Collecting global event dataframe...\n"
          ]
        },
        {
          "output_type": "stream",
          "name": "stderr",
          "text": [
            "INFO:pyhealth.datasets.base_dataset:Collecting global event dataframe...\n"
          ]
        },
        {
          "output_type": "stream",
          "name": "stdout",
          "text": [
            "Collected dataframe with shape: (686, 13)\n"
          ]
        },
        {
          "output_type": "stream",
          "name": "stderr",
          "text": [
            "INFO:pyhealth.datasets.base_dataset:Collected dataframe with shape: (686, 13)\n"
          ]
        },
        {
          "output_type": "stream",
          "name": "stdout",
          "text": [
            "Generating samples with 2 worker(s)...\n"
          ]
        },
        {
          "output_type": "stream",
          "name": "stderr",
          "text": [
            "INFO:pyhealth.datasets.base_dataset:Generating samples with 2 worker(s)...\n"
          ]
        },
        {
          "output_type": "stream",
          "name": "stdout",
          "text": [
            "Generating samples for SurvivalAnalysisGBSG\n"
          ]
        },
        {
          "output_type": "stream",
          "name": "stderr",
          "text": [
            "INFO:pyhealth.datasets.base_dataset:Generating samples for SurvivalAnalysisGBSG\n"
          ]
        },
        {
          "output_type": "stream",
          "name": "stdout",
          "text": [
            "Label meno vocab: {0: 0, 1: 1}\n"
          ]
        },
        {
          "output_type": "stream",
          "name": "stderr",
          "text": [
            "INFO:pyhealth.processors.label_processor:Label meno vocab: {0: 0, 1: 1}\n"
          ]
        },
        {
          "output_type": "stream",
          "name": "stdout",
          "text": [
            "Label hormon vocab: {0: 0, 1: 1}\n"
          ]
        },
        {
          "output_type": "stream",
          "name": "stderr",
          "text": [
            "INFO:pyhealth.processors.label_processor:Label hormon vocab: {0: 0, 1: 1}\n"
          ]
        },
        {
          "output_type": "stream",
          "name": "stdout",
          "text": [
            "Label event vocab: {0: 0, 1: 1}\n"
          ]
        },
        {
          "output_type": "stream",
          "name": "stderr",
          "text": [
            "INFO:pyhealth.processors.label_processor:Label event vocab: {0: 0, 1: 1}\n",
            "Processing samples: 100%|██████████| 686/686 [00:00<00:00, 16666.62it/s]"
          ]
        },
        {
          "output_type": "stream",
          "name": "stdout",
          "text": [
            "Generated 686 samples for task SurvivalAnalysisGBSG\n"
          ]
        },
        {
          "output_type": "stream",
          "name": "stderr",
          "text": [
            "\n",
            "INFO:pyhealth.datasets.base_dataset:Generated 686 samples for task SurvivalAnalysisGBSG\n"
          ]
        },
        {
          "output_type": "stream",
          "name": "stdout",
          "text": [
            "Generated 686 samples\n",
            "Sample features: {'age': tensor([1]), 'meno': tensor([1.]), 'size': tensor([1]), 'grade': tensor([1]), 'nodes': tensor([1]), 'pgr': tensor([1]), 'er': tensor([1]), 'hormon': tensor([1.]), 'patient_id': '1028', 'event': tensor([1.]), 'time': tensor([1])}\n"
          ]
        }
      ],
      "source": [
        "from pyhealth.datasets import GBSGDataset\n",
        "from pyhealth.tasks import SurvivalAnalysisGBSG\n",
        "# Initialize the dataset\n",
        "dataset = GBSGDataset(\n",
        "    root=\"/content/datasets/\",  # directory containing gbsg.csv\n",
        "    config_path=\"/content/PyHealth/pyhealth/datasets/configs/gbsg.yaml\",  # Your config file,\n",
        "    dataset_name=\"gbsg_study\"\n",
        ")\n",
        "print(dataset)\n",
        "\n",
        "\n",
        "# Create task\n",
        "task = SurvivalAnalysisGBSG()\n",
        "task_dataset = dataset.set_task(task)\n",
        "\n",
        "print(f\"Generated {len(task_dataset.samples)} samples\")\n",
        "print(\"Sample features:\", task_dataset.samples[0])"
      ]
    },
    {
      "cell_type": "code",
      "source": [
        "!pip install lifelines\n",
        "!pip install scikit-survival"
      ],
      "metadata": {
        "colab": {
          "base_uri": "https://localhost:8080/"
        },
        "id": "vMYkLlvmfuk2",
        "outputId": "f9bd52ae-a97b-4996-8fe9-e7acd8e67634"
      },
      "execution_count": 6,
      "outputs": [
        {
          "output_type": "stream",
          "name": "stdout",
          "text": [
            "Collecting lifelines\n",
            "  Downloading lifelines-0.30.0-py3-none-any.whl.metadata (3.2 kB)\n",
            "Requirement already satisfied: numpy>=1.14.0 in /usr/local/lib/python3.11/dist-packages (from lifelines) (1.23.5)\n",
            "Requirement already satisfied: scipy>=1.7.0 in /usr/local/lib/python3.11/dist-packages (from lifelines) (1.15.2)\n",
            "Collecting pandas>=2.1 (from lifelines)\n",
            "  Downloading pandas-2.2.3-cp311-cp311-manylinux_2_17_x86_64.manylinux2014_x86_64.whl.metadata (89 kB)\n",
            "\u001b[2K     \u001b[90m━━━━━━━━━━━━━━━━━━━━━━━━━━━━━━━━━━━━━━━━\u001b[0m \u001b[32m89.9/89.9 kB\u001b[0m \u001b[31m2.6 MB/s\u001b[0m eta \u001b[36m0:00:00\u001b[0m\n",
            "\u001b[?25hRequirement already satisfied: matplotlib>=3.0 in /usr/local/lib/python3.11/dist-packages (from lifelines) (3.10.0)\n",
            "Requirement already satisfied: autograd>=1.5 in /usr/local/lib/python3.11/dist-packages (from lifelines) (1.7.0)\n",
            "Collecting autograd-gamma>=0.3 (from lifelines)\n",
            "  Downloading autograd-gamma-0.5.0.tar.gz (4.0 kB)\n",
            "  Preparing metadata (setup.py) ... \u001b[?25l\u001b[?25hdone\n",
            "Collecting formulaic>=0.2.2 (from lifelines)\n",
            "  Downloading formulaic-1.1.1-py3-none-any.whl.metadata (6.9 kB)\n",
            "Collecting interface-meta>=1.2.0 (from formulaic>=0.2.2->lifelines)\n",
            "  Downloading interface_meta-1.3.0-py3-none-any.whl.metadata (6.7 kB)\n",
            "Requirement already satisfied: typing-extensions>=4.2.0 in /usr/local/lib/python3.11/dist-packages (from formulaic>=0.2.2->lifelines) (4.13.2)\n",
            "Requirement already satisfied: wrapt>=1.0 in /usr/local/lib/python3.11/dist-packages (from formulaic>=0.2.2->lifelines) (1.17.2)\n",
            "Requirement already satisfied: contourpy>=1.0.1 in /usr/local/lib/python3.11/dist-packages (from matplotlib>=3.0->lifelines) (1.3.2)\n",
            "Requirement already satisfied: cycler>=0.10 in /usr/local/lib/python3.11/dist-packages (from matplotlib>=3.0->lifelines) (0.12.1)\n",
            "Requirement already satisfied: fonttools>=4.22.0 in /usr/local/lib/python3.11/dist-packages (from matplotlib>=3.0->lifelines) (4.57.0)\n",
            "Requirement already satisfied: kiwisolver>=1.3.1 in /usr/local/lib/python3.11/dist-packages (from matplotlib>=3.0->lifelines) (1.4.8)\n",
            "Requirement already satisfied: packaging>=20.0 in /usr/local/lib/python3.11/dist-packages (from matplotlib>=3.0->lifelines) (24.2)\n",
            "Requirement already satisfied: pillow>=8 in /usr/local/lib/python3.11/dist-packages (from matplotlib>=3.0->lifelines) (11.2.1)\n",
            "Requirement already satisfied: pyparsing>=2.3.1 in /usr/local/lib/python3.11/dist-packages (from matplotlib>=3.0->lifelines) (3.2.3)\n",
            "Requirement already satisfied: python-dateutil>=2.7 in /usr/local/lib/python3.11/dist-packages (from matplotlib>=3.0->lifelines) (2.9.0.post0)\n",
            "Requirement already satisfied: pytz>=2020.1 in /usr/local/lib/python3.11/dist-packages (from pandas>=2.1->lifelines) (2025.2)\n",
            "Requirement already satisfied: tzdata>=2022.7 in /usr/local/lib/python3.11/dist-packages (from pandas>=2.1->lifelines) (2025.2)\n",
            "Requirement already satisfied: six>=1.5 in /usr/local/lib/python3.11/dist-packages (from python-dateutil>=2.7->matplotlib>=3.0->lifelines) (1.17.0)\n",
            "Downloading lifelines-0.30.0-py3-none-any.whl (349 kB)\n",
            "\u001b[2K   \u001b[90m━━━━━━━━━━━━━━━━━━━━━━━━━━━━━━━━━━━━━━━━\u001b[0m \u001b[32m349.3/349.3 kB\u001b[0m \u001b[31m9.3 MB/s\u001b[0m eta \u001b[36m0:00:00\u001b[0m\n",
            "\u001b[?25hDownloading formulaic-1.1.1-py3-none-any.whl (115 kB)\n",
            "\u001b[2K   \u001b[90m━━━━━━━━━━━━━━━━━━━━━━━━━━━━━━━━━━━━━━━━\u001b[0m \u001b[32m115.7/115.7 kB\u001b[0m \u001b[31m12.5 MB/s\u001b[0m eta \u001b[36m0:00:00\u001b[0m\n",
            "\u001b[?25hDownloading pandas-2.2.3-cp311-cp311-manylinux_2_17_x86_64.manylinux2014_x86_64.whl (13.1 MB)\n",
            "\u001b[2K   \u001b[90m━━━━━━━━━━━━━━━━━━━━━━━━━━━━━━━━━━━━━━━━\u001b[0m \u001b[32m13.1/13.1 MB\u001b[0m \u001b[31m116.0 MB/s\u001b[0m eta \u001b[36m0:00:00\u001b[0m\n",
            "\u001b[?25hDownloading interface_meta-1.3.0-py3-none-any.whl (14 kB)\n",
            "Building wheels for collected packages: autograd-gamma\n",
            "  Building wheel for autograd-gamma (setup.py) ... \u001b[?25l\u001b[?25hdone\n",
            "  Created wheel for autograd-gamma: filename=autograd_gamma-0.5.0-py3-none-any.whl size=4030 sha256=f1fbe9629193089ebd95d007ade32c208b4a940166c736d51da49e230a77290d\n",
            "  Stored in directory: /root/.cache/pip/wheels/8b/67/f4/2caaae2146198dcb824f31a303833b07b14a5ec863fb3acd7b\n",
            "Successfully built autograd-gamma\n",
            "Installing collected packages: interface-meta, pandas, autograd-gamma, formulaic, lifelines\n",
            "  Attempting uninstall: pandas\n",
            "    Found existing installation: pandas 1.5.3\n",
            "    Uninstalling pandas-1.5.3:\n",
            "      Successfully uninstalled pandas-1.5.3\n",
            "\u001b[31mERROR: pip's dependency resolver does not currently take into account all the packages that are installed. This behaviour is the source of the following dependency conflicts.\n",
            "pyhealth 1.1.4 requires pandas<2,>=1.3.2, but you have pandas 2.2.3 which is incompatible.\n",
            "google-colab 1.0.0 requires pandas==2.2.2, but you have pandas 2.2.3 which is incompatible.\n",
            "xarray 2025.3.1 requires numpy>=1.24, but you have numpy 1.23.5 which is incompatible.\n",
            "bigframes 2.1.0 requires numpy>=1.24.0, but you have numpy 1.23.5 which is incompatible.\n",
            "pymc 5.22.0 requires numpy>=1.25.0, but you have numpy 1.23.5 which is incompatible.\u001b[0m\u001b[31m\n",
            "\u001b[0mSuccessfully installed autograd-gamma-0.5.0 formulaic-1.1.1 interface-meta-1.3.0 lifelines-0.30.0 pandas-2.2.3\n",
            "Collecting scikit-survival\n",
            "  Downloading scikit_survival-0.24.1-cp311-cp311-manylinux_2_17_x86_64.manylinux2014_x86_64.whl.metadata (48 kB)\n",
            "\u001b[2K     \u001b[90m━━━━━━━━━━━━━━━━━━━━━━━━━━━━━━━━━━━━━━━━\u001b[0m \u001b[32m48.9/48.9 kB\u001b[0m \u001b[31m1.3 MB/s\u001b[0m eta \u001b[36m0:00:00\u001b[0m\n",
            "\u001b[?25hCollecting ecos (from scikit-survival)\n",
            "  Downloading ecos-2.0.14-cp311-cp311-manylinux_2_17_x86_64.manylinux2014_x86_64.whl.metadata (8.0 kB)\n",
            "Requirement already satisfied: joblib in /usr/local/lib/python3.11/dist-packages (from scikit-survival) (1.4.2)\n",
            "Requirement already satisfied: numexpr in /usr/local/lib/python3.11/dist-packages (from scikit-survival) (2.10.2)\n",
            "Requirement already satisfied: numpy in /usr/local/lib/python3.11/dist-packages (from scikit-survival) (1.23.5)\n",
            "Collecting osqp<1.0.0,>=0.6.3 (from scikit-survival)\n",
            "  Downloading osqp-0.6.7.post3-cp311-cp311-manylinux_2_5_x86_64.manylinux1_x86_64.manylinux_2_17_x86_64.manylinux2014_x86_64.whl.metadata (1.9 kB)\n",
            "Requirement already satisfied: pandas>=1.4.0 in /usr/local/lib/python3.11/dist-packages (from scikit-survival) (2.2.3)\n",
            "Requirement already satisfied: scipy>=1.3.2 in /usr/local/lib/python3.11/dist-packages (from scikit-survival) (1.15.2)\n",
            "Requirement already satisfied: scikit-learn<1.7,>=1.6.1 in /usr/local/lib/python3.11/dist-packages (from scikit-survival) (1.6.1)\n",
            "Collecting qdldl (from osqp<1.0.0,>=0.6.3->scikit-survival)\n",
            "  Downloading qdldl-0.1.7.post5-cp311-cp311-manylinux_2_17_x86_64.manylinux2014_x86_64.whl.metadata (1.7 kB)\n",
            "Requirement already satisfied: python-dateutil>=2.8.2 in /usr/local/lib/python3.11/dist-packages (from pandas>=1.4.0->scikit-survival) (2.9.0.post0)\n",
            "Requirement already satisfied: pytz>=2020.1 in /usr/local/lib/python3.11/dist-packages (from pandas>=1.4.0->scikit-survival) (2025.2)\n",
            "Requirement already satisfied: tzdata>=2022.7 in /usr/local/lib/python3.11/dist-packages (from pandas>=1.4.0->scikit-survival) (2025.2)\n",
            "Requirement already satisfied: threadpoolctl>=3.1.0 in /usr/local/lib/python3.11/dist-packages (from scikit-learn<1.7,>=1.6.1->scikit-survival) (3.6.0)\n",
            "Requirement already satisfied: six>=1.5 in /usr/local/lib/python3.11/dist-packages (from python-dateutil>=2.8.2->pandas>=1.4.0->scikit-survival) (1.17.0)\n",
            "Downloading scikit_survival-0.24.1-cp311-cp311-manylinux_2_17_x86_64.manylinux2014_x86_64.whl (3.9 MB)\n",
            "\u001b[2K   \u001b[90m━━━━━━━━━━━━━━━━━━━━━━━━━━━━━━━━━━━━━━━━\u001b[0m \u001b[32m3.9/3.9 MB\u001b[0m \u001b[31m34.3 MB/s\u001b[0m eta \u001b[36m0:00:00\u001b[0m\n",
            "\u001b[?25hDownloading osqp-0.6.7.post3-cp311-cp311-manylinux_2_5_x86_64.manylinux1_x86_64.manylinux_2_17_x86_64.manylinux2014_x86_64.whl (298 kB)\n",
            "\u001b[2K   \u001b[90m━━━━━━━━━━━━━━━━━━━━━━━━━━━━━━━━━━━━━━━━\u001b[0m \u001b[32m298.3/298.3 kB\u001b[0m \u001b[31m16.7 MB/s\u001b[0m eta \u001b[36m0:00:00\u001b[0m\n",
            "\u001b[?25hDownloading ecos-2.0.14-cp311-cp311-manylinux_2_17_x86_64.manylinux2014_x86_64.whl (220 kB)\n",
            "\u001b[2K   \u001b[90m━━━━━━━━━━━━━━━━━━━━━━━━━━━━━━━━━━━━━━━━\u001b[0m \u001b[32m220.1/220.1 kB\u001b[0m \u001b[31m12.6 MB/s\u001b[0m eta \u001b[36m0:00:00\u001b[0m\n",
            "\u001b[?25hDownloading qdldl-0.1.7.post5-cp311-cp311-manylinux_2_17_x86_64.manylinux2014_x86_64.whl (1.2 MB)\n",
            "\u001b[2K   \u001b[90m━━━━━━━━━━━━━━━━━━━━━━━━━━━━━━━━━━━━━━━━\u001b[0m \u001b[32m1.2/1.2 MB\u001b[0m \u001b[31m58.3 MB/s\u001b[0m eta \u001b[36m0:00:00\u001b[0m\n",
            "\u001b[?25hInstalling collected packages: qdldl, ecos, osqp, scikit-survival\n",
            "  Attempting uninstall: osqp\n",
            "    Found existing installation: osqp 1.0.3\n",
            "    Uninstalling osqp-1.0.3:\n",
            "      Successfully uninstalled osqp-1.0.3\n",
            "Successfully installed ecos-2.0.14 osqp-0.6.7.post3 qdldl-0.1.7.post5 scikit-survival-0.24.1\n"
          ]
        }
      ]
    },
    {
      "cell_type": "code",
      "source": [
        "!pip install torch pyhealth optuna scikit-survival matplotlib"
      ],
      "metadata": {
        "id": "tX7BJ9LLv_gS",
        "colab": {
          "base_uri": "https://localhost:8080/"
        },
        "outputId": "b0571a28-e776-42aa-dd7c-a9b67f0ab2b5"
      },
      "execution_count": 4,
      "outputs": [
        {
          "output_type": "stream",
          "name": "stdout",
          "text": [
            "Requirement already satisfied: torch in /usr/local/lib/python3.11/dist-packages (2.6.0+cu124)\n",
            "Requirement already satisfied: pyhealth in /usr/local/lib/python3.11/dist-packages (1.1.4)\n",
            "Collecting optuna\n",
            "  Downloading optuna-4.3.0-py3-none-any.whl.metadata (17 kB)\n",
            "Requirement already satisfied: scikit-survival in /usr/local/lib/python3.11/dist-packages (0.24.1)\n",
            "Requirement already satisfied: matplotlib in /usr/local/lib/python3.11/dist-packages (3.10.0)\n",
            "Requirement already satisfied: filelock in /usr/local/lib/python3.11/dist-packages (from torch) (3.18.0)\n",
            "Requirement already satisfied: typing-extensions>=4.10.0 in /usr/local/lib/python3.11/dist-packages (from torch) (4.13.2)\n",
            "Requirement already satisfied: networkx in /usr/local/lib/python3.11/dist-packages (from torch) (3.4.2)\n",
            "Requirement already satisfied: jinja2 in /usr/local/lib/python3.11/dist-packages (from torch) (3.1.6)\n",
            "Requirement already satisfied: fsspec in /usr/local/lib/python3.11/dist-packages (from torch) (2025.3.2)\n",
            "Requirement already satisfied: nvidia-cuda-nvrtc-cu12==12.4.127 in /usr/local/lib/python3.11/dist-packages (from torch) (12.4.127)\n",
            "Requirement already satisfied: nvidia-cuda-runtime-cu12==12.4.127 in /usr/local/lib/python3.11/dist-packages (from torch) (12.4.127)\n",
            "Requirement already satisfied: nvidia-cuda-cupti-cu12==12.4.127 in /usr/local/lib/python3.11/dist-packages (from torch) (12.4.127)\n",
            "Requirement already satisfied: nvidia-cudnn-cu12==9.1.0.70 in /usr/local/lib/python3.11/dist-packages (from torch) (9.1.0.70)\n",
            "Requirement already satisfied: nvidia-cublas-cu12==12.4.5.8 in /usr/local/lib/python3.11/dist-packages (from torch) (12.4.5.8)\n",
            "Requirement already satisfied: nvidia-cufft-cu12==11.2.1.3 in /usr/local/lib/python3.11/dist-packages (from torch) (11.2.1.3)\n",
            "Requirement already satisfied: nvidia-curand-cu12==10.3.5.147 in /usr/local/lib/python3.11/dist-packages (from torch) (10.3.5.147)\n",
            "Requirement already satisfied: nvidia-cusolver-cu12==11.6.1.9 in /usr/local/lib/python3.11/dist-packages (from torch) (11.6.1.9)\n",
            "Requirement already satisfied: nvidia-cusparse-cu12==12.3.1.170 in /usr/local/lib/python3.11/dist-packages (from torch) (12.3.1.170)\n",
            "Requirement already satisfied: nvidia-cusparselt-cu12==0.6.2 in /usr/local/lib/python3.11/dist-packages (from torch) (0.6.2)\n",
            "Requirement already satisfied: nvidia-nccl-cu12==2.21.5 in /usr/local/lib/python3.11/dist-packages (from torch) (2.21.5)\n",
            "Requirement already satisfied: nvidia-nvtx-cu12==12.4.127 in /usr/local/lib/python3.11/dist-packages (from torch) (12.4.127)\n",
            "Requirement already satisfied: nvidia-nvjitlink-cu12==12.4.127 in /usr/local/lib/python3.11/dist-packages (from torch) (12.4.127)\n",
            "Requirement already satisfied: triton==3.2.0 in /usr/local/lib/python3.11/dist-packages (from torch) (3.2.0)\n",
            "Requirement already satisfied: sympy==1.13.1 in /usr/local/lib/python3.11/dist-packages (from torch) (1.13.1)\n",
            "Requirement already satisfied: mpmath<1.4,>=1.1.0 in /usr/local/lib/python3.11/dist-packages (from sympy==1.13.1->torch) (1.3.0)\n",
            "Requirement already satisfied: torchvision>=0.9.0 in /usr/local/lib/python3.11/dist-packages (from pyhealth) (0.21.0+cu124)\n",
            "Requirement already satisfied: rdkit>=2022.03.4 in /usr/local/lib/python3.11/dist-packages (from pyhealth) (2024.9.6)\n",
            "Requirement already satisfied: scikit-learn>=0.24.2 in /usr/local/lib/python3.11/dist-packages (from pyhealth) (1.6.1)\n",
            "Requirement already satisfied: pandas<2,>=1.3.2 in /usr/local/lib/python3.11/dist-packages (from pyhealth) (1.5.3)\n",
            "Requirement already satisfied: pandarallel>=1.5.3 in /usr/local/lib/python3.11/dist-packages (from pyhealth) (1.6.5)\n",
            "Requirement already satisfied: mne>=1.0.3 in /usr/local/lib/python3.11/dist-packages (from pyhealth) (1.9.0)\n",
            "Requirement already satisfied: urllib3<=1.26.15 in /usr/local/lib/python3.11/dist-packages (from pyhealth) (1.26.15)\n",
            "Requirement already satisfied: numpy in /usr/local/lib/python3.11/dist-packages (from pyhealth) (1.23.5)\n",
            "Requirement already satisfied: tqdm in /usr/local/lib/python3.11/dist-packages (from pyhealth) (4.67.1)\n",
            "Requirement already satisfied: polars in /usr/local/lib/python3.11/dist-packages (from pyhealth) (1.21.0)\n",
            "Requirement already satisfied: transformers in /usr/local/lib/python3.11/dist-packages (from pyhealth) (4.51.3)\n",
            "Collecting alembic>=1.5.0 (from optuna)\n",
            "  Downloading alembic-1.15.2-py3-none-any.whl.metadata (7.3 kB)\n",
            "Collecting colorlog (from optuna)\n",
            "  Downloading colorlog-6.9.0-py3-none-any.whl.metadata (10 kB)\n",
            "Requirement already satisfied: packaging>=20.0 in /usr/local/lib/python3.11/dist-packages (from optuna) (24.2)\n",
            "Requirement already satisfied: sqlalchemy>=1.4.2 in /usr/local/lib/python3.11/dist-packages (from optuna) (2.0.40)\n",
            "Requirement already satisfied: PyYAML in /usr/local/lib/python3.11/dist-packages (from optuna) (6.0.2)\n",
            "Requirement already satisfied: ecos in /usr/local/lib/python3.11/dist-packages (from scikit-survival) (2.0.14)\n",
            "Requirement already satisfied: joblib in /usr/local/lib/python3.11/dist-packages (from scikit-survival) (1.4.2)\n",
            "Requirement already satisfied: numexpr in /usr/local/lib/python3.11/dist-packages (from scikit-survival) (2.10.2)\n",
            "Requirement already satisfied: osqp<1.0.0,>=0.6.3 in /usr/local/lib/python3.11/dist-packages (from scikit-survival) (0.6.7.post3)\n",
            "Requirement already satisfied: scipy>=1.3.2 in /usr/local/lib/python3.11/dist-packages (from scikit-survival) (1.15.2)\n",
            "Requirement already satisfied: contourpy>=1.0.1 in /usr/local/lib/python3.11/dist-packages (from matplotlib) (1.3.2)\n",
            "Requirement already satisfied: cycler>=0.10 in /usr/local/lib/python3.11/dist-packages (from matplotlib) (0.12.1)\n",
            "Requirement already satisfied: fonttools>=4.22.0 in /usr/local/lib/python3.11/dist-packages (from matplotlib) (4.57.0)\n",
            "Requirement already satisfied: kiwisolver>=1.3.1 in /usr/local/lib/python3.11/dist-packages (from matplotlib) (1.4.8)\n",
            "Requirement already satisfied: pillow>=8 in /usr/local/lib/python3.11/dist-packages (from matplotlib) (11.2.1)\n",
            "Requirement already satisfied: pyparsing>=2.3.1 in /usr/local/lib/python3.11/dist-packages (from matplotlib) (3.2.3)\n",
            "Requirement already satisfied: python-dateutil>=2.7 in /usr/local/lib/python3.11/dist-packages (from matplotlib) (2.9.0.post0)\n",
            "Requirement already satisfied: Mako in /usr/lib/python3/dist-packages (from alembic>=1.5.0->optuna) (1.1.3)\n",
            "Requirement already satisfied: decorator in /usr/local/lib/python3.11/dist-packages (from mne>=1.0.3->pyhealth) (4.4.2)\n",
            "Requirement already satisfied: lazy-loader>=0.3 in /usr/local/lib/python3.11/dist-packages (from mne>=1.0.3->pyhealth) (0.4)\n",
            "Requirement already satisfied: pooch>=1.5 in /usr/local/lib/python3.11/dist-packages (from mne>=1.0.3->pyhealth) (1.8.2)\n",
            "Requirement already satisfied: qdldl in /usr/local/lib/python3.11/dist-packages (from osqp<1.0.0,>=0.6.3->scikit-survival) (0.1.7.post5)\n",
            "Requirement already satisfied: dill>=0.3.1 in /usr/local/lib/python3.11/dist-packages (from pandarallel>=1.5.3->pyhealth) (0.4.0)\n",
            "Requirement already satisfied: psutil in /usr/local/lib/python3.11/dist-packages (from pandarallel>=1.5.3->pyhealth) (5.9.5)\n",
            "Requirement already satisfied: pytz>=2020.1 in /usr/local/lib/python3.11/dist-packages (from pandas<2,>=1.3.2->pyhealth) (2025.2)\n",
            "Requirement already satisfied: six>=1.5 in /usr/local/lib/python3.11/dist-packages (from python-dateutil>=2.7->matplotlib) (1.17.0)\n",
            "Requirement already satisfied: threadpoolctl>=3.1.0 in /usr/local/lib/python3.11/dist-packages (from scikit-learn>=0.24.2->pyhealth) (3.6.0)\n",
            "Requirement already satisfied: greenlet>=1 in /usr/local/lib/python3.11/dist-packages (from sqlalchemy>=1.4.2->optuna) (3.2.1)\n",
            "Requirement already satisfied: MarkupSafe>=2.0 in /usr/local/lib/python3.11/dist-packages (from jinja2->torch) (3.0.2)\n",
            "Requirement already satisfied: huggingface-hub<1.0,>=0.30.0 in /usr/local/lib/python3.11/dist-packages (from transformers->pyhealth) (0.30.2)\n",
            "Requirement already satisfied: regex!=2019.12.17 in /usr/local/lib/python3.11/dist-packages (from transformers->pyhealth) (2024.11.6)\n",
            "Requirement already satisfied: requests in /usr/local/lib/python3.11/dist-packages (from transformers->pyhealth) (2.32.3)\n",
            "Requirement already satisfied: tokenizers<0.22,>=0.21 in /usr/local/lib/python3.11/dist-packages (from transformers->pyhealth) (0.21.1)\n",
            "Requirement already satisfied: safetensors>=0.4.3 in /usr/local/lib/python3.11/dist-packages (from transformers->pyhealth) (0.5.3)\n",
            "Requirement already satisfied: platformdirs>=2.5.0 in /usr/local/lib/python3.11/dist-packages (from pooch>=1.5->mne>=1.0.3->pyhealth) (4.3.7)\n",
            "Requirement already satisfied: charset-normalizer<4,>=2 in /usr/local/lib/python3.11/dist-packages (from requests->transformers->pyhealth) (3.4.1)\n",
            "Requirement already satisfied: idna<4,>=2.5 in /usr/local/lib/python3.11/dist-packages (from requests->transformers->pyhealth) (3.10)\n",
            "Requirement already satisfied: certifi>=2017.4.17 in /usr/local/lib/python3.11/dist-packages (from requests->transformers->pyhealth) (2025.4.26)\n",
            "Downloading optuna-4.3.0-py3-none-any.whl (386 kB)\n",
            "\u001b[2K   \u001b[90m━━━━━━━━━━━━━━━━━━━━━━━━━━━━━━━━━━━━━━━━\u001b[0m \u001b[32m386.6/386.6 kB\u001b[0m \u001b[31m8.4 MB/s\u001b[0m eta \u001b[36m0:00:00\u001b[0m\n",
            "\u001b[?25hDownloading alembic-1.15.2-py3-none-any.whl (231 kB)\n",
            "\u001b[2K   \u001b[90m━━━━━━━━━━━━━━━━━━━━━━━━━━━━━━━━━━━━━━━━\u001b[0m \u001b[32m231.9/231.9 kB\u001b[0m \u001b[31m20.8 MB/s\u001b[0m eta \u001b[36m0:00:00\u001b[0m\n",
            "\u001b[?25hDownloading colorlog-6.9.0-py3-none-any.whl (11 kB)\n",
            "Installing collected packages: colorlog, alembic, optuna\n",
            "Successfully installed alembic-1.15.2 colorlog-6.9.0 optuna-4.3.0\n"
          ]
        }
      ]
    },
    {
      "cell_type": "code",
      "source": [
        "import torch\n",
        "import torch.nn as nn\n",
        "import torch.optim as optim\n",
        "from torch.utils.data import DataLoader, TensorDataset, Subset\n",
        "from pyhealth.datasets import GBSGDataset\n",
        "from pyhealth.tasks import SurvivalAnalysisGBSG\n",
        "from sksurv.util import Surv\n",
        "from sksurv.metrics import concordance_index_censored, cumulative_dynamic_auc, integrated_brier_score, brier_score as sk_brier_score\n",
        "from sksurv.nonparametric import kaplan_meier_estimator\n",
        "from sklearn.model_selection import StratifiedKFold\n",
        "from sklearn.preprocessing import StandardScaler\n",
        "import optuna\n",
        "import numpy as np\n",
        "import matplotlib.pyplot as plt\n",
        "import pandas as pd\n",
        "import os\n",
        "from lifelines import KaplanMeierFitter\n",
        "from lifelines.statistics import logrank_test\n",
        "\n",
        "# Fix seed for reproducibility\n",
        "SEED = 42\n",
        "torch.manual_seed(SEED)\n",
        "np.random.seed(SEED)\n",
        "\n",
        "# Set device\n",
        "device = torch.device(\"cuda\" if torch.cuda.is_available() else \"cpu\")\n",
        "print(f\"Using device: {device}\")\n",
        "\n",
        "# --- Dataset Loading and Preprocessing ---\n",
        "# Define dataset root directory\n",
        "DATA_ROOT = \"./datasets/\"\n",
        "# Create directory if it doesn't exist\n",
        "os.makedirs(DATA_ROOT, exist_ok=True)\n",
        "\n",
        "# Load dataset\n",
        "# Load dataset\n",
        "dataset = GBSGDataset(\n",
        "    root=\"/content/datasets/\",\n",
        "    config_path=\"/content/PyHealth/pyhealth/datasets/configs/gbsg.yaml\",\n",
        "    dataset_name=\"gbsg_study\"\n",
        ")\n",
        "\n",
        "# Create task\n",
        "task = SurvivalAnalysisGBSG()\n",
        "task_dataset = dataset.set_task(task)\n",
        "print(f\"Generated {len(task_dataset.samples)} samples for task {task.task_name}\")\n",
        "\n",
        "\n",
        "\n",
        "# Prepare features, times, events, and original_hormon for grouping\n",
        "features_list, times_list, events_list, original_hormon_list = [], [], [], []\n",
        "\n",
        "for sample in task_dataset.samples: # Iterating directly over samples maintains order\n",
        "    # Extract features (all keys except patient_id, time, event)\n",
        "    # Assuming 'hormon' is one of the features used by the model\n",
        "    feat = {k: v for k, v in sample.items() if k not in [\"patient_id\", \"time\", \"event\"]}\n",
        "    features_list.append(list(feat.values()))\n",
        "    times_list.append(float(sample[\"time\"]))\n",
        "    events_list.append(int(sample[\"event\"]))\n",
        "    # Store the original 'hormon' value for later grouping\n",
        "    original_hormon_list.append(int(sample[\"hormon\"])) # Assume 'hormon' is 0 or 1 based on dataset info\n",
        "\n",
        "\n",
        "# Convert lists to tensors\n",
        "features = torch.tensor(features_list, dtype=torch.float32)\n",
        "times = torch.tensor(times_list, dtype=torch.float32)\n",
        "events = torch.tensor(events_list, dtype=torch.bool) # Use boolean for events\n",
        "\n",
        "print(f\"Loaded {features.shape[0]} samples with {features.shape[1]} features.\")\n",
        "\n",
        "# Normalize features\n",
        "scaler = StandardScaler()\n",
        "features_np = features.numpy() # Convert tensor to numpy for scikit-learn\n",
        "features_scaled_np = scaler.fit_transform(features_np)\n",
        "features = torch.tensor(features_scaled_np, dtype=torch.float32) # Convert back to tensor\n",
        "print(\"Features normalized.\")\n",
        "\n",
        "# Identify indices for hormonal therapy groups based on original data\n",
        "original_hormon_np = np.array(original_hormon_list)\n",
        "hormon_1_indices = np.where(original_hormon_np == 1)[0].tolist()\n",
        "hormon_0_indices = np.where(original_hormon_np == 0)[0].tolist()\n",
        "\n",
        "print(f\"Found {len(hormon_1_indices)} patients with hormonal therapy and {len(hormon_0_indices)} without.\")\n",
        "\n",
        "\n",
        "# Prepare stratification bins for K-Fold Cross-Validation\n",
        "# Stratify by a combination of time bins and event status for more balanced folds\n",
        "all_times_np = times.numpy()\n",
        "all_events_np = events.numpy().astype(int)\n",
        "\n",
        "# Create time bins using quantiles\n",
        "try:\n",
        "    time_bins = pd.qcut(all_times_np, q=5, labels=False, duplicates='drop')\n",
        "    # Combine time bin index and event status (0 or 1) to create strata\n",
        "    stratify_on = time_bins * 2 + all_events_np\n",
        "    print(\"Stratifying by 5 time bins and event status.\")\n",
        "except ValueError:\n",
        "    print(\"Could not create 5 unique time bins for stratification. Trying with 3 bins.\")\n",
        "    try:\n",
        "        time_bins = pd.qcut(all_times_np, q=3, labels=False, duplicates='drop')\n",
        "        stratify_on = time_bins * 2 + all_events_np\n",
        "        print(\"Stratifying by 3 time bins and event status.\")\n",
        "    except ValueError:\n",
        "        print(\"Could not create 3 unique time bins for stratification. Stratifying only by event status.\")\n",
        "        stratify_on = all_events_np # Fallback: stratify only by event status\n",
        "\n",
        "# Create a TensorDataset from the prepared tensors\n",
        "dataset_full = TensorDataset(features, times, events)\n",
        "\n",
        "# --- Survival Model Definition (Static MLP) ---\n",
        "class StaticHazardModel(nn.Module):\n",
        "    def __init__(self, input_dim, hidden_dim=128, dropout=0.3):\n",
        "        super().__init__()\n",
        "        self.net = nn.Sequential(\n",
        "            nn.Linear(input_dim, hidden_dim),\n",
        "            nn.BatchNorm1d(hidden_dim), # BatchNorm after linear layer\n",
        "            nn.ReLU(),\n",
        "            nn.Dropout(dropout),\n",
        "            nn.Linear(hidden_dim, hidden_dim // 2), # Intermediate layer\n",
        "            nn.ReLU(),\n",
        "            nn.Linear(hidden_dim // 2, 1) # Output a single risk score\n",
        "        )\n",
        "\n",
        "    def forward(self, x):\n",
        "        # Ensure input has at least 2 dimensions for BatchNorm1d\n",
        "        if x.dim() == 1:\n",
        "            x = x.unsqueeze(0)\n",
        "        hazard = self.net(x).squeeze() # Squeeze to remove the last dimension if it's 1\n",
        "        # Handle batch size 1 case where squeeze might remove the batch dim\n",
        "        if hazard.dim() == 0:\n",
        "             hazard = hazard.unsqueeze(0)\n",
        "        return hazard\n",
        "\n",
        "# --- Cox Loss Function (Corrected) ---\n",
        "def cox_loss(hazards, times, events):\n",
        "    # Ensure inputs are on the same device\n",
        "    hazards = hazards.to(device)\n",
        "    times = times.to(device)\n",
        "    events = events.to(device)\n",
        "\n",
        "    # Sort by time in descending order\n",
        "    order = torch.argsort(times, descending=True)\n",
        "    hazards = hazards[order]\n",
        "    events = events[order]\n",
        "\n",
        "    # Calculate log-risk for each patient\n",
        "    # Risk set includes all patients with time >= current patient's time\n",
        "    # Use cumsum on exp(hazards) after sorting by time\n",
        "    hazards_exp = torch.exp(hazards)\n",
        "    # Add a small epsilon to the cumsum for numerical stability, especially if sum is zero\n",
        "    log_risk = torch.log(torch.cumsum(hazards_exp, dim=0) + 1e-8)\n",
        "\n",
        "    # Calculate partial likelihood term for each patient\n",
        "    # partial_likelihood = risk_score * event_indicator - log(sum_of_risk_scores_in_risk_set)\n",
        "    partial_likelihood = hazards * events - log_risk\n",
        "\n",
        "    # Sum partial likelihood only for uncensored events (events == True)\n",
        "    mask = events.bool() # Ensure mask is boolean type\n",
        "    partial_likelihood_observed = partial_likelihood[mask]\n",
        "\n",
        "    # Average the negative partial likelihood over the number of observed events\n",
        "    num_observed_events = mask.sum()\n",
        "    if num_observed_events == 0:\n",
        "        # If no events in the batch, return a zero tensor.\n",
        "        # Crucially, set requires_grad based on whether the input hazards required grad.\n",
        "        # This ensures the loss tensor is part of the graph if needed for backprop.\n",
        "        loss = torch.tensor(0.0, device=device, requires_grad=hazards.requires_grad)\n",
        "    else:\n",
        "        loss = -partial_likelihood_observed.sum() / num_observed_events\n",
        "\n",
        "    return loss\n",
        "\n",
        "# --- Calibration Metrics Calculation (Corrected Brier Score using sksurv) ---\n",
        "def calculate_calibration_metrics(model, dataloader, device, eval_times, y_train, q=10):\n",
        "    \"\"\"\n",
        "    Calculates time-dependent calibration metrics (ECE, Brier) and survival probabilities.\n",
        "\n",
        "    Args:\n",
        "        model: The trained PyTorch model.\n",
        "        dataloader: DataLoader for the evaluation dataset.\n",
        "        device: The device to use ('cuda' or 'cpu').\n",
        "        eval_times (list or np.array): List of time points at which to evaluate metrics.\n",
        "        y_train (Surv): Survival data (event indicator and time) for the training set.\n",
        "                       Used by sksurv metrics to estimate the censoring distribution.\n",
        "        q (int): Number of quantiles for ECE calculation.\n",
        "\n",
        "    Returns:\n",
        "        dict: A dictionary containing:\n",
        "            \"ECE_at_times\" (list): List of ECE scores at each eval_time.\n",
        "            \"Brier_at_times\" (list): List of Brier scores at each eval_time.\n",
        "            \"EvalTimes\" (list): The evaluation time points used.\n",
        "            \"survival_probs\" (np.array): Predicted survival probabilities (n_samples, n_times).\n",
        "                                         Returns None if calculation fails.\n",
        "    \"\"\"\n",
        "    model.eval() # Set model to evaluation mode\n",
        "    all_hazards, all_times, all_events = [], [], []\n",
        "\n",
        "    # Collect hazards, times, and events from the dataloader\n",
        "    with torch.no_grad():\n",
        "        for X_batch, t_batch, e_batch in dataloader:\n",
        "            X_batch = X_batch.to(device)\n",
        "            hazards = model(X_batch).cpu().numpy().flatten() # Get hazards and move to CPU\n",
        "            all_hazards.extend(hazards)\n",
        "            all_times.extend(t_batch.numpy())\n",
        "            all_events.extend(e_batch.numpy())\n",
        "\n",
        "    all_hazards = np.array(all_hazards)\n",
        "    all_events = np.array(all_events, dtype=bool)\n",
        "    all_times = np.array(all_times)\n",
        "\n",
        "    # Create sksurv Surv object for the evaluation dataset\n",
        "    y_true = Surv.from_arrays(event=all_events, time=all_times)\n",
        "\n",
        "    ece_scores = []\n",
        "    brier_scores = []\n",
        "    survival_probs = None # Default to None\n",
        "\n",
        "    try:\n",
        "        # --- Calculate Predicted Survival Probabilities at eval_times using Breslow Estimator ---\n",
        "        # This requires calculating the baseline cumulative hazard.\n",
        "        # Sort data by time to calculate risk sets and baseline hazard\n",
        "        order = np.argsort(all_times)\n",
        "        sorted_hazards = all_hazards[order]\n",
        "        sorted_times = all_times[order]\n",
        "        sorted_events = all_events[order]\n",
        "\n",
        "        # Calculate baseline cumulative hazard based on observed events in the evaluation data\n",
        "        # This is needed to predict survival probabilities for the evaluation set itself.\n",
        "        unique_observed_times_eval = np.unique(sorted_times[sorted_events])\n",
        "        baseline_hazard_increments_eval = {}\n",
        "\n",
        "        for t in unique_observed_times_eval:\n",
        "            # Indices of patients at risk at time t (time >= t) in the *evaluation* set\n",
        "            risk_set_indices_at_t = np.where(sorted_times >= t)[0]\n",
        "            if len(risk_set_indices_at_t) > 0:\n",
        "                risk_set_sum_at_t = np.sum(np.exp(sorted_hazards[risk_set_indices_at_t]))\n",
        "                if risk_set_sum_at_t > 0:\n",
        "                     # Number of observed events occurring exactly at time t in the evaluation set\n",
        "                     num_observed_events_at_t = np.sum(sorted_events[sorted_times == t])\n",
        "                     if num_observed_events_at_t > 0:\n",
        "                         baseline_hazard_increments_eval[t] = num_observed_events_at_t / risk_set_sum_at_t\n",
        "                     else:\n",
        "                         baseline_hazard_increments_eval[t] = 0\n",
        "            else:\n",
        "                 baseline_hazard_increments_eval[t] = 0\n",
        "\n",
        "        # Build the cumulative baseline hazard function from the evaluation data\n",
        "        cumulative_baseline_hazard_func_eval = {}\n",
        "        cumulative_sum = 0\n",
        "        sorted_unique_observed_times_eval = sorted(baseline_hazard_increments_eval.keys())\n",
        "        for t in sorted_unique_observed_times_eval:\n",
        "            cumulative_sum += baseline_hazard_increments_eval[t]\n",
        "            cumulative_baseline_hazard_func_eval[t] = cumulative_sum\n",
        "\n",
        "        # Calculate survival probabilities S(t|x) = exp(-H_0_eval(t) * exp(h(x))) at eval_times\n",
        "        # using the baseline cumulative hazard estimated from the *evaluation* data.\n",
        "        survival_probs = np.zeros((len(all_hazards), len(eval_times)))\n",
        "        for i, t in enumerate(eval_times):\n",
        "            # Find the cumulative baseline hazard up to time t from the evaluation set estimates\n",
        "            relevant_times = [ut for ut in sorted_unique_observed_times_eval if ut <= t]\n",
        "            if relevant_times:\n",
        "                cum_hazard_at_t = cumulative_baseline_hazard_func_eval[relevant_times[-1]]\n",
        "                # Survival probability for each individual at time t\n",
        "                survival_probs[:, i] = np.clip(np.exp(-cum_hazard_at_t * np.exp(all_hazards)), 1e-8, 1 - 1e-8)\n",
        "            else:\n",
        "                 # For times before the first observed event in the evaluation set, survival is 1\n",
        "                 survival_probs[:, i] = 1.0\n",
        "\n",
        "        # Ensure survival curves are non-increasing over time\n",
        "        for i in range(1, survival_probs.shape[1]):\n",
        "            survival_probs[:, i] = np.minimum(survival_probs[:, i], survival_probs[:, i - 1])\n",
        "\n",
        "\n",
        "        # --- Calculate Expected Calibration Error (ECE) at each eval_time ---\n",
        "        # For simplicity here, using the basic average within bins without explicit IPCW.\n",
        "        for i, t in enumerate(eval_times):\n",
        "            # True survival status at time t (1 if survived beyond t, 0 otherwise) in the evaluation set\n",
        "            y_event_gt_t = (all_times > t).astype(float)\n",
        "            # Predicted survival probability at time t\n",
        "            y_pred = survival_probs[:, i]\n",
        "\n",
        "            # Bin predictions into quantiles\n",
        "            sorted_indices = np.argsort(y_pred)\n",
        "            bin_indices = np.array_split(sorted_indices, q)\n",
        "\n",
        "            ece = 0.0\n",
        "            total_samples = len(y_pred)\n",
        "\n",
        "            for indices in bin_indices:\n",
        "                if len(indices) == 0:\n",
        "                    continue # Skip empty bins\n",
        "                bin_pred = y_pred[indices]\n",
        "                bin_event_gt_t = y_event_gt_t[indices]\n",
        "\n",
        "                # Average predicted probability and true event status within the bin\n",
        "                avg_pred = np.mean(bin_pred)\n",
        "                avg_event = np.mean(bin_event_gt_t)\n",
        "\n",
        "                # Weighted difference, weighted by the proportion of samples in the bin\n",
        "                ece += abs(avg_event - avg_pred) * len(indices) / total_samples\n",
        "\n",
        "            ece_scores.append(ece)\n",
        "\n",
        "        # --- Calculate Brier Score at each eval_time using sksurv ---\n",
        "        # sksurv.metrics.brier_score handles IPCW internally based on y_train.\n",
        "        try:\n",
        "            # sk_brier_score requires:\n",
        "            # - y_train: survival data for the training set (used for censoring estimate)\n",
        "            # - y_true: survival data for the test/validation set\n",
        "            # - survival_probs: predicted survival probabilities for the test/validation set (n_samples, n_times)\n",
        "            # - times: the time points at which to evaluate the Brier score\n",
        "            time_points_bs, bs_at_times = sk_brier_score(y_train, y_true, survival_probs, times=eval_times)\n",
        "\n",
        "            # Ensure the returned times match the requested times, and scores match.\n",
        "            # sk_brier_score returns scores corresponding to the input 'times'.\n",
        "            brier_scores = bs_at_times.tolist() # Convert numpy array to list\n",
        "\n",
        "        except Exception as e:\n",
        "            print(f\"Error computing Brier scores using sksurv: {str(e)}\")\n",
        "            # If sk_brier_score fails, return a list of NaNs matching the number of eval_times\n",
        "            brier_scores = [float('nan')] * len(eval_times)\n",
        "\n",
        "    except Exception as e:\n",
        "         print(f\"Error during survival probability or calibration metrics calculation: {str(e)}\")\n",
        "         # If any step in this try block fails, set scores to NaN and survival_probs to None\n",
        "         ece_scores = [float('nan')] * len(eval_times)\n",
        "         brier_scores = [float('nan')] * len(eval_times)\n",
        "         survival_probs = None\n",
        "\n",
        "\n",
        "    return {\n",
        "        \"ECE_at_times\": ece_scores,\n",
        "        \"Brier_at_times\": brier_scores,\n",
        "        \"EvalTimes\": eval_times,\n",
        "        \"survival_probs\": survival_probs # Return survival probabilities for IBS calculation\n",
        "    }\n",
        "\n",
        "# --- Evaluation Metrics Function ---\n",
        "def evaluate_model(model, dataloader, device, eval_times, y_train):\n",
        "    \"\"\"\n",
        "    Evaluates the survival model using various metrics.\n",
        "\n",
        "    Args:\n",
        "        model: The trained PyTorch model.\n",
        "        dataloader: DataLoader for the evaluation dataset.\n",
        "        device: The device to use ('cuda' or 'cpu').\n",
        "        eval_times (list or np.array): List of time points at which to evaluate time-dependent metrics.\n",
        "        y_train (Surv): Survival data (event indicator and time) for the training set.\n",
        "                       Used by sksurv metrics (AUC, IBS, Brier) for censoring adjustment.\n",
        "\n",
        "    Returns:\n",
        "        dict: A dictionary containing evaluation metrics.\n",
        "    \"\"\"\n",
        "    model.eval() # Set model to evaluation mode\n",
        "    all_hazards, all_times, all_events = [], [], []\n",
        "\n",
        "    # Collect hazards, times, and events from the dataloader\n",
        "    with torch.no_grad():\n",
        "        for X_batch, t_batch, e_batch in dataloader:\n",
        "            X_batch = X_batch.to(device)\n",
        "            hazards = model(X_batch).cpu().numpy().flatten() # Get hazards and move to CPU\n",
        "            all_hazards.extend(hazards)\n",
        "            all_times.extend(t_batch.numpy())\n",
        "            all_events.extend(e_batch.numpy())\n",
        "\n",
        "    all_hazards = np.array(all_hazards)\n",
        "    all_events = np.array(all_events, dtype=bool)\n",
        "    all_times = np.array(all_times)\n",
        "\n",
        "    # Create sksurv Surv object for the evaluation dataset (y_true)\n",
        "    y_true = Surv.from_arrays(event=all_events, time=all_times)\n",
        "\n",
        "    # --- Concordance Index (Ctd) ---\n",
        "    # Ctd is calculated on predicted risk scores (hazards) and observed data\n",
        "    # Higher hazard for earlier events means higher Ctd.\n",
        "    ctd = float('nan') # Default to NaN\n",
        "    try:\n",
        "        if len(all_events) > 1: # Need at least 2 samples for Ctd\n",
        "            ctd = concordance_index_censored(all_events, all_times, all_hazards)[0]\n",
        "        else:\n",
        "             print(\"Warning: Less than 2 samples for Ctd calculation.\")\n",
        "    except Exception as e:\n",
        "        print(f\"Error computing Ctd: {str(e)}\")\n",
        "\n",
        "\n",
        "    # --- Time-dependent AUC ---\n",
        "    # Calculated on predicted risk scores (hazards) at specific time points.\n",
        "    # Requires censoring adjustment based on the training data (y_train).\n",
        "    auc_scores_list = []\n",
        "    valid_times_auc_list = []\n",
        "    avg_auc = float('nan') # Default to NaN\n",
        "\n",
        "    try:\n",
        "        # sksurv's cumulative_dynamic_auc requires:\n",
        "        # - y_train: survival data for the training set (used for censoring estimate)\n",
        "        # - y_true: survival data for the test/validation set\n",
        "        # - estimate: predicted risk scores (all_hazards)\n",
        "        # - times: the time points at which to evaluate the AUC\n",
        "        # It returns two numpy arrays: (times, auc_scores) for the valid times.\n",
        "        # It handles cases where AUC cannot be computed (e.g., censoring issues) by not returning those times/scores.\n",
        "        # Ensure eval_times is not empty and there is enough data for sksurv metrics\n",
        "        if eval_times and len(y_true) > 1 and len(y_train) > 1:\n",
        "            computed_times_auc, computed_auc_scores = cumulative_dynamic_auc(y_train, y_true, all_hazards, eval_times)\n",
        "\n",
        "            # Ensure the results are numpy arrays and filter out NaNs just in case\n",
        "            computed_times_auc = np.asarray(computed_times_auc)\n",
        "            computed_auc_scores = np.asarray(computed_auc_scores)\n",
        "\n",
        "            # Filter out NaN AUC scores if any\n",
        "            valid_mask_auc = ~np.isnan(computed_auc_scores)\n",
        "            valid_times_auc_np = computed_times_auc[valid_mask_auc]\n",
        "            auc_scores_np = computed_auc_scores[valid_mask_auc]\n",
        "\n",
        "            # Convert to list for return dictionary\n",
        "            valid_times_auc_list = valid_times_auc_np.tolist()\n",
        "            auc_scores_list = auc_scores_np.tolist()\n",
        "\n",
        "            # Calculate the average AUC over the valid times\n",
        "            avg_auc = np.mean(auc_scores_np) if len(auc_scores_np) > 0 else float('nan')\n",
        "        else:\n",
        "            print(\"Warning: Insufficient data or empty eval_times for Time-dependent AUC calculation.\")\n",
        "\n",
        "\n",
        "    except Exception as e:\n",
        "        print(f\"Error computing Time-dependent AUC: {str(e)}\")\n",
        "        # avg_auc is already nan\n",
        "        # Keep lists empty\n",
        "\n",
        "\n",
        "    # --- Calibration Metrics (ECE and Time-dependent Brier) ---\n",
        "    # Calculated using the helper function, which uses sk_brier_score internally.\n",
        "    # This function also returns the survival probabilities needed for IBS.\n",
        "    calibration_metrics = calculate_calibration_metrics(model, dataloader, device, eval_times, y_train)\n",
        "\n",
        "    # --- Integrated Brier Score (IBS) ---\n",
        "    # Calculated over the range of evaluation times using predicted survival curves.\n",
        "    # Requires censoring adjustment based on the training data (y_train).\n",
        "    ibs = float('nan') # Default to NaN\n",
        "    try:\n",
        "        # Check if survival_probs were successfully generated and eval_times is not empty\n",
        "        if calibration_metrics[\"survival_probs\"] is not None and \\\n",
        "           calibration_metrics[\"survival_probs\"].shape[1] == len(eval_times) and \\\n",
        "           len(eval_times) > 0 and len(y_true) > 1 and len(y_train) > 1: # Need enough data for IBS\n",
        "             # sksurv's integrated_brier_score requires:\n",
        "             # - y_train: survival data for the training set (used for censoring estimate)\n",
        "             # - y_true: survival data for the test/validation set\n",
        "             # - survival_probs: predicted survival probabilities over time (n_samples, n_times)\n",
        "             # - times: the time points corresponding to survival_probs\n",
        "             ibs = integrated_brier_score(y_train, y_true, calibration_metrics[\"survival_probs\"], eval_times)\n",
        "        else:\n",
        "             print(\"Warning: Survival probabilities or eval_times not available/valid for IBS calculation.\")\n",
        "\n",
        "    except Exception as e:\n",
        "        print(f\"Error computing IBS: {str(e)}\")\n",
        "\n",
        "\n",
        "    return {\n",
        "        \"Ctd\": ctd,\n",
        "        \"AUC\": avg_auc, # Average AUC over valid times\n",
        "        \"AUC_at_times\": (valid_times_auc_list, auc_scores_list), # AUC scores at specific times (as lists)\n",
        "        \"IBS\": ibs,\n",
        "        \"ECE_at_times\": calibration_metrics[\"ECE_at_times\"], # List of ECE scores per time\n",
        "        \"Brier_at_times\": calibration_metrics[\"Brier_at_times\"], # List of Brier scores per time\n",
        "        \"eval_times\": eval_times, # List of evaluation times used\n",
        "        \"survival_probs\": calibration_metrics[\"survival_probs\"] # Include survival probs for plotting\n",
        "    }\n",
        "\n",
        "# --- Optuna Objective Function ---\n",
        "def objective(trial):\n",
        "    \"\"\"\n",
        "    Objective function for Optuna hyperparameter tuning. Performs K-Fold CV\n",
        "    and returns the average Integrated Brier Score (IBS) across folds.\n",
        "    \"\"\"\n",
        "    # Define hyperparameter search space\n",
        "    params = {\n",
        "        \"lr\": trial.suggest_float(\"lr\", 1e-4, 5e-3, log=True),\n",
        "        \"batch_size\": trial.suggest_categorical(\"batch_size\", [32, 64, 128]),\n",
        "        \"hidden_dim\": trial.suggest_int(\"hidden_dim\", 64, 256), # Reduced range slightly for faster tuning\n",
        "        \"dropout\": trial.suggest_float(\"dropout\", 0.2, 0.5),\n",
        "        \"weight_decay\": trial.suggest_float(\"weight_decay\", 1e-5, 1e-3, log=True),\n",
        "        \"epochs\": 50, # Maximum epochs per fold, early stopping will be used\n",
        "        \"n_splits\": 5 # Number of folds for cross-validation\n",
        "    }\n",
        "\n",
        "    print(f\"\\nTrial {trial.number} with parameters: {params}\")\n",
        "\n",
        "    # Setup Stratified K-Fold cross-validation\n",
        "    skf = StratifiedKFold(n_splits=params[\"n_splits\"], shuffle=True, random_state=SEED)\n",
        "\n",
        "    # Lists to store metrics from each fold\n",
        "    fold_ctd = []\n",
        "    fold_auc = []\n",
        "    fold_ibs = []\n",
        "    fold_ece_at_times = [] # Store lists of ECE scores per time per fold\n",
        "    fold_brier_at_times = [] # Store lists of Brier scores per time per fold\n",
        "    fold_eval_times_list = [] # Store the evaluation times used for each fold\n",
        "\n",
        "    # Use the pre-calculated stratification bins (`stratify_on`)\n",
        "    # skf.split returns indices, so we pass `features` (or any array-like of the correct size)\n",
        "    # and the `stratify_on` array.\n",
        "    split_generator = skf.split(features, stratify_on)\n",
        "\n",
        "    for fold_idx, (train_idx, val_idx) in enumerate(split_generator):\n",
        "        print(f\"--- Fold {fold_idx + 1}/{params['n_splits']} ---\")\n",
        "\n",
        "        # Need y_train for sksurv metrics (censoring estimation)\n",
        "        # y_train should represent the data the model was trained on in this fold\n",
        "        train_subset = Subset(dataset_full, train_idx)\n",
        "        # DataLoader to easily iterate and collect times/events\n",
        "        train_data_for_y_train = DataLoader(train_subset, batch_size=len(train_subset)) # Load all at once\n",
        "        t_train_np, e_train_np = [], []\n",
        "        with torch.no_grad():\n",
        "            for _, t_batch, e_batch in train_data_for_y_train:\n",
        "                 t_train_np.extend(t_batch.numpy())\n",
        "                 e_train_np.extend(e_batch.numpy())\n",
        "        y_train = Surv.from_arrays(event=np.array(e_train_np, dtype=bool), time=np.array(t_train_np))\n",
        "\n",
        "        # Determine evaluation times for this fold based on percentiles of event times in the training split\n",
        "        train_times_fold = times[train_idx].numpy()\n",
        "        train_events_fold = events[train_idx].numpy()\n",
        "        event_times_train_fold = train_times_fold[train_events_fold]\n",
        "\n",
        "        # Handle cases with no events in the training fold\n",
        "        if len(event_times_train_fold) == 0:\n",
        "             print(f\"Warning: No events in train fold {fold_idx + 1}. Using all training times for initial eval_times percentiles.\")\n",
        "             event_times_train_fold = train_times_fold\n",
        "             # If there are no times at all in the train fold (empty split?), skip\n",
        "             if len(event_times_train_fold) == 0:\n",
        "                 print(f\"Error: No data in train fold {fold_idx + 1}. Skipping evaluation for this fold.\")\n",
        "                 fold_ctd.append(float('nan'))\n",
        "                 fold_auc.append(float('nan'))\n",
        "                 fold_ibs.append(float('nan'))\n",
        "                 fold_ece_at_times.append([])\n",
        "                 fold_brier_at_times.append([])\n",
        "                 fold_eval_times_list.append([])\n",
        "                 continue\n",
        "\n",
        "        try:\n",
        "            # Calculate initial evaluation times as percentiles\n",
        "            initial_eval_times = np.percentile(event_times_train_fold, [10, 30, 50, 70, 90]).tolist()\n",
        "            initial_eval_times = sorted(list(set(initial_eval_times))) # Ensure unique and sorted\n",
        "\n",
        "        except Exception as e:\n",
        "            print(f\"Error determining initial eval_times for fold {fold_idx + 1}: {str(e)}. Skipping evaluation for this fold.\")\n",
        "            fold_ctd.append(float('nan'))\n",
        "            fold_auc.append(float('nan'))\n",
        "            fold_ibs.append(float('nan'))\n",
        "            fold_ece_at_times.append([])\n",
        "            fold_brier_at_times.append([])\n",
        "            fold_eval_times_list.append([])\n",
        "            continue\n",
        "\n",
        "        # --- Filter eval_times to be strictly less than the maximum training time ---\n",
        "        # This is crucial for sksurv metrics that rely on censoring estimation from y_train.\n",
        "        # Get the maximum time from the actual y_train data used in this fold\n",
        "        max_train_time = y_train['time'].max()\n",
        "        # Only keep evaluation times that are strictly less than the max training time\n",
        "        valid_eval_times = [t for t in initial_eval_times if t < max_train_time]\n",
        "\n",
        "        # Check if there are still valid eval times after filtering\n",
        "        if not valid_eval_times:\n",
        "            print(f\"Warning: All determined initial eval_times for fold {fold_idx + 1} are >= max training time ({max_train_time}). Skipping evaluation for this fold.\")\n",
        "            # Append NaN/empty lists as before\n",
        "            fold_ctd.append(float('nan'))\n",
        "            fold_auc.append(float('nan'))\n",
        "            fold_ibs.append(float('nan'))\n",
        "            fold_ece_at_times.append([])\n",
        "            fold_brier_at_times.append([])\n",
        "            fold_eval_times_list.append([])\n",
        "            continue # Skip evaluation for this fold\n",
        "\n",
        "        # Use the filtered times for evaluation in this fold\n",
        "        eval_times = valid_eval_times\n",
        "        fold_eval_times_list.append(eval_times) # Store the *actual* times used for this fold\n",
        "\n",
        "\n",
        "        # Create DataLoaders for training and validation splits\n",
        "        train_loader = DataLoader(Subset(dataset_full, train_idx), batch_size=params[\"batch_size\"], shuffle=True)\n",
        "        val_loader = DataLoader(Subset(dataset_full, val_idx), batch_size=params[\"batch_size\"])\n",
        "\n",
        "        # Initialize model, optimizer, and scheduler for the current fold\n",
        "        model = StaticHazardModel(\n",
        "            input_dim=features.shape[1],\n",
        "            hidden_dim=params[\"hidden_dim\"],\n",
        "            dropout=params[\"dropout\"]\n",
        "        ).to(device)\n",
        "\n",
        "        optimizer = optim.Adam(model.parameters(), lr=params[\"lr\"], weight_decay=params[\"weight_decay\"])\n",
        "        # ReduceLROnPlateau reduces LR when a metric (validation loss) has stopped improving\n",
        "        scheduler = optim.lr_scheduler.ReduceLROnPlateau(optimizer, 'min', patience=5, factor=0.5, verbose=False) # Increased patience\n",
        "\n",
        "        # --- Training Loop for the current fold ---\n",
        "        best_val_loss = float('inf')\n",
        "        no_improvement = 0\n",
        "        max_no_improvement = 10 # Early stopping patience\n",
        "\n",
        "        print(f\"Starting training for fold {fold_idx + 1}...\")\n",
        "        for epoch in range(params[\"epochs\"]):\n",
        "            model.train() # Set model to training mode\n",
        "            total_train_loss = 0\n",
        "            num_batches = 0\n",
        "            for X_batch, t_batch, e_batch in train_loader:\n",
        "                X_batch, t_batch, e_batch = X_batch.to(device), t_batch.to(device), e_batch.to(device)\n",
        "                risks = model(X_batch)\n",
        "                loss = cox_loss(risks, t_batch, e_batch)\n",
        "\n",
        "                # Only perform backprop if loss is a valid number (not NaN or Inf)\n",
        "                # The loss function now handles the requires_grad for the 0-event case.\n",
        "                if not torch.isnan(loss) and not torch.isinf(loss):\n",
        "                    optimizer.zero_grad() # Zero gradients\n",
        "                    loss.backward() # Backpropagation\n",
        "                    # Gradient clipping to prevent exploding gradients\n",
        "                    torch.nn.utils.clip_grad_norm_(model.parameters(), max_norm=1.0)\n",
        "                    optimizer.step() # Update weights\n",
        "                    total_train_loss += loss.item()\n",
        "                    num_batches += 1\n",
        "                else:\n",
        "                    print(f\"Warning: Training loss is NaN/Inf at epoch {epoch + 1}, batch {num_batches}. Skipping update.\")\n",
        "\n",
        "\n",
        "            # --- Validation Step ---\n",
        "            model.eval() # Set model to evaluation mode\n",
        "            val_losses = []\n",
        "            with torch.no_grad(): # No gradient calculation in evaluation\n",
        "                for X_batch, t_batch, e_batch in val_loader:\n",
        "                    X_batch, t_batch, e_batch = X_batch.to(device), t_batch.to(device), e_batch.to(device)\n",
        "                    risks = model(X_batch)\n",
        "                    v_loss = cox_loss(risks, t_batch, e_batch).item()\n",
        "                    # Only consider valid loss values\n",
        "                    if not np.isnan(v_loss) and not np.isinf(v_loss):\n",
        "                         val_losses.append(v_loss)\n",
        "\n",
        "            avg_val_loss = np.mean(val_losses) if val_losses else float('inf') # Handle case with no valid val losses\n",
        "\n",
        "            # Step the learning rate scheduler based on validation loss\n",
        "            scheduler.step(avg_val_loss)\n",
        "\n",
        "            # Early stopping check based on validation loss\n",
        "            if avg_val_loss < best_val_loss:\n",
        "                best_val_loss = avg_val_loss\n",
        "                no_improvement = 0\n",
        "                # Optionally save best model state dict here if you want to restore the best epoch model\n",
        "                # torch.save(model.state_dict(), f\"best_model_fold_{fold_idx}_trial_{trial.number}.pt\")\n",
        "            else:\n",
        "                no_improvement += 1\n",
        "\n",
        "            # print(f\"Fold {fold_idx + 1}, Epoch {epoch + 1}, Train Loss: {total_train_loss/(num_batches+1e-8):.4f}, Val Loss: {avg_val_loss:.4f}, No Improvement: {no_improvement}\")\n",
        "\n",
        "            if no_improvement >= max_no_improvement:\n",
        "                print(f\"Early stopping at epoch {epoch + 1} for fold {fold_idx + 1}\")\n",
        "                # Optionally load the best model state if saved\n",
        "                # try:\n",
        "                #      model.load_state_dict(torch.load(f\"best_model_fold_{fold_idx}_trial_{trial.number}.pt\"))\n",
        "                #      print(\"Loaded best model state for evaluation.\")\n",
        "                # except FileNotFoundError:\n",
        "                #      print(\"Best model state not found, using last epoch model.\")\n",
        "                break # Exit epoch loop for this fold\n",
        "\n",
        "        # --- Evaluate the trained model on the validation split for this fold ---\n",
        "        # Evaluate the model on the validation loader using the *filtered* eval_times for this fold\n",
        "        # y_train for sksurv metrics needs to be from the training data of this fold\n",
        "        fold_results = evaluate_model(model, val_loader, device, eval_times, y_train)\n",
        "\n",
        "        # Append the metrics from this fold to the lists\n",
        "        fold_ctd.append(fold_results[\"Ctd\"])\n",
        "        fold_auc.append(fold_results[\"AUC\"])\n",
        "        fold_ibs.append(fold_results[\"IBS\"])\n",
        "        fold_ece_at_times.append(fold_results[\"ECE_at_times\"])\n",
        "        fold_brier_at_times.append(fold_results[\"Brier_at_times\"])\n",
        "\n",
        "    # --- Aggregate Metrics Across Folds ---\n",
        "    # Average the single-value metrics (Ctd, AUC, IBS)\n",
        "    avg_ctd = np.nanmean(fold_ctd) if fold_ctd else float('nan')\n",
        "    avg_auc = np.nanmean(fold_auc) if fold_auc else float('nan')\n",
        "    avg_ibs = np.nanmean(fold_ibs) if fold_ibs else float('nan')\n",
        "\n",
        "    # Aggregate time-dependent metrics (ECE, Brier)\n",
        "    # We need to average the scores at corresponding time points across folds.\n",
        "    # Since eval_times might differ slightly per fold (due to percentiles on different splits),\n",
        "    # we average the *average* time-dependent score within each fold, then average these averages.\n",
        "\n",
        "    avg_ece_per_fold = [np.nanmean(ece_list) if ece_list else float('nan') for ece_list in fold_ece_at_times]\n",
        "    avg_brier_per_fold = [np.nanmean(brier_list) if brier_list else float('nan') for brier_list in fold_brier_at_times]\n",
        "\n",
        "    overall_avg_ece_at_times = np.nanmean(avg_ece_per_fold) if avg_ece_per_fold else float('nan')\n",
        "    overall_avg_brier_at_times = np.nanmean(avg_brier_per_fold) if avg_brier_per_fold else float('nan')\n",
        "\n",
        "\n",
        "    # Report aggregated metrics\n",
        "    trial_results = {\n",
        "        \"Ctd\": avg_ctd,\n",
        "        \"AUC\": avg_auc,\n",
        "        \"IBS\": avg_ibs,\n",
        "        \"Avg_ECE_over_times\": overall_avg_ece_at_times,\n",
        "        \"Avg_Brier_over_times\": overall_avg_brier_at_times,\n",
        "        # Could also include the averaged curves if plotting within Optuna dashboard is set up\n",
        "    }\n",
        "\n",
        "    print(f\"Trial {trial.number} Results (averaged over folds): {trial_results}\")\n",
        "\n",
        "    # Optuna minimizes the objective. Use IBS as the primary objective metric.\n",
        "    # Return a high value if IBS is NaN (e.g., no events in any validation fold).\n",
        "    return avg_ibs if not np.isnan(avg_ibs) else float('inf')\n",
        "\n",
        "# --- Run Optuna Study ---\n",
        "print(\"\\nStarting Optuna study...\")\n",
        "# Create a study object. Specify the direction is 'minimize' for IBS.\n",
        "study = optuna.create_study(direction=\"minimize\")\n",
        "\n",
        "# Optimize the study. n_trials is the number of parameter sets to try.\n",
        "# timeout is the maximum time in seconds for the study.\n",
        "study.optimize(objective, n_trials=50, timeout=7200) # Run up to 50 trials or 2 hours\n",
        "\n",
        "print(\"\\nOptuna study finished.\")\n",
        "print(\"Best trial:\")\n",
        "print(f\"  Value (IBS): {study.best_trial.value:.4f}\")\n",
        "print(f\"  Params: {study.best_trial.params}\")\n",
        "\n",
        "# --- Retrain Best Model on the Full Dataset ---\n",
        "print(\"\\nRetraining the best model on the full dataset...\")\n",
        "best_params = study.best_trial.params\n",
        "\n",
        "# Initialize the model with the best hyperparameters found by Optuna\n",
        "best_model = StaticHazardModel(\n",
        "    input_dim=features.shape[1],\n",
        "    hidden_dim=best_params[\"hidden_dim\"],\n",
        "    dropout=best_params[\"dropout\"]\n",
        ").to(device)\n",
        "\n",
        "# Create a DataLoader for the full dataset for retraining\n",
        "full_train_loader = DataLoader(dataset_full, batch_size=best_params[\"batch_size\"], shuffle=True)\n",
        "\n",
        "# Initialize optimizer for the final training\n",
        "optimizer = optim.Adam(best_model.parameters(), lr=best_params[\"lr\"], weight_decay=best_params[\"weight_decay\"])\n",
        "\n",
        "# Optional: Use a learning rate scheduler for the final training as well\n",
        "scheduler = optim.lr_scheduler.ReduceLROnPlateau(optimizer, 'min', patience=5, factor=0.5, verbose=False)\n",
        "\n",
        "# Train the best model on the full dataset for a fixed number of epochs\n",
        "# Or implement early stopping based on a held-out validation set if available,\n",
        "# or based on training loss plateau. Training on the full data for a fixed number\n",
        "# of epochs (or until loss stabilizes) is a common practice after CV tuning.\n",
        "print(\"Training the final model...\")\n",
        "# Choose a reasonable number of epochs. Could be more than in CV folds.\n",
        "FINAL_TRAIN_EPOCHS = 100\n",
        "\n",
        "for epoch in range(FINAL_TRAIN_EPOCHS):\n",
        "    best_model.train() # Set model to training mode\n",
        "    total_loss = 0\n",
        "    num_batches = 0\n",
        "    for X_batch, t_batch, e_batch in full_train_loader:\n",
        "        X_batch, t_batch, e_batch = X_batch.to(device), t_batch.to(device), e_batch.to(device)\n",
        "        risks = best_model(X_batch)\n",
        "        loss = cox_loss(risks, t_batch, e_batch)\n",
        "\n",
        "        # Only perform backprop if loss is a valid number (not NaN or Inf)\n",
        "        # The loss function now handles the requires_grad for the 0-event case.\n",
        "        if not torch.isnan(loss) and not torch.isinf(loss):\n",
        "            optimizer.zero_grad()\n",
        "            loss.backward()\n",
        "            torch.nn.utils.clip_grad_norm_(best_model.parameters(), max_norm=1.0)\n",
        "            optimizer.step()\n",
        "            total_loss += loss.item()\n",
        "            num_batches += 1\n",
        "        else:\n",
        "             print(f\"Warning: Final training loss is NaN/Inf at epoch {epoch + 1}, batch {num_batches}. Skipping update.\")\n",
        "\n",
        "    avg_train_loss = total_loss / (num_batches + 1e-8)\n",
        "    # Optional: Step scheduler based on training loss for full dataset training\n",
        "    # scheduler.step(avg_train_loss)\n",
        "\n",
        "    # Optional: Print loss during full training\n",
        "    if (epoch + 1) % 10 == 0 or epoch == 0:\n",
        "        print(f\"Final Model Training - Epoch {epoch + 1}/{FINAL_TRAIN_EPOCHS}, Loss: {avg_train_loss:.4f}\")\n",
        "\n",
        "    # Optional: Simple convergence check based on training loss (less rigorous than val loss)\n",
        "    # if avg_train_loss < 0.1 and epoch > 10: # Example threshold\n",
        "    #     print(f\"Final model training converged at epoch {epoch + 1}\")\n",
        "    #     break\n",
        "\n",
        "\n",
        "print(\"Final model training complete.\")\n",
        "\n",
        "# --- Final Evaluation on the Full Dataset ---\n",
        "print(\"\\nPerforming final evaluation on the full dataset...\")\n",
        "\n",
        "# Need the survival data (times and events) for the full dataset to create y_true_full\n",
        "all_times_full, all_events_full = [], []\n",
        "# Use a DataLoader to iterate through the full dataset\n",
        "full_dataset_loader_eval = DataLoader(dataset_full, batch_size=len(dataset_full)) # Load all at once\n",
        "\n",
        "with torch.no_grad():\n",
        "    for _, t_batch, e_batch in full_dataset_loader_eval:\n",
        "        all_times_full.extend(t_batch.numpy())\n",
        "        all_events_full.extend(e_batch.numpy())\n",
        "\n",
        "# Create the sksurv Surv object for the full dataset (this is both y_train and y_true for final eval)\n",
        "y_full_data_sksurv = Surv.from_arrays(event=np.array(all_events_full, dtype=bool), time=np.array(all_times_full))\n",
        "\n",
        "# Determine initial evaluation times for the final plot based on event times in the full dataset\n",
        "event_times_full = np.array(all_times_full)[np.array(all_events_full, dtype=bool)]\n",
        "if len(event_times_full) > 0:\n",
        "    # Use percentiles of observed event times on the full dataset\n",
        "    initial_eval_times_final = np.percentile(event_times_full, [10, 30, 50, 70, 90]).tolist()\n",
        "    initial_eval_times_final = sorted(list(set(initial_eval_times_final))) # Ensure unique and sorted\n",
        "    if not initial_eval_times_final:\n",
        "        print(\"Warning: Could not determine meaningful initial final eval_times from event times. Using percentiles of all times.\")\n",
        "        initial_eval_times_final = np.percentile(np.array(all_times_full), [10, 30, 50, 70, 90]).tolist()\n",
        "        initial_eval_times_final = sorted(list(set(initial_eval_times_final)))\n",
        "else:\n",
        "    print(\"Warning: No events in the full dataset. Using percentiles of all times for initial final eval_times.\")\n",
        "    initial_eval_times_final = np.percentile(np.array(all_times_full), [10, 30, 50, 70, 90]).tolist()\n",
        "    initial_eval_times_final = sorted(list(set(initial_eval_times_final)))\n",
        "\n",
        "# --- Filter final eval_times to be strictly less than the maximum time in the full dataset ---\n",
        "# This is crucial for sksurv metrics when y_train and y_true are the full dataset.\n",
        "max_full_data_time = y_full_data_sksurv['time'].max()\n",
        "valid_eval_times_final = [t for t in initial_eval_times_final if t < max_full_data_time]\n",
        "\n",
        "# Check if there are valid times after filtering\n",
        "if not valid_eval_times_final:\n",
        "     print(f\"Error: All final initial eval_times are >= max full dataset time ({max_full_data_time}). Cannot perform final evaluation with time-dependent metrics.\")\n",
        "     # Handle gracefully, maybe print some basic metrics that don't need eval_times (like Ctd)\n",
        "     final_metrics = {\"Ctd\": float('nan'), \"AUC\": float('nan'), \"AUC_at_times\": ([], []), \"IBS\": float('nan'), \"ECE_at_times\": [], \"Brier_at_times\": [], \"eval_times\": [], \"survival_probs\": None}\n",
        "     print(\"Final Metrics (evaluated on the full dataset):\")\n",
        "     print(f\"  Concordance Index (Ctd): {final_metrics['Ctd']:.4f}\")\n",
        "     print(f\"  Time-dependent AUC (avg over times): {final_metrics['AUC']:.4f}\")\n",
        "     print(f\"  Integrated Brier Score (IBS): {final_metrics['IBS']:.4f}\")\n",
        "     print(f\"  Expected Calibration Error (ECE, avg over times): {np.nanmean(final_metrics['ECE_at_times']):.4f}\")\n",
        "     print(f\"  Brier Score (avg over times): {np.nanmean(final_metrics['Brier_at_times']):.4f}\")\n",
        "\n",
        "     # Skip plotting if no valid eval times\n",
        "     plot_calibration_possible = False\n",
        "     plot_auc_possible = False\n",
        "     plot_survival_curve_possible = False\n",
        "     plot_group_comparison_possible = False # Also add flag for the new plot\n",
        "\n",
        "else:\n",
        "    # Use the filtered times for final evaluation\n",
        "    eval_times_final = valid_eval_times_final\n",
        "    # Perform final evaluation on the full dataset using the best model\n",
        "    # For sksurv metrics in this final step, y_train and y_true are the same (the full dataset)\n",
        "    final_metrics = evaluate_model(best_model, DataLoader(dataset_full, batch_size=128), device, eval_times_final, y_full_data_sksurv) # Use a reasonable batch size for evaluation\n",
        "\n",
        "    # Print Final Metrics\n",
        "    print(\"\\nFinal Evaluation Metrics (on the full dataset):\")\n",
        "    print(f\"  Concordance Index (Ctd): {final_metrics['Ctd']:.4f}\")\n",
        "    print(f\"  Time-dependent AUC (avg over times): {final_metrics['AUC']:.4f}\")\n",
        "    print(f\"  Integrated Brier Score (IBS): {final_metrics['IBS']:.4f}\")\n",
        "    # Report average ECE and Brier over the evaluation times\n",
        "    print(f\"  Expected Calibration Error (ECE, avg over times): {np.nanmean(final_metrics['ECE_at_times']):.4f}\")\n",
        "    print(f\"  Brier Score (avg over times): {np.nanmean(final_metrics['Brier_at_times']):.4f}\")\n",
        "\n",
        "    # Check if plotting is possible\n",
        "    valid_brier_mask = ~np.isnan(final_metrics[\"Brier_at_times\"])\n",
        "    valid_ece_mask = ~np.isnan(final_metrics[\"ECE_at_times\"])\n",
        "    valid_mask = valid_brier_mask & valid_ece_mask\n",
        "    plot_calibration_possible = np.any(valid_mask)\n",
        "    plot_auc_possible = final_metrics[\"AUC_at_times\"] and len(final_metrics[\"AUC_at_times\"][0]) > 0\n",
        "    plot_survival_curve_possible = final_metrics[\"survival_probs\"] is not None and final_metrics[\"eval_times\"] is not None and len(final_metrics[\"eval_times\"]) > 0\n",
        "    # Check if group comparison plot is possible (requires survival probs and group indices)\n",
        "    plot_group_comparison_possible = plot_survival_curve_possible and hormon_1_indices and hormon_0_indices\n",
        "\n",
        "\n",
        "# --- Plot Calibration Metrics Over Time ---\n",
        "def plot_calibration(ece_scores_at_times, brier_scores_at_times, eval_times):\n",
        "    \"\"\"Plots time-dependent ECE and Brier scores.\"\"\"\n",
        "    fig, ax1 = plt.subplots(figsize=(10, 6))\n",
        "\n",
        "    # Plot ECE\n",
        "    ax1.plot(eval_times, ece_scores_at_times, 'b', marker=\"o\", linestyle='-', label=\"ECE\")\n",
        "    ax1.set_xlabel(\"Time\")\n",
        "    ax1.set_ylabel(\"Expected Calibration Error (ECE)\", color='b')\n",
        "    ax1.tick_params(axis='y', labelcolor='b')\n",
        "    ax1.grid(True)\n",
        "\n",
        "    # Create a second y-axis for Brier Score\n",
        "    ax2 = ax1.twinx()\n",
        "    ax2.plot(eval_times, brier_scores_at_times, 'r', marker=\"^\", linestyle='-', label=\"Brier Score\")\n",
        "    ax2.set_ylabel(\"Brier Score\", color='r')\n",
        "    ax2.tick_params(axis='y', labelcolor='r')\n",
        "\n",
        "    plt.title(\"Calibration Metrics Over Time (Final Model)\")\n",
        "    fig.tight_layout() # Adjust layout to prevent labels overlapping\n",
        "\n",
        "    # Add legends\n",
        "    lines1, labels1 = ax1.get_legend_handles_labels()\n",
        "    lines2, labels2 = ax2.get_legend_handles_labels()\n",
        "    ax1.legend(lines1 + lines2, labels1 + labels2, loc='upper right')\n",
        "\n",
        "    plt.show()\n",
        "\n",
        "# Plot calibration if possible\n",
        "if plot_calibration_possible:\n",
        "    # Use the valid times and scores determined earlier\n",
        "    valid_brier_mask = ~np.isnan(final_metrics[\"Brier_at_times\"])\n",
        "    valid_ece_mask = ~np.isnan(final_metrics[\"ECE_at_times\"])\n",
        "    valid_mask = valid_brier_mask & valid_ece_mask\n",
        "    plot_calibration(\n",
        "        np.array(final_metrics[\"ECE_at_times\"])[valid_mask],\n",
        "        np.array(final_metrics[\"Brier_at_times\"])[valid_mask],\n",
        "        np.array(final_metrics[\"eval_times\"])[valid_mask]\n",
        "    )\n",
        "else:\n",
        "    print(\"\\nCould not plot calibration metrics as either ECE or Brier scores are all NaN for the valid mask.\")\n",
        "    # Fallback plotting if at least one of them is valid individually\n",
        "    if np.any(~np.isnan(final_metrics[\"Brier_at_times\"])) or np.any(~np.isnan(final_metrics[\"ECE_at_times\"])):\n",
        "        print(\"Attempting partial calibration plot...\")\n",
        "        valid_brier_mask = ~np.isnan(final_metrics[\"Brier_at_times\"])\n",
        "        valid_ece_mask = ~np.isnan(final_metrics[\"ECE_at_times\"])\n",
        "        if np.any(valid_brier_mask):\n",
        "             plt.figure(figsize=(10, 6))\n",
        "             plt.plot(np.array(final_metrics[\"eval_times\"])[valid_brier_mask], np.array(final_metrics[\"Brier_at_times\"])[valid_brier_mask], 'r', marker=\"^\", linestyle='-', label=\"Brier Score\")\n",
        "             plt.xlabel(\"Time\")\n",
        "             plt.ylabel(\"Brier Score\")\n",
        "             plt.title(\"Brier Score Over Time (Final Model)\")\n",
        "             plt.legend()\n",
        "             plt.grid(True)\n",
        "             plt.show()\n",
        "        if np.any(valid_ece_mask):\n",
        "             plt.figure(figsize=(10, 6))\n",
        "             plt.plot(np.array(final_metrics[\"eval_times\"])[valid_ece_mask], np.array(final_metrics[\"ECE_at_times\"])[valid_ece_mask], 'b', marker=\"o\", linestyle='-', label=\"ECE\")\n",
        "             plt.xlabel(\"Time\")\n",
        "             plt.ylabel(\"Expected Calibration Error (ECE)\")\n",
        "             plt.title(\"Expected Calibration Error Over Time (Final Model)\")\n",
        "             plt.legend()\n",
        "             plt.grid(True)\n",
        "             plt.show()\n"
      ],
      "metadata": {
        "colab": {
          "base_uri": "https://localhost:8080/",
          "height": 1000
        },
        "id": "5_Odms8ttnkt",
        "outputId": "8a0c0246-0dd6-42dc-b0b4-4f7f255e10ae"
      },
      "execution_count": 5,
      "outputs": [
        {
          "output_type": "stream",
          "name": "stdout",
          "text": [
            "Using device: cuda\n",
            "Initializing gbsg_study dataset from /content/datasets/ (dev mode: False)\n"
          ]
        },
        {
          "output_type": "stream",
          "name": "stderr",
          "text": [
            "INFO:pyhealth.datasets.base_dataset:Initializing gbsg_study dataset from /content/datasets/ (dev mode: False)\n"
          ]
        },
        {
          "output_type": "stream",
          "name": "stdout",
          "text": [
            "Scanning table: gbsg from /content/datasets/gbsg.csv\n"
          ]
        },
        {
          "output_type": "stream",
          "name": "stderr",
          "text": [
            "INFO:pyhealth.datasets.base_dataset:Scanning table: gbsg from /content/datasets/gbsg.csv\n"
          ]
        },
        {
          "output_type": "stream",
          "name": "stdout",
          "text": [
            "Setting task SurvivalAnalysisGBSG for gbsg_study base dataset...\n"
          ]
        },
        {
          "output_type": "stream",
          "name": "stderr",
          "text": [
            "INFO:pyhealth.datasets.base_dataset:Setting task SurvivalAnalysisGBSG for gbsg_study base dataset...\n"
          ]
        },
        {
          "output_type": "stream",
          "name": "stdout",
          "text": [
            "Collecting global event dataframe...\n"
          ]
        },
        {
          "output_type": "stream",
          "name": "stderr",
          "text": [
            "INFO:pyhealth.datasets.base_dataset:Collecting global event dataframe...\n"
          ]
        },
        {
          "output_type": "stream",
          "name": "stdout",
          "text": [
            "Collected dataframe with shape: (686, 13)\n"
          ]
        },
        {
          "output_type": "stream",
          "name": "stderr",
          "text": [
            "INFO:pyhealth.datasets.base_dataset:Collected dataframe with shape: (686, 13)\n"
          ]
        },
        {
          "output_type": "stream",
          "name": "stdout",
          "text": [
            "Generating samples with 2 worker(s)...\n"
          ]
        },
        {
          "output_type": "stream",
          "name": "stderr",
          "text": [
            "INFO:pyhealth.datasets.base_dataset:Generating samples with 2 worker(s)...\n"
          ]
        },
        {
          "output_type": "stream",
          "name": "stdout",
          "text": [
            "Generating samples for SurvivalAnalysisGBSG\n"
          ]
        },
        {
          "output_type": "stream",
          "name": "stderr",
          "text": [
            "INFO:pyhealth.datasets.base_dataset:Generating samples for SurvivalAnalysisGBSG\n"
          ]
        },
        {
          "output_type": "stream",
          "name": "stdout",
          "text": [
            "Label meno vocab: {0: 0, 1: 1}\n"
          ]
        },
        {
          "output_type": "stream",
          "name": "stderr",
          "text": [
            "INFO:pyhealth.processors.label_processor:Label meno vocab: {0: 0, 1: 1}\n"
          ]
        },
        {
          "output_type": "stream",
          "name": "stdout",
          "text": [
            "Label hormon vocab: {0: 0, 1: 1}\n"
          ]
        },
        {
          "output_type": "stream",
          "name": "stderr",
          "text": [
            "INFO:pyhealth.processors.label_processor:Label hormon vocab: {0: 0, 1: 1}\n"
          ]
        },
        {
          "output_type": "stream",
          "name": "stdout",
          "text": [
            "Label event vocab: {0: 0, 1: 1}\n"
          ]
        },
        {
          "output_type": "stream",
          "name": "stderr",
          "text": [
            "INFO:pyhealth.processors.label_processor:Label event vocab: {0: 0, 1: 1}\n",
            "Processing samples: 100%|██████████| 686/686 [00:00<00:00, 3110.69it/s]"
          ]
        },
        {
          "output_type": "stream",
          "name": "stdout",
          "text": [
            "Generated 686 samples for task SurvivalAnalysisGBSG\n"
          ]
        },
        {
          "output_type": "stream",
          "name": "stderr",
          "text": [
            "\n",
            "INFO:pyhealth.datasets.base_dataset:Generated 686 samples for task SurvivalAnalysisGBSG\n",
            "[I 2025-05-05 11:02:43,579] A new study created in memory with name: no-name-7f5cb45a-1adb-4747-9cea-c92a73298c0d\n"
          ]
        },
        {
          "output_type": "stream",
          "name": "stdout",
          "text": [
            "Generated 686 samples for task SurvivalAnalysisGBSG\n",
            "Loaded 686 samples with 8 features.\n",
            "Features normalized.\n",
            "Found 246 patients with hormonal therapy and 440 without.\n",
            "Stratifying by 5 time bins and event status.\n",
            "\n",
            "Starting Optuna study...\n",
            "\n",
            "Trial 0 with parameters: {'lr': 0.004902978603124103, 'batch_size': 64, 'hidden_dim': 238, 'dropout': 0.3776727839198787, 'weight_decay': 2.7798457738300328e-05, 'epochs': 50, 'n_splits': 5}\n",
            "--- Fold 1/5 ---\n"
          ]
        },
        {
          "output_type": "stream",
          "name": "stderr",
          "text": [
            "/usr/local/lib/python3.11/dist-packages/torch/optim/lr_scheduler.py:62: UserWarning: The verbose parameter is deprecated. Please use get_last_lr() to access the learning rate.\n",
            "  warnings.warn(\n"
          ]
        },
        {
          "output_type": "stream",
          "name": "stdout",
          "text": [
            "Starting training for fold 1...\n",
            "Early stopping at epoch 17 for fold 1\n",
            "--- Fold 2/5 ---\n",
            "Starting training for fold 2...\n"
          ]
        },
        {
          "output_type": "stream",
          "name": "stderr",
          "text": [
            "/usr/local/lib/python3.11/dist-packages/torch/optim/lr_scheduler.py:62: UserWarning: The verbose parameter is deprecated. Please use get_last_lr() to access the learning rate.\n",
            "  warnings.warn(\n"
          ]
        },
        {
          "output_type": "stream",
          "name": "stdout",
          "text": [
            "Early stopping at epoch 12 for fold 2\n",
            "--- Fold 3/5 ---\n",
            "Starting training for fold 3...\n"
          ]
        },
        {
          "output_type": "stream",
          "name": "stderr",
          "text": [
            "/usr/local/lib/python3.11/dist-packages/torch/optim/lr_scheduler.py:62: UserWarning: The verbose parameter is deprecated. Please use get_last_lr() to access the learning rate.\n",
            "  warnings.warn(\n"
          ]
        },
        {
          "output_type": "stream",
          "name": "stdout",
          "text": [
            "Early stopping at epoch 11 for fold 3\n",
            "--- Fold 4/5 ---\n",
            "Starting training for fold 4...\n"
          ]
        },
        {
          "output_type": "stream",
          "name": "stderr",
          "text": [
            "/usr/local/lib/python3.11/dist-packages/torch/optim/lr_scheduler.py:62: UserWarning: The verbose parameter is deprecated. Please use get_last_lr() to access the learning rate.\n",
            "  warnings.warn(\n"
          ]
        },
        {
          "output_type": "stream",
          "name": "stdout",
          "text": [
            "Early stopping at epoch 12 for fold 4\n",
            "--- Fold 5/5 ---\n",
            "Starting training for fold 5...\n"
          ]
        },
        {
          "output_type": "stream",
          "name": "stderr",
          "text": [
            "/usr/local/lib/python3.11/dist-packages/torch/optim/lr_scheduler.py:62: UserWarning: The verbose parameter is deprecated. Please use get_last_lr() to access the learning rate.\n",
            "  warnings.warn(\n",
            "[I 2025-05-05 11:02:49,588] Trial 0 finished with value: 0.1658172691621492 and parameters: {'lr': 0.004902978603124103, 'batch_size': 64, 'hidden_dim': 238, 'dropout': 0.3776727839198787, 'weight_decay': 2.7798457738300328e-05}. Best is trial 0 with value: 0.1658172691621492.\n"
          ]
        },
        {
          "output_type": "stream",
          "name": "stdout",
          "text": [
            "Early stopping at epoch 11 for fold 5\n",
            "Trial 0 Results (averaged over folds): {'Ctd': 0.6844391041192555, 'AUC': 0.7052010462257561, 'IBS': 0.1658172691621492, 'Avg_ECE_over_times': 0.2182648318187889, 'Avg_Brier_over_times': 0.15664266128308577}\n",
            "\n",
            "Trial 1 with parameters: {'lr': 0.0001201675654239644, 'batch_size': 32, 'hidden_dim': 132, 'dropout': 0.41494221399998427, 'weight_decay': 8.470472896494501e-05, 'epochs': 50, 'n_splits': 5}\n",
            "--- Fold 1/5 ---\n",
            "Starting training for fold 1...\n"
          ]
        },
        {
          "output_type": "stream",
          "name": "stderr",
          "text": [
            "/usr/local/lib/python3.11/dist-packages/torch/optim/lr_scheduler.py:62: UserWarning: The verbose parameter is deprecated. Please use get_last_lr() to access the learning rate.\n",
            "  warnings.warn(\n"
          ]
        },
        {
          "output_type": "stream",
          "name": "stdout",
          "text": [
            "Early stopping at epoch 37 for fold 1\n",
            "--- Fold 2/5 ---\n",
            "Starting training for fold 2...\n"
          ]
        },
        {
          "output_type": "stream",
          "name": "stderr",
          "text": [
            "/usr/local/lib/python3.11/dist-packages/torch/optim/lr_scheduler.py:62: UserWarning: The verbose parameter is deprecated. Please use get_last_lr() to access the learning rate.\n",
            "  warnings.warn(\n"
          ]
        },
        {
          "output_type": "stream",
          "name": "stdout",
          "text": [
            "Early stopping at epoch 18 for fold 2\n",
            "--- Fold 3/5 ---\n",
            "Starting training for fold 3...\n"
          ]
        },
        {
          "output_type": "stream",
          "name": "stderr",
          "text": [
            "/usr/local/lib/python3.11/dist-packages/torch/optim/lr_scheduler.py:62: UserWarning: The verbose parameter is deprecated. Please use get_last_lr() to access the learning rate.\n",
            "  warnings.warn(\n"
          ]
        },
        {
          "output_type": "stream",
          "name": "stdout",
          "text": [
            "Early stopping at epoch 15 for fold 3\n",
            "--- Fold 4/5 ---\n",
            "Starting training for fold 4...\n"
          ]
        },
        {
          "output_type": "stream",
          "name": "stderr",
          "text": [
            "/usr/local/lib/python3.11/dist-packages/torch/optim/lr_scheduler.py:62: UserWarning: The verbose parameter is deprecated. Please use get_last_lr() to access the learning rate.\n",
            "  warnings.warn(\n"
          ]
        },
        {
          "output_type": "stream",
          "name": "stdout",
          "text": [
            "Early stopping at epoch 41 for fold 4\n",
            "--- Fold 5/5 ---\n",
            "Starting training for fold 5...\n"
          ]
        },
        {
          "output_type": "stream",
          "name": "stderr",
          "text": [
            "/usr/local/lib/python3.11/dist-packages/torch/optim/lr_scheduler.py:62: UserWarning: The verbose parameter is deprecated. Please use get_last_lr() to access the learning rate.\n",
            "  warnings.warn(\n",
            "[I 2025-05-05 11:02:59,799] Trial 1 finished with value: 0.1621899411893167 and parameters: {'lr': 0.0001201675654239644, 'batch_size': 32, 'hidden_dim': 132, 'dropout': 0.41494221399998427, 'weight_decay': 8.470472896494501e-05}. Best is trial 1 with value: 0.1621899411893167.\n"
          ]
        },
        {
          "output_type": "stream",
          "name": "stdout",
          "text": [
            "Early stopping at epoch 37 for fold 5\n",
            "Trial 1 Results (averaged over folds): {'Ctd': 0.6773919027112855, 'AUC': 0.6891206376515362, 'IBS': 0.1621899411893167, 'Avg_ECE_over_times': 0.20583645070629605, 'Avg_Brier_over_times': 0.15232643379801983}\n",
            "\n",
            "Trial 2 with parameters: {'lr': 0.00015735367698317118, 'batch_size': 32, 'hidden_dim': 135, 'dropout': 0.2935553277196916, 'weight_decay': 6.388639806214271e-05, 'epochs': 50, 'n_splits': 5}\n",
            "--- Fold 1/5 ---\n",
            "Starting training for fold 1...\n"
          ]
        },
        {
          "output_type": "stream",
          "name": "stderr",
          "text": [
            "/usr/local/lib/python3.11/dist-packages/torch/optim/lr_scheduler.py:62: UserWarning: The verbose parameter is deprecated. Please use get_last_lr() to access the learning rate.\n",
            "  warnings.warn(\n"
          ]
        },
        {
          "output_type": "stream",
          "name": "stdout",
          "text": [
            "Early stopping at epoch 36 for fold 1\n",
            "--- Fold 2/5 ---\n",
            "Starting training for fold 2...\n"
          ]
        },
        {
          "output_type": "stream",
          "name": "stderr",
          "text": [
            "/usr/local/lib/python3.11/dist-packages/torch/optim/lr_scheduler.py:62: UserWarning: The verbose parameter is deprecated. Please use get_last_lr() to access the learning rate.\n",
            "  warnings.warn(\n"
          ]
        },
        {
          "output_type": "stream",
          "name": "stdout",
          "text": [
            "Early stopping at epoch 19 for fold 2\n",
            "--- Fold 3/5 ---\n",
            "Starting training for fold 3...\n"
          ]
        },
        {
          "output_type": "stream",
          "name": "stderr",
          "text": [
            "/usr/local/lib/python3.11/dist-packages/torch/optim/lr_scheduler.py:62: UserWarning: The verbose parameter is deprecated. Please use get_last_lr() to access the learning rate.\n",
            "  warnings.warn(\n"
          ]
        },
        {
          "output_type": "stream",
          "name": "stdout",
          "text": [
            "Early stopping at epoch 13 for fold 3\n",
            "--- Fold 4/5 ---\n",
            "Starting training for fold 4...\n"
          ]
        },
        {
          "output_type": "stream",
          "name": "stderr",
          "text": [
            "/usr/local/lib/python3.11/dist-packages/torch/optim/lr_scheduler.py:62: UserWarning: The verbose parameter is deprecated. Please use get_last_lr() to access the learning rate.\n",
            "  warnings.warn(\n"
          ]
        },
        {
          "output_type": "stream",
          "name": "stdout",
          "text": [
            "Early stopping at epoch 22 for fold 4\n",
            "--- Fold 5/5 ---\n",
            "Starting training for fold 5...\n"
          ]
        },
        {
          "output_type": "stream",
          "name": "stderr",
          "text": [
            "/usr/local/lib/python3.11/dist-packages/torch/optim/lr_scheduler.py:62: UserWarning: The verbose parameter is deprecated. Please use get_last_lr() to access the learning rate.\n",
            "  warnings.warn(\n",
            "[I 2025-05-05 11:03:08,996] Trial 2 finished with value: 0.16318535763119169 and parameters: {'lr': 0.00015735367698317118, 'batch_size': 32, 'hidden_dim': 135, 'dropout': 0.2935553277196916, 'weight_decay': 6.388639806214271e-05}. Best is trial 1 with value: 0.1621899411893167.\n"
          ]
        },
        {
          "output_type": "stream",
          "name": "stdout",
          "text": [
            "Early stopping at epoch 28 for fold 5\n",
            "Trial 2 Results (averaged over folds): {'Ctd': 0.6816453984311215, 'AUC': 0.6893816237926209, 'IBS': 0.16318535763119169, 'Avg_ECE_over_times': 0.20600458774231334, 'Avg_Brier_over_times': 0.15354775996998934}\n",
            "\n",
            "Trial 3 with parameters: {'lr': 0.00010873447461315888, 'batch_size': 32, 'hidden_dim': 100, 'dropout': 0.43776364885850827, 'weight_decay': 0.0002355852194014035, 'epochs': 50, 'n_splits': 5}\n",
            "--- Fold 1/5 ---\n",
            "Starting training for fold 1...\n"
          ]
        },
        {
          "output_type": "stream",
          "name": "stderr",
          "text": [
            "/usr/local/lib/python3.11/dist-packages/torch/optim/lr_scheduler.py:62: UserWarning: The verbose parameter is deprecated. Please use get_last_lr() to access the learning rate.\n",
            "  warnings.warn(\n"
          ]
        },
        {
          "output_type": "stream",
          "name": "stdout",
          "text": [
            "Early stopping at epoch 41 for fold 1\n",
            "--- Fold 2/5 ---\n",
            "Starting training for fold 2...\n"
          ]
        },
        {
          "output_type": "stream",
          "name": "stderr",
          "text": [
            "/usr/local/lib/python3.11/dist-packages/torch/optim/lr_scheduler.py:62: UserWarning: The verbose parameter is deprecated. Please use get_last_lr() to access the learning rate.\n",
            "  warnings.warn(\n"
          ]
        },
        {
          "output_type": "stream",
          "name": "stdout",
          "text": [
            "Early stopping at epoch 25 for fold 2\n",
            "--- Fold 3/5 ---\n",
            "Starting training for fold 3...\n"
          ]
        },
        {
          "output_type": "stream",
          "name": "stderr",
          "text": [
            "/usr/local/lib/python3.11/dist-packages/torch/optim/lr_scheduler.py:62: UserWarning: The verbose parameter is deprecated. Please use get_last_lr() to access the learning rate.\n",
            "  warnings.warn(\n"
          ]
        },
        {
          "output_type": "stream",
          "name": "stdout",
          "text": [
            "Early stopping at epoch 24 for fold 3\n",
            "--- Fold 4/5 ---\n",
            "Starting training for fold 4...\n"
          ]
        },
        {
          "output_type": "stream",
          "name": "stderr",
          "text": [
            "/usr/local/lib/python3.11/dist-packages/torch/optim/lr_scheduler.py:62: UserWarning: The verbose parameter is deprecated. Please use get_last_lr() to access the learning rate.\n",
            "  warnings.warn(\n"
          ]
        },
        {
          "output_type": "stream",
          "name": "stdout",
          "text": [
            "Early stopping at epoch 32 for fold 4\n",
            "--- Fold 5/5 ---\n",
            "Starting training for fold 5...\n"
          ]
        },
        {
          "output_type": "stream",
          "name": "stderr",
          "text": [
            "/usr/local/lib/python3.11/dist-packages/torch/optim/lr_scheduler.py:62: UserWarning: The verbose parameter is deprecated. Please use get_last_lr() to access the learning rate.\n",
            "  warnings.warn(\n",
            "[I 2025-05-05 11:03:21,287] Trial 3 finished with value: 0.16217841320102147 and parameters: {'lr': 0.00010873447461315888, 'batch_size': 32, 'hidden_dim': 100, 'dropout': 0.43776364885850827, 'weight_decay': 0.0002355852194014035}. Best is trial 3 with value: 0.16217841320102147.\n"
          ]
        },
        {
          "output_type": "stream",
          "name": "stdout",
          "text": [
            "Early stopping at epoch 40 for fold 5\n",
            "Trial 3 Results (averaged over folds): {'Ctd': 0.6817206594769005, 'AUC': 0.6919374233118178, 'IBS': 0.16217841320102147, 'Avg_ECE_over_times': 0.20702270416146237, 'Avg_Brier_over_times': 0.15227505577957423}\n",
            "\n",
            "Trial 4 with parameters: {'lr': 0.0001784177570086272, 'batch_size': 64, 'hidden_dim': 174, 'dropout': 0.4160311437000588, 'weight_decay': 0.0006792510299742276, 'epochs': 50, 'n_splits': 5}\n",
            "--- Fold 1/5 ---\n",
            "Starting training for fold 1...\n"
          ]
        },
        {
          "output_type": "stream",
          "name": "stderr",
          "text": [
            "/usr/local/lib/python3.11/dist-packages/torch/optim/lr_scheduler.py:62: UserWarning: The verbose parameter is deprecated. Please use get_last_lr() to access the learning rate.\n",
            "  warnings.warn(\n"
          ]
        },
        {
          "output_type": "stream",
          "name": "stdout",
          "text": [
            "Early stopping at epoch 17 for fold 1\n",
            "--- Fold 2/5 ---\n",
            "Starting training for fold 2...\n"
          ]
        },
        {
          "output_type": "stream",
          "name": "stderr",
          "text": [
            "/usr/local/lib/python3.11/dist-packages/torch/optim/lr_scheduler.py:62: UserWarning: The verbose parameter is deprecated. Please use get_last_lr() to access the learning rate.\n",
            "  warnings.warn(\n"
          ]
        },
        {
          "output_type": "stream",
          "name": "stdout",
          "text": [
            "Early stopping at epoch 22 for fold 2\n",
            "--- Fold 3/5 ---\n",
            "Starting training for fold 3...\n"
          ]
        },
        {
          "output_type": "stream",
          "name": "stderr",
          "text": [
            "/usr/local/lib/python3.11/dist-packages/torch/optim/lr_scheduler.py:62: UserWarning: The verbose parameter is deprecated. Please use get_last_lr() to access the learning rate.\n",
            "  warnings.warn(\n"
          ]
        },
        {
          "output_type": "stream",
          "name": "stdout",
          "text": [
            "Early stopping at epoch 14 for fold 3\n",
            "--- Fold 4/5 ---\n",
            "Starting training for fold 4...\n"
          ]
        },
        {
          "output_type": "stream",
          "name": "stderr",
          "text": [
            "/usr/local/lib/python3.11/dist-packages/torch/optim/lr_scheduler.py:62: UserWarning: The verbose parameter is deprecated. Please use get_last_lr() to access the learning rate.\n",
            "  warnings.warn(\n"
          ]
        },
        {
          "output_type": "stream",
          "name": "stdout",
          "text": [
            "Early stopping at epoch 24 for fold 4\n",
            "--- Fold 5/5 ---\n",
            "Starting training for fold 5...\n"
          ]
        },
        {
          "output_type": "stream",
          "name": "stderr",
          "text": [
            "/usr/local/lib/python3.11/dist-packages/torch/optim/lr_scheduler.py:62: UserWarning: The verbose parameter is deprecated. Please use get_last_lr() to access the learning rate.\n",
            "  warnings.warn(\n",
            "[I 2025-05-05 11:03:28,760] Trial 4 finished with value: 0.16060604943851012 and parameters: {'lr': 0.0001784177570086272, 'batch_size': 64, 'hidden_dim': 174, 'dropout': 0.4160311437000588, 'weight_decay': 0.0006792510299742276}. Best is trial 4 with value: 0.16060604943851012.\n"
          ]
        },
        {
          "output_type": "stream",
          "name": "stdout",
          "text": [
            "Early stopping at epoch 49 for fold 5\n",
            "Trial 4 Results (averaged over folds): {'Ctd': 0.6884204475509079, 'AUC': 0.700924143115101, 'IBS': 0.16060604943851012, 'Avg_ECE_over_times': 0.20357469592880667, 'Avg_Brier_over_times': 0.15099331196912752}\n",
            "\n",
            "Trial 5 with parameters: {'lr': 0.0009836478962261651, 'batch_size': 32, 'hidden_dim': 81, 'dropout': 0.4555614172026572, 'weight_decay': 0.0005263558073080731, 'epochs': 50, 'n_splits': 5}\n",
            "--- Fold 1/5 ---\n",
            "Starting training for fold 1...\n"
          ]
        },
        {
          "output_type": "stream",
          "name": "stderr",
          "text": [
            "/usr/local/lib/python3.11/dist-packages/torch/optim/lr_scheduler.py:62: UserWarning: The verbose parameter is deprecated. Please use get_last_lr() to access the learning rate.\n",
            "  warnings.warn(\n"
          ]
        },
        {
          "output_type": "stream",
          "name": "stdout",
          "text": [
            "Early stopping at epoch 13 for fold 1\n",
            "--- Fold 2/5 ---\n",
            "Starting training for fold 2...\n"
          ]
        },
        {
          "output_type": "stream",
          "name": "stderr",
          "text": [
            "/usr/local/lib/python3.11/dist-packages/torch/optim/lr_scheduler.py:62: UserWarning: The verbose parameter is deprecated. Please use get_last_lr() to access the learning rate.\n",
            "  warnings.warn(\n"
          ]
        },
        {
          "output_type": "stream",
          "name": "stdout",
          "text": [
            "Early stopping at epoch 14 for fold 2\n",
            "--- Fold 3/5 ---\n",
            "Starting training for fold 3...\n"
          ]
        },
        {
          "output_type": "stream",
          "name": "stderr",
          "text": [
            "/usr/local/lib/python3.11/dist-packages/torch/optim/lr_scheduler.py:62: UserWarning: The verbose parameter is deprecated. Please use get_last_lr() to access the learning rate.\n",
            "  warnings.warn(\n"
          ]
        },
        {
          "output_type": "stream",
          "name": "stdout",
          "text": [
            "Early stopping at epoch 11 for fold 3\n",
            "--- Fold 4/5 ---\n",
            "Starting training for fold 4...\n"
          ]
        },
        {
          "output_type": "stream",
          "name": "stderr",
          "text": [
            "/usr/local/lib/python3.11/dist-packages/torch/optim/lr_scheduler.py:62: UserWarning: The verbose parameter is deprecated. Please use get_last_lr() to access the learning rate.\n",
            "  warnings.warn(\n"
          ]
        },
        {
          "output_type": "stream",
          "name": "stdout",
          "text": [
            "Early stopping at epoch 18 for fold 4\n",
            "--- Fold 5/5 ---\n",
            "Starting training for fold 5...\n"
          ]
        },
        {
          "output_type": "stream",
          "name": "stderr",
          "text": [
            "/usr/local/lib/python3.11/dist-packages/torch/optim/lr_scheduler.py:62: UserWarning: The verbose parameter is deprecated. Please use get_last_lr() to access the learning rate.\n",
            "  warnings.warn(\n",
            "[I 2025-05-05 11:03:37,424] Trial 5 finished with value: 0.16288646986085034 and parameters: {'lr': 0.0009836478962261651, 'batch_size': 32, 'hidden_dim': 81, 'dropout': 0.4555614172026572, 'weight_decay': 0.0005263558073080731}. Best is trial 4 with value: 0.16060604943851012.\n"
          ]
        },
        {
          "output_type": "stream",
          "name": "stdout",
          "text": [
            "Early stopping at epoch 19 for fold 5\n",
            "Trial 5 Results (averaged over folds): {'Ctd': 0.6815023498368661, 'AUC': 0.6934817742482913, 'IBS': 0.16288646986085034, 'Avg_ECE_over_times': 0.21058611673650432, 'Avg_Brier_over_times': 0.1533104448972887}\n",
            "\n",
            "Trial 6 with parameters: {'lr': 0.001888562434932481, 'batch_size': 128, 'hidden_dim': 69, 'dropout': 0.27083002689037, 'weight_decay': 4.925727508245683e-05, 'epochs': 50, 'n_splits': 5}\n",
            "--- Fold 1/5 ---\n",
            "Starting training for fold 1...\n"
          ]
        },
        {
          "output_type": "stream",
          "name": "stderr",
          "text": [
            "/usr/local/lib/python3.11/dist-packages/torch/optim/lr_scheduler.py:62: UserWarning: The verbose parameter is deprecated. Please use get_last_lr() to access the learning rate.\n",
            "  warnings.warn(\n"
          ]
        },
        {
          "output_type": "stream",
          "name": "stdout",
          "text": [
            "Early stopping at epoch 13 for fold 1\n",
            "--- Fold 2/5 ---\n",
            "Starting training for fold 2...\n"
          ]
        },
        {
          "output_type": "stream",
          "name": "stderr",
          "text": [
            "/usr/local/lib/python3.11/dist-packages/torch/optim/lr_scheduler.py:62: UserWarning: The verbose parameter is deprecated. Please use get_last_lr() to access the learning rate.\n",
            "  warnings.warn(\n"
          ]
        },
        {
          "output_type": "stream",
          "name": "stdout",
          "text": [
            "Early stopping at epoch 20 for fold 2\n",
            "--- Fold 3/5 ---\n",
            "Starting training for fold 3...\n"
          ]
        },
        {
          "output_type": "stream",
          "name": "stderr",
          "text": [
            "/usr/local/lib/python3.11/dist-packages/torch/optim/lr_scheduler.py:62: UserWarning: The verbose parameter is deprecated. Please use get_last_lr() to access the learning rate.\n",
            "  warnings.warn(\n"
          ]
        },
        {
          "output_type": "stream",
          "name": "stdout",
          "text": [
            "Early stopping at epoch 13 for fold 3\n",
            "--- Fold 4/5 ---\n",
            "Starting training for fold 4...\n"
          ]
        },
        {
          "output_type": "stream",
          "name": "stderr",
          "text": [
            "/usr/local/lib/python3.11/dist-packages/torch/optim/lr_scheduler.py:62: UserWarning: The verbose parameter is deprecated. Please use get_last_lr() to access the learning rate.\n",
            "  warnings.warn(\n"
          ]
        },
        {
          "output_type": "stream",
          "name": "stdout",
          "text": [
            "Early stopping at epoch 16 for fold 4\n",
            "--- Fold 5/5 ---\n",
            "Starting training for fold 5...\n"
          ]
        },
        {
          "output_type": "stream",
          "name": "stderr",
          "text": [
            "/usr/local/lib/python3.11/dist-packages/torch/optim/lr_scheduler.py:62: UserWarning: The verbose parameter is deprecated. Please use get_last_lr() to access the learning rate.\n",
            "  warnings.warn(\n",
            "[I 2025-05-05 11:03:40,461] Trial 6 finished with value: 0.16028712189888814 and parameters: {'lr': 0.001888562434932481, 'batch_size': 128, 'hidden_dim': 69, 'dropout': 0.27083002689037, 'weight_decay': 4.925727508245683e-05}. Best is trial 6 with value: 0.16028712189888814.\n"
          ]
        },
        {
          "output_type": "stream",
          "name": "stdout",
          "text": [
            "Early stopping at epoch 17 for fold 5\n",
            "Trial 6 Results (averaged over folds): {'Ctd': 0.6898962345246189, 'AUC': 0.7058167907060258, 'IBS': 0.16028712189888814, 'Avg_ECE_over_times': 0.20858087249191634, 'Avg_Brier_over_times': 0.15129564308472182}\n",
            "\n",
            "Trial 7 with parameters: {'lr': 0.00021510215513500359, 'batch_size': 128, 'hidden_dim': 255, 'dropout': 0.20707152953743468, 'weight_decay': 0.000705269661317237, 'epochs': 50, 'n_splits': 5}\n",
            "--- Fold 1/5 ---\n",
            "Starting training for fold 1...\n"
          ]
        },
        {
          "output_type": "stream",
          "name": "stderr",
          "text": [
            "/usr/local/lib/python3.11/dist-packages/torch/optim/lr_scheduler.py:62: UserWarning: The verbose parameter is deprecated. Please use get_last_lr() to access the learning rate.\n",
            "  warnings.warn(\n"
          ]
        },
        {
          "output_type": "stream",
          "name": "stdout",
          "text": [
            "Early stopping at epoch 16 for fold 1\n",
            "--- Fold 2/5 ---\n",
            "Starting training for fold 2...\n"
          ]
        },
        {
          "output_type": "stream",
          "name": "stderr",
          "text": [
            "/usr/local/lib/python3.11/dist-packages/torch/optim/lr_scheduler.py:62: UserWarning: The verbose parameter is deprecated. Please use get_last_lr() to access the learning rate.\n",
            "  warnings.warn(\n"
          ]
        },
        {
          "output_type": "stream",
          "name": "stdout",
          "text": [
            "Early stopping at epoch 21 for fold 2\n",
            "--- Fold 3/5 ---\n",
            "Starting training for fold 3...\n"
          ]
        },
        {
          "output_type": "stream",
          "name": "stderr",
          "text": [
            "/usr/local/lib/python3.11/dist-packages/torch/optim/lr_scheduler.py:62: UserWarning: The verbose parameter is deprecated. Please use get_last_lr() to access the learning rate.\n",
            "  warnings.warn(\n"
          ]
        },
        {
          "output_type": "stream",
          "name": "stdout",
          "text": [
            "Early stopping at epoch 18 for fold 3\n",
            "--- Fold 4/5 ---\n",
            "Starting training for fold 4...\n"
          ]
        },
        {
          "output_type": "stream",
          "name": "stderr",
          "text": [
            "/usr/local/lib/python3.11/dist-packages/torch/optim/lr_scheduler.py:62: UserWarning: The verbose parameter is deprecated. Please use get_last_lr() to access the learning rate.\n",
            "  warnings.warn(\n"
          ]
        },
        {
          "output_type": "stream",
          "name": "stdout",
          "text": [
            "Early stopping at epoch 19 for fold 4\n",
            "--- Fold 5/5 ---\n",
            "Starting training for fold 5...\n"
          ]
        },
        {
          "output_type": "stream",
          "name": "stderr",
          "text": [
            "/usr/local/lib/python3.11/dist-packages/torch/optim/lr_scheduler.py:62: UserWarning: The verbose parameter is deprecated. Please use get_last_lr() to access the learning rate.\n",
            "  warnings.warn(\n",
            "[I 2025-05-05 11:03:42,991] Trial 7 finished with value: 0.1626485567651851 and parameters: {'lr': 0.00021510215513500359, 'batch_size': 128, 'hidden_dim': 255, 'dropout': 0.20707152953743468, 'weight_decay': 0.000705269661317237}. Best is trial 6 with value: 0.16028712189888814.\n"
          ]
        },
        {
          "output_type": "stream",
          "name": "stdout",
          "text": [
            "Early stopping at epoch 18 for fold 5\n",
            "Trial 7 Results (averaged over folds): {'Ctd': 0.6804649435668244, 'AUC': 0.6914602718738587, 'IBS': 0.1626485567651851, 'Avg_ECE_over_times': 0.20882640320832918, 'Avg_Brier_over_times': 0.1530873202512237}\n",
            "\n",
            "Trial 8 with parameters: {'lr': 0.0013067243633920974, 'batch_size': 64, 'hidden_dim': 175, 'dropout': 0.20717271430646855, 'weight_decay': 0.00011304445213919942, 'epochs': 50, 'n_splits': 5}\n",
            "--- Fold 1/5 ---\n",
            "Starting training for fold 1...\n"
          ]
        },
        {
          "output_type": "stream",
          "name": "stderr",
          "text": [
            "/usr/local/lib/python3.11/dist-packages/torch/optim/lr_scheduler.py:62: UserWarning: The verbose parameter is deprecated. Please use get_last_lr() to access the learning rate.\n",
            "  warnings.warn(\n"
          ]
        },
        {
          "output_type": "stream",
          "name": "stdout",
          "text": [
            "Early stopping at epoch 11 for fold 1\n",
            "--- Fold 2/5 ---\n",
            "Starting training for fold 2...\n"
          ]
        },
        {
          "output_type": "stream",
          "name": "stderr",
          "text": [
            "/usr/local/lib/python3.11/dist-packages/torch/optim/lr_scheduler.py:62: UserWarning: The verbose parameter is deprecated. Please use get_last_lr() to access the learning rate.\n",
            "  warnings.warn(\n"
          ]
        },
        {
          "output_type": "stream",
          "name": "stdout",
          "text": [
            "Early stopping at epoch 15 for fold 2\n",
            "--- Fold 3/5 ---\n",
            "Starting training for fold 3...\n"
          ]
        },
        {
          "output_type": "stream",
          "name": "stderr",
          "text": [
            "/usr/local/lib/python3.11/dist-packages/torch/optim/lr_scheduler.py:62: UserWarning: The verbose parameter is deprecated. Please use get_last_lr() to access the learning rate.\n",
            "  warnings.warn(\n"
          ]
        },
        {
          "output_type": "stream",
          "name": "stdout",
          "text": [
            "Early stopping at epoch 11 for fold 3\n",
            "--- Fold 4/5 ---\n",
            "Starting training for fold 4...\n"
          ]
        },
        {
          "output_type": "stream",
          "name": "stderr",
          "text": [
            "/usr/local/lib/python3.11/dist-packages/torch/optim/lr_scheduler.py:62: UserWarning: The verbose parameter is deprecated. Please use get_last_lr() to access the learning rate.\n",
            "  warnings.warn(\n"
          ]
        },
        {
          "output_type": "stream",
          "name": "stdout",
          "text": [
            "Early stopping at epoch 17 for fold 4\n",
            "--- Fold 5/5 ---\n",
            "Starting training for fold 5...\n"
          ]
        },
        {
          "output_type": "stream",
          "name": "stderr",
          "text": [
            "/usr/local/lib/python3.11/dist-packages/torch/optim/lr_scheduler.py:62: UserWarning: The verbose parameter is deprecated. Please use get_last_lr() to access the learning rate.\n",
            "  warnings.warn(\n",
            "[I 2025-05-05 11:03:46,536] Trial 8 finished with value: 0.1634249861803163 and parameters: {'lr': 0.0013067243633920974, 'batch_size': 64, 'hidden_dim': 175, 'dropout': 0.20717271430646855, 'weight_decay': 0.00011304445213919942}. Best is trial 6 with value: 0.16028712189888814.\n"
          ]
        },
        {
          "output_type": "stream",
          "name": "stdout",
          "text": [
            "Early stopping at epoch 12 for fold 5\n",
            "Trial 8 Results (averaged over folds): {'Ctd': 0.6876993747789596, 'AUC': 0.7022069176257741, 'IBS': 0.1634249861803163, 'Avg_ECE_over_times': 0.21185452564795343, 'Avg_Brier_over_times': 0.15442868413945626}\n",
            "\n",
            "Trial 9 with parameters: {'lr': 0.00015587648840162692, 'batch_size': 128, 'hidden_dim': 231, 'dropout': 0.3410078526878435, 'weight_decay': 7.434161911119896e-05, 'epochs': 50, 'n_splits': 5}\n",
            "--- Fold 1/5 ---\n",
            "Starting training for fold 1...\n"
          ]
        },
        {
          "output_type": "stream",
          "name": "stderr",
          "text": [
            "/usr/local/lib/python3.11/dist-packages/torch/optim/lr_scheduler.py:62: UserWarning: The verbose parameter is deprecated. Please use get_last_lr() to access the learning rate.\n",
            "  warnings.warn(\n"
          ]
        },
        {
          "output_type": "stream",
          "name": "stdout",
          "text": [
            "Early stopping at epoch 18 for fold 1\n",
            "--- Fold 2/5 ---\n",
            "Starting training for fold 2...\n"
          ]
        },
        {
          "output_type": "stream",
          "name": "stderr",
          "text": [
            "/usr/local/lib/python3.11/dist-packages/torch/optim/lr_scheduler.py:62: UserWarning: The verbose parameter is deprecated. Please use get_last_lr() to access the learning rate.\n",
            "  warnings.warn(\n"
          ]
        },
        {
          "output_type": "stream",
          "name": "stdout",
          "text": [
            "Early stopping at epoch 23 for fold 2\n",
            "--- Fold 3/5 ---\n",
            "Starting training for fold 3...\n"
          ]
        },
        {
          "output_type": "stream",
          "name": "stderr",
          "text": [
            "/usr/local/lib/python3.11/dist-packages/torch/optim/lr_scheduler.py:62: UserWarning: The verbose parameter is deprecated. Please use get_last_lr() to access the learning rate.\n",
            "  warnings.warn(\n"
          ]
        },
        {
          "output_type": "stream",
          "name": "stdout",
          "text": [
            "Early stopping at epoch 24 for fold 3\n",
            "--- Fold 4/5 ---\n",
            "Starting training for fold 4...\n"
          ]
        },
        {
          "output_type": "stream",
          "name": "stderr",
          "text": [
            "/usr/local/lib/python3.11/dist-packages/torch/optim/lr_scheduler.py:62: UserWarning: The verbose parameter is deprecated. Please use get_last_lr() to access the learning rate.\n",
            "  warnings.warn(\n"
          ]
        },
        {
          "output_type": "stream",
          "name": "stdout",
          "text": [
            "Early stopping at epoch 25 for fold 4\n",
            "--- Fold 5/5 ---\n",
            "Starting training for fold 5...\n"
          ]
        },
        {
          "output_type": "stream",
          "name": "stderr",
          "text": [
            "/usr/local/lib/python3.11/dist-packages/torch/optim/lr_scheduler.py:62: UserWarning: The verbose parameter is deprecated. Please use get_last_lr() to access the learning rate.\n",
            "  warnings.warn(\n",
            "[I 2025-05-05 11:03:49,828] Trial 9 finished with value: 0.16083647761809877 and parameters: {'lr': 0.00015587648840162692, 'batch_size': 128, 'hidden_dim': 231, 'dropout': 0.3410078526878435, 'weight_decay': 7.434161911119896e-05}. Best is trial 6 with value: 0.16028712189888814.\n"
          ]
        },
        {
          "output_type": "stream",
          "name": "stdout",
          "text": [
            "Early stopping at epoch 32 for fold 5\n",
            "Trial 9 Results (averaged over folds): {'Ctd': 0.6880646088046646, 'AUC': 0.7018198168012563, 'IBS': 0.16083647761809877, 'Avg_ECE_over_times': 0.20456377419061136, 'Avg_Brier_over_times': 0.15116532838136953}\n",
            "\n",
            "Trial 10 with parameters: {'lr': 0.0026156732182088297, 'batch_size': 128, 'hidden_dim': 68, 'dropout': 0.27312335780103, 'weight_decay': 1.4855407095079397e-05, 'epochs': 50, 'n_splits': 5}\n",
            "--- Fold 1/5 ---\n",
            "Starting training for fold 1...\n"
          ]
        },
        {
          "output_type": "stream",
          "name": "stderr",
          "text": [
            "/usr/local/lib/python3.11/dist-packages/torch/optim/lr_scheduler.py:62: UserWarning: The verbose parameter is deprecated. Please use get_last_lr() to access the learning rate.\n",
            "  warnings.warn(\n"
          ]
        },
        {
          "output_type": "stream",
          "name": "stdout",
          "text": [
            "Early stopping at epoch 13 for fold 1\n",
            "--- Fold 2/5 ---\n",
            "Starting training for fold 2...\n"
          ]
        },
        {
          "output_type": "stream",
          "name": "stderr",
          "text": [
            "/usr/local/lib/python3.11/dist-packages/torch/optim/lr_scheduler.py:62: UserWarning: The verbose parameter is deprecated. Please use get_last_lr() to access the learning rate.\n",
            "  warnings.warn(\n"
          ]
        },
        {
          "output_type": "stream",
          "name": "stdout",
          "text": [
            "Early stopping at epoch 16 for fold 2\n",
            "--- Fold 3/5 ---\n",
            "Starting training for fold 3...\n"
          ]
        },
        {
          "output_type": "stream",
          "name": "stderr",
          "text": [
            "/usr/local/lib/python3.11/dist-packages/torch/optim/lr_scheduler.py:62: UserWarning: The verbose parameter is deprecated. Please use get_last_lr() to access the learning rate.\n",
            "  warnings.warn(\n"
          ]
        },
        {
          "output_type": "stream",
          "name": "stdout",
          "text": [
            "Early stopping at epoch 13 for fold 3\n",
            "--- Fold 4/5 ---\n",
            "Starting training for fold 4...\n"
          ]
        },
        {
          "output_type": "stream",
          "name": "stderr",
          "text": [
            "/usr/local/lib/python3.11/dist-packages/torch/optim/lr_scheduler.py:62: UserWarning: The verbose parameter is deprecated. Please use get_last_lr() to access the learning rate.\n",
            "  warnings.warn(\n"
          ]
        },
        {
          "output_type": "stream",
          "name": "stdout",
          "text": [
            "Early stopping at epoch 23 for fold 4\n",
            "--- Fold 5/5 ---\n",
            "Starting training for fold 5...\n"
          ]
        },
        {
          "output_type": "stream",
          "name": "stderr",
          "text": [
            "/usr/local/lib/python3.11/dist-packages/torch/optim/lr_scheduler.py:62: UserWarning: The verbose parameter is deprecated. Please use get_last_lr() to access the learning rate.\n",
            "  warnings.warn(\n",
            "[I 2025-05-05 11:03:52,595] Trial 10 finished with value: 0.1609428991283218 and parameters: {'lr': 0.0026156732182088297, 'batch_size': 128, 'hidden_dim': 68, 'dropout': 0.27312335780103, 'weight_decay': 1.4855407095079397e-05}. Best is trial 6 with value: 0.16028712189888814.\n"
          ]
        },
        {
          "output_type": "stream",
          "name": "stdout",
          "text": [
            "Early stopping at epoch 31 for fold 5\n",
            "Trial 10 Results (averaged over folds): {'Ctd': 0.6869942798647861, 'AUC': 0.7028116137850297, 'IBS': 0.1609428991283218, 'Avg_ECE_over_times': 0.20836896891746776, 'Avg_Brier_over_times': 0.1520436181403219}\n",
            "\n",
            "Trial 11 with parameters: {'lr': 0.00034692417628637544, 'batch_size': 64, 'hidden_dim': 189, 'dropout': 0.4932917664247384, 'weight_decay': 0.00029817417588938596, 'epochs': 50, 'n_splits': 5}\n",
            "--- Fold 1/5 ---\n",
            "Starting training for fold 1...\n"
          ]
        },
        {
          "output_type": "stream",
          "name": "stderr",
          "text": [
            "/usr/local/lib/python3.11/dist-packages/torch/optim/lr_scheduler.py:62: UserWarning: The verbose parameter is deprecated. Please use get_last_lr() to access the learning rate.\n",
            "  warnings.warn(\n"
          ]
        },
        {
          "output_type": "stream",
          "name": "stdout",
          "text": [
            "Early stopping at epoch 25 for fold 1\n",
            "--- Fold 2/5 ---\n",
            "Starting training for fold 2...\n"
          ]
        },
        {
          "output_type": "stream",
          "name": "stderr",
          "text": [
            "/usr/local/lib/python3.11/dist-packages/torch/optim/lr_scheduler.py:62: UserWarning: The verbose parameter is deprecated. Please use get_last_lr() to access the learning rate.\n",
            "  warnings.warn(\n"
          ]
        },
        {
          "output_type": "stream",
          "name": "stdout",
          "text": [
            "Early stopping at epoch 25 for fold 2\n",
            "--- Fold 3/5 ---\n",
            "Starting training for fold 3...\n"
          ]
        },
        {
          "output_type": "stream",
          "name": "stderr",
          "text": [
            "/usr/local/lib/python3.11/dist-packages/torch/optim/lr_scheduler.py:62: UserWarning: The verbose parameter is deprecated. Please use get_last_lr() to access the learning rate.\n",
            "  warnings.warn(\n"
          ]
        },
        {
          "output_type": "stream",
          "name": "stdout",
          "text": [
            "Early stopping at epoch 12 for fold 3\n",
            "--- Fold 4/5 ---\n",
            "Starting training for fold 4...\n"
          ]
        },
        {
          "output_type": "stream",
          "name": "stderr",
          "text": [
            "/usr/local/lib/python3.11/dist-packages/torch/optim/lr_scheduler.py:62: UserWarning: The verbose parameter is deprecated. Please use get_last_lr() to access the learning rate.\n",
            "  warnings.warn(\n"
          ]
        },
        {
          "output_type": "stream",
          "name": "stdout",
          "text": [
            "Early stopping at epoch 18 for fold 4\n",
            "--- Fold 5/5 ---\n",
            "Starting training for fold 5...\n"
          ]
        },
        {
          "output_type": "stream",
          "name": "stderr",
          "text": [
            "/usr/local/lib/python3.11/dist-packages/torch/optim/lr_scheduler.py:62: UserWarning: The verbose parameter is deprecated. Please use get_last_lr() to access the learning rate.\n",
            "  warnings.warn(\n",
            "[I 2025-05-05 11:03:56,525] Trial 11 finished with value: 0.16141865325241883 and parameters: {'lr': 0.00034692417628637544, 'batch_size': 64, 'hidden_dim': 189, 'dropout': 0.4932917664247384, 'weight_decay': 0.00029817417588938596}. Best is trial 6 with value: 0.16028712189888814.\n"
          ]
        },
        {
          "output_type": "stream",
          "name": "stdout",
          "text": [
            "Early stopping at epoch 22 for fold 5\n",
            "Trial 11 Results (averaged over folds): {'Ctd': 0.6884670962334718, 'AUC': 0.6975181472520097, 'IBS': 0.16141865325241883, 'Avg_ECE_over_times': 0.2076506152340789, 'Avg_Brier_over_times': 0.1520325412171115}\n",
            "\n",
            "Trial 12 with parameters: {'lr': 0.0004923970339797657, 'batch_size': 128, 'hidden_dim': 204, 'dropout': 0.32218550225232556, 'weight_decay': 3.1422880396515495e-05, 'epochs': 50, 'n_splits': 5}\n",
            "--- Fold 1/5 ---\n",
            "Starting training for fold 1...\n"
          ]
        },
        {
          "output_type": "stream",
          "name": "stderr",
          "text": [
            "/usr/local/lib/python3.11/dist-packages/torch/optim/lr_scheduler.py:62: UserWarning: The verbose parameter is deprecated. Please use get_last_lr() to access the learning rate.\n",
            "  warnings.warn(\n"
          ]
        },
        {
          "output_type": "stream",
          "name": "stdout",
          "text": [
            "Early stopping at epoch 20 for fold 1\n",
            "--- Fold 2/5 ---\n",
            "Starting training for fold 2...\n"
          ]
        },
        {
          "output_type": "stream",
          "name": "stderr",
          "text": [
            "/usr/local/lib/python3.11/dist-packages/torch/optim/lr_scheduler.py:62: UserWarning: The verbose parameter is deprecated. Please use get_last_lr() to access the learning rate.\n",
            "  warnings.warn(\n"
          ]
        },
        {
          "output_type": "stream",
          "name": "stdout",
          "text": [
            "Early stopping at epoch 17 for fold 2\n",
            "--- Fold 3/5 ---\n",
            "Starting training for fold 3...\n"
          ]
        },
        {
          "output_type": "stream",
          "name": "stderr",
          "text": [
            "/usr/local/lib/python3.11/dist-packages/torch/optim/lr_scheduler.py:62: UserWarning: The verbose parameter is deprecated. Please use get_last_lr() to access the learning rate.\n",
            "  warnings.warn(\n"
          ]
        },
        {
          "output_type": "stream",
          "name": "stdout",
          "text": [
            "Early stopping at epoch 13 for fold 3\n",
            "--- Fold 4/5 ---\n",
            "Starting training for fold 4...\n"
          ]
        },
        {
          "output_type": "stream",
          "name": "stderr",
          "text": [
            "/usr/local/lib/python3.11/dist-packages/torch/optim/lr_scheduler.py:62: UserWarning: The verbose parameter is deprecated. Please use get_last_lr() to access the learning rate.\n",
            "  warnings.warn(\n"
          ]
        },
        {
          "output_type": "stream",
          "name": "stdout",
          "text": [
            "Early stopping at epoch 18 for fold 4\n",
            "--- Fold 5/5 ---\n",
            "Starting training for fold 5...\n"
          ]
        },
        {
          "output_type": "stream",
          "name": "stderr",
          "text": [
            "/usr/local/lib/python3.11/dist-packages/torch/optim/lr_scheduler.py:62: UserWarning: The verbose parameter is deprecated. Please use get_last_lr() to access the learning rate.\n",
            "  warnings.warn(\n",
            "[I 2025-05-05 11:03:58,690] Trial 12 finished with value: 0.16083265476299893 and parameters: {'lr': 0.0004923970339797657, 'batch_size': 128, 'hidden_dim': 204, 'dropout': 0.32218550225232556, 'weight_decay': 3.1422880396515495e-05}. Best is trial 6 with value: 0.16028712189888814.\n"
          ]
        },
        {
          "output_type": "stream",
          "name": "stdout",
          "text": [
            "Early stopping at epoch 17 for fold 5\n",
            "Trial 12 Results (averaged over folds): {'Ctd': 0.6862184874513206, 'AUC': 0.6988463636357156, 'IBS': 0.16083265476299893, 'Avg_ECE_over_times': 0.20550662447937523, 'Avg_Brier_over_times': 0.1518078826423488}\n",
            "\n",
            "Trial 13 with parameters: {'lr': 0.0018025089069101104, 'batch_size': 64, 'hidden_dim': 149, 'dropout': 0.3813302946601928, 'weight_decay': 0.00018136554788532054, 'epochs': 50, 'n_splits': 5}\n",
            "--- Fold 1/5 ---\n",
            "Starting training for fold 1...\n"
          ]
        },
        {
          "output_type": "stream",
          "name": "stderr",
          "text": [
            "/usr/local/lib/python3.11/dist-packages/torch/optim/lr_scheduler.py:62: UserWarning: The verbose parameter is deprecated. Please use get_last_lr() to access the learning rate.\n",
            "  warnings.warn(\n"
          ]
        },
        {
          "output_type": "stream",
          "name": "stdout",
          "text": [
            "Early stopping at epoch 11 for fold 1\n",
            "--- Fold 2/5 ---\n",
            "Starting training for fold 2...\n"
          ]
        },
        {
          "output_type": "stream",
          "name": "stderr",
          "text": [
            "/usr/local/lib/python3.11/dist-packages/torch/optim/lr_scheduler.py:62: UserWarning: The verbose parameter is deprecated. Please use get_last_lr() to access the learning rate.\n",
            "  warnings.warn(\n"
          ]
        },
        {
          "output_type": "stream",
          "name": "stdout",
          "text": [
            "Early stopping at epoch 15 for fold 2\n",
            "--- Fold 3/5 ---\n",
            "Starting training for fold 3...\n"
          ]
        },
        {
          "output_type": "stream",
          "name": "stderr",
          "text": [
            "/usr/local/lib/python3.11/dist-packages/torch/optim/lr_scheduler.py:62: UserWarning: The verbose parameter is deprecated. Please use get_last_lr() to access the learning rate.\n",
            "  warnings.warn(\n"
          ]
        },
        {
          "output_type": "stream",
          "name": "stdout",
          "text": [
            "Early stopping at epoch 11 for fold 3\n",
            "--- Fold 4/5 ---\n",
            "Starting training for fold 4...\n"
          ]
        },
        {
          "output_type": "stream",
          "name": "stderr",
          "text": [
            "/usr/local/lib/python3.11/dist-packages/torch/optim/lr_scheduler.py:62: UserWarning: The verbose parameter is deprecated. Please use get_last_lr() to access the learning rate.\n",
            "  warnings.warn(\n"
          ]
        },
        {
          "output_type": "stream",
          "name": "stdout",
          "text": [
            "Early stopping at epoch 12 for fold 4\n",
            "--- Fold 5/5 ---\n",
            "Starting training for fold 5...\n"
          ]
        },
        {
          "output_type": "stream",
          "name": "stderr",
          "text": [
            "/usr/local/lib/python3.11/dist-packages/torch/optim/lr_scheduler.py:62: UserWarning: The verbose parameter is deprecated. Please use get_last_lr() to access the learning rate.\n",
            "  warnings.warn(\n",
            "[I 2025-05-05 11:04:01,250] Trial 13 finished with value: 0.1626461491891747 and parameters: {'lr': 0.0018025089069101104, 'batch_size': 64, 'hidden_dim': 149, 'dropout': 0.3813302946601928, 'weight_decay': 0.00018136554788532054}. Best is trial 6 with value: 0.16028712189888814.\n"
          ]
        },
        {
          "output_type": "stream",
          "name": "stdout",
          "text": [
            "Early stopping at epoch 12 for fold 5\n",
            "Trial 13 Results (averaged over folds): {'Ctd': 0.6862855825554073, 'AUC': 0.7017678261579106, 'IBS': 0.1626461491891747, 'Avg_ECE_over_times': 0.21017169375673905, 'Avg_Brier_over_times': 0.15345218369584895}\n",
            "\n",
            "Trial 14 with parameters: {'lr': 0.0006907897215300268, 'batch_size': 128, 'hidden_dim': 106, 'dropout': 0.259278621796952, 'weight_decay': 3.69127007019096e-05, 'epochs': 50, 'n_splits': 5}\n",
            "--- Fold 1/5 ---\n",
            "Starting training for fold 1...\n"
          ]
        },
        {
          "output_type": "stream",
          "name": "stderr",
          "text": [
            "/usr/local/lib/python3.11/dist-packages/torch/optim/lr_scheduler.py:62: UserWarning: The verbose parameter is deprecated. Please use get_last_lr() to access the learning rate.\n",
            "  warnings.warn(\n"
          ]
        },
        {
          "output_type": "stream",
          "name": "stdout",
          "text": [
            "Early stopping at epoch 19 for fold 1\n",
            "--- Fold 2/5 ---\n",
            "Starting training for fold 2...\n"
          ]
        },
        {
          "output_type": "stream",
          "name": "stderr",
          "text": [
            "/usr/local/lib/python3.11/dist-packages/torch/optim/lr_scheduler.py:62: UserWarning: The verbose parameter is deprecated. Please use get_last_lr() to access the learning rate.\n",
            "  warnings.warn(\n"
          ]
        },
        {
          "output_type": "stream",
          "name": "stdout",
          "text": [
            "Early stopping at epoch 17 for fold 2\n",
            "--- Fold 3/5 ---\n",
            "Starting training for fold 3...\n"
          ]
        },
        {
          "output_type": "stream",
          "name": "stderr",
          "text": [
            "/usr/local/lib/python3.11/dist-packages/torch/optim/lr_scheduler.py:62: UserWarning: The verbose parameter is deprecated. Please use get_last_lr() to access the learning rate.\n",
            "  warnings.warn(\n"
          ]
        },
        {
          "output_type": "stream",
          "name": "stdout",
          "text": [
            "Early stopping at epoch 22 for fold 3\n",
            "--- Fold 4/5 ---\n",
            "Starting training for fold 4...\n"
          ]
        },
        {
          "output_type": "stream",
          "name": "stderr",
          "text": [
            "/usr/local/lib/python3.11/dist-packages/torch/optim/lr_scheduler.py:62: UserWarning: The verbose parameter is deprecated. Please use get_last_lr() to access the learning rate.\n",
            "  warnings.warn(\n"
          ]
        },
        {
          "output_type": "stream",
          "name": "stdout",
          "text": [
            "Early stopping at epoch 20 for fold 4\n",
            "--- Fold 5/5 ---\n",
            "Starting training for fold 5...\n"
          ]
        },
        {
          "output_type": "stream",
          "name": "stderr",
          "text": [
            "/usr/local/lib/python3.11/dist-packages/torch/optim/lr_scheduler.py:62: UserWarning: The verbose parameter is deprecated. Please use get_last_lr() to access the learning rate.\n",
            "  warnings.warn(\n",
            "[I 2025-05-05 11:04:04,476] Trial 14 finished with value: 0.16288333218396375 and parameters: {'lr': 0.0006907897215300268, 'batch_size': 128, 'hidden_dim': 106, 'dropout': 0.259278621796952, 'weight_decay': 3.69127007019096e-05}. Best is trial 6 with value: 0.16028712189888814.\n"
          ]
        },
        {
          "output_type": "stream",
          "name": "stdout",
          "text": [
            "Early stopping at epoch 18 for fold 5\n",
            "Trial 14 Results (averaged over folds): {'Ctd': 0.6824437573645152, 'AUC': 0.6905271148832951, 'IBS': 0.16288333218396375, 'Avg_ECE_over_times': 0.20770216417280465, 'Avg_Brier_over_times': 0.15331000573486264}\n",
            "\n",
            "Trial 15 with parameters: {'lr': 0.0029985867938870695, 'batch_size': 64, 'hidden_dim': 165, 'dropout': 0.3818272258420707, 'weight_decay': 1.0910830135085585e-05, 'epochs': 50, 'n_splits': 5}\n",
            "--- Fold 1/5 ---\n",
            "Starting training for fold 1...\n"
          ]
        },
        {
          "output_type": "stream",
          "name": "stderr",
          "text": [
            "/usr/local/lib/python3.11/dist-packages/torch/optim/lr_scheduler.py:62: UserWarning: The verbose parameter is deprecated. Please use get_last_lr() to access the learning rate.\n",
            "  warnings.warn(\n"
          ]
        },
        {
          "output_type": "stream",
          "name": "stdout",
          "text": [
            "Early stopping at epoch 11 for fold 1\n",
            "--- Fold 2/5 ---\n",
            "Starting training for fold 2...\n"
          ]
        },
        {
          "output_type": "stream",
          "name": "stderr",
          "text": [
            "/usr/local/lib/python3.11/dist-packages/torch/optim/lr_scheduler.py:62: UserWarning: The verbose parameter is deprecated. Please use get_last_lr() to access the learning rate.\n",
            "  warnings.warn(\n"
          ]
        },
        {
          "output_type": "stream",
          "name": "stdout",
          "text": [
            "Early stopping at epoch 11 for fold 2\n",
            "--- Fold 3/5 ---\n",
            "Starting training for fold 3...\n"
          ]
        },
        {
          "output_type": "stream",
          "name": "stderr",
          "text": [
            "/usr/local/lib/python3.11/dist-packages/torch/optim/lr_scheduler.py:62: UserWarning: The verbose parameter is deprecated. Please use get_last_lr() to access the learning rate.\n",
            "  warnings.warn(\n"
          ]
        },
        {
          "output_type": "stream",
          "name": "stdout",
          "text": [
            "Early stopping at epoch 11 for fold 3\n",
            "--- Fold 4/5 ---\n",
            "Starting training for fold 4...\n"
          ]
        },
        {
          "output_type": "stream",
          "name": "stderr",
          "text": [
            "/usr/local/lib/python3.11/dist-packages/torch/optim/lr_scheduler.py:62: UserWarning: The verbose parameter is deprecated. Please use get_last_lr() to access the learning rate.\n",
            "  warnings.warn(\n"
          ]
        },
        {
          "output_type": "stream",
          "name": "stdout",
          "text": [
            "Early stopping at epoch 12 for fold 4\n",
            "--- Fold 5/5 ---\n",
            "Starting training for fold 5...\n"
          ]
        },
        {
          "output_type": "stream",
          "name": "stderr",
          "text": [
            "/usr/local/lib/python3.11/dist-packages/torch/optim/lr_scheduler.py:62: UserWarning: The verbose parameter is deprecated. Please use get_last_lr() to access the learning rate.\n",
            "  warnings.warn(\n",
            "[I 2025-05-05 11:04:06,927] Trial 15 finished with value: 0.16326868757121385 and parameters: {'lr': 0.0029985867938870695, 'batch_size': 64, 'hidden_dim': 165, 'dropout': 0.3818272258420707, 'weight_decay': 1.0910830135085585e-05}. Best is trial 6 with value: 0.16028712189888814.\n"
          ]
        },
        {
          "output_type": "stream",
          "name": "stdout",
          "text": [
            "Early stopping at epoch 13 for fold 5\n",
            "Trial 15 Results (averaged over folds): {'Ctd': 0.6885602455780402, 'AUC': 0.7016295584746246, 'IBS': 0.16326868757121385, 'Avg_ECE_over_times': 0.21365898107663112, 'Avg_Brier_over_times': 0.1546513588164001}\n",
            "\n",
            "Trial 16 with parameters: {'lr': 0.000327691731791431, 'batch_size': 128, 'hidden_dim': 199, 'dropout': 0.24802520709675688, 'weight_decay': 0.00043137379363206884, 'epochs': 50, 'n_splits': 5}\n",
            "--- Fold 1/5 ---\n",
            "Starting training for fold 1...\n"
          ]
        },
        {
          "output_type": "stream",
          "name": "stderr",
          "text": [
            "/usr/local/lib/python3.11/dist-packages/torch/optim/lr_scheduler.py:62: UserWarning: The verbose parameter is deprecated. Please use get_last_lr() to access the learning rate.\n",
            "  warnings.warn(\n"
          ]
        },
        {
          "output_type": "stream",
          "name": "stdout",
          "text": [
            "Early stopping at epoch 15 for fold 1\n",
            "--- Fold 2/5 ---\n",
            "Starting training for fold 2...\n"
          ]
        },
        {
          "output_type": "stream",
          "name": "stderr",
          "text": [
            "/usr/local/lib/python3.11/dist-packages/torch/optim/lr_scheduler.py:62: UserWarning: The verbose parameter is deprecated. Please use get_last_lr() to access the learning rate.\n",
            "  warnings.warn(\n"
          ]
        },
        {
          "output_type": "stream",
          "name": "stdout",
          "text": [
            "Early stopping at epoch 17 for fold 2\n",
            "--- Fold 3/5 ---\n",
            "Starting training for fold 3...\n"
          ]
        },
        {
          "output_type": "stream",
          "name": "stderr",
          "text": [
            "/usr/local/lib/python3.11/dist-packages/torch/optim/lr_scheduler.py:62: UserWarning: The verbose parameter is deprecated. Please use get_last_lr() to access the learning rate.\n",
            "  warnings.warn(\n"
          ]
        },
        {
          "output_type": "stream",
          "name": "stdout",
          "text": [
            "Early stopping at epoch 13 for fold 3\n",
            "--- Fold 4/5 ---\n",
            "Starting training for fold 4...\n"
          ]
        },
        {
          "output_type": "stream",
          "name": "stderr",
          "text": [
            "/usr/local/lib/python3.11/dist-packages/torch/optim/lr_scheduler.py:62: UserWarning: The verbose parameter is deprecated. Please use get_last_lr() to access the learning rate.\n",
            "  warnings.warn(\n"
          ]
        },
        {
          "output_type": "stream",
          "name": "stdout",
          "text": [
            "Early stopping at epoch 19 for fold 4\n",
            "--- Fold 5/5 ---\n",
            "Starting training for fold 5...\n"
          ]
        },
        {
          "output_type": "stream",
          "name": "stderr",
          "text": [
            "/usr/local/lib/python3.11/dist-packages/torch/optim/lr_scheduler.py:62: UserWarning: The verbose parameter is deprecated. Please use get_last_lr() to access the learning rate.\n",
            "  warnings.warn(\n",
            "[I 2025-05-05 11:04:09,919] Trial 16 finished with value: 0.16285879737215841 and parameters: {'lr': 0.000327691731791431, 'batch_size': 128, 'hidden_dim': 199, 'dropout': 0.24802520709675688, 'weight_decay': 0.00043137379363206884}. Best is trial 6 with value: 0.16028712189888814.\n"
          ]
        },
        {
          "output_type": "stream",
          "name": "stdout",
          "text": [
            "Early stopping at epoch 27 for fold 5\n",
            "Trial 16 Results (averaged over folds): {'Ctd': 0.6795313404011127, 'AUC': 0.6919801206176188, 'IBS': 0.16285879737215841, 'Avg_ECE_over_times': 0.20898701237675205, 'Avg_Brier_over_times': 0.1533767178528927}\n",
            "\n",
            "Trial 17 with parameters: {'lr': 0.0008038560549831252, 'batch_size': 64, 'hidden_dim': 109, 'dropout': 0.30576345464160115, 'weight_decay': 0.0009802269084807677, 'epochs': 50, 'n_splits': 5}\n",
            "--- Fold 1/5 ---\n",
            "Starting training for fold 1...\n"
          ]
        },
        {
          "output_type": "stream",
          "name": "stderr",
          "text": [
            "/usr/local/lib/python3.11/dist-packages/torch/optim/lr_scheduler.py:62: UserWarning: The verbose parameter is deprecated. Please use get_last_lr() to access the learning rate.\n",
            "  warnings.warn(\n"
          ]
        },
        {
          "output_type": "stream",
          "name": "stdout",
          "text": [
            "Early stopping at epoch 13 for fold 1\n",
            "--- Fold 2/5 ---\n",
            "Starting training for fold 2...\n"
          ]
        },
        {
          "output_type": "stream",
          "name": "stderr",
          "text": [
            "/usr/local/lib/python3.11/dist-packages/torch/optim/lr_scheduler.py:62: UserWarning: The verbose parameter is deprecated. Please use get_last_lr() to access the learning rate.\n",
            "  warnings.warn(\n"
          ]
        },
        {
          "output_type": "stream",
          "name": "stdout",
          "text": [
            "Early stopping at epoch 18 for fold 2\n",
            "--- Fold 3/5 ---\n",
            "Starting training for fold 3...\n"
          ]
        },
        {
          "output_type": "stream",
          "name": "stderr",
          "text": [
            "/usr/local/lib/python3.11/dist-packages/torch/optim/lr_scheduler.py:62: UserWarning: The verbose parameter is deprecated. Please use get_last_lr() to access the learning rate.\n",
            "  warnings.warn(\n"
          ]
        },
        {
          "output_type": "stream",
          "name": "stdout",
          "text": [
            "Early stopping at epoch 11 for fold 3\n",
            "--- Fold 4/5 ---\n",
            "Starting training for fold 4...\n"
          ]
        },
        {
          "output_type": "stream",
          "name": "stderr",
          "text": [
            "/usr/local/lib/python3.11/dist-packages/torch/optim/lr_scheduler.py:62: UserWarning: The verbose parameter is deprecated. Please use get_last_lr() to access the learning rate.\n",
            "  warnings.warn(\n"
          ]
        },
        {
          "output_type": "stream",
          "name": "stdout",
          "text": [
            "Early stopping at epoch 31 for fold 4\n",
            "--- Fold 5/5 ---\n",
            "Starting training for fold 5...\n"
          ]
        },
        {
          "output_type": "stream",
          "name": "stderr",
          "text": [
            "/usr/local/lib/python3.11/dist-packages/torch/optim/lr_scheduler.py:62: UserWarning: The verbose parameter is deprecated. Please use get_last_lr() to access the learning rate.\n",
            "  warnings.warn(\n",
            "[I 2025-05-05 11:04:18,855] Trial 17 finished with value: 0.16218914746995333 and parameters: {'lr': 0.0008038560549831252, 'batch_size': 64, 'hidden_dim': 109, 'dropout': 0.30576345464160115, 'weight_decay': 0.0009802269084807677}. Best is trial 6 with value: 0.16028712189888814.\n"
          ]
        },
        {
          "output_type": "stream",
          "name": "stdout",
          "text": [
            "Early stopping at epoch 30 for fold 5\n",
            "Trial 17 Results (averaged over folds): {'Ctd': 0.6847283723008045, 'AUC': 0.7020178583964551, 'IBS': 0.16218914746995333, 'Avg_ECE_over_times': 0.2087787349134846, 'Avg_Brier_over_times': 0.15261977268875526}\n",
            "\n",
            "Trial 18 with parameters: {'lr': 0.0014423657721424593, 'batch_size': 128, 'hidden_dim': 128, 'dropout': 0.481277521475491, 'weight_decay': 0.00013955008501930592, 'epochs': 50, 'n_splits': 5}\n",
            "--- Fold 1/5 ---\n",
            "Starting training for fold 1...\n"
          ]
        },
        {
          "output_type": "stream",
          "name": "stderr",
          "text": [
            "/usr/local/lib/python3.11/dist-packages/torch/optim/lr_scheduler.py:62: UserWarning: The verbose parameter is deprecated. Please use get_last_lr() to access the learning rate.\n",
            "  warnings.warn(\n"
          ]
        },
        {
          "output_type": "stream",
          "name": "stdout",
          "text": [
            "Early stopping at epoch 20 for fold 1\n",
            "--- Fold 2/5 ---\n",
            "Starting training for fold 2...\n"
          ]
        },
        {
          "output_type": "stream",
          "name": "stderr",
          "text": [
            "/usr/local/lib/python3.11/dist-packages/torch/optim/lr_scheduler.py:62: UserWarning: The verbose parameter is deprecated. Please use get_last_lr() to access the learning rate.\n",
            "  warnings.warn(\n"
          ]
        },
        {
          "output_type": "stream",
          "name": "stdout",
          "text": [
            "Early stopping at epoch 18 for fold 2\n",
            "--- Fold 3/5 ---\n",
            "Starting training for fold 3...\n"
          ]
        },
        {
          "output_type": "stream",
          "name": "stderr",
          "text": [
            "/usr/local/lib/python3.11/dist-packages/torch/optim/lr_scheduler.py:62: UserWarning: The verbose parameter is deprecated. Please use get_last_lr() to access the learning rate.\n",
            "  warnings.warn(\n"
          ]
        },
        {
          "output_type": "stream",
          "name": "stdout",
          "text": [
            "Early stopping at epoch 11 for fold 3\n",
            "--- Fold 4/5 ---\n",
            "Starting training for fold 4...\n"
          ]
        },
        {
          "output_type": "stream",
          "name": "stderr",
          "text": [
            "/usr/local/lib/python3.11/dist-packages/torch/optim/lr_scheduler.py:62: UserWarning: The verbose parameter is deprecated. Please use get_last_lr() to access the learning rate.\n",
            "  warnings.warn(\n"
          ]
        },
        {
          "output_type": "stream",
          "name": "stdout",
          "text": [
            "Early stopping at epoch 15 for fold 4\n",
            "--- Fold 5/5 ---\n",
            "Starting training for fold 5...\n"
          ]
        },
        {
          "output_type": "stream",
          "name": "stderr",
          "text": [
            "/usr/local/lib/python3.11/dist-packages/torch/optim/lr_scheduler.py:62: UserWarning: The verbose parameter is deprecated. Please use get_last_lr() to access the learning rate.\n",
            "  warnings.warn(\n",
            "[I 2025-05-05 11:04:22,269] Trial 18 finished with value: 0.16319442951384935 and parameters: {'lr': 0.0014423657721424593, 'batch_size': 128, 'hidden_dim': 128, 'dropout': 0.481277521475491, 'weight_decay': 0.00013955008501930592}. Best is trial 6 with value: 0.16028712189888814.\n"
          ]
        },
        {
          "output_type": "stream",
          "name": "stdout",
          "text": [
            "Early stopping at epoch 46 for fold 5\n",
            "Trial 18 Results (averaged over folds): {'Ctd': 0.6780769231143499, 'AUC': 0.692120309147679, 'IBS': 0.16319442951384935, 'Avg_ECE_over_times': 0.21080168133315244, 'Avg_Brier_over_times': 0.15383864475792414}\n",
            "\n",
            "Trial 19 with parameters: {'lr': 0.002391490278915445, 'batch_size': 64, 'hidden_dim': 219, 'dropout': 0.35388769979711454, 'weight_decay': 4.8568998117144355e-05, 'epochs': 50, 'n_splits': 5}\n",
            "--- Fold 1/5 ---\n",
            "Starting training for fold 1...\n"
          ]
        },
        {
          "output_type": "stream",
          "name": "stderr",
          "text": [
            "/usr/local/lib/python3.11/dist-packages/torch/optim/lr_scheduler.py:62: UserWarning: The verbose parameter is deprecated. Please use get_last_lr() to access the learning rate.\n",
            "  warnings.warn(\n"
          ]
        },
        {
          "output_type": "stream",
          "name": "stdout",
          "text": [
            "Early stopping at epoch 19 for fold 1\n",
            "--- Fold 2/5 ---\n",
            "Starting training for fold 2...\n"
          ]
        },
        {
          "output_type": "stream",
          "name": "stderr",
          "text": [
            "/usr/local/lib/python3.11/dist-packages/torch/optim/lr_scheduler.py:62: UserWarning: The verbose parameter is deprecated. Please use get_last_lr() to access the learning rate.\n",
            "  warnings.warn(\n"
          ]
        },
        {
          "output_type": "stream",
          "name": "stdout",
          "text": [
            "Early stopping at epoch 11 for fold 2\n",
            "--- Fold 3/5 ---\n",
            "Starting training for fold 3...\n"
          ]
        },
        {
          "output_type": "stream",
          "name": "stderr",
          "text": [
            "/usr/local/lib/python3.11/dist-packages/torch/optim/lr_scheduler.py:62: UserWarning: The verbose parameter is deprecated. Please use get_last_lr() to access the learning rate.\n",
            "  warnings.warn(\n"
          ]
        },
        {
          "output_type": "stream",
          "name": "stdout",
          "text": [
            "Early stopping at epoch 13 for fold 3\n",
            "--- Fold 4/5 ---\n",
            "Starting training for fold 4...\n"
          ]
        },
        {
          "output_type": "stream",
          "name": "stderr",
          "text": [
            "/usr/local/lib/python3.11/dist-packages/torch/optim/lr_scheduler.py:62: UserWarning: The verbose parameter is deprecated. Please use get_last_lr() to access the learning rate.\n",
            "  warnings.warn(\n"
          ]
        },
        {
          "output_type": "stream",
          "name": "stdout",
          "text": [
            "Early stopping at epoch 12 for fold 4\n",
            "--- Fold 5/5 ---\n",
            "Starting training for fold 5...\n"
          ]
        },
        {
          "output_type": "stream",
          "name": "stderr",
          "text": [
            "/usr/local/lib/python3.11/dist-packages/torch/optim/lr_scheduler.py:62: UserWarning: The verbose parameter is deprecated. Please use get_last_lr() to access the learning rate.\n",
            "  warnings.warn(\n",
            "[I 2025-05-05 11:04:25,179] Trial 19 finished with value: 0.16411073356953837 and parameters: {'lr': 0.002391490278915445, 'batch_size': 64, 'hidden_dim': 219, 'dropout': 0.35388769979711454, 'weight_decay': 4.8568998117144355e-05}. Best is trial 6 with value: 0.16028712189888814.\n"
          ]
        },
        {
          "output_type": "stream",
          "name": "stdout",
          "text": [
            "Early stopping at epoch 18 for fold 5\n",
            "Trial 19 Results (averaged over folds): {'Ctd': 0.6835935993082304, 'AUC': 0.6955522188593077, 'IBS': 0.16411073356953837, 'Avg_ECE_over_times': 0.21195638499060626, 'Avg_Brier_over_times': 0.15562064012726012}\n",
            "\n",
            "Trial 20 with parameters: {'lr': 0.004713352405790884, 'batch_size': 128, 'hidden_dim': 180, 'dropout': 0.42934221321898514, 'weight_decay': 1.8720103279424845e-05, 'epochs': 50, 'n_splits': 5}\n",
            "--- Fold 1/5 ---\n",
            "Starting training for fold 1...\n"
          ]
        },
        {
          "output_type": "stream",
          "name": "stderr",
          "text": [
            "/usr/local/lib/python3.11/dist-packages/torch/optim/lr_scheduler.py:62: UserWarning: The verbose parameter is deprecated. Please use get_last_lr() to access the learning rate.\n",
            "  warnings.warn(\n"
          ]
        },
        {
          "output_type": "stream",
          "name": "stdout",
          "text": [
            "Early stopping at epoch 16 for fold 1\n",
            "--- Fold 2/5 ---\n",
            "Starting training for fold 2...\n"
          ]
        },
        {
          "output_type": "stream",
          "name": "stderr",
          "text": [
            "/usr/local/lib/python3.11/dist-packages/torch/optim/lr_scheduler.py:62: UserWarning: The verbose parameter is deprecated. Please use get_last_lr() to access the learning rate.\n",
            "  warnings.warn(\n"
          ]
        },
        {
          "output_type": "stream",
          "name": "stdout",
          "text": [
            "Early stopping at epoch 12 for fold 2\n",
            "--- Fold 3/5 ---\n",
            "Starting training for fold 3...\n"
          ]
        },
        {
          "output_type": "stream",
          "name": "stderr",
          "text": [
            "/usr/local/lib/python3.11/dist-packages/torch/optim/lr_scheduler.py:62: UserWarning: The verbose parameter is deprecated. Please use get_last_lr() to access the learning rate.\n",
            "  warnings.warn(\n"
          ]
        },
        {
          "output_type": "stream",
          "name": "stdout",
          "text": [
            "Early stopping at epoch 14 for fold 3\n",
            "--- Fold 4/5 ---\n",
            "Starting training for fold 4...\n"
          ]
        },
        {
          "output_type": "stream",
          "name": "stderr",
          "text": [
            "/usr/local/lib/python3.11/dist-packages/torch/optim/lr_scheduler.py:62: UserWarning: The verbose parameter is deprecated. Please use get_last_lr() to access the learning rate.\n",
            "  warnings.warn(\n"
          ]
        },
        {
          "output_type": "stream",
          "name": "stdout",
          "text": [
            "Early stopping at epoch 15 for fold 4\n",
            "--- Fold 5/5 ---\n",
            "Starting training for fold 5...\n"
          ]
        },
        {
          "output_type": "stream",
          "name": "stderr",
          "text": [
            "/usr/local/lib/python3.11/dist-packages/torch/optim/lr_scheduler.py:62: UserWarning: The verbose parameter is deprecated. Please use get_last_lr() to access the learning rate.\n",
            "  warnings.warn(\n",
            "[I 2025-05-05 11:04:27,754] Trial 20 finished with value: 0.1655212228333102 and parameters: {'lr': 0.004713352405790884, 'batch_size': 128, 'hidden_dim': 180, 'dropout': 0.42934221321898514, 'weight_decay': 1.8720103279424845e-05}. Best is trial 6 with value: 0.16028712189888814.\n"
          ]
        },
        {
          "output_type": "stream",
          "name": "stdout",
          "text": [
            "Early stopping at epoch 19 for fold 5\n",
            "Trial 20 Results (averaged over folds): {'Ctd': 0.6784651991183426, 'AUC': 0.6930389268304843, 'IBS': 0.1655212228333102, 'Avg_ECE_over_times': 0.2139394021629172, 'Avg_Brier_over_times': 0.15667230747976904}\n",
            "\n",
            "Trial 21 with parameters: {'lr': 0.00047771732965772387, 'batch_size': 128, 'hidden_dim': 209, 'dropout': 0.3300038245676094, 'weight_decay': 2.5558735562548704e-05, 'epochs': 50, 'n_splits': 5}\n",
            "--- Fold 1/5 ---\n",
            "Starting training for fold 1...\n"
          ]
        },
        {
          "output_type": "stream",
          "name": "stderr",
          "text": [
            "/usr/local/lib/python3.11/dist-packages/torch/optim/lr_scheduler.py:62: UserWarning: The verbose parameter is deprecated. Please use get_last_lr() to access the learning rate.\n",
            "  warnings.warn(\n"
          ]
        },
        {
          "output_type": "stream",
          "name": "stdout",
          "text": [
            "Early stopping at epoch 13 for fold 1\n",
            "--- Fold 2/5 ---\n",
            "Starting training for fold 2...\n"
          ]
        },
        {
          "output_type": "stream",
          "name": "stderr",
          "text": [
            "/usr/local/lib/python3.11/dist-packages/torch/optim/lr_scheduler.py:62: UserWarning: The verbose parameter is deprecated. Please use get_last_lr() to access the learning rate.\n",
            "  warnings.warn(\n"
          ]
        },
        {
          "output_type": "stream",
          "name": "stdout",
          "text": [
            "Early stopping at epoch 16 for fold 2\n",
            "--- Fold 3/5 ---\n",
            "Starting training for fold 3...\n"
          ]
        },
        {
          "output_type": "stream",
          "name": "stderr",
          "text": [
            "/usr/local/lib/python3.11/dist-packages/torch/optim/lr_scheduler.py:62: UserWarning: The verbose parameter is deprecated. Please use get_last_lr() to access the learning rate.\n",
            "  warnings.warn(\n"
          ]
        },
        {
          "output_type": "stream",
          "name": "stdout",
          "text": [
            "Early stopping at epoch 13 for fold 3\n",
            "--- Fold 4/5 ---\n",
            "Starting training for fold 4...\n"
          ]
        },
        {
          "output_type": "stream",
          "name": "stderr",
          "text": [
            "/usr/local/lib/python3.11/dist-packages/torch/optim/lr_scheduler.py:62: UserWarning: The verbose parameter is deprecated. Please use get_last_lr() to access the learning rate.\n",
            "  warnings.warn(\n"
          ]
        },
        {
          "output_type": "stream",
          "name": "stdout",
          "text": [
            "Early stopping at epoch 26 for fold 4\n",
            "--- Fold 5/5 ---\n",
            "Starting training for fold 5...\n"
          ]
        },
        {
          "output_type": "stream",
          "name": "stderr",
          "text": [
            "/usr/local/lib/python3.11/dist-packages/torch/optim/lr_scheduler.py:62: UserWarning: The verbose parameter is deprecated. Please use get_last_lr() to access the learning rate.\n",
            "  warnings.warn(\n",
            "[I 2025-05-05 11:04:30,363] Trial 21 finished with value: 0.16272271676550204 and parameters: {'lr': 0.00047771732965772387, 'batch_size': 128, 'hidden_dim': 209, 'dropout': 0.3300038245676094, 'weight_decay': 2.5558735562548704e-05}. Best is trial 6 with value: 0.16028712189888814.\n"
          ]
        },
        {
          "output_type": "stream",
          "name": "stdout",
          "text": [
            "Early stopping at epoch 19 for fold 5\n",
            "Trial 21 Results (averaged over folds): {'Ctd': 0.6805617603848595, 'AUC': 0.6928734535334898, 'IBS': 0.16272271676550204, 'Avg_ECE_over_times': 0.2085725619209605, 'Avg_Brier_over_times': 0.1533824158974179}\n",
            "\n",
            "Trial 22 with parameters: {'lr': 0.0005407635929212943, 'batch_size': 128, 'hidden_dim': 158, 'dropout': 0.3027397021249872, 'weight_decay': 4.6295899182456916e-05, 'epochs': 50, 'n_splits': 5}\n",
            "--- Fold 1/5 ---\n",
            "Starting training for fold 1...\n"
          ]
        },
        {
          "output_type": "stream",
          "name": "stderr",
          "text": [
            "/usr/local/lib/python3.11/dist-packages/torch/optim/lr_scheduler.py:62: UserWarning: The verbose parameter is deprecated. Please use get_last_lr() to access the learning rate.\n",
            "  warnings.warn(\n"
          ]
        },
        {
          "output_type": "stream",
          "name": "stdout",
          "text": [
            "Early stopping at epoch 14 for fold 1\n",
            "--- Fold 2/5 ---\n",
            "Starting training for fold 2...\n"
          ]
        },
        {
          "output_type": "stream",
          "name": "stderr",
          "text": [
            "/usr/local/lib/python3.11/dist-packages/torch/optim/lr_scheduler.py:62: UserWarning: The verbose parameter is deprecated. Please use get_last_lr() to access the learning rate.\n",
            "  warnings.warn(\n"
          ]
        },
        {
          "output_type": "stream",
          "name": "stdout",
          "text": [
            "Early stopping at epoch 26 for fold 2\n",
            "--- Fold 3/5 ---\n",
            "Starting training for fold 3...\n"
          ]
        },
        {
          "output_type": "stream",
          "name": "stderr",
          "text": [
            "/usr/local/lib/python3.11/dist-packages/torch/optim/lr_scheduler.py:62: UserWarning: The verbose parameter is deprecated. Please use get_last_lr() to access the learning rate.\n",
            "  warnings.warn(\n"
          ]
        },
        {
          "output_type": "stream",
          "name": "stdout",
          "text": [
            "Early stopping at epoch 15 for fold 3\n",
            "--- Fold 4/5 ---\n",
            "Starting training for fold 4...\n"
          ]
        },
        {
          "output_type": "stream",
          "name": "stderr",
          "text": [
            "/usr/local/lib/python3.11/dist-packages/torch/optim/lr_scheduler.py:62: UserWarning: The verbose parameter is deprecated. Please use get_last_lr() to access the learning rate.\n",
            "  warnings.warn(\n"
          ]
        },
        {
          "output_type": "stream",
          "name": "stdout",
          "text": [
            "Early stopping at epoch 18 for fold 4\n",
            "--- Fold 5/5 ---\n",
            "Starting training for fold 5...\n"
          ]
        },
        {
          "output_type": "stream",
          "name": "stderr",
          "text": [
            "/usr/local/lib/python3.11/dist-packages/torch/optim/lr_scheduler.py:62: UserWarning: The verbose parameter is deprecated. Please use get_last_lr() to access the learning rate.\n",
            "  warnings.warn(\n",
            "[I 2025-05-05 11:04:33,142] Trial 22 finished with value: 0.16208639672138556 and parameters: {'lr': 0.0005407635929212943, 'batch_size': 128, 'hidden_dim': 158, 'dropout': 0.3027397021249872, 'weight_decay': 4.6295899182456916e-05}. Best is trial 6 with value: 0.16028712189888814.\n"
          ]
        },
        {
          "output_type": "stream",
          "name": "stdout",
          "text": [
            "Early stopping at epoch 35 for fold 5\n",
            "Trial 22 Results (averaged over folds): {'Ctd': 0.6866339502986281, 'AUC': 0.6964874184580374, 'IBS': 0.16208639672138556, 'Avg_ECE_over_times': 0.207374743447224, 'Avg_Brier_over_times': 0.1528959847628569}\n",
            "\n",
            "Trial 23 with parameters: {'lr': 0.00032431743418117026, 'batch_size': 128, 'hidden_dim': 196, 'dropout': 0.22814053420887004, 'weight_decay': 3.191152041799687e-05, 'epochs': 50, 'n_splits': 5}\n",
            "--- Fold 1/5 ---\n",
            "Starting training for fold 1...\n"
          ]
        },
        {
          "output_type": "stream",
          "name": "stderr",
          "text": [
            "/usr/local/lib/python3.11/dist-packages/torch/optim/lr_scheduler.py:62: UserWarning: The verbose parameter is deprecated. Please use get_last_lr() to access the learning rate.\n",
            "  warnings.warn(\n"
          ]
        },
        {
          "output_type": "stream",
          "name": "stdout",
          "text": [
            "Early stopping at epoch 13 for fold 1\n",
            "--- Fold 2/5 ---\n",
            "Starting training for fold 2...\n"
          ]
        },
        {
          "output_type": "stream",
          "name": "stderr",
          "text": [
            "/usr/local/lib/python3.11/dist-packages/torch/optim/lr_scheduler.py:62: UserWarning: The verbose parameter is deprecated. Please use get_last_lr() to access the learning rate.\n",
            "  warnings.warn(\n"
          ]
        },
        {
          "output_type": "stream",
          "name": "stdout",
          "text": [
            "Early stopping at epoch 17 for fold 2\n",
            "--- Fold 3/5 ---\n",
            "Starting training for fold 3...\n"
          ]
        },
        {
          "output_type": "stream",
          "name": "stderr",
          "text": [
            "/usr/local/lib/python3.11/dist-packages/torch/optim/lr_scheduler.py:62: UserWarning: The verbose parameter is deprecated. Please use get_last_lr() to access the learning rate.\n",
            "  warnings.warn(\n"
          ]
        },
        {
          "output_type": "stream",
          "name": "stdout",
          "text": [
            "Early stopping at epoch 19 for fold 3\n",
            "--- Fold 4/5 ---\n",
            "Starting training for fold 4...\n"
          ]
        },
        {
          "output_type": "stream",
          "name": "stderr",
          "text": [
            "/usr/local/lib/python3.11/dist-packages/torch/optim/lr_scheduler.py:62: UserWarning: The verbose parameter is deprecated. Please use get_last_lr() to access the learning rate.\n",
            "  warnings.warn(\n"
          ]
        },
        {
          "output_type": "stream",
          "name": "stdout",
          "text": [
            "Early stopping at epoch 24 for fold 4\n",
            "--- Fold 5/5 ---\n",
            "Starting training for fold 5...\n"
          ]
        },
        {
          "output_type": "stream",
          "name": "stderr",
          "text": [
            "/usr/local/lib/python3.11/dist-packages/torch/optim/lr_scheduler.py:62: UserWarning: The verbose parameter is deprecated. Please use get_last_lr() to access the learning rate.\n",
            "  warnings.warn(\n",
            "[I 2025-05-05 11:04:35,795] Trial 23 finished with value: 0.1620655598154292 and parameters: {'lr': 0.00032431743418117026, 'batch_size': 128, 'hidden_dim': 196, 'dropout': 0.22814053420887004, 'weight_decay': 3.191152041799687e-05}. Best is trial 6 with value: 0.16028712189888814.\n"
          ]
        },
        {
          "output_type": "stream",
          "name": "stdout",
          "text": [
            "Early stopping at epoch 20 for fold 5\n",
            "Trial 23 Results (averaged over folds): {'Ctd': 0.6881038977216724, 'AUC': 0.6990613113239461, 'IBS': 0.1620655598154292, 'Avg_ECE_over_times': 0.20994206080864414, 'Avg_Brier_over_times': 0.15257507690939306}\n",
            "\n",
            "Trial 24 with parameters: {'lr': 0.00024047611130110277, 'batch_size': 128, 'hidden_dim': 215, 'dropout': 0.4031275322308326, 'weight_decay': 2.1701916318229987e-05, 'epochs': 50, 'n_splits': 5}\n",
            "--- Fold 1/5 ---\n",
            "Starting training for fold 1...\n"
          ]
        },
        {
          "output_type": "stream",
          "name": "stderr",
          "text": [
            "/usr/local/lib/python3.11/dist-packages/torch/optim/lr_scheduler.py:62: UserWarning: The verbose parameter is deprecated. Please use get_last_lr() to access the learning rate.\n",
            "  warnings.warn(\n"
          ]
        },
        {
          "output_type": "stream",
          "name": "stdout",
          "text": [
            "Early stopping at epoch 16 for fold 1\n",
            "--- Fold 2/5 ---\n",
            "Starting training for fold 2...\n"
          ]
        },
        {
          "output_type": "stream",
          "name": "stderr",
          "text": [
            "/usr/local/lib/python3.11/dist-packages/torch/optim/lr_scheduler.py:62: UserWarning: The verbose parameter is deprecated. Please use get_last_lr() to access the learning rate.\n",
            "  warnings.warn(\n"
          ]
        },
        {
          "output_type": "stream",
          "name": "stdout",
          "text": [
            "Early stopping at epoch 25 for fold 2\n",
            "--- Fold 3/5 ---\n",
            "Starting training for fold 3...\n"
          ]
        },
        {
          "output_type": "stream",
          "name": "stderr",
          "text": [
            "/usr/local/lib/python3.11/dist-packages/torch/optim/lr_scheduler.py:62: UserWarning: The verbose parameter is deprecated. Please use get_last_lr() to access the learning rate.\n",
            "  warnings.warn(\n"
          ]
        },
        {
          "output_type": "stream",
          "name": "stdout",
          "text": [
            "Early stopping at epoch 20 for fold 3\n",
            "--- Fold 4/5 ---\n",
            "Starting training for fold 4...\n"
          ]
        },
        {
          "output_type": "stream",
          "name": "stderr",
          "text": [
            "/usr/local/lib/python3.11/dist-packages/torch/optim/lr_scheduler.py:62: UserWarning: The verbose parameter is deprecated. Please use get_last_lr() to access the learning rate.\n",
            "  warnings.warn(\n"
          ]
        },
        {
          "output_type": "stream",
          "name": "stdout",
          "text": [
            "Early stopping at epoch 21 for fold 4\n",
            "--- Fold 5/5 ---\n",
            "Starting training for fold 5...\n"
          ]
        },
        {
          "output_type": "stream",
          "name": "stderr",
          "text": [
            "/usr/local/lib/python3.11/dist-packages/torch/optim/lr_scheduler.py:62: UserWarning: The verbose parameter is deprecated. Please use get_last_lr() to access the learning rate.\n",
            "  warnings.warn(\n",
            "[I 2025-05-05 11:04:39,026] Trial 24 finished with value: 0.16112752881690384 and parameters: {'lr': 0.00024047611130110277, 'batch_size': 128, 'hidden_dim': 215, 'dropout': 0.4031275322308326, 'weight_decay': 2.1701916318229987e-05}. Best is trial 6 with value: 0.16028712189888814.\n"
          ]
        },
        {
          "output_type": "stream",
          "name": "stdout",
          "text": [
            "Early stopping at epoch 24 for fold 5\n",
            "Trial 24 Results (averaged over folds): {'Ctd': 0.690882550795404, 'AUC': 0.6985873172641639, 'IBS': 0.16112752881690384, 'Avg_ECE_over_times': 0.20714559810365948, 'Avg_Brier_over_times': 0.15172444702315224}\n",
            "\n",
            "Trial 25 with parameters: {'lr': 0.0009947084313192656, 'batch_size': 64, 'hidden_dim': 149, 'dropout': 0.32288034655600756, 'weight_decay': 5.12808766818343e-05, 'epochs': 50, 'n_splits': 5}\n",
            "--- Fold 1/5 ---\n",
            "Starting training for fold 1...\n"
          ]
        },
        {
          "output_type": "stream",
          "name": "stderr",
          "text": [
            "/usr/local/lib/python3.11/dist-packages/torch/optim/lr_scheduler.py:62: UserWarning: The verbose parameter is deprecated. Please use get_last_lr() to access the learning rate.\n",
            "  warnings.warn(\n"
          ]
        },
        {
          "output_type": "stream",
          "name": "stdout",
          "text": [
            "Early stopping at epoch 12 for fold 1\n",
            "--- Fold 2/5 ---\n",
            "Starting training for fold 2...\n"
          ]
        },
        {
          "output_type": "stream",
          "name": "stderr",
          "text": [
            "/usr/local/lib/python3.11/dist-packages/torch/optim/lr_scheduler.py:62: UserWarning: The verbose parameter is deprecated. Please use get_last_lr() to access the learning rate.\n",
            "  warnings.warn(\n"
          ]
        },
        {
          "output_type": "stream",
          "name": "stdout",
          "text": [
            "Early stopping at epoch 13 for fold 2\n",
            "--- Fold 3/5 ---\n",
            "Starting training for fold 3...\n"
          ]
        },
        {
          "output_type": "stream",
          "name": "stderr",
          "text": [
            "/usr/local/lib/python3.11/dist-packages/torch/optim/lr_scheduler.py:62: UserWarning: The verbose parameter is deprecated. Please use get_last_lr() to access the learning rate.\n",
            "  warnings.warn(\n"
          ]
        },
        {
          "output_type": "stream",
          "name": "stdout",
          "text": [
            "Early stopping at epoch 11 for fold 3\n",
            "--- Fold 4/5 ---\n",
            "Starting training for fold 4...\n"
          ]
        },
        {
          "output_type": "stream",
          "name": "stderr",
          "text": [
            "/usr/local/lib/python3.11/dist-packages/torch/optim/lr_scheduler.py:62: UserWarning: The verbose parameter is deprecated. Please use get_last_lr() to access the learning rate.\n",
            "  warnings.warn(\n"
          ]
        },
        {
          "output_type": "stream",
          "name": "stdout",
          "text": [
            "Early stopping at epoch 13 for fold 4\n",
            "--- Fold 5/5 ---\n",
            "Starting training for fold 5...\n"
          ]
        },
        {
          "output_type": "stream",
          "name": "stderr",
          "text": [
            "/usr/local/lib/python3.11/dist-packages/torch/optim/lr_scheduler.py:62: UserWarning: The verbose parameter is deprecated. Please use get_last_lr() to access the learning rate.\n",
            "  warnings.warn(\n",
            "[I 2025-05-05 11:04:41,983] Trial 25 finished with value: 0.16352921112350052 and parameters: {'lr': 0.0009947084313192656, 'batch_size': 64, 'hidden_dim': 149, 'dropout': 0.32288034655600756, 'weight_decay': 5.12808766818343e-05}. Best is trial 6 with value: 0.16028712189888814.\n"
          ]
        },
        {
          "output_type": "stream",
          "name": "stdout",
          "text": [
            "Early stopping at epoch 19 for fold 5\n",
            "Trial 25 Results (averaged over folds): {'Ctd': 0.6831649400540319, 'AUC': 0.6899064429929049, 'IBS': 0.16352921112350052, 'Avg_ECE_over_times': 0.2114069112056844, 'Avg_Brier_over_times': 0.15434762856739861}\n",
            "\n",
            "Trial 26 with parameters: {'lr': 0.0004471397635519047, 'batch_size': 128, 'hidden_dim': 176, 'dropout': 0.35402956678994396, 'weight_decay': 0.0001095849353677926, 'epochs': 50, 'n_splits': 5}\n",
            "--- Fold 1/5 ---\n",
            "Starting training for fold 1...\n"
          ]
        },
        {
          "output_type": "stream",
          "name": "stderr",
          "text": [
            "/usr/local/lib/python3.11/dist-packages/torch/optim/lr_scheduler.py:62: UserWarning: The verbose parameter is deprecated. Please use get_last_lr() to access the learning rate.\n",
            "  warnings.warn(\n"
          ]
        },
        {
          "output_type": "stream",
          "name": "stdout",
          "text": [
            "Early stopping at epoch 15 for fold 1\n",
            "--- Fold 2/5 ---\n",
            "Starting training for fold 2...\n"
          ]
        },
        {
          "output_type": "stream",
          "name": "stderr",
          "text": [
            "/usr/local/lib/python3.11/dist-packages/torch/optim/lr_scheduler.py:62: UserWarning: The verbose parameter is deprecated. Please use get_last_lr() to access the learning rate.\n",
            "  warnings.warn(\n"
          ]
        },
        {
          "output_type": "stream",
          "name": "stdout",
          "text": [
            "Early stopping at epoch 30 for fold 2\n",
            "--- Fold 3/5 ---\n",
            "Starting training for fold 3...\n"
          ]
        },
        {
          "output_type": "stream",
          "name": "stderr",
          "text": [
            "/usr/local/lib/python3.11/dist-packages/torch/optim/lr_scheduler.py:62: UserWarning: The verbose parameter is deprecated. Please use get_last_lr() to access the learning rate.\n",
            "  warnings.warn(\n"
          ]
        },
        {
          "output_type": "stream",
          "name": "stdout",
          "text": [
            "Early stopping at epoch 11 for fold 3\n",
            "--- Fold 4/5 ---\n",
            "Starting training for fold 4...\n"
          ]
        },
        {
          "output_type": "stream",
          "name": "stderr",
          "text": [
            "/usr/local/lib/python3.11/dist-packages/torch/optim/lr_scheduler.py:62: UserWarning: The verbose parameter is deprecated. Please use get_last_lr() to access the learning rate.\n",
            "  warnings.warn(\n"
          ]
        },
        {
          "output_type": "stream",
          "name": "stdout",
          "text": [
            "Early stopping at epoch 19 for fold 4\n",
            "--- Fold 5/5 ---\n",
            "Starting training for fold 5...\n"
          ]
        },
        {
          "output_type": "stream",
          "name": "stderr",
          "text": [
            "/usr/local/lib/python3.11/dist-packages/torch/optim/lr_scheduler.py:62: UserWarning: The verbose parameter is deprecated. Please use get_last_lr() to access the learning rate.\n",
            "  warnings.warn(\n",
            "[I 2025-05-05 11:04:44,631] Trial 26 finished with value: 0.16016547514852292 and parameters: {'lr': 0.0004471397635519047, 'batch_size': 128, 'hidden_dim': 176, 'dropout': 0.35402956678994396, 'weight_decay': 0.0001095849353677926}. Best is trial 26 with value: 0.16016547514852292.\n"
          ]
        },
        {
          "output_type": "stream",
          "name": "stdout",
          "text": [
            "Early stopping at epoch 30 for fold 5\n",
            "Trial 26 Results (averaged over folds): {'Ctd': 0.6916303752701614, 'AUC': 0.7046395510866829, 'IBS': 0.16016547514852292, 'Avg_ECE_over_times': 0.2055987516319381, 'Avg_Brier_over_times': 0.15089326203667147}\n",
            "\n",
            "Trial 27 with parameters: {'lr': 0.00023061492763613484, 'batch_size': 128, 'hidden_dim': 174, 'dropout': 0.3566752899106834, 'weight_decay': 0.00028523181050870436, 'epochs': 50, 'n_splits': 5}\n",
            "--- Fold 1/5 ---\n",
            "Starting training for fold 1...\n"
          ]
        },
        {
          "output_type": "stream",
          "name": "stderr",
          "text": [
            "/usr/local/lib/python3.11/dist-packages/torch/optim/lr_scheduler.py:62: UserWarning: The verbose parameter is deprecated. Please use get_last_lr() to access the learning rate.\n",
            "  warnings.warn(\n"
          ]
        },
        {
          "output_type": "stream",
          "name": "stdout",
          "text": [
            "Early stopping at epoch 17 for fold 1\n",
            "--- Fold 2/5 ---\n",
            "Starting training for fold 2...\n"
          ]
        },
        {
          "output_type": "stream",
          "name": "stderr",
          "text": [
            "/usr/local/lib/python3.11/dist-packages/torch/optim/lr_scheduler.py:62: UserWarning: The verbose parameter is deprecated. Please use get_last_lr() to access the learning rate.\n",
            "  warnings.warn(\n"
          ]
        },
        {
          "output_type": "stream",
          "name": "stdout",
          "text": [
            "Early stopping at epoch 30 for fold 2\n",
            "--- Fold 3/5 ---\n",
            "Starting training for fold 3...\n"
          ]
        },
        {
          "output_type": "stream",
          "name": "stderr",
          "text": [
            "/usr/local/lib/python3.11/dist-packages/torch/optim/lr_scheduler.py:62: UserWarning: The verbose parameter is deprecated. Please use get_last_lr() to access the learning rate.\n",
            "  warnings.warn(\n"
          ]
        },
        {
          "output_type": "stream",
          "name": "stdout",
          "text": [
            "Early stopping at epoch 18 for fold 3\n",
            "--- Fold 4/5 ---\n",
            "Starting training for fold 4...\n"
          ]
        },
        {
          "output_type": "stream",
          "name": "stderr",
          "text": [
            "/usr/local/lib/python3.11/dist-packages/torch/optim/lr_scheduler.py:62: UserWarning: The verbose parameter is deprecated. Please use get_last_lr() to access the learning rate.\n",
            "  warnings.warn(\n"
          ]
        },
        {
          "output_type": "stream",
          "name": "stdout",
          "text": [
            "Early stopping at epoch 28 for fold 4\n",
            "--- Fold 5/5 ---\n",
            "Starting training for fold 5...\n"
          ]
        },
        {
          "output_type": "stream",
          "name": "stderr",
          "text": [
            "/usr/local/lib/python3.11/dist-packages/torch/optim/lr_scheduler.py:62: UserWarning: The verbose parameter is deprecated. Please use get_last_lr() to access the learning rate.\n",
            "  warnings.warn(\n",
            "[I 2025-05-05 11:04:47,586] Trial 27 finished with value: 0.1617456307935234 and parameters: {'lr': 0.00023061492763613484, 'batch_size': 128, 'hidden_dim': 174, 'dropout': 0.3566752899106834, 'weight_decay': 0.00028523181050870436}. Best is trial 26 with value: 0.16016547514852292.\n"
          ]
        },
        {
          "output_type": "stream",
          "name": "stdout",
          "text": [
            "Early stopping at epoch 25 for fold 5\n",
            "Trial 27 Results (averaged over folds): {'Ctd': 0.6893347201415533, 'AUC': 0.6992433243572346, 'IBS': 0.1617456307935234, 'Avg_ECE_over_times': 0.20492225495568156, 'Avg_Brier_over_times': 0.1522397873113141}\n",
            "\n",
            "Trial 28 with parameters: {'lr': 0.0006391563369533582, 'batch_size': 32, 'hidden_dim': 121, 'dropout': 0.45135890977475246, 'weight_decay': 0.00012597057780294778, 'epochs': 50, 'n_splits': 5}\n",
            "--- Fold 1/5 ---\n",
            "Starting training for fold 1...\n"
          ]
        },
        {
          "output_type": "stream",
          "name": "stderr",
          "text": [
            "/usr/local/lib/python3.11/dist-packages/torch/optim/lr_scheduler.py:62: UserWarning: The verbose parameter is deprecated. Please use get_last_lr() to access the learning rate.\n",
            "  warnings.warn(\n"
          ]
        },
        {
          "output_type": "stream",
          "name": "stdout",
          "text": [
            "Early stopping at epoch 20 for fold 1\n",
            "--- Fold 2/5 ---\n",
            "Starting training for fold 2...\n"
          ]
        },
        {
          "output_type": "stream",
          "name": "stderr",
          "text": [
            "/usr/local/lib/python3.11/dist-packages/torch/optim/lr_scheduler.py:62: UserWarning: The verbose parameter is deprecated. Please use get_last_lr() to access the learning rate.\n",
            "  warnings.warn(\n"
          ]
        },
        {
          "output_type": "stream",
          "name": "stdout",
          "text": [
            "Early stopping at epoch 11 for fold 2\n",
            "--- Fold 3/5 ---\n",
            "Starting training for fold 3...\n"
          ]
        },
        {
          "output_type": "stream",
          "name": "stderr",
          "text": [
            "/usr/local/lib/python3.11/dist-packages/torch/optim/lr_scheduler.py:62: UserWarning: The verbose parameter is deprecated. Please use get_last_lr() to access the learning rate.\n",
            "  warnings.warn(\n"
          ]
        },
        {
          "output_type": "stream",
          "name": "stdout",
          "text": [
            "Early stopping at epoch 11 for fold 3\n",
            "--- Fold 4/5 ---\n",
            "Starting training for fold 4...\n"
          ]
        },
        {
          "output_type": "stream",
          "name": "stderr",
          "text": [
            "/usr/local/lib/python3.11/dist-packages/torch/optim/lr_scheduler.py:62: UserWarning: The verbose parameter is deprecated. Please use get_last_lr() to access the learning rate.\n",
            "  warnings.warn(\n"
          ]
        },
        {
          "output_type": "stream",
          "name": "stdout",
          "text": [
            "Early stopping at epoch 27 for fold 4\n",
            "--- Fold 5/5 ---\n",
            "Starting training for fold 5...\n"
          ]
        },
        {
          "output_type": "stream",
          "name": "stderr",
          "text": [
            "/usr/local/lib/python3.11/dist-packages/torch/optim/lr_scheduler.py:62: UserWarning: The verbose parameter is deprecated. Please use get_last_lr() to access the learning rate.\n",
            "  warnings.warn(\n",
            "[I 2025-05-05 11:04:53,878] Trial 28 finished with value: 0.1630177475472442 and parameters: {'lr': 0.0006391563369533582, 'batch_size': 32, 'hidden_dim': 121, 'dropout': 0.45135890977475246, 'weight_decay': 0.00012597057780294778}. Best is trial 26 with value: 0.16016547514852292.\n"
          ]
        },
        {
          "output_type": "stream",
          "name": "stdout",
          "text": [
            "Early stopping at epoch 15 for fold 5\n",
            "Trial 28 Results (averaged over folds): {'Ctd': 0.6759452597685176, 'AUC': 0.6924362852186976, 'IBS': 0.1630177475472442, 'Avg_ECE_over_times': 0.20806709677375057, 'Avg_Brier_over_times': 0.15344973462409633}\n",
            "\n",
            "Trial 29 with parameters: {'lr': 0.0036789841035343887, 'batch_size': 64, 'hidden_dim': 160, 'dropout': 0.39360046730841525, 'weight_decay': 0.00018539025581109161, 'epochs': 50, 'n_splits': 5}\n",
            "--- Fold 1/5 ---\n",
            "Starting training for fold 1...\n"
          ]
        },
        {
          "output_type": "stream",
          "name": "stderr",
          "text": [
            "/usr/local/lib/python3.11/dist-packages/torch/optim/lr_scheduler.py:62: UserWarning: The verbose parameter is deprecated. Please use get_last_lr() to access the learning rate.\n",
            "  warnings.warn(\n"
          ]
        },
        {
          "output_type": "stream",
          "name": "stdout",
          "text": [
            "Early stopping at epoch 20 for fold 1\n",
            "--- Fold 2/5 ---\n",
            "Starting training for fold 2...\n"
          ]
        },
        {
          "output_type": "stream",
          "name": "stderr",
          "text": [
            "/usr/local/lib/python3.11/dist-packages/torch/optim/lr_scheduler.py:62: UserWarning: The verbose parameter is deprecated. Please use get_last_lr() to access the learning rate.\n",
            "  warnings.warn(\n"
          ]
        },
        {
          "output_type": "stream",
          "name": "stdout",
          "text": [
            "Early stopping at epoch 13 for fold 2\n",
            "--- Fold 3/5 ---\n",
            "Starting training for fold 3...\n"
          ]
        },
        {
          "output_type": "stream",
          "name": "stderr",
          "text": [
            "/usr/local/lib/python3.11/dist-packages/torch/optim/lr_scheduler.py:62: UserWarning: The verbose parameter is deprecated. Please use get_last_lr() to access the learning rate.\n",
            "  warnings.warn(\n"
          ]
        },
        {
          "output_type": "stream",
          "name": "stdout",
          "text": [
            "Early stopping at epoch 12 for fold 3\n",
            "--- Fold 4/5 ---\n",
            "Starting training for fold 4...\n"
          ]
        },
        {
          "output_type": "stream",
          "name": "stderr",
          "text": [
            "/usr/local/lib/python3.11/dist-packages/torch/optim/lr_scheduler.py:62: UserWarning: The verbose parameter is deprecated. Please use get_last_lr() to access the learning rate.\n",
            "  warnings.warn(\n"
          ]
        },
        {
          "output_type": "stream",
          "name": "stdout",
          "text": [
            "Early stopping at epoch 11 for fold 4\n",
            "--- Fold 5/5 ---\n",
            "Starting training for fold 5...\n"
          ]
        },
        {
          "output_type": "stream",
          "name": "stderr",
          "text": [
            "/usr/local/lib/python3.11/dist-packages/torch/optim/lr_scheduler.py:62: UserWarning: The verbose parameter is deprecated. Please use get_last_lr() to access the learning rate.\n",
            "  warnings.warn(\n",
            "[I 2025-05-05 11:04:56,673] Trial 29 finished with value: 0.161970386398199 and parameters: {'lr': 0.0036789841035343887, 'batch_size': 64, 'hidden_dim': 160, 'dropout': 0.39360046730841525, 'weight_decay': 0.00018539025581109161}. Best is trial 26 with value: 0.16016547514852292.\n"
          ]
        },
        {
          "output_type": "stream",
          "name": "stdout",
          "text": [
            "Early stopping at epoch 13 for fold 5\n",
            "Trial 29 Results (averaged over folds): {'Ctd': 0.6870511120026302, 'AUC': 0.7018917850962424, 'IBS': 0.161970386398199, 'Avg_ECE_over_times': 0.20872901821038542, 'Avg_Brier_over_times': 0.15313382975285256}\n",
            "\n",
            "Trial 30 with parameters: {'lr': 0.001904337904216153, 'batch_size': 64, 'hidden_dim': 88, 'dropout': 0.3629916547976767, 'weight_decay': 0.0004667104145981771, 'epochs': 50, 'n_splits': 5}\n",
            "--- Fold 1/5 ---\n",
            "Starting training for fold 1...\n"
          ]
        },
        {
          "output_type": "stream",
          "name": "stderr",
          "text": [
            "/usr/local/lib/python3.11/dist-packages/torch/optim/lr_scheduler.py:62: UserWarning: The verbose parameter is deprecated. Please use get_last_lr() to access the learning rate.\n",
            "  warnings.warn(\n"
          ]
        },
        {
          "output_type": "stream",
          "name": "stdout",
          "text": [
            "Early stopping at epoch 12 for fold 1\n",
            "--- Fold 2/5 ---\n",
            "Starting training for fold 2...\n"
          ]
        },
        {
          "output_type": "stream",
          "name": "stderr",
          "text": [
            "/usr/local/lib/python3.11/dist-packages/torch/optim/lr_scheduler.py:62: UserWarning: The verbose parameter is deprecated. Please use get_last_lr() to access the learning rate.\n",
            "  warnings.warn(\n"
          ]
        },
        {
          "output_type": "stream",
          "name": "stdout",
          "text": [
            "Early stopping at epoch 15 for fold 2\n",
            "--- Fold 3/5 ---\n",
            "Starting training for fold 3...\n"
          ]
        },
        {
          "output_type": "stream",
          "name": "stderr",
          "text": [
            "/usr/local/lib/python3.11/dist-packages/torch/optim/lr_scheduler.py:62: UserWarning: The verbose parameter is deprecated. Please use get_last_lr() to access the learning rate.\n",
            "  warnings.warn(\n"
          ]
        },
        {
          "output_type": "stream",
          "name": "stdout",
          "text": [
            "Early stopping at epoch 11 for fold 3\n",
            "--- Fold 4/5 ---\n",
            "Starting training for fold 4...\n"
          ]
        },
        {
          "output_type": "stream",
          "name": "stderr",
          "text": [
            "/usr/local/lib/python3.11/dist-packages/torch/optim/lr_scheduler.py:62: UserWarning: The verbose parameter is deprecated. Please use get_last_lr() to access the learning rate.\n",
            "  warnings.warn(\n"
          ]
        },
        {
          "output_type": "stream",
          "name": "stdout",
          "text": [
            "Early stopping at epoch 13 for fold 4\n",
            "--- Fold 5/5 ---\n",
            "Starting training for fold 5...\n"
          ]
        },
        {
          "output_type": "stream",
          "name": "stderr",
          "text": [
            "/usr/local/lib/python3.11/dist-packages/torch/optim/lr_scheduler.py:62: UserWarning: The verbose parameter is deprecated. Please use get_last_lr() to access the learning rate.\n",
            "  warnings.warn(\n",
            "[I 2025-05-05 11:04:59,275] Trial 30 finished with value: 0.16206713997506833 and parameters: {'lr': 0.001904337904216153, 'batch_size': 64, 'hidden_dim': 88, 'dropout': 0.3629916547976767, 'weight_decay': 0.0004667104145981771}. Best is trial 26 with value: 0.16016547514852292.\n"
          ]
        },
        {
          "output_type": "stream",
          "name": "stdout",
          "text": [
            "Early stopping at epoch 13 for fold 5\n",
            "Trial 30 Results (averaged over folds): {'Ctd': 0.6841583960572246, 'AUC': 0.6983949914400309, 'IBS': 0.16206713997506833, 'Avg_ECE_over_times': 0.206320675789595, 'Avg_Brier_over_times': 0.15261903398611737}\n",
            "\n",
            "Trial 31 with parameters: {'lr': 0.00042765801939743595, 'batch_size': 128, 'hidden_dim': 186, 'dropout': 0.2758743281977537, 'weight_decay': 3.0409902934993714e-05, 'epochs': 50, 'n_splits': 5}\n",
            "--- Fold 1/5 ---\n",
            "Starting training for fold 1...\n"
          ]
        },
        {
          "output_type": "stream",
          "name": "stderr",
          "text": [
            "/usr/local/lib/python3.11/dist-packages/torch/optim/lr_scheduler.py:62: UserWarning: The verbose parameter is deprecated. Please use get_last_lr() to access the learning rate.\n",
            "  warnings.warn(\n"
          ]
        },
        {
          "output_type": "stream",
          "name": "stdout",
          "text": [
            "Early stopping at epoch 14 for fold 1\n",
            "--- Fold 2/5 ---\n",
            "Starting training for fold 2...\n"
          ]
        },
        {
          "output_type": "stream",
          "name": "stderr",
          "text": [
            "/usr/local/lib/python3.11/dist-packages/torch/optim/lr_scheduler.py:62: UserWarning: The verbose parameter is deprecated. Please use get_last_lr() to access the learning rate.\n",
            "  warnings.warn(\n"
          ]
        },
        {
          "output_type": "stream",
          "name": "stdout",
          "text": [
            "Early stopping at epoch 18 for fold 2\n",
            "--- Fold 3/5 ---\n",
            "Starting training for fold 3...\n"
          ]
        },
        {
          "output_type": "stream",
          "name": "stderr",
          "text": [
            "/usr/local/lib/python3.11/dist-packages/torch/optim/lr_scheduler.py:62: UserWarning: The verbose parameter is deprecated. Please use get_last_lr() to access the learning rate.\n",
            "  warnings.warn(\n"
          ]
        },
        {
          "output_type": "stream",
          "name": "stdout",
          "text": [
            "Early stopping at epoch 13 for fold 3\n",
            "--- Fold 4/5 ---\n",
            "Starting training for fold 4...\n"
          ]
        },
        {
          "output_type": "stream",
          "name": "stderr",
          "text": [
            "/usr/local/lib/python3.11/dist-packages/torch/optim/lr_scheduler.py:62: UserWarning: The verbose parameter is deprecated. Please use get_last_lr() to access the learning rate.\n",
            "  warnings.warn(\n"
          ]
        },
        {
          "output_type": "stream",
          "name": "stdout",
          "text": [
            "Early stopping at epoch 17 for fold 4\n",
            "--- Fold 5/5 ---\n",
            "Starting training for fold 5...\n"
          ]
        },
        {
          "output_type": "stream",
          "name": "stderr",
          "text": [
            "/usr/local/lib/python3.11/dist-packages/torch/optim/lr_scheduler.py:62: UserWarning: The verbose parameter is deprecated. Please use get_last_lr() to access the learning rate.\n",
            "  warnings.warn(\n",
            "[I 2025-05-05 11:05:01,417] Trial 31 finished with value: 0.16023846437796485 and parameters: {'lr': 0.00042765801939743595, 'batch_size': 128, 'hidden_dim': 186, 'dropout': 0.2758743281977537, 'weight_decay': 3.0409902934993714e-05}. Best is trial 26 with value: 0.16016547514852292.\n"
          ]
        },
        {
          "output_type": "stream",
          "name": "stdout",
          "text": [
            "Early stopping at epoch 17 for fold 5\n",
            "Trial 31 Results (averaged over folds): {'Ctd': 0.6906254770423959, 'AUC': 0.703656014451166, 'IBS': 0.16023846437796485, 'Avg_ECE_over_times': 0.20605167689168974, 'Avg_Brier_over_times': 0.1510538342112953}\n",
            "\n",
            "Trial 32 with parameters: {'lr': 0.0004297560473264212, 'batch_size': 128, 'hidden_dim': 180, 'dropout': 0.2822863730631312, 'weight_decay': 6.245193044589621e-05, 'epochs': 50, 'n_splits': 5}\n",
            "--- Fold 1/5 ---\n",
            "Starting training for fold 1...\n"
          ]
        },
        {
          "output_type": "stream",
          "name": "stderr",
          "text": [
            "/usr/local/lib/python3.11/dist-packages/torch/optim/lr_scheduler.py:62: UserWarning: The verbose parameter is deprecated. Please use get_last_lr() to access the learning rate.\n",
            "  warnings.warn(\n"
          ]
        },
        {
          "output_type": "stream",
          "name": "stdout",
          "text": [
            "Early stopping at epoch 13 for fold 1\n",
            "--- Fold 2/5 ---\n",
            "Starting training for fold 2...\n"
          ]
        },
        {
          "output_type": "stream",
          "name": "stderr",
          "text": [
            "/usr/local/lib/python3.11/dist-packages/torch/optim/lr_scheduler.py:62: UserWarning: The verbose parameter is deprecated. Please use get_last_lr() to access the learning rate.\n",
            "  warnings.warn(\n"
          ]
        },
        {
          "output_type": "stream",
          "name": "stdout",
          "text": [
            "Early stopping at epoch 17 for fold 2\n",
            "--- Fold 3/5 ---\n",
            "Starting training for fold 3...\n"
          ]
        },
        {
          "output_type": "stream",
          "name": "stderr",
          "text": [
            "/usr/local/lib/python3.11/dist-packages/torch/optim/lr_scheduler.py:62: UserWarning: The verbose parameter is deprecated. Please use get_last_lr() to access the learning rate.\n",
            "  warnings.warn(\n"
          ]
        },
        {
          "output_type": "stream",
          "name": "stdout",
          "text": [
            "Early stopping at epoch 14 for fold 3\n",
            "--- Fold 4/5 ---\n",
            "Starting training for fold 4...\n"
          ]
        },
        {
          "output_type": "stream",
          "name": "stderr",
          "text": [
            "/usr/local/lib/python3.11/dist-packages/torch/optim/lr_scheduler.py:62: UserWarning: The verbose parameter is deprecated. Please use get_last_lr() to access the learning rate.\n",
            "  warnings.warn(\n"
          ]
        },
        {
          "output_type": "stream",
          "name": "stdout",
          "text": [
            "Early stopping at epoch 20 for fold 4\n",
            "--- Fold 5/5 ---\n",
            "Starting training for fold 5...\n"
          ]
        },
        {
          "output_type": "stream",
          "name": "stderr",
          "text": [
            "/usr/local/lib/python3.11/dist-packages/torch/optim/lr_scheduler.py:62: UserWarning: The verbose parameter is deprecated. Please use get_last_lr() to access the learning rate.\n",
            "  warnings.warn(\n",
            "[I 2025-05-05 11:05:04,396] Trial 32 finished with value: 0.16151181202424852 and parameters: {'lr': 0.0004297560473264212, 'batch_size': 128, 'hidden_dim': 180, 'dropout': 0.2822863730631312, 'weight_decay': 6.245193044589621e-05}. Best is trial 26 with value: 0.16016547514852292.\n"
          ]
        },
        {
          "output_type": "stream",
          "name": "stdout",
          "text": [
            "Early stopping at epoch 20 for fold 5\n",
            "Trial 32 Results (averaged over folds): {'Ctd': 0.684823893989741, 'AUC': 0.6947951620898727, 'IBS': 0.16151181202424852, 'Avg_ECE_over_times': 0.20453004730095908, 'Avg_Brier_over_times': 0.15230379447045722}\n",
            "\n",
            "Trial 33 with parameters: {'lr': 0.00016960432520795937, 'batch_size': 128, 'hidden_dim': 141, 'dropout': 0.2335885216012295, 'weight_decay': 9.12070111304595e-05, 'epochs': 50, 'n_splits': 5}\n",
            "--- Fold 1/5 ---\n",
            "Starting training for fold 1...\n"
          ]
        },
        {
          "output_type": "stream",
          "name": "stderr",
          "text": [
            "/usr/local/lib/python3.11/dist-packages/torch/optim/lr_scheduler.py:62: UserWarning: The verbose parameter is deprecated. Please use get_last_lr() to access the learning rate.\n",
            "  warnings.warn(\n"
          ]
        },
        {
          "output_type": "stream",
          "name": "stdout",
          "text": [
            "Early stopping at epoch 34 for fold 1\n",
            "--- Fold 2/5 ---\n",
            "Starting training for fold 2...\n"
          ]
        },
        {
          "output_type": "stream",
          "name": "stderr",
          "text": [
            "/usr/local/lib/python3.11/dist-packages/torch/optim/lr_scheduler.py:62: UserWarning: The verbose parameter is deprecated. Please use get_last_lr() to access the learning rate.\n",
            "  warnings.warn(\n"
          ]
        },
        {
          "output_type": "stream",
          "name": "stdout",
          "text": [
            "Early stopping at epoch 35 for fold 2\n",
            "--- Fold 3/5 ---\n",
            "Starting training for fold 3...\n"
          ]
        },
        {
          "output_type": "stream",
          "name": "stderr",
          "text": [
            "/usr/local/lib/python3.11/dist-packages/torch/optim/lr_scheduler.py:62: UserWarning: The verbose parameter is deprecated. Please use get_last_lr() to access the learning rate.\n",
            "  warnings.warn(\n"
          ]
        },
        {
          "output_type": "stream",
          "name": "stdout",
          "text": [
            "Early stopping at epoch 33 for fold 3\n",
            "--- Fold 4/5 ---\n",
            "Starting training for fold 4...\n"
          ]
        },
        {
          "output_type": "stream",
          "name": "stderr",
          "text": [
            "/usr/local/lib/python3.11/dist-packages/torch/optim/lr_scheduler.py:62: UserWarning: The verbose parameter is deprecated. Please use get_last_lr() to access the learning rate.\n",
            "  warnings.warn(\n"
          ]
        },
        {
          "output_type": "stream",
          "name": "stdout",
          "text": [
            "Early stopping at epoch 31 for fold 4\n",
            "--- Fold 5/5 ---\n",
            "Starting training for fold 5...\n"
          ]
        },
        {
          "output_type": "stream",
          "name": "stderr",
          "text": [
            "/usr/local/lib/python3.11/dist-packages/torch/optim/lr_scheduler.py:62: UserWarning: The verbose parameter is deprecated. Please use get_last_lr() to access the learning rate.\n",
            "  warnings.warn(\n",
            "[I 2025-05-05 11:05:08,904] Trial 33 finished with value: 0.1625412190598748 and parameters: {'lr': 0.00016960432520795937, 'batch_size': 128, 'hidden_dim': 141, 'dropout': 0.2335885216012295, 'weight_decay': 9.12070111304595e-05}. Best is trial 26 with value: 0.16016547514852292.\n"
          ]
        },
        {
          "output_type": "stream",
          "name": "stdout",
          "text": [
            "Trial 33 Results (averaged over folds): {'Ctd': 0.6810111199003772, 'AUC': 0.690325579265126, 'IBS': 0.1625412190598748, 'Avg_ECE_over_times': 0.20628440070148973, 'Avg_Brier_over_times': 0.15288060401999776}\n",
            "\n",
            "Trial 34 with parameters: {'lr': 0.00028111554438195143, 'batch_size': 32, 'hidden_dim': 186, 'dropout': 0.26613543396660305, 'weight_decay': 1.6697215138803585e-05, 'epochs': 50, 'n_splits': 5}\n",
            "--- Fold 1/5 ---\n",
            "Starting training for fold 1...\n"
          ]
        },
        {
          "output_type": "stream",
          "name": "stderr",
          "text": [
            "/usr/local/lib/python3.11/dist-packages/torch/optim/lr_scheduler.py:62: UserWarning: The verbose parameter is deprecated. Please use get_last_lr() to access the learning rate.\n",
            "  warnings.warn(\n"
          ]
        },
        {
          "output_type": "stream",
          "name": "stdout",
          "text": [
            "Early stopping at epoch 31 for fold 1\n",
            "--- Fold 2/5 ---\n",
            "Starting training for fold 2...\n"
          ]
        },
        {
          "output_type": "stream",
          "name": "stderr",
          "text": [
            "/usr/local/lib/python3.11/dist-packages/torch/optim/lr_scheduler.py:62: UserWarning: The verbose parameter is deprecated. Please use get_last_lr() to access the learning rate.\n",
            "  warnings.warn(\n"
          ]
        },
        {
          "output_type": "stream",
          "name": "stdout",
          "text": [
            "Early stopping at epoch 12 for fold 2\n",
            "--- Fold 3/5 ---\n",
            "Starting training for fold 3...\n"
          ]
        },
        {
          "output_type": "stream",
          "name": "stderr",
          "text": [
            "/usr/local/lib/python3.11/dist-packages/torch/optim/lr_scheduler.py:62: UserWarning: The verbose parameter is deprecated. Please use get_last_lr() to access the learning rate.\n",
            "  warnings.warn(\n"
          ]
        },
        {
          "output_type": "stream",
          "name": "stdout",
          "text": [
            "Early stopping at epoch 11 for fold 3\n",
            "--- Fold 4/5 ---\n",
            "Starting training for fold 4...\n"
          ]
        },
        {
          "output_type": "stream",
          "name": "stderr",
          "text": [
            "/usr/local/lib/python3.11/dist-packages/torch/optim/lr_scheduler.py:62: UserWarning: The verbose parameter is deprecated. Please use get_last_lr() to access the learning rate.\n",
            "  warnings.warn(\n"
          ]
        },
        {
          "output_type": "stream",
          "name": "stdout",
          "text": [
            "Early stopping at epoch 23 for fold 4\n",
            "--- Fold 5/5 ---\n",
            "Starting training for fold 5...\n"
          ]
        },
        {
          "output_type": "stream",
          "name": "stderr",
          "text": [
            "/usr/local/lib/python3.11/dist-packages/torch/optim/lr_scheduler.py:62: UserWarning: The verbose parameter is deprecated. Please use get_last_lr() to access the learning rate.\n",
            "  warnings.warn(\n",
            "[I 2025-05-05 11:05:16,504] Trial 34 finished with value: 0.16280315683919538 and parameters: {'lr': 0.00028111554438195143, 'batch_size': 32, 'hidden_dim': 186, 'dropout': 0.26613543396660305, 'weight_decay': 1.6697215138803585e-05}. Best is trial 26 with value: 0.16016547514852292.\n"
          ]
        },
        {
          "output_type": "stream",
          "name": "stdout",
          "text": [
            "Early stopping at epoch 14 for fold 5\n",
            "Trial 34 Results (averaged over folds): {'Ctd': 0.6819371832291364, 'AUC': 0.6939482042392255, 'IBS': 0.16280315683919538, 'Avg_ECE_over_times': 0.20988960346361307, 'Avg_Brier_over_times': 0.15353989604555066}\n",
            "\n",
            "Trial 35 with parameters: {'lr': 0.00013799993348183933, 'batch_size': 128, 'hidden_dim': 166, 'dropout': 0.2940214862917825, 'weight_decay': 4.1229888341227816e-05, 'epochs': 50, 'n_splits': 5}\n",
            "--- Fold 1/5 ---\n",
            "Starting training for fold 1...\n"
          ]
        },
        {
          "output_type": "stream",
          "name": "stderr",
          "text": [
            "/usr/local/lib/python3.11/dist-packages/torch/optim/lr_scheduler.py:62: UserWarning: The verbose parameter is deprecated. Please use get_last_lr() to access the learning rate.\n",
            "  warnings.warn(\n"
          ]
        },
        {
          "output_type": "stream",
          "name": "stdout",
          "text": [
            "Early stopping at epoch 37 for fold 1\n",
            "--- Fold 2/5 ---\n",
            "Starting training for fold 2...\n"
          ]
        },
        {
          "output_type": "stream",
          "name": "stderr",
          "text": [
            "/usr/local/lib/python3.11/dist-packages/torch/optim/lr_scheduler.py:62: UserWarning: The verbose parameter is deprecated. Please use get_last_lr() to access the learning rate.\n",
            "  warnings.warn(\n"
          ]
        },
        {
          "output_type": "stream",
          "name": "stdout",
          "text": [
            "--- Fold 3/5 ---\n",
            "Starting training for fold 3...\n"
          ]
        },
        {
          "output_type": "stream",
          "name": "stderr",
          "text": [
            "/usr/local/lib/python3.11/dist-packages/torch/optim/lr_scheduler.py:62: UserWarning: The verbose parameter is deprecated. Please use get_last_lr() to access the learning rate.\n",
            "  warnings.warn(\n"
          ]
        },
        {
          "output_type": "stream",
          "name": "stdout",
          "text": [
            "Early stopping at epoch 42 for fold 3\n",
            "--- Fold 4/5 ---\n",
            "Starting training for fold 4...\n"
          ]
        },
        {
          "output_type": "stream",
          "name": "stderr",
          "text": [
            "/usr/local/lib/python3.11/dist-packages/torch/optim/lr_scheduler.py:62: UserWarning: The verbose parameter is deprecated. Please use get_last_lr() to access the learning rate.\n",
            "  warnings.warn(\n"
          ]
        },
        {
          "output_type": "stream",
          "name": "stdout",
          "text": [
            "Early stopping at epoch 32 for fold 4\n",
            "--- Fold 5/5 ---\n",
            "Starting training for fold 5...\n"
          ]
        },
        {
          "output_type": "stream",
          "name": "stderr",
          "text": [
            "/usr/local/lib/python3.11/dist-packages/torch/optim/lr_scheduler.py:62: UserWarning: The verbose parameter is deprecated. Please use get_last_lr() to access the learning rate.\n",
            "  warnings.warn(\n",
            "[I 2025-05-05 11:05:21,403] Trial 35 finished with value: 0.16300131614962854 and parameters: {'lr': 0.00013799993348183933, 'batch_size': 128, 'hidden_dim': 166, 'dropout': 0.2940214862917825, 'weight_decay': 4.1229888341227816e-05}. Best is trial 26 with value: 0.16016547514852292.\n"
          ]
        },
        {
          "output_type": "stream",
          "name": "stdout",
          "text": [
            "Early stopping at epoch 39 for fold 5\n",
            "Trial 35 Results (averaged over folds): {'Ctd': 0.6829229791719208, 'AUC': 0.6890775303667207, 'IBS': 0.16300131614962854, 'Avg_ECE_over_times': 0.20790891239290912, 'Avg_Brier_over_times': 0.15356586468309233}\n",
            "\n",
            "Trial 36 with parameters: {'lr': 0.00010107675094324246, 'batch_size': 32, 'hidden_dim': 228, 'dropout': 0.4025601082515605, 'weight_decay': 6.360962623609267e-05, 'epochs': 50, 'n_splits': 5}\n",
            "--- Fold 1/5 ---\n",
            "Starting training for fold 1...\n"
          ]
        },
        {
          "output_type": "stream",
          "name": "stderr",
          "text": [
            "/usr/local/lib/python3.11/dist-packages/torch/optim/lr_scheduler.py:62: UserWarning: The verbose parameter is deprecated. Please use get_last_lr() to access the learning rate.\n",
            "  warnings.warn(\n"
          ]
        },
        {
          "output_type": "stream",
          "name": "stdout",
          "text": [
            "Early stopping at epoch 19 for fold 1\n",
            "--- Fold 2/5 ---\n",
            "Starting training for fold 2...\n"
          ]
        },
        {
          "output_type": "stream",
          "name": "stderr",
          "text": [
            "/usr/local/lib/python3.11/dist-packages/torch/optim/lr_scheduler.py:62: UserWarning: The verbose parameter is deprecated. Please use get_last_lr() to access the learning rate.\n",
            "  warnings.warn(\n"
          ]
        },
        {
          "output_type": "stream",
          "name": "stdout",
          "text": [
            "Early stopping at epoch 16 for fold 2\n",
            "--- Fold 3/5 ---\n",
            "Starting training for fold 3...\n"
          ]
        },
        {
          "output_type": "stream",
          "name": "stderr",
          "text": [
            "/usr/local/lib/python3.11/dist-packages/torch/optim/lr_scheduler.py:62: UserWarning: The verbose parameter is deprecated. Please use get_last_lr() to access the learning rate.\n",
            "  warnings.warn(\n"
          ]
        },
        {
          "output_type": "stream",
          "name": "stdout",
          "text": [
            "Early stopping at epoch 15 for fold 3\n",
            "--- Fold 4/5 ---\n",
            "Starting training for fold 4...\n"
          ]
        },
        {
          "output_type": "stream",
          "name": "stderr",
          "text": [
            "/usr/local/lib/python3.11/dist-packages/torch/optim/lr_scheduler.py:62: UserWarning: The verbose parameter is deprecated. Please use get_last_lr() to access the learning rate.\n",
            "  warnings.warn(\n"
          ]
        },
        {
          "output_type": "stream",
          "name": "stdout",
          "text": [
            "Early stopping at epoch 28 for fold 4\n",
            "--- Fold 5/5 ---\n",
            "Starting training for fold 5...\n"
          ]
        },
        {
          "output_type": "stream",
          "name": "stderr",
          "text": [
            "/usr/local/lib/python3.11/dist-packages/torch/optim/lr_scheduler.py:62: UserWarning: The verbose parameter is deprecated. Please use get_last_lr() to access the learning rate.\n",
            "  warnings.warn(\n",
            "[I 2025-05-05 11:05:28,936] Trial 36 finished with value: 0.16210156745738008 and parameters: {'lr': 0.00010107675094324246, 'batch_size': 32, 'hidden_dim': 228, 'dropout': 0.4025601082515605, 'weight_decay': 6.360962623609267e-05}. Best is trial 26 with value: 0.16016547514852292.\n"
          ]
        },
        {
          "output_type": "stream",
          "name": "stdout",
          "text": [
            "Early stopping at epoch 20 for fold 5\n",
            "Trial 36 Results (averaged over folds): {'Ctd': 0.6844487597118681, 'AUC': 0.6939500148207594, 'IBS': 0.16210156745738008, 'Avg_ECE_over_times': 0.20700599634760392, 'Avg_Brier_over_times': 0.1524242768315649}\n",
            "\n",
            "Trial 37 with parameters: {'lr': 0.0009187349928694863, 'batch_size': 128, 'hidden_dim': 245, 'dropout': 0.4209495763555382, 'weight_decay': 1.21765393729144e-05, 'epochs': 50, 'n_splits': 5}\n",
            "--- Fold 1/5 ---\n",
            "Starting training for fold 1...\n"
          ]
        },
        {
          "output_type": "stream",
          "name": "stderr",
          "text": [
            "/usr/local/lib/python3.11/dist-packages/torch/optim/lr_scheduler.py:62: UserWarning: The verbose parameter is deprecated. Please use get_last_lr() to access the learning rate.\n",
            "  warnings.warn(\n"
          ]
        },
        {
          "output_type": "stream",
          "name": "stdout",
          "text": [
            "Early stopping at epoch 12 for fold 1\n",
            "--- Fold 2/5 ---\n",
            "Starting training for fold 2...\n"
          ]
        },
        {
          "output_type": "stream",
          "name": "stderr",
          "text": [
            "/usr/local/lib/python3.11/dist-packages/torch/optim/lr_scheduler.py:62: UserWarning: The verbose parameter is deprecated. Please use get_last_lr() to access the learning rate.\n",
            "  warnings.warn(\n"
          ]
        },
        {
          "output_type": "stream",
          "name": "stdout",
          "text": [
            "Early stopping at epoch 18 for fold 2\n",
            "--- Fold 3/5 ---\n",
            "Starting training for fold 3...\n"
          ]
        },
        {
          "output_type": "stream",
          "name": "stderr",
          "text": [
            "/usr/local/lib/python3.11/dist-packages/torch/optim/lr_scheduler.py:62: UserWarning: The verbose parameter is deprecated. Please use get_last_lr() to access the learning rate.\n",
            "  warnings.warn(\n"
          ]
        },
        {
          "output_type": "stream",
          "name": "stdout",
          "text": [
            "Early stopping at epoch 11 for fold 3\n",
            "--- Fold 4/5 ---\n",
            "Starting training for fold 4...\n"
          ]
        },
        {
          "output_type": "stream",
          "name": "stderr",
          "text": [
            "/usr/local/lib/python3.11/dist-packages/torch/optim/lr_scheduler.py:62: UserWarning: The verbose parameter is deprecated. Please use get_last_lr() to access the learning rate.\n",
            "  warnings.warn(\n"
          ]
        },
        {
          "output_type": "stream",
          "name": "stdout",
          "text": [
            "Early stopping at epoch 13 for fold 4\n",
            "--- Fold 5/5 ---\n",
            "Starting training for fold 5...\n"
          ]
        },
        {
          "output_type": "stream",
          "name": "stderr",
          "text": [
            "/usr/local/lib/python3.11/dist-packages/torch/optim/lr_scheduler.py:62: UserWarning: The verbose parameter is deprecated. Please use get_last_lr() to access the learning rate.\n",
            "  warnings.warn(\n",
            "[I 2025-05-05 11:05:30,739] Trial 37 finished with value: 0.1621005717277953 and parameters: {'lr': 0.0009187349928694863, 'batch_size': 128, 'hidden_dim': 245, 'dropout': 0.4209495763555382, 'weight_decay': 1.21765393729144e-05}. Best is trial 26 with value: 0.16016547514852292.\n"
          ]
        },
        {
          "output_type": "stream",
          "name": "stdout",
          "text": [
            "Early stopping at epoch 14 for fold 5\n",
            "Trial 37 Results (averaged over folds): {'Ctd': 0.6845076525540064, 'AUC': 0.697059399012187, 'IBS': 0.1621005717277953, 'Avg_ECE_over_times': 0.20739197223831002, 'Avg_Brier_over_times': 0.1530261688534996}\n",
            "\n",
            "Trial 38 with parameters: {'lr': 0.00038435527448058205, 'batch_size': 128, 'hidden_dim': 191, 'dropout': 0.24497472090201214, 'weight_decay': 2.549703443047796e-05, 'epochs': 50, 'n_splits': 5}\n",
            "--- Fold 1/5 ---\n",
            "Starting training for fold 1...\n"
          ]
        },
        {
          "output_type": "stream",
          "name": "stderr",
          "text": [
            "/usr/local/lib/python3.11/dist-packages/torch/optim/lr_scheduler.py:62: UserWarning: The verbose parameter is deprecated. Please use get_last_lr() to access the learning rate.\n",
            "  warnings.warn(\n"
          ]
        },
        {
          "output_type": "stream",
          "name": "stdout",
          "text": [
            "Early stopping at epoch 13 for fold 1\n",
            "--- Fold 2/5 ---\n",
            "Starting training for fold 2...\n"
          ]
        },
        {
          "output_type": "stream",
          "name": "stderr",
          "text": [
            "/usr/local/lib/python3.11/dist-packages/torch/optim/lr_scheduler.py:62: UserWarning: The verbose parameter is deprecated. Please use get_last_lr() to access the learning rate.\n",
            "  warnings.warn(\n"
          ]
        },
        {
          "output_type": "stream",
          "name": "stdout",
          "text": [
            "Early stopping at epoch 18 for fold 2\n",
            "--- Fold 3/5 ---\n",
            "Starting training for fold 3...\n"
          ]
        },
        {
          "output_type": "stream",
          "name": "stderr",
          "text": [
            "/usr/local/lib/python3.11/dist-packages/torch/optim/lr_scheduler.py:62: UserWarning: The verbose parameter is deprecated. Please use get_last_lr() to access the learning rate.\n",
            "  warnings.warn(\n"
          ]
        },
        {
          "output_type": "stream",
          "name": "stdout",
          "text": [
            "Early stopping at epoch 12 for fold 3\n",
            "--- Fold 4/5 ---\n",
            "Starting training for fold 4...\n"
          ]
        },
        {
          "output_type": "stream",
          "name": "stderr",
          "text": [
            "/usr/local/lib/python3.11/dist-packages/torch/optim/lr_scheduler.py:62: UserWarning: The verbose parameter is deprecated. Please use get_last_lr() to access the learning rate.\n",
            "  warnings.warn(\n"
          ]
        },
        {
          "output_type": "stream",
          "name": "stdout",
          "text": [
            "Early stopping at epoch 16 for fold 4\n",
            "--- Fold 5/5 ---\n",
            "Starting training for fold 5...\n"
          ]
        },
        {
          "output_type": "stream",
          "name": "stderr",
          "text": [
            "/usr/local/lib/python3.11/dist-packages/torch/optim/lr_scheduler.py:62: UserWarning: The verbose parameter is deprecated. Please use get_last_lr() to access the learning rate.\n",
            "  warnings.warn(\n",
            "[I 2025-05-05 11:05:33,494] Trial 38 finished with value: 0.1626399507439968 and parameters: {'lr': 0.00038435527448058205, 'batch_size': 128, 'hidden_dim': 191, 'dropout': 0.24497472090201214, 'weight_decay': 2.549703443047796e-05}. Best is trial 26 with value: 0.16016547514852292.\n"
          ]
        },
        {
          "output_type": "stream",
          "name": "stdout",
          "text": [
            "Early stopping at epoch 48 for fold 5\n",
            "Trial 38 Results (averaged over folds): {'Ctd': 0.6810431517201957, 'AUC': 0.686891224381614, 'IBS': 0.1626399507439968, 'Avg_ECE_over_times': 0.2084304417541459, 'Avg_Brier_over_times': 0.15347698871562857}\n",
            "\n",
            "Trial 39 with parameters: {'lr': 0.00017330573079095367, 'batch_size': 32, 'hidden_dim': 150, 'dropout': 0.3681778096979119, 'weight_decay': 0.0007191007049898007, 'epochs': 50, 'n_splits': 5}\n",
            "--- Fold 1/5 ---\n",
            "Starting training for fold 1...\n"
          ]
        },
        {
          "output_type": "stream",
          "name": "stderr",
          "text": [
            "/usr/local/lib/python3.11/dist-packages/torch/optim/lr_scheduler.py:62: UserWarning: The verbose parameter is deprecated. Please use get_last_lr() to access the learning rate.\n",
            "  warnings.warn(\n"
          ]
        },
        {
          "output_type": "stream",
          "name": "stdout",
          "text": [
            "Early stopping at epoch 22 for fold 1\n",
            "--- Fold 2/5 ---\n",
            "Starting training for fold 2...\n"
          ]
        },
        {
          "output_type": "stream",
          "name": "stderr",
          "text": [
            "/usr/local/lib/python3.11/dist-packages/torch/optim/lr_scheduler.py:62: UserWarning: The verbose parameter is deprecated. Please use get_last_lr() to access the learning rate.\n",
            "  warnings.warn(\n"
          ]
        },
        {
          "output_type": "stream",
          "name": "stdout",
          "text": [
            "Early stopping at epoch 16 for fold 2\n",
            "--- Fold 3/5 ---\n",
            "Starting training for fold 3...\n"
          ]
        },
        {
          "output_type": "stream",
          "name": "stderr",
          "text": [
            "/usr/local/lib/python3.11/dist-packages/torch/optim/lr_scheduler.py:62: UserWarning: The verbose parameter is deprecated. Please use get_last_lr() to access the learning rate.\n",
            "  warnings.warn(\n"
          ]
        },
        {
          "output_type": "stream",
          "name": "stdout",
          "text": [
            "Early stopping at epoch 15 for fold 3\n",
            "--- Fold 4/5 ---\n",
            "Starting training for fold 4...\n"
          ]
        },
        {
          "output_type": "stream",
          "name": "stderr",
          "text": [
            "/usr/local/lib/python3.11/dist-packages/torch/optim/lr_scheduler.py:62: UserWarning: The verbose parameter is deprecated. Please use get_last_lr() to access the learning rate.\n",
            "  warnings.warn(\n"
          ]
        },
        {
          "output_type": "stream",
          "name": "stdout",
          "text": [
            "Early stopping at epoch 38 for fold 4\n",
            "--- Fold 5/5 ---\n",
            "Starting training for fold 5...\n"
          ]
        },
        {
          "output_type": "stream",
          "name": "stderr",
          "text": [
            "/usr/local/lib/python3.11/dist-packages/torch/optim/lr_scheduler.py:62: UserWarning: The verbose parameter is deprecated. Please use get_last_lr() to access the learning rate.\n",
            "  warnings.warn(\n",
            "[I 2025-05-05 11:05:42,437] Trial 39 finished with value: 0.16356296863914682 and parameters: {'lr': 0.00017330573079095367, 'batch_size': 32, 'hidden_dim': 150, 'dropout': 0.3681778096979119, 'weight_decay': 0.0007191007049898007}. Best is trial 26 with value: 0.16016547514852292.\n"
          ]
        },
        {
          "output_type": "stream",
          "name": "stdout",
          "text": [
            "Early stopping at epoch 31 for fold 5\n",
            "Trial 39 Results (averaged over folds): {'Ctd': 0.6820799398292684, 'AUC': 0.6913551381245772, 'IBS': 0.16356296863914682, 'Avg_ECE_over_times': 0.21022634819318245, 'Avg_Brier_over_times': 0.15379024629568588}\n",
            "\n",
            "Trial 40 with parameters: {'lr': 0.0012827137960229583, 'batch_size': 64, 'hidden_dim': 172, 'dropout': 0.3432391769420427, 'weight_decay': 8.476522828401359e-05, 'epochs': 50, 'n_splits': 5}\n",
            "--- Fold 1/5 ---\n",
            "Starting training for fold 1...\n"
          ]
        },
        {
          "output_type": "stream",
          "name": "stderr",
          "text": [
            "/usr/local/lib/python3.11/dist-packages/torch/optim/lr_scheduler.py:62: UserWarning: The verbose parameter is deprecated. Please use get_last_lr() to access the learning rate.\n",
            "  warnings.warn(\n"
          ]
        },
        {
          "output_type": "stream",
          "name": "stdout",
          "text": [
            "Early stopping at epoch 12 for fold 1\n",
            "--- Fold 2/5 ---\n",
            "Starting training for fold 2...\n"
          ]
        },
        {
          "output_type": "stream",
          "name": "stderr",
          "text": [
            "/usr/local/lib/python3.11/dist-packages/torch/optim/lr_scheduler.py:62: UserWarning: The verbose parameter is deprecated. Please use get_last_lr() to access the learning rate.\n",
            "  warnings.warn(\n"
          ]
        },
        {
          "output_type": "stream",
          "name": "stdout",
          "text": [
            "Early stopping at epoch 13 for fold 2\n",
            "--- Fold 3/5 ---\n",
            "Starting training for fold 3...\n"
          ]
        },
        {
          "output_type": "stream",
          "name": "stderr",
          "text": [
            "/usr/local/lib/python3.11/dist-packages/torch/optim/lr_scheduler.py:62: UserWarning: The verbose parameter is deprecated. Please use get_last_lr() to access the learning rate.\n",
            "  warnings.warn(\n"
          ]
        },
        {
          "output_type": "stream",
          "name": "stdout",
          "text": [
            "Early stopping at epoch 11 for fold 3\n",
            "--- Fold 4/5 ---\n",
            "Starting training for fold 4...\n"
          ]
        },
        {
          "output_type": "stream",
          "name": "stderr",
          "text": [
            "/usr/local/lib/python3.11/dist-packages/torch/optim/lr_scheduler.py:62: UserWarning: The verbose parameter is deprecated. Please use get_last_lr() to access the learning rate.\n",
            "  warnings.warn(\n"
          ]
        },
        {
          "output_type": "stream",
          "name": "stdout",
          "text": [
            "Early stopping at epoch 12 for fold 4\n",
            "--- Fold 5/5 ---\n",
            "Starting training for fold 5...\n"
          ]
        },
        {
          "output_type": "stream",
          "name": "stderr",
          "text": [
            "/usr/local/lib/python3.11/dist-packages/torch/optim/lr_scheduler.py:62: UserWarning: The verbose parameter is deprecated. Please use get_last_lr() to access the learning rate.\n",
            "  warnings.warn(\n",
            "[I 2025-05-05 11:05:44,931] Trial 40 finished with value: 0.16116886548962592 and parameters: {'lr': 0.0012827137960229583, 'batch_size': 64, 'hidden_dim': 172, 'dropout': 0.3432391769420427, 'weight_decay': 8.476522828401359e-05}. Best is trial 26 with value: 0.16016547514852292.\n"
          ]
        },
        {
          "output_type": "stream",
          "name": "stdout",
          "text": [
            "Early stopping at epoch 14 for fold 5\n",
            "Trial 40 Results (averaged over folds): {'Ctd': 0.686226007098834, 'AUC': 0.7061872319639015, 'IBS': 0.16116886548962592, 'Avg_ECE_over_times': 0.2096672428436605, 'Avg_Brier_over_times': 0.15190778296703966}\n",
            "\n",
            "Trial 41 with parameters: {'lr': 0.0005326152736856833, 'batch_size': 128, 'hidden_dim': 202, 'dropout': 0.3185839267319213, 'weight_decay': 3.5630187137893e-05, 'epochs': 50, 'n_splits': 5}\n",
            "--- Fold 1/5 ---\n",
            "Starting training for fold 1...\n"
          ]
        },
        {
          "output_type": "stream",
          "name": "stderr",
          "text": [
            "/usr/local/lib/python3.11/dist-packages/torch/optim/lr_scheduler.py:62: UserWarning: The verbose parameter is deprecated. Please use get_last_lr() to access the learning rate.\n",
            "  warnings.warn(\n"
          ]
        },
        {
          "output_type": "stream",
          "name": "stdout",
          "text": [
            "Early stopping at epoch 13 for fold 1\n",
            "--- Fold 2/5 ---\n",
            "Starting training for fold 2...\n"
          ]
        },
        {
          "output_type": "stream",
          "name": "stderr",
          "text": [
            "/usr/local/lib/python3.11/dist-packages/torch/optim/lr_scheduler.py:62: UserWarning: The verbose parameter is deprecated. Please use get_last_lr() to access the learning rate.\n",
            "  warnings.warn(\n"
          ]
        },
        {
          "output_type": "stream",
          "name": "stdout",
          "text": [
            "Early stopping at epoch 20 for fold 2\n",
            "--- Fold 3/5 ---\n",
            "Starting training for fold 3...\n"
          ]
        },
        {
          "output_type": "stream",
          "name": "stderr",
          "text": [
            "/usr/local/lib/python3.11/dist-packages/torch/optim/lr_scheduler.py:62: UserWarning: The verbose parameter is deprecated. Please use get_last_lr() to access the learning rate.\n",
            "  warnings.warn(\n"
          ]
        },
        {
          "output_type": "stream",
          "name": "stdout",
          "text": [
            "Early stopping at epoch 12 for fold 3\n",
            "--- Fold 4/5 ---\n",
            "Starting training for fold 4...\n"
          ]
        },
        {
          "output_type": "stream",
          "name": "stderr",
          "text": [
            "/usr/local/lib/python3.11/dist-packages/torch/optim/lr_scheduler.py:62: UserWarning: The verbose parameter is deprecated. Please use get_last_lr() to access the learning rate.\n",
            "  warnings.warn(\n"
          ]
        },
        {
          "output_type": "stream",
          "name": "stdout",
          "text": [
            "Early stopping at epoch 14 for fold 4\n",
            "--- Fold 5/5 ---\n",
            "Starting training for fold 5...\n"
          ]
        },
        {
          "output_type": "stream",
          "name": "stderr",
          "text": [
            "/usr/local/lib/python3.11/dist-packages/torch/optim/lr_scheduler.py:62: UserWarning: The verbose parameter is deprecated. Please use get_last_lr() to access the learning rate.\n",
            "  warnings.warn(\n",
            "[I 2025-05-05 11:05:46,911] Trial 41 finished with value: 0.16071328088770848 and parameters: {'lr': 0.0005326152736856833, 'batch_size': 128, 'hidden_dim': 202, 'dropout': 0.3185839267319213, 'weight_decay': 3.5630187137893e-05}. Best is trial 26 with value: 0.16016547514852292.\n"
          ]
        },
        {
          "output_type": "stream",
          "name": "stdout",
          "text": [
            "Early stopping at epoch 17 for fold 5\n",
            "Trial 41 Results (averaged over folds): {'Ctd': 0.6879015270916436, 'AUC': 0.7004356584318685, 'IBS': 0.16071328088770848, 'Avg_ECE_over_times': 0.202671327000823, 'Avg_Brier_over_times': 0.15153705918838434}\n",
            "\n",
            "Trial 42 with parameters: {'lr': 0.0005849294162769845, 'batch_size': 128, 'hidden_dim': 202, 'dropout': 0.2828817276217556, 'weight_decay': 3.5380667337252925e-05, 'epochs': 50, 'n_splits': 5}\n",
            "--- Fold 1/5 ---\n",
            "Starting training for fold 1...\n"
          ]
        },
        {
          "output_type": "stream",
          "name": "stderr",
          "text": [
            "/usr/local/lib/python3.11/dist-packages/torch/optim/lr_scheduler.py:62: UserWarning: The verbose parameter is deprecated. Please use get_last_lr() to access the learning rate.\n",
            "  warnings.warn(\n"
          ]
        },
        {
          "output_type": "stream",
          "name": "stdout",
          "text": [
            "Early stopping at epoch 14 for fold 1\n",
            "--- Fold 2/5 ---\n",
            "Starting training for fold 2...\n"
          ]
        },
        {
          "output_type": "stream",
          "name": "stderr",
          "text": [
            "/usr/local/lib/python3.11/dist-packages/torch/optim/lr_scheduler.py:62: UserWarning: The verbose parameter is deprecated. Please use get_last_lr() to access the learning rate.\n",
            "  warnings.warn(\n"
          ]
        },
        {
          "output_type": "stream",
          "name": "stdout",
          "text": [
            "Early stopping at epoch 16 for fold 2\n",
            "--- Fold 3/5 ---\n",
            "Starting training for fold 3...\n"
          ]
        },
        {
          "output_type": "stream",
          "name": "stderr",
          "text": [
            "/usr/local/lib/python3.11/dist-packages/torch/optim/lr_scheduler.py:62: UserWarning: The verbose parameter is deprecated. Please use get_last_lr() to access the learning rate.\n",
            "  warnings.warn(\n"
          ]
        },
        {
          "output_type": "stream",
          "name": "stdout",
          "text": [
            "Early stopping at epoch 13 for fold 3\n",
            "--- Fold 4/5 ---\n",
            "Starting training for fold 4...\n"
          ]
        },
        {
          "output_type": "stream",
          "name": "stderr",
          "text": [
            "/usr/local/lib/python3.11/dist-packages/torch/optim/lr_scheduler.py:62: UserWarning: The verbose parameter is deprecated. Please use get_last_lr() to access the learning rate.\n",
            "  warnings.warn(\n"
          ]
        },
        {
          "output_type": "stream",
          "name": "stdout",
          "text": [
            "Early stopping at epoch 16 for fold 4\n",
            "--- Fold 5/5 ---\n",
            "Starting training for fold 5...\n"
          ]
        },
        {
          "output_type": "stream",
          "name": "stderr",
          "text": [
            "/usr/local/lib/python3.11/dist-packages/torch/optim/lr_scheduler.py:62: UserWarning: The verbose parameter is deprecated. Please use get_last_lr() to access the learning rate.\n",
            "  warnings.warn(\n",
            "[I 2025-05-05 11:05:49,466] Trial 42 finished with value: 0.1613672276807363 and parameters: {'lr': 0.0005849294162769845, 'batch_size': 128, 'hidden_dim': 202, 'dropout': 0.2828817276217556, 'weight_decay': 3.5380667337252925e-05}. Best is trial 26 with value: 0.16016547514852292.\n"
          ]
        },
        {
          "output_type": "stream",
          "name": "stdout",
          "text": [
            "Early stopping at epoch 42 for fold 5\n",
            "Trial 42 Results (averaged over folds): {'Ctd': 0.6870042146342594, 'AUC': 0.7010380127539524, 'IBS': 0.1613672276807363, 'Avg_ECE_over_times': 0.2102051342007391, 'Avg_Brier_over_times': 0.15227095523956558}\n",
            "\n",
            "Trial 43 with parameters: {'lr': 0.0007965662286129394, 'batch_size': 128, 'hidden_dim': 69, 'dropout': 0.31727170223141243, 'weight_decay': 5.8657262441865804e-05, 'epochs': 50, 'n_splits': 5}\n",
            "--- Fold 1/5 ---\n",
            "Starting training for fold 1...\n"
          ]
        },
        {
          "output_type": "stream",
          "name": "stderr",
          "text": [
            "/usr/local/lib/python3.11/dist-packages/torch/optim/lr_scheduler.py:62: UserWarning: The verbose parameter is deprecated. Please use get_last_lr() to access the learning rate.\n",
            "  warnings.warn(\n"
          ]
        },
        {
          "output_type": "stream",
          "name": "stdout",
          "text": [
            "Early stopping at epoch 16 for fold 1\n",
            "--- Fold 2/5 ---\n",
            "Starting training for fold 2...\n"
          ]
        },
        {
          "output_type": "stream",
          "name": "stderr",
          "text": [
            "/usr/local/lib/python3.11/dist-packages/torch/optim/lr_scheduler.py:62: UserWarning: The verbose parameter is deprecated. Please use get_last_lr() to access the learning rate.\n",
            "  warnings.warn(\n"
          ]
        },
        {
          "output_type": "stream",
          "name": "stdout",
          "text": [
            "Early stopping at epoch 18 for fold 2\n",
            "--- Fold 3/5 ---\n",
            "Starting training for fold 3...\n"
          ]
        },
        {
          "output_type": "stream",
          "name": "stderr",
          "text": [
            "/usr/local/lib/python3.11/dist-packages/torch/optim/lr_scheduler.py:62: UserWarning: The verbose parameter is deprecated. Please use get_last_lr() to access the learning rate.\n",
            "  warnings.warn(\n"
          ]
        },
        {
          "output_type": "stream",
          "name": "stdout",
          "text": [
            "Early stopping at epoch 17 for fold 3\n",
            "--- Fold 4/5 ---\n",
            "Starting training for fold 4...\n"
          ]
        },
        {
          "output_type": "stream",
          "name": "stderr",
          "text": [
            "/usr/local/lib/python3.11/dist-packages/torch/optim/lr_scheduler.py:62: UserWarning: The verbose parameter is deprecated. Please use get_last_lr() to access the learning rate.\n",
            "  warnings.warn(\n"
          ]
        },
        {
          "output_type": "stream",
          "name": "stdout",
          "text": [
            "Early stopping at epoch 19 for fold 4\n",
            "--- Fold 5/5 ---\n",
            "Starting training for fold 5...\n"
          ]
        },
        {
          "output_type": "stream",
          "name": "stderr",
          "text": [
            "/usr/local/lib/python3.11/dist-packages/torch/optim/lr_scheduler.py:62: UserWarning: The verbose parameter is deprecated. Please use get_last_lr() to access the learning rate.\n",
            "  warnings.warn(\n",
            "[I 2025-05-05 11:05:54,364] Trial 43 finished with value: 0.16415505668706812 and parameters: {'lr': 0.0007965662286129394, 'batch_size': 128, 'hidden_dim': 69, 'dropout': 0.31727170223141243, 'weight_decay': 5.8657262441865804e-05}. Best is trial 26 with value: 0.16016547514852292.\n"
          ]
        },
        {
          "output_type": "stream",
          "name": "stdout",
          "text": [
            "Trial 43 Results (averaged over folds): {'Ctd': 0.674605536148877, 'AUC': 0.6806814811045602, 'IBS': 0.16415505668706812, 'Avg_ECE_over_times': 0.2093249811623259, 'Avg_Brier_over_times': 0.1546374833716718}\n",
            "\n",
            "Trial 44 with parameters: {'lr': 0.00044889681547410155, 'batch_size': 128, 'hidden_dim': 189, 'dropout': 0.2853116722678606, 'weight_decay': 2.1080188058893177e-05, 'epochs': 50, 'n_splits': 5}\n",
            "--- Fold 1/5 ---\n",
            "Starting training for fold 1...\n"
          ]
        },
        {
          "output_type": "stream",
          "name": "stderr",
          "text": [
            "/usr/local/lib/python3.11/dist-packages/torch/optim/lr_scheduler.py:62: UserWarning: The verbose parameter is deprecated. Please use get_last_lr() to access the learning rate.\n",
            "  warnings.warn(\n"
          ]
        },
        {
          "output_type": "stream",
          "name": "stdout",
          "text": [
            "Early stopping at epoch 13 for fold 1\n",
            "--- Fold 2/5 ---\n",
            "Starting training for fold 2...\n"
          ]
        },
        {
          "output_type": "stream",
          "name": "stderr",
          "text": [
            "/usr/local/lib/python3.11/dist-packages/torch/optim/lr_scheduler.py:62: UserWarning: The verbose parameter is deprecated. Please use get_last_lr() to access the learning rate.\n",
            "  warnings.warn(\n"
          ]
        },
        {
          "output_type": "stream",
          "name": "stdout",
          "text": [
            "Early stopping at epoch 21 for fold 2\n",
            "--- Fold 3/5 ---\n",
            "Starting training for fold 3...\n"
          ]
        },
        {
          "output_type": "stream",
          "name": "stderr",
          "text": [
            "/usr/local/lib/python3.11/dist-packages/torch/optim/lr_scheduler.py:62: UserWarning: The verbose parameter is deprecated. Please use get_last_lr() to access the learning rate.\n",
            "  warnings.warn(\n"
          ]
        },
        {
          "output_type": "stream",
          "name": "stdout",
          "text": [
            "Early stopping at epoch 11 for fold 3\n",
            "--- Fold 4/5 ---\n",
            "Starting training for fold 4...\n"
          ]
        },
        {
          "output_type": "stream",
          "name": "stderr",
          "text": [
            "/usr/local/lib/python3.11/dist-packages/torch/optim/lr_scheduler.py:62: UserWarning: The verbose parameter is deprecated. Please use get_last_lr() to access the learning rate.\n",
            "  warnings.warn(\n"
          ]
        },
        {
          "output_type": "stream",
          "name": "stdout",
          "text": [
            "Early stopping at epoch 17 for fold 4\n",
            "--- Fold 5/5 ---\n",
            "Starting training for fold 5...\n"
          ]
        },
        {
          "output_type": "stream",
          "name": "stderr",
          "text": [
            "/usr/local/lib/python3.11/dist-packages/torch/optim/lr_scheduler.py:62: UserWarning: The verbose parameter is deprecated. Please use get_last_lr() to access the learning rate.\n",
            "  warnings.warn(\n",
            "[I 2025-05-05 11:05:56,437] Trial 44 finished with value: 0.16244245041678934 and parameters: {'lr': 0.00044889681547410155, 'batch_size': 128, 'hidden_dim': 189, 'dropout': 0.2853116722678606, 'weight_decay': 2.1080188058893177e-05}. Best is trial 26 with value: 0.16016547514852292.\n"
          ]
        },
        {
          "output_type": "stream",
          "name": "stdout",
          "text": [
            "Early stopping at epoch 18 for fold 5\n",
            "Trial 44 Results (averaged over folds): {'Ctd': 0.6795657614923061, 'AUC': 0.6888555618627156, 'IBS': 0.16244245041678934, 'Avg_ECE_over_times': 0.20558439648337878, 'Avg_Brier_over_times': 0.1532783682771733}\n",
            "\n",
            "Trial 45 with parameters: {'lr': 0.0002900782804255182, 'batch_size': 128, 'hidden_dim': 221, 'dropout': 0.309209631883272, 'weight_decay': 0.00010609118631793069, 'epochs': 50, 'n_splits': 5}\n",
            "--- Fold 1/5 ---\n",
            "Starting training for fold 1...\n"
          ]
        },
        {
          "output_type": "stream",
          "name": "stderr",
          "text": [
            "/usr/local/lib/python3.11/dist-packages/torch/optim/lr_scheduler.py:62: UserWarning: The verbose parameter is deprecated. Please use get_last_lr() to access the learning rate.\n",
            "  warnings.warn(\n"
          ]
        },
        {
          "output_type": "stream",
          "name": "stdout",
          "text": [
            "Early stopping at epoch 14 for fold 1\n",
            "--- Fold 2/5 ---\n",
            "Starting training for fold 2...\n"
          ]
        },
        {
          "output_type": "stream",
          "name": "stderr",
          "text": [
            "/usr/local/lib/python3.11/dist-packages/torch/optim/lr_scheduler.py:62: UserWarning: The verbose parameter is deprecated. Please use get_last_lr() to access the learning rate.\n",
            "  warnings.warn(\n"
          ]
        },
        {
          "output_type": "stream",
          "name": "stdout",
          "text": [
            "Early stopping at epoch 21 for fold 2\n",
            "--- Fold 3/5 ---\n",
            "Starting training for fold 3...\n"
          ]
        },
        {
          "output_type": "stream",
          "name": "stderr",
          "text": [
            "/usr/local/lib/python3.11/dist-packages/torch/optim/lr_scheduler.py:62: UserWarning: The verbose parameter is deprecated. Please use get_last_lr() to access the learning rate.\n",
            "  warnings.warn(\n"
          ]
        },
        {
          "output_type": "stream",
          "name": "stdout",
          "text": [
            "Early stopping at epoch 13 for fold 3\n",
            "--- Fold 4/5 ---\n",
            "Starting training for fold 4...\n"
          ]
        },
        {
          "output_type": "stream",
          "name": "stderr",
          "text": [
            "/usr/local/lib/python3.11/dist-packages/torch/optim/lr_scheduler.py:62: UserWarning: The verbose parameter is deprecated. Please use get_last_lr() to access the learning rate.\n",
            "  warnings.warn(\n"
          ]
        },
        {
          "output_type": "stream",
          "name": "stdout",
          "text": [
            "Early stopping at epoch 21 for fold 4\n",
            "--- Fold 5/5 ---\n",
            "Starting training for fold 5...\n"
          ]
        },
        {
          "output_type": "stream",
          "name": "stderr",
          "text": [
            "/usr/local/lib/python3.11/dist-packages/torch/optim/lr_scheduler.py:62: UserWarning: The verbose parameter is deprecated. Please use get_last_lr() to access the learning rate.\n",
            "  warnings.warn(\n",
            "[I 2025-05-05 11:05:58,801] Trial 45 finished with value: 0.16225008039927008 and parameters: {'lr': 0.0002900782804255182, 'batch_size': 128, 'hidden_dim': 221, 'dropout': 0.309209631883272, 'weight_decay': 0.00010609118631793069}. Best is trial 26 with value: 0.16016547514852292.\n"
          ]
        },
        {
          "output_type": "stream",
          "name": "stdout",
          "text": [
            "Early stopping at epoch 23 for fold 5\n",
            "Trial 45 Results (averaged over folds): {'Ctd': 0.6835783936988181, 'AUC': 0.6922461670793311, 'IBS': 0.16225008039927008, 'Avg_ECE_over_times': 0.20776726607498505, 'Avg_Brier_over_times': 0.15265819383636714}\n",
            "\n",
            "Trial 46 with parameters: {'lr': 0.0010572569465307257, 'batch_size': 128, 'hidden_dim': 208, 'dropout': 0.21789014231650228, 'weight_decay': 7.565987805932145e-05, 'epochs': 50, 'n_splits': 5}\n",
            "--- Fold 1/5 ---\n",
            "Starting training for fold 1...\n"
          ]
        },
        {
          "output_type": "stream",
          "name": "stderr",
          "text": [
            "/usr/local/lib/python3.11/dist-packages/torch/optim/lr_scheduler.py:62: UserWarning: The verbose parameter is deprecated. Please use get_last_lr() to access the learning rate.\n",
            "  warnings.warn(\n"
          ]
        },
        {
          "output_type": "stream",
          "name": "stdout",
          "text": [
            "Early stopping at epoch 12 for fold 1\n",
            "--- Fold 2/5 ---\n",
            "Starting training for fold 2...\n"
          ]
        },
        {
          "output_type": "stream",
          "name": "stderr",
          "text": [
            "/usr/local/lib/python3.11/dist-packages/torch/optim/lr_scheduler.py:62: UserWarning: The verbose parameter is deprecated. Please use get_last_lr() to access the learning rate.\n",
            "  warnings.warn(\n"
          ]
        },
        {
          "output_type": "stream",
          "name": "stdout",
          "text": [
            "Early stopping at epoch 14 for fold 2\n",
            "--- Fold 3/5 ---\n",
            "Starting training for fold 3...\n"
          ]
        },
        {
          "output_type": "stream",
          "name": "stderr",
          "text": [
            "/usr/local/lib/python3.11/dist-packages/torch/optim/lr_scheduler.py:62: UserWarning: The verbose parameter is deprecated. Please use get_last_lr() to access the learning rate.\n",
            "  warnings.warn(\n"
          ]
        },
        {
          "output_type": "stream",
          "name": "stdout",
          "text": [
            "Early stopping at epoch 12 for fold 3\n",
            "--- Fold 4/5 ---\n",
            "Starting training for fold 4...\n"
          ]
        },
        {
          "output_type": "stream",
          "name": "stderr",
          "text": [
            "/usr/local/lib/python3.11/dist-packages/torch/optim/lr_scheduler.py:62: UserWarning: The verbose parameter is deprecated. Please use get_last_lr() to access the learning rate.\n",
            "  warnings.warn(\n"
          ]
        },
        {
          "output_type": "stream",
          "name": "stdout",
          "text": [
            "Early stopping at epoch 18 for fold 4\n",
            "--- Fold 5/5 ---\n",
            "Starting training for fold 5...\n"
          ]
        },
        {
          "output_type": "stream",
          "name": "stderr",
          "text": [
            "/usr/local/lib/python3.11/dist-packages/torch/optim/lr_scheduler.py:62: UserWarning: The verbose parameter is deprecated. Please use get_last_lr() to access the learning rate.\n",
            "  warnings.warn(\n",
            "[I 2025-05-05 11:06:00,625] Trial 46 finished with value: 0.16301226232593563 and parameters: {'lr': 0.0010572569465307257, 'batch_size': 128, 'hidden_dim': 208, 'dropout': 0.21789014231650228, 'weight_decay': 7.565987805932145e-05}. Best is trial 26 with value: 0.16016547514852292.\n"
          ]
        },
        {
          "output_type": "stream",
          "name": "stdout",
          "text": [
            "Early stopping at epoch 13 for fold 5\n",
            "Trial 46 Results (averaged over folds): {'Ctd': 0.6843657348517697, 'AUC': 0.7000888171691388, 'IBS': 0.16301226232593563, 'Avg_ECE_over_times': 0.20929756479273376, 'Avg_Brier_over_times': 0.15394152541425957}\n",
            "\n",
            "Trial 47 with parameters: {'lr': 0.00019468558075986703, 'batch_size': 128, 'hidden_dim': 182, 'dropout': 0.25374330726727023, 'weight_decay': 0.0003372009748420322, 'epochs': 50, 'n_splits': 5}\n",
            "--- Fold 1/5 ---\n",
            "Starting training for fold 1...\n"
          ]
        },
        {
          "output_type": "stream",
          "name": "stderr",
          "text": [
            "/usr/local/lib/python3.11/dist-packages/torch/optim/lr_scheduler.py:62: UserWarning: The verbose parameter is deprecated. Please use get_last_lr() to access the learning rate.\n",
            "  warnings.warn(\n"
          ]
        },
        {
          "output_type": "stream",
          "name": "stdout",
          "text": [
            "Early stopping at epoch 26 for fold 1\n",
            "--- Fold 2/5 ---\n",
            "Starting training for fold 2...\n"
          ]
        },
        {
          "output_type": "stream",
          "name": "stderr",
          "text": [
            "/usr/local/lib/python3.11/dist-packages/torch/optim/lr_scheduler.py:62: UserWarning: The verbose parameter is deprecated. Please use get_last_lr() to access the learning rate.\n",
            "  warnings.warn(\n"
          ]
        },
        {
          "output_type": "stream",
          "name": "stdout",
          "text": [
            "Early stopping at epoch 44 for fold 2\n",
            "--- Fold 3/5 ---\n",
            "Starting training for fold 3...\n"
          ]
        },
        {
          "output_type": "stream",
          "name": "stderr",
          "text": [
            "/usr/local/lib/python3.11/dist-packages/torch/optim/lr_scheduler.py:62: UserWarning: The verbose parameter is deprecated. Please use get_last_lr() to access the learning rate.\n",
            "  warnings.warn(\n"
          ]
        },
        {
          "output_type": "stream",
          "name": "stdout",
          "text": [
            "Early stopping at epoch 17 for fold 3\n",
            "--- Fold 4/5 ---\n",
            "Starting training for fold 4...\n"
          ]
        },
        {
          "output_type": "stream",
          "name": "stderr",
          "text": [
            "/usr/local/lib/python3.11/dist-packages/torch/optim/lr_scheduler.py:62: UserWarning: The verbose parameter is deprecated. Please use get_last_lr() to access the learning rate.\n",
            "  warnings.warn(\n"
          ]
        },
        {
          "output_type": "stream",
          "name": "stdout",
          "text": [
            "Early stopping at epoch 26 for fold 4\n",
            "--- Fold 5/5 ---\n",
            "Starting training for fold 5...\n"
          ]
        },
        {
          "output_type": "stream",
          "name": "stderr",
          "text": [
            "/usr/local/lib/python3.11/dist-packages/torch/optim/lr_scheduler.py:62: UserWarning: The verbose parameter is deprecated. Please use get_last_lr() to access the learning rate.\n",
            "  warnings.warn(\n",
            "[I 2025-05-05 11:06:04,659] Trial 47 finished with value: 0.1612503276625534 and parameters: {'lr': 0.00019468558075986703, 'batch_size': 128, 'hidden_dim': 182, 'dropout': 0.25374330726727023, 'weight_decay': 0.0003372009748420322}. Best is trial 26 with value: 0.16016547514852292.\n"
          ]
        },
        {
          "output_type": "stream",
          "name": "stdout",
          "text": [
            "Early stopping at epoch 24 for fold 5\n",
            "Trial 47 Results (averaged over folds): {'Ctd': 0.6849459863396455, 'AUC': 0.6950060680691925, 'IBS': 0.1612503276625534, 'Avg_ECE_over_times': 0.20381462096490144, 'Avg_Brier_over_times': 0.15175952002270185}\n",
            "\n",
            "Trial 48 with parameters: {'lr': 0.00013364435214733794, 'batch_size': 64, 'hidden_dim': 167, 'dropout': 0.2748688518066334, 'weight_decay': 2.8942948381926643e-05, 'epochs': 50, 'n_splits': 5}\n",
            "--- Fold 1/5 ---\n",
            "Starting training for fold 1...\n"
          ]
        },
        {
          "output_type": "stream",
          "name": "stderr",
          "text": [
            "/usr/local/lib/python3.11/dist-packages/torch/optim/lr_scheduler.py:62: UserWarning: The verbose parameter is deprecated. Please use get_last_lr() to access the learning rate.\n",
            "  warnings.warn(\n"
          ]
        },
        {
          "output_type": "stream",
          "name": "stdout",
          "text": [
            "Early stopping at epoch 20 for fold 1\n",
            "--- Fold 2/5 ---\n",
            "Starting training for fold 2...\n"
          ]
        },
        {
          "output_type": "stream",
          "name": "stderr",
          "text": [
            "/usr/local/lib/python3.11/dist-packages/torch/optim/lr_scheduler.py:62: UserWarning: The verbose parameter is deprecated. Please use get_last_lr() to access the learning rate.\n",
            "  warnings.warn(\n"
          ]
        },
        {
          "output_type": "stream",
          "name": "stdout",
          "text": [
            "Early stopping at epoch 30 for fold 2\n",
            "--- Fold 3/5 ---\n",
            "Starting training for fold 3...\n"
          ]
        },
        {
          "output_type": "stream",
          "name": "stderr",
          "text": [
            "/usr/local/lib/python3.11/dist-packages/torch/optim/lr_scheduler.py:62: UserWarning: The verbose parameter is deprecated. Please use get_last_lr() to access the learning rate.\n",
            "  warnings.warn(\n"
          ]
        },
        {
          "output_type": "stream",
          "name": "stdout",
          "text": [
            "Early stopping at epoch 18 for fold 3\n",
            "--- Fold 4/5 ---\n",
            "Starting training for fold 4...\n"
          ]
        },
        {
          "output_type": "stream",
          "name": "stderr",
          "text": [
            "/usr/local/lib/python3.11/dist-packages/torch/optim/lr_scheduler.py:62: UserWarning: The verbose parameter is deprecated. Please use get_last_lr() to access the learning rate.\n",
            "  warnings.warn(\n"
          ]
        },
        {
          "output_type": "stream",
          "name": "stdout",
          "text": [
            "Early stopping at epoch 31 for fold 4\n",
            "--- Fold 5/5 ---\n",
            "Starting training for fold 5...\n"
          ]
        },
        {
          "output_type": "stream",
          "name": "stderr",
          "text": [
            "/usr/local/lib/python3.11/dist-packages/torch/optim/lr_scheduler.py:62: UserWarning: The verbose parameter is deprecated. Please use get_last_lr() to access the learning rate.\n",
            "  warnings.warn(\n",
            "[I 2025-05-05 11:06:10,461] Trial 48 finished with value: 0.16220736134386748 and parameters: {'lr': 0.00013364435214733794, 'batch_size': 64, 'hidden_dim': 167, 'dropout': 0.2748688518066334, 'weight_decay': 2.8942948381926643e-05}. Best is trial 26 with value: 0.16016547514852292.\n"
          ]
        },
        {
          "output_type": "stream",
          "name": "stdout",
          "text": [
            "Early stopping at epoch 49 for fold 5\n",
            "Trial 48 Results (averaged over folds): {'Ctd': 0.6846007126511224, 'AUC': 0.6944564667521691, 'IBS': 0.16220736134386748, 'Avg_ECE_over_times': 0.20824689305924676, 'Avg_Brier_over_times': 0.15223677688787726}\n",
            "\n",
            "Trial 49 with parameters: {'lr': 0.000736021002616476, 'batch_size': 128, 'hidden_dim': 195, 'dropout': 0.33782413716948295, 'weight_decay': 0.0001641109758247398, 'epochs': 50, 'n_splits': 5}\n",
            "--- Fold 1/5 ---\n",
            "Starting training for fold 1...\n"
          ]
        },
        {
          "output_type": "stream",
          "name": "stderr",
          "text": [
            "/usr/local/lib/python3.11/dist-packages/torch/optim/lr_scheduler.py:62: UserWarning: The verbose parameter is deprecated. Please use get_last_lr() to access the learning rate.\n",
            "  warnings.warn(\n"
          ]
        },
        {
          "output_type": "stream",
          "name": "stdout",
          "text": [
            "Early stopping at epoch 19 for fold 1\n",
            "--- Fold 2/5 ---\n",
            "Starting training for fold 2...\n"
          ]
        },
        {
          "output_type": "stream",
          "name": "stderr",
          "text": [
            "/usr/local/lib/python3.11/dist-packages/torch/optim/lr_scheduler.py:62: UserWarning: The verbose parameter is deprecated. Please use get_last_lr() to access the learning rate.\n",
            "  warnings.warn(\n"
          ]
        },
        {
          "output_type": "stream",
          "name": "stdout",
          "text": [
            "Early stopping at epoch 18 for fold 2\n",
            "--- Fold 3/5 ---\n",
            "Starting training for fold 3...\n"
          ]
        },
        {
          "output_type": "stream",
          "name": "stderr",
          "text": [
            "/usr/local/lib/python3.11/dist-packages/torch/optim/lr_scheduler.py:62: UserWarning: The verbose parameter is deprecated. Please use get_last_lr() to access the learning rate.\n",
            "  warnings.warn(\n"
          ]
        },
        {
          "output_type": "stream",
          "name": "stdout",
          "text": [
            "Early stopping at epoch 11 for fold 3\n",
            "--- Fold 4/5 ---\n",
            "Starting training for fold 4...\n"
          ]
        },
        {
          "output_type": "stream",
          "name": "stderr",
          "text": [
            "/usr/local/lib/python3.11/dist-packages/torch/optim/lr_scheduler.py:62: UserWarning: The verbose parameter is deprecated. Please use get_last_lr() to access the learning rate.\n",
            "  warnings.warn(\n"
          ]
        },
        {
          "output_type": "stream",
          "name": "stdout",
          "text": [
            "Early stopping at epoch 13 for fold 4\n",
            "--- Fold 5/5 ---\n",
            "Starting training for fold 5...\n"
          ]
        },
        {
          "output_type": "stream",
          "name": "stderr",
          "text": [
            "/usr/local/lib/python3.11/dist-packages/torch/optim/lr_scheduler.py:62: UserWarning: The verbose parameter is deprecated. Please use get_last_lr() to access the learning rate.\n",
            "  warnings.warn(\n",
            "[I 2025-05-05 11:06:12,536] Trial 49 finished with value: 0.16219072272394117 and parameters: {'lr': 0.000736021002616476, 'batch_size': 128, 'hidden_dim': 195, 'dropout': 0.33782413716948295, 'weight_decay': 0.0001641109758247398}. Best is trial 26 with value: 0.16016547514852292.\n"
          ]
        },
        {
          "output_type": "stream",
          "name": "stdout",
          "text": [
            "Early stopping at epoch 19 for fold 5\n",
            "Trial 49 Results (averaged over folds): {'Ctd': 0.6841945315134996, 'AUC': 0.695773573332405, 'IBS': 0.16219072272394117, 'Avg_ECE_over_times': 0.20860268264691983, 'Avg_Brier_over_times': 0.15306765951853155}\n",
            "\n",
            "Optuna study finished.\n",
            "Best trial:\n",
            "  Value (IBS): 0.1602\n",
            "  Params: {'lr': 0.0004471397635519047, 'batch_size': 128, 'hidden_dim': 176, 'dropout': 0.35402956678994396, 'weight_decay': 0.0001095849353677926}\n",
            "\n",
            "Retraining the best model on the full dataset...\n",
            "Training the final model...\n",
            "Final Model Training - Epoch 1/100, Loss: 3.7118\n"
          ]
        },
        {
          "output_type": "stream",
          "name": "stderr",
          "text": [
            "/usr/local/lib/python3.11/dist-packages/torch/optim/lr_scheduler.py:62: UserWarning: The verbose parameter is deprecated. Please use get_last_lr() to access the learning rate.\n",
            "  warnings.warn(\n"
          ]
        },
        {
          "output_type": "stream",
          "name": "stdout",
          "text": [
            "Final Model Training - Epoch 10/100, Loss: 3.5302\n",
            "Final Model Training - Epoch 20/100, Loss: 3.5130\n",
            "Final Model Training - Epoch 30/100, Loss: 3.4763\n",
            "Final Model Training - Epoch 40/100, Loss: 3.4698\n",
            "Final Model Training - Epoch 50/100, Loss: 3.4555\n",
            "Final Model Training - Epoch 60/100, Loss: 3.4472\n",
            "Final Model Training - Epoch 70/100, Loss: 3.4069\n",
            "Final Model Training - Epoch 80/100, Loss: 3.3843\n",
            "Final Model Training - Epoch 90/100, Loss: 3.3893\n",
            "Final Model Training - Epoch 100/100, Loss: 3.3624\n",
            "Final model training complete.\n",
            "\n",
            "Performing final evaluation on the full dataset...\n",
            "\n",
            "Final Evaluation Metrics (on the full dataset):\n",
            "  Concordance Index (Ctd): 0.7833\n",
            "  Time-dependent AUC (avg over times): 0.8221\n",
            "  Integrated Brier Score (IBS): 0.1337\n",
            "  Expected Calibration Error (ECE, avg over times): 0.1850\n",
            "  Brier Score (avg over times): 0.1259\n"
          ]
        },
        {
          "output_type": "display_data",
          "data": {
            "text/plain": [
              "<Figure size 1000x600 with 2 Axes>"
            ],
            "image/png": "[encoded data removed]"
          },
          "metadata": {}
        }
      ]
    },
    {
      "cell_type": "code",
      "source": [
        "import matplotlib.pyplot as plt\n",
        "import numpy as np\n",
        "import torch\n",
        "from torch.utils.data import DataLoader # Assuming you have this\n",
        "# Assuming lifelines is installed and imported\n",
        "try:\n",
        "    from lifelines import KaplanMeierFitter\n",
        "    from lifelines.statistics import logrank_test\n",
        "    lifelines_available = True\n",
        "except ImportError:\n",
        "    print(\"Warning: lifelines library not found. Kaplan-Meier plotting and log-rank test will be skipped.\")\n",
        "    lifelines_available = False\n",
        "# Assuming sksurv is installed and imported for kaplan_meier_estimator if used elsewhere\n",
        "try:\n",
        "    from sksurv.nonparametric import kaplan_meier_estimator\n",
        "    sksurv_available = True\n",
        "except ImportError:\n",
        "    print(\"Warning: scikit-survival library not found. Some functionality might be affected if used elsewhere.\")\n",
        "    sksurv_available = False"
      ],
      "metadata": {
        "id": "mhtxBdVlEr1l"
      },
      "execution_count": 6,
      "outputs": []
    },
    {
      "cell_type": "code",
      "source": [
        "# Optional: Plot Time-dependent AUC at evaluated times\n",
        "if plot_auc_possible:\n",
        "    auc_times, auc_scores = final_metrics[\"AUC_at_times\"]\n",
        "    # Ensure lists are numpy arrays for plotting if they aren't already\n",
        "    auc_times = np.array(auc_times)\n",
        "    auc_scores = np.array(auc_scores)\n",
        "    plt.figure(figsize=(10, 6))\n",
        "    plt.plot(auc_times, auc_scores, marker='o', linestyle='-')\n",
        "    plt.xlabel(\"Time\")\n",
        "    plt.ylabel(\"Time-dependent AUC\")\n",
        "    plt.title(\"Time-dependent AUC Over Time (Final Model)\")\n",
        "    plt.grid(True)\n",
        "    plt.ylim(0, 1.05) # Set y-axis limits for AUC\n",
        "    plt.show()\n",
        "else:\n",
        "    print(\"\\nCould not plot Time-dependent AUC as no valid AUC scores were computed.\")\n",
        "\n",
        "\n",
        "# --- Plot Predicted Survival Curves vs Kaplan-Meier ---\n",
        "if plot_survival_curve_possible and sksurv_available: # Check if sksurv KM estimator is available\n",
        "    print(\"\\nPlotting predicted survival curves vs Kaplan-Meier for sample individuals...\")\n",
        "\n",
        "    try:\n",
        "        # Get predicted hazards for the full dataset from the best model\n",
        "        best_model.eval()\n",
        "        all_hazards_full = []\n",
        "        # Use the same DataLoader as final evaluation\n",
        "        full_dataset_loader_hazards = DataLoader(dataset_full, batch_size=128, shuffle=False) # Ensure shuffle=False for consistent ordering\n",
        "        with torch.no_grad():\n",
        "            for X_batch, _, _ in full_dataset_loader_hazards:\n",
        "                X_batch = X_batch.to(device)\n",
        "                # Assuming model output is hazard or risk score; use it directly for ranking\n",
        "                # If model outputs survival function directly, need a different way to rank\n",
        "                preds = best_model(X_batch).cpu().numpy().flatten()\n",
        "                all_hazards_full.extend(preds)\n",
        "        all_hazards_full = np.array(all_hazards_full)\n",
        "        # Ensure the number of hazards matches the number of samples\n",
        "        if len(all_hazards_full) != len(dataset_full):\n",
        "             raise ValueError(f\"Mismatch between number of hazards ({len(all_hazards_full)}) and dataset size ({len(dataset_full)})\")\n",
        "\n",
        "\n",
        "        # Get predicted survival probabilities and times from the final evaluation metrics\n",
        "        predicted_survival_probs = final_metrics[\"survival_probs\"]\n",
        "        eval_times_for_survival_plot = final_metrics[\"eval_times\"]\n",
        "        # Ensure eval_times is a list or 1D array\n",
        "        if isinstance(eval_times_for_survival_plot, np.ndarray):\n",
        "             eval_times_for_survival_plot = eval_times_for_survival_plot.tolist()\n",
        "\n",
        "        # Calculate Kaplan-Meier curve for the full dataset (using y_full_data_sksurv created earlier)\n",
        "        km_times, km_survival_prob = kaplan_meier_estimator(y_full_data_sksurv[\"event\"], y_full_data_sksurv[\"time\"])\n",
        "\n",
        "        # Select individuals representing different risk groups based on predicted hazards/scores\n",
        "        # Sort individuals by their predicted hazard (ascending order means lower risk first)\n",
        "        sorted_indices_by_hazard = np.argsort(all_hazards_full)\n",
        "\n",
        "        # Choose individuals at specific percentiles of the sorted hazards\n",
        "        # Example: 10th (low risk), 50th (medium risk), 90th (high risk) percentiles\n",
        "        percentiles_to_plot = [10, 50, 90]\n",
        "        selected_indices = [sorted_indices_by_hazard[min(int(len(all_hazards_full) * p / 100), len(all_hazards_full) - 1)] for p in percentiles_to_plot]\n",
        "        # Use min() with len() - 1 to handle potential edge cases with small datasets\n",
        "\n",
        "        plt.figure(figsize=(10, 7))\n",
        "\n",
        "        # Plot Kaplan-Meier curve\n",
        "        plt.step(km_times, km_survival_prob, where=\"post\", label=\"Kaplan-Meier (Full Dataset)\", color='black', linestyle='--')\n",
        "\n",
        "        # Plot predicted survival curves for selected individuals\n",
        "        colors = ['green', 'blue', 'red'] # Colors for low, medium, high risk\n",
        "        labels = ['Predicted Survival (Low Risk)', 'Predicted Survival (Medium Risk)', 'Predicted Survival (High Risk)']\n",
        "\n",
        "        # The predicted_survival_probs are discrete points at eval_times.\n",
        "        # Plotting as markers connected by lines is appropriate.\n",
        "        # Add (0, 1.0) as a starting point.\n",
        "        plot_times_pred = [0] + eval_times_for_survival_plot\n",
        "        for i, idx in enumerate(selected_indices):\n",
        "            # Ensure the index is valid\n",
        "            if idx < 0 or idx >= predicted_survival_probs.shape[0]:\n",
        "                 print(f\"Warning: Selected index {idx} is out of bounds for predicted probabilities (shape: {predicted_survival_probs.shape}). Skipping this individual.\")\n",
        "                 continue\n",
        "            predicted_curve = predicted_survival_probs[idx, :]\n",
        "             # Ensure predicted_curve has the correct length\n",
        "            if len(predicted_curve) != len(eval_times_for_survival_plot):\n",
        "                 print(f\"Warning: Mismatch in length between predicted curve ({len(predicted_curve)}) and eval times ({len(eval_times_for_survival_plot)}) for index {idx}. Skipping.\")\n",
        "                 continue\n",
        "            plot_probs = [1.0] + predicted_curve.tolist()\n",
        "            plt.plot(plot_times_pred, plot_probs, marker='o', markersize=4, linestyle='-', color=colors[i], label=labels[i])\n",
        "\n",
        "\n",
        "        plt.xlabel(\"Time\")\n",
        "        plt.ylabel(\"Survival Probability\")\n",
        "        plt.title(\"Predicted Survival Curves for Sample Individuals vs Kaplan-Meier\")\n",
        "        plt.legend()\n",
        "        plt.grid(True)\n",
        "        plt.ylim(0, 1.05) # Ensure y-axis is from 0 to 1\n",
        "        plt.show()\n",
        "\n",
        "    except Exception as e:\n",
        "        import traceback\n",
        "        print(f\"Error plotting individual survival curves: {str(e)}\")\n",
        "        print(traceback.format_exc()) # Print traceback for detailed debugging\n",
        "        print(\"Could not plot predicted survival curves for sample individuals vs Kaplan-Meier.\")\n",
        "\n",
        "elif not sksurv_available:\n",
        "     print(\"\\nSkipping plotting predicted survival curves vs Kaplan-Meier because scikit-survival is not available.\")\n",
        "else:\n",
        "    print(\"\\nCould not plot predicted survival curves for sample individuals vs Kaplan-Meier as survival probabilities or evaluation times are not available.\")\n",
        "\n",
        "\n",
        "# --- Compare Model Predicted Group Survival vs Kaplan-Meier by Hormonal Therapy (Corrected Plotting) ---\n",
        "if plot_group_comparison_possible:\n",
        "    print(\"\\nComparing model predicted group survival vs Kaplan-Meier by hormonal therapy...\")\n",
        "\n",
        "    try:\n",
        "        # Get predicted survival probabilities and times from the final evaluation metrics\n",
        "        predicted_survival_probs_full = final_metrics[\"survival_probs\"]\n",
        "        eval_times_for_group_plot = final_metrics[\"eval_times\"]\n",
        "        # Ensure eval_times is a list or 1D array\n",
        "        if isinstance(eval_times_for_group_plot, np.ndarray):\n",
        "             eval_times_for_group_plot = eval_times_for_group_plot.tolist()\n",
        "\n",
        "        # --- Calculate Kaplan-Meier curves for the two groups (actual data) using lifelines ---\n",
        "        kmf_hormon = KaplanMeierFitter()\n",
        "        kmf_no_hormon = KaplanMeierFitter()\n",
        "\n",
        "        # Slice the full times and events tensors using the group indices\n",
        "        # Ensure indices are valid before slicing\n",
        "        times_hormon = times[hormon_1_indices].numpy() if hormon_1_indices else np.array([])\n",
        "        events_hormon = events[hormon_1_indices].numpy() if hormon_1_indices else np.array([])\n",
        "        times_no_hormon = times[hormon_0_indices].numpy() if hormon_0_indices else np.array([])\n",
        "        events_no_hormon = events[hormon_0_indices].numpy() if hormon_0_indices else np.array([])\n",
        "\n",
        "        # Define consistent colors and labels\n",
        "        color_hormon = 'blue'\n",
        "        color_no_hormon = 'red'\n",
        "        label_hormon_km = 'KM (Hormonal Therapy)'\n",
        "        label_no_hormon_km = 'KM (No Hormonal Therapy)'\n",
        "        label_hormon_pred = 'Model Avg (Hormonal Therapy)'\n",
        "        label_no_hormon_pred = 'Model Avg (No Hormonal Therapy)'\n",
        "\n",
        "        # Fit KM to each group's actual data only if data exists\n",
        "        km_hormon_fitted = False\n",
        "        if len(times_hormon) > 0:\n",
        "            kmf_hormon.fit(durations=times_hormon, event_observed=events_hormon, label=label_hormon_km)\n",
        "            km_hormon_fitted = True\n",
        "        else:\n",
        "            print(\"Warning: No data for Hormonal Therapy group KM curve.\")\n",
        "\n",
        "        km_no_hormon_fitted = False\n",
        "        #if len(times_no_hormon) > 0:\n",
        "            #kmf_no_hormon.fit(durations=times_no_hormon, event_observed=events_no_hormon, label=label_no_hormon_km)\n",
        "            #km_no_hormon_fitted = True\n",
        "        #else:\n",
        "        #    print(\"Warning: No data for No Hormonal Therapy group KM curve.\")\n",
        "\n",
        "        # --- Calculate Model Predicted survival curves for the two groups (average) ---\n",
        "        n_eval_times = len(eval_times_for_group_plot)\n",
        "        # Slice the predicted survival probabilities using the group indices\n",
        "        predicted_probs_hormon = predicted_survival_probs_full[hormon_1_indices, :] if hormon_1_indices else np.empty((0, n_eval_times))\n",
        "        predicted_probs_no_hormon = predicted_survival_probs_full[hormon_0_indices, :] if hormon_0_indices else np.empty((0, n_eval_times))\n",
        "\n",
        "        # Calculate the average predicted survival probability over time for each group\n",
        "        # Handle cases where a group might be empty to avoid errors\n",
        "        avg_predicted_hormon = np.mean(predicted_probs_hormon, axis=0) if predicted_probs_hormon.shape[0] > 0 else np.full(n_eval_times, np.nan)\n",
        "        avg_predicted_no_hormon = np.mean(predicted_probs_no_hormon, axis=0) if predicted_probs_no_hormon.shape[0] > 0 else np.full(n_eval_times, np.nan)\n",
        "\n",
        "        # --- Plotting ---\n",
        "        plt.figure(figsize=(10, 7))\n",
        "        ax = plt.gca() # Get current axes\n",
        "\n",
        "        # Plot Kaplan-Meier curves using lifelines' plot method if they were fitted\n",
        "        if km_hormon_fitted:\n",
        "             kmf_hormon.plot_survival_function(ax=ax, color=color_hormon, linestyle='-') # label is set during fit\n",
        "        if km_no_hormon_fitted:\n",
        "             kmf_no_hormon.plot_survival_function(ax=ax, color=color_no_hormon, linestyle='-') # label is set during fit\n",
        "\n",
        "        # Plot average predicted survival curves (as lines/markers at eval_times)\n",
        "        # Add (0, 1.0) as a starting point for the predicted curves\n",
        "        plot_times_pred = [0] + eval_times_for_group_plot\n",
        "\n",
        "        # Plot predicted curves, checking if they are valid (not all NaN)\n",
        "        plot_pred_hormon = False\n",
        "        if not np.all(np.isnan(avg_predicted_hormon)):\n",
        "            # Plot on the same axes\n",
        "            ax.plot(plot_times_pred, [1.0] + avg_predicted_hormon.tolist(), marker='x', linestyle='--', color=color_hormon, label=label_hormon_pred)\n",
        "            plot_pred_hormon = True\n",
        "        else:\n",
        "            print(\"Warning: Cannot plot average predicted survival for Hormonal Therapy group (empty or all NaN).\")\n",
        "\n",
        "        plot_pred_no_hormon = False\n",
        "        if not np.all(np.isnan(avg_predicted_no_hormon)):\n",
        "            # Plot on the same axes\n",
        "            ax.plot(plot_times_pred, [1.0] + avg_predicted_no_hormon.tolist(), marker='x', linestyle='--', color=color_no_hormon, label=label_no_hormon_pred)\n",
        "            plot_pred_no_hormon = True\n",
        "        else:\n",
        "            print(\"Warning: Cannot plot average predicted survival for No Hormonal Therapy group (empty or all NaN).\")\n",
        "\n",
        "        # Only add legend if something was plotted\n",
        "        if km_hormon_fitted or km_no_hormon_fitted or plot_pred_hormon or plot_pred_no_hormon:\n",
        "             ax.legend() # Let matplotlib handle the legend automatically\n",
        "\n",
        "        plt.xlabel(\"Time\")\n",
        "        plt.ylabel(\"Survival Probability\")\n",
        "        plt.title(\"Survival Function Comparison: Actual KM vs. Model Average Prediction by Hormonal Therapy\")\n",
        "        plt.grid(True)\n",
        "        plt.ylim(0, 1.05) # Ensure y-axis is from 0 to 1\n",
        "        plt.show()\n",
        "\n",
        "        # --- Perform Log-rank test using lifelines ---\n",
        "        print(\"\\nPerforming Log-rank test on actual data groups:\")\n",
        "        # Check if there is enough data in each group for the log-rank test\n",
        "        if len(times_hormon) > 0 and len(times_no_hormon) > 0:\n",
        "            try:\n",
        "                results = logrank_test(\n",
        "                    durations_A=times_hormon, durations_B=times_no_hormon,\n",
        "                    event_observed_A=events_hormon, event_observed_B=events_no_hormon\n",
        "                )\n",
        "                # Print the p-value and summary\n",
        "                print(f\"Log-rank test p-value: {results.p_value:.4f}\")\n",
        "                # print(results.print_summary()) # Uncomment for full summary\n",
        "            except Exception as logrank_e:\n",
        "                 print(f\"Error during log-rank test: {logrank_e}\")\n",
        "                 print(\"Could not perform log-rank test.\")\n",
        "        else:\n",
        "            print(\"Warning: One or both groups have insufficient data. Cannot perform Log-rank test.\")\n",
        "\n",
        "    except Exception as e:\n",
        "        import traceback\n",
        "        print(f\"Error comparing group survival curves or performing log-rank test: {str(e)}\")\n",
        "        print(traceback.format_exc()) # Print traceback for detailed debugging\n",
        "        print(\"Could not plot group survival curve comparison or perform log-rank test.\")\n",
        "\n",
        "elif not lifelines_available:\n",
        "     print(\"\\nSkipping group survival comparison because lifelines library is not available.\")\n",
        "elif not plot_survival_curve_possible:\n",
        "     print(\"\\nSkipping group survival comparison because survival probabilities are not available.\")\n",
        "elif len(hormon_1_indices) == 0 or len(hormon_0_indices) == 0:\n",
        "     print(\"\\nSkipping group survival comparison because one or both hormonal therapy groups are empty.\")\n",
        "else:\n",
        "    print(\"\\nCould not plot group survival comparison or perform log-rank test for other reasons.\")"
      ],
      "metadata": {
        "colab": {
          "base_uri": "https://localhost:8080/",
          "height": 1000
        },
        "id": "NyZZQEVxEs4M",
        "outputId": "39dbb1fc-7f15-4747-9532-612a81396d6d"
      },
      "execution_count": 7,
      "outputs": [
        {
          "output_type": "display_data",
          "data": {
            "text/plain": [
              "<Figure size 1000x600 with 1 Axes>"
            ],
            "image/png": "[encoded data removed]"
          },
          "metadata": {}
        },
        {
          "output_type": "stream",
          "name": "stdout",
          "text": [
            "\n",
            "Plotting predicted survival curves vs Kaplan-Meier for sample individuals...\n"
          ]
        },
        {
          "output_type": "display_data",
          "data": {
            "text/plain": [
              "<Figure size 1000x700 with 1 Axes>"
            ],
            "image/png": "[encoded data removed]"
          },
          "metadata": {}
        },
        {
          "output_type": "stream",
          "name": "stdout",
          "text": [
            "\n",
            "Comparing model predicted group survival vs Kaplan-Meier by hormonal therapy...\n"
          ]
        },
        {
          "output_type": "display_data",
          "data": {
            "text/plain": [
              "<Figure size 1000x700 with 1 Axes>"
            ],
            "image/png": "[encoded data removed]"
          },
          "metadata": {}
        },
        {
          "output_type": "stream",
          "name": "stdout",
          "text": [
            "\n",
            "Performing Log-rank test on actual data groups:\n",
            "Log-rank test p-value: 0.1358\n"
          ]
        }
      ]
    },
    {
      "cell_type": "code",
      "source": [
        "# --- Group Evaluation at 75th Percentile ---\n",
        "def evaluate_hormonal_groups(best_model, dataset_full, hormon_indices_list, device, eval_times, y_train):\n",
        "    \"\"\"\n",
        "    Evaluate model performance on hormonal therapy groups (75th percentile split)\n",
        "\n",
        "    Args:\n",
        "        best_model: Trained PyTorch model\n",
        "        dataset_full: Full dataset tensor\n",
        "        hormon_indices_list: List of indices for hormonal groups\n",
        "        device: Device to use\n",
        "        eval_times: Evaluation time points\n",
        "        y_train: Training survival data for sksurv metrics\n",
        "\n",
        "    Returns:\n",
        "        Dictionary containing metrics for each group\n",
        "    \"\"\"\n",
        "    group_metrics = {}\n",
        "    group_names = ['No Hormonal Therapy', 'Hormonal Therapy']\n",
        "\n",
        "    for idx, indices in enumerate(hormon_indices_list):\n",
        "        if len(indices) == 0:\n",
        "            print(f\"Warning: No samples in group {group_names[idx]}. Skipping evaluation.\")\n",
        "            continue\n",
        "\n",
        "        group_loader = DataLoader(Subset(dataset_full, indices), batch_size=128)\n",
        "\n",
        "        # Ensure y_train is Surv object and eval_times are valid\n",
        "        group_results = evaluate_model(\n",
        "            best_model,\n",
        "            group_loader,\n",
        "            device,\n",
        "            [t for t in eval_times if t < y_train['time'].max()],\n",
        "            y_train\n",
        "        )\n",
        "\n",
        "        group_metrics[group_names[idx]] = group_results\n",
        "        print(f\"\\n{group_names[idx]} Metrics:\")\n",
        "        print(f\"  Ctd: {group_results['Ctd']:.4f}\")\n",
        "        print(f\"  AUC: {group_results['AUC']:.4f}\")\n",
        "        print(f\"  IBS: {group_results['IBS']:.4f}\")\n",
        "        print(f\"  Avg ECE: {np.nanmean(group_results['ECE_at_times']):.4f}\")\n",
        "        print(f\"  Avg Brier: {np.nanmean(group_results['Brier_at_times']):.4f}\")\n",
        "\n",
        "    return group_metrics\n",
        "\n",
        "# --- Survival Curve Comparison ---\n",
        "def plot_group_survival_curves(best_model, dataset_full, hormon_indices_list, times, events, eval_times, device):\n",
        "    best_model.eval()\n",
        "    group_survival = []\n",
        "\n",
        "    with torch.no_grad():\n",
        "        for indices in hormon_indices_list:\n",
        "            if len(indices) == 0:\n",
        "                group_survival.append(None)\n",
        "                continue\n",
        "\n",
        "            X_group = torch.stack([dataset_full[i][0] for i in indices]).to(device)\n",
        "            hazards = best_model(X_group).cpu().numpy().flatten()\n",
        "\n",
        "            order = np.argsort(times[indices])\n",
        "            sorted_hazards = hazards[order]\n",
        "            sorted_times = times[indices][order]\n",
        "            sorted_events = events[indices][order]\n",
        "\n",
        "            unique_times = np.unique(sorted_times[sorted_events])\n",
        "            baseline_hazard = {}\n",
        "            for t in unique_times:\n",
        "                risk_set = np.where(sorted_times >= t)[0]\n",
        "                risk_sum = np.sum(np.exp(sorted_hazards[risk_set])) if len(risk_set) > 0 else 0\n",
        "                events_at_t = np.sum(sorted_times == t)\n",
        "                baseline_hazard[t] = events_at_t / risk_sum if risk_sum > 0 else 0\n",
        "\n",
        "            survival_probs = np.zeros(len(eval_times))\n",
        "            cum_hazard = 0\n",
        "            for i, t in enumerate(eval_times):\n",
        "                relevant_times = [ut for ut in unique_times if ut <= t]\n",
        "                if relevant_times:\n",
        "                    cum_hazard += sum(baseline_hazard[ut] for ut in relevant_times)\n",
        "                survival_probs[i] = np.exp(-cum_hazard * np.mean(np.exp(sorted_hazards)))\n",
        "\n",
        "            group_survival.append(survival_probs)\n",
        "\n",
        "    plt.figure(figsize=(10, 6))\n",
        "    colors = ['blue', 'red']\n",
        "    labels = ['No Hormonal Therapy', 'Hormonal Therapy']\n",
        "\n",
        "    # Store legend handles and labels manually\n",
        "    legend_handles = []\n",
        "\n",
        "    for i, survival_probs in enumerate(group_survival):\n",
        "        if survival_probs is None:\n",
        "            continue\n",
        "\n",
        "        # Kaplan-Meier Plot\n",
        "        kmf = KaplanMeierFitter()\n",
        "        kmf.fit(times[hormon_indices_list[i]], event_observed=events[hormon_indices_list[i]])\n",
        "        #km_line = kmf.plot_survival_function(color=colors[i])  # Do NOT include label here\n",
        "        #legend_handles.append(km_line.get_lines()[0])  # Manually add KM line to legend\n",
        "\n",
        "        # Model prediction plot\n",
        "        model_line, = plt.plot(\n",
        "            eval_times,\n",
        "            survival_probs,\n",
        "            linestyle='--',\n",
        "            marker='o',\n",
        "            color=colors[i],\n",
        "            label=f'Model - {labels[i]}'\n",
        "        )\n",
        "        legend_handles.append(model_line)\n",
        "\n",
        "    # Create legend manually\n",
        "    plt.legend(legend_handles, [f'KM - {l}' for l in labels] + [f'Model - {l}' for l in labels])\n",
        "    plt.title('Survival Curves by Hormonal Therapy Status')\n",
        "    plt.xlabel('Time')\n",
        "    plt.ylabel('Survival Probability')\n",
        "    plt.grid(True)\n",
        "    plt.ylim(0, 1.05)\n",
        "    plt.show()\n",
        "\n",
        "# --- Main Execution with Fixes ---\n",
        "if __name__ == \"__main__\":\n",
        "    # Convert tensors to NumPy arrays for plotting functions\n",
        "    times_np = times.numpy()\n",
        "    events_np = events.numpy()\n",
        "\n",
        "    # Final evaluation on full dataset\n",
        "    final_eval_times = np.percentile(times_np, [10, 25, 50, 75, 90])\n",
        "    full_loader = DataLoader(dataset_full, batch_size=128)\n",
        "    y_full = Surv.from_arrays(event=events_np, time=times_np)\n",
        "\n",
        "    # Final model training and evaluation\n",
        "    final_metrics = evaluate_model(best_model, full_loader, device, final_eval_times, y_full)\n",
        "\n",
        "    # Group evaluation\n",
        "    hormon_indices_list = [hormon_0_indices, hormon_1_indices]\n",
        "    group_metrics = evaluate_hormonal_groups(\n",
        "        best_model,\n",
        "        dataset_full,\n",
        "        hormon_indices_list,\n",
        "        device,\n",
        "        final_eval_times,\n",
        "        y_full\n",
        "    )\n",
        "\n",
        "    # Survival curve plotting\n",
        "    plot_group_survival_curves(\n",
        "        best_model,\n",
        "        dataset_full,\n",
        "        hormon_indices_list,\n",
        "        times_np,  # Use NumPy arrays\n",
        "        events_np,\n",
        "        final_eval_times,\n",
        "        device\n",
        "    )\n",
        "\n",
        "    # Log-rank test\n",
        "    if len(hormon_0_indices) > 0 and len(hormon_1_indices) > 0:\n",
        "        results = logrank_test(\n",
        "            durations_A=times_np[hormon_0_indices],\n",
        "            durations_B=times_np[hormon_1_indices],\n",
        "            event_observed_A=events_np[hormon_0_indices],\n",
        "            event_observed_B=events_np[hormon_1_indices]\n",
        "        )\n",
        "        print(f\"\\nLog-rank test p-value: {results.p_value:.4f}\")"
      ],
      "metadata": {
        "colab": {
          "base_uri": "https://localhost:8080/",
          "height": 868
        },
        "id": "z534tOjIf4gh",
        "outputId": "7e03113f-7dae-42dd-9996-6a84d483b31b"
      },
      "execution_count": 8,
      "outputs": [
        {
          "output_type": "stream",
          "name": "stdout",
          "text": [
            "Error computing Time-dependent AUC: The truth value of an array with more than one element is ambiguous. Use a.any() or a.all()\n",
            "\n",
            "No Hormonal Therapy Metrics:\n",
            "  Ctd: 0.7752\n",
            "  AUC: 0.8137\n",
            "  IBS: 0.1451\n",
            "  Avg ECE: 0.1705\n",
            "  Avg Brier: 0.1354\n",
            "\n",
            "Hormonal Therapy Metrics:\n",
            "  Ctd: 0.7955\n",
            "  AUC: 0.8542\n",
            "  IBS: 0.1148\n",
            "  Avg ECE: 0.2002\n",
            "  Avg Brier: 0.1045\n"
          ]
        },
        {
          "output_type": "display_data",
          "data": {
            "text/plain": [
              "<Figure size 1000x600 with 1 Axes>"
            ],
            "image/png": "[encoded data removed]"
          },
          "metadata": {}
        },
        {
          "output_type": "stream",
          "name": "stdout",
          "text": [
            "\n",
            "Log-rank test p-value: 0.1358\n"
          ]
        }
      ]
    }
  ],
  "metadata": {
    "accelerator": "GPU",
    "colab": {
      "gpuType": "T4",
      "provenance": []
    },
    "kernelspec": {
      "display_name": "Python 3",
      "name": "python3"
    },
    "language_info": {
      "name": "python"
    }
  },
  "nbformat": 4,
  "nbformat_minor": 0
}