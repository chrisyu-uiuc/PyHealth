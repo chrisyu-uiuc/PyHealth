{
  "cells": [
    {
      "cell_type": "markdown",
      "source": [
        "This project uses a StaticHazardModel, an MLP, to predict patient risk scores from features for survival analysis on the GBSG dataset.\n",
        "\n",
        "The model is trained with the cox_loss function, which focuses on risk ranking. It uses an Adam optimizer and a learning rate scheduler for efficient training.\n",
        "\n",
        "Hyperparameter tuning is done with Optuna and Stratified K-Fold cross-validation. It finds optimal settings for parameters like learning rate and batch size by minimizing the Integrated Brier Score (IBS).\n",
        "\n",
        "The best model is retrained on the full dataset. Final evaluation uses metrics like Concordance Index (Ctd), time-dependent AUC, IBS, Brier Score, and Expected Calibration Error (ECE) to assess performance."
      ],
      "metadata": {
        "id": "d4Mzk8DlIr6i"
      }
    },
    {
      "cell_type": "markdown",
      "source": [
        "This project utilizes two key classes to handle data and define the survival analysis task:\n",
        "*   GBSGDataset: Manages loading and accessing the GBSG breast cancer patient dataset. It provides the raw clinical and survival data.\n",
        "*   SurvivalAnalysisGBSG: Defines the survival analysis task for the GBSG data. It specifies which patient attributes are used as model inputs and what survival outcomes (time and event) are the targets for prediction."
      ],
      "metadata": {
        "id": "Z6NFFmT_JXEP"
      }
    },
    {
      "cell_type": "code",
      "execution_count": 1,
      "metadata": {
        "colab": {
          "base_uri": "https://localhost:8080/"
        },
        "id": "fw-x6S2eQERE",
        "outputId": "f7e86246-8db9-4cbb-b73d-21899d8b238f"
      },
      "outputs": [
        {
          "output_type": "stream",
          "name": "stdout",
          "text": [
            "Cloning into 'PyHealth'...\n",
            "remote: Enumerating objects: 6927, done.\u001b[K\n",
            "remote: Counting objects: 100% (1380/1380), done.\u001b[K\n",
            "remote: Compressing objects: 100% (478/478), done.\u001b[K\n",
            "remote: Total 6927 (delta 1130), reused 907 (delta 902), pack-reused 5547 (from 3)\u001b[K\n",
            "Receiving objects: 100% (6927/6927), 112.32 MiB | 14.30 MiB/s, done.\n",
            "Resolving deltas: 100% (4390/4390), done.\n"
          ]
        }
      ],
      "source": [
        "!git clone https://github.com/chrisyu-uiuc/PyHealth"
      ]
    },
    {
      "cell_type": "code",
      "execution_count": 2,
      "metadata": {
        "colab": {
          "base_uri": "https://localhost:8080/",
          "height": 1000
        },
        "id": "RBIhA92BQHWe",
        "outputId": "ecd05de5-c4f8-4d57-981c-5e30f3169be8"
      },
      "outputs": [
        {
          "output_type": "stream",
          "name": "stdout",
          "text": [
            "Collecting virtualenv\n",
            "  Downloading virtualenv-20.30.0-py3-none-any.whl.metadata (4.5 kB)\n",
            "Collecting distlib<1,>=0.3.7 (from virtualenv)\n",
            "  Downloading distlib-0.3.9-py2.py3-none-any.whl.metadata (5.2 kB)\n",
            "Requirement already satisfied: filelock<4,>=3.12.2 in /usr/local/lib/python3.11/dist-packages (from virtualenv) (3.18.0)\n",
            "Requirement already satisfied: platformdirs<5,>=3.9.1 in /usr/local/lib/python3.11/dist-packages (from virtualenv) (4.3.7)\n",
            "Downloading virtualenv-20.30.0-py3-none-any.whl (4.3 MB)\n",
            "\u001b[2K   \u001b[90m━━━━━━━━━━━━━━━━━━━━━━━━━━━━━━━━━━━━━━━━\u001b[0m \u001b[32m4.3/4.3 MB\u001b[0m \u001b[31m86.3 MB/s\u001b[0m eta \u001b[36m0:00:00\u001b[0m\n",
            "\u001b[?25hDownloading distlib-0.3.9-py2.py3-none-any.whl (468 kB)\n",
            "\u001b[2K   \u001b[90m━━━━━━━━━━━━━━━━━━━━━━━━━━━━━━━━━━━━━━━━\u001b[0m \u001b[32m469.0/469.0 kB\u001b[0m \u001b[31m35.8 MB/s\u001b[0m eta \u001b[36m0:00:00\u001b[0m\n",
            "\u001b[?25hInstalling collected packages: distlib, virtualenv\n",
            "Successfully installed distlib-0.3.9 virtualenv-20.30.0\n",
            "Found existing installation: numpy 2.0.2\n",
            "Uninstalling numpy-2.0.2:\n",
            "  Successfully uninstalled numpy-2.0.2\n",
            "Found existing installation: pandas 2.2.2\n",
            "Uninstalling pandas-2.2.2:\n",
            "  Successfully uninstalled pandas-2.2.2\n",
            "\u001b[33mWARNING: Skipping pyhealth as it is not installed.\u001b[0m\u001b[33m\n",
            "\u001b[0mFiles removed: 12\n",
            "Collecting numpy==1.23.5\n",
            "  Downloading numpy-1.23.5-cp311-cp311-manylinux_2_17_x86_64.manylinux2014_x86_64.whl.metadata (2.3 kB)\n",
            "Downloading numpy-1.23.5-cp311-cp311-manylinux_2_17_x86_64.manylinux2014_x86_64.whl (17.1 MB)\n",
            "\u001b[2K   \u001b[90m━━━━━━━━━━━━━━━━━━━━━━━━━━━━━━━━━━━━━━━━\u001b[0m \u001b[32m17.1/17.1 MB\u001b[0m \u001b[31m69.3 MB/s\u001b[0m eta \u001b[36m0:00:00\u001b[0m\n",
            "\u001b[?25hInstalling collected packages: numpy\n",
            "\u001b[31mERROR: pip's dependency resolver does not currently take into account all the packages that are installed. This behaviour is the source of the following dependency conflicts.\n",
            "db-dtypes 1.4.2 requires pandas>=0.24.2, which is not installed.\n",
            "arviz 0.21.0 requires pandas>=1.5.0, which is not installed.\n",
            "shap 0.47.2 requires pandas, which is not installed.\n",
            "dask-cuda 25.2.0 requires pandas>=1.3, which is not installed.\n",
            "statsmodels 0.14.4 requires pandas!=2.1.0,>=1.4, which is not installed.\n",
            "bqplot 0.12.44 requires pandas<3.0.0,>=1.0.0, which is not installed.\n",
            "xarray 2025.3.1 requires pandas>=2.1, which is not installed.\n",
            "mlxtend 0.23.4 requires pandas>=0.24.2, which is not installed.\n",
            "holoviews 1.20.2 requires pandas>=1.3, which is not installed.\n",
            "bokeh 3.7.2 requires pandas>=1.2, which is not installed.\n",
            "datascience 0.17.6 requires pandas, which is not installed.\n",
            "geemap 0.35.3 requires pandas, which is not installed.\n",
            "dask-cudf-cu12 25.2.2 requires pandas<2.2.4dev0,>=2.0, which is not installed.\n",
            "mizani 0.13.3 requires pandas>=2.2.0, which is not installed.\n",
            "bigframes 2.1.0 requires pandas>=1.5.3, which is not installed.\n",
            "pandas-gbq 0.28.0 requires pandas>=1.1.4, which is not installed.\n",
            "seaborn 0.13.2 requires pandas>=1.2, which is not installed.\n",
            "cmdstanpy 1.2.5 requires pandas, which is not installed.\n",
            "plotnine 0.14.5 requires pandas>=2.2.0, which is not installed.\n",
            "cufflinks 0.17.3 requires pandas>=0.19.2, which is not installed.\n",
            "prophet 1.1.6 requires pandas>=1.0.4, which is not installed.\n",
            "tensorflow-decision-forests 1.11.0 requires pandas, which is not installed.\n",
            "pymc 5.22.0 requires pandas>=0.24.0, which is not installed.\n",
            "yfinance 0.2.57 requires pandas>=1.3.0, which is not installed.\n",
            "sklearn-pandas 2.2.0 requires pandas>=1.1.4, which is not installed.\n",
            "fastai 2.7.19 requires pandas, which is not installed.\n",
            "bigquery-magics 0.9.0 requires pandas>=1.1.0, which is not installed.\n",
            "cudf-cu12 25.2.1 requires pandas<2.2.4dev0,>=2.0, which is not installed.\n",
            "dopamine-rl 4.1.2 requires pandas>=0.24.2, which is not installed.\n",
            "geopandas 1.0.1 requires pandas>=1.4.0, which is not installed.\n",
            "panel 1.6.3 requires pandas>=1.2, which is not installed.\n",
            "xarray 2025.3.1 requires numpy>=1.24, but you have numpy 1.23.5 which is incompatible.\n",
            "jax 0.5.2 requires numpy>=1.25, but you have numpy 1.23.5 which is incompatible.\n",
            "scikit-image 0.25.2 requires numpy>=1.24, but you have numpy 1.23.5 which is incompatible.\n",
            "bigframes 2.1.0 requires numpy>=1.24.0, but you have numpy 1.23.5 which is incompatible.\n",
            "treescope 0.1.9 requires numpy>=1.25.2, but you have numpy 1.23.5 which is incompatible.\n",
            "albumentations 2.0.6 requires numpy>=1.24.4, but you have numpy 1.23.5 which is incompatible.\n",
            "imbalanced-learn 0.13.0 requires numpy<3,>=1.24.3, but you have numpy 1.23.5 which is incompatible.\n",
            "pymc 5.22.0 requires numpy>=1.25.0, but you have numpy 1.23.5 which is incompatible.\n",
            "albucore 0.0.24 requires numpy>=1.24.4, but you have numpy 1.23.5 which is incompatible.\n",
            "blosc2 3.3.1 requires numpy>=1.26, but you have numpy 1.23.5 which is incompatible.\n",
            "thinc 8.3.6 requires numpy<3.0.0,>=2.0.0, but you have numpy 1.23.5 which is incompatible.\n",
            "jaxlib 0.5.1 requires numpy>=1.25, but you have numpy 1.23.5 which is incompatible.\n",
            "tensorflow 2.18.0 requires numpy<2.1.0,>=1.26.0, but you have numpy 1.23.5 which is incompatible.\n",
            "chex 0.1.89 requires numpy>=1.24.1, but you have numpy 1.23.5 which is incompatible.\u001b[0m\u001b[31m\n",
            "\u001b[0mSuccessfully installed numpy-1.23.5\n"
          ]
        },
        {
          "output_type": "display_data",
          "data": {
            "application/vnd.colab-display-data+json": {
              "pip_warning": {
                "packages": [
                  "numpy"
                ]
              },
              "id": "5dc50c2c1853495887a0996ac886d5bb"
            }
          },
          "metadata": {}
        },
        {
          "output_type": "stream",
          "name": "stdout",
          "text": [
            "Collecting pandas==1.5.3\n",
            "  Downloading pandas-1.5.3-cp311-cp311-manylinux_2_17_x86_64.manylinux2014_x86_64.whl.metadata (11 kB)\n",
            "Requirement already satisfied: python-dateutil>=2.8.1 in /usr/local/lib/python3.11/dist-packages (from pandas==1.5.3) (2.9.0.post0)\n",
            "Requirement already satisfied: pytz>=2020.1 in /usr/local/lib/python3.11/dist-packages (from pandas==1.5.3) (2025.2)\n",
            "Requirement already satisfied: numpy>=1.21.0 in /usr/local/lib/python3.11/dist-packages (from pandas==1.5.3) (1.23.5)\n",
            "Requirement already satisfied: six>=1.5 in /usr/local/lib/python3.11/dist-packages (from python-dateutil>=2.8.1->pandas==1.5.3) (1.17.0)\n",
            "Downloading pandas-1.5.3-cp311-cp311-manylinux_2_17_x86_64.manylinux2014_x86_64.whl (12.0 MB)\n",
            "\u001b[2K   \u001b[90m━━━━━━━━━━━━━━━━━━━━━━━━━━━━━━━━━━━━━━━━\u001b[0m \u001b[32m12.0/12.0 MB\u001b[0m \u001b[31m173.2 MB/s\u001b[0m eta \u001b[36m0:00:00\u001b[0m\n",
            "\u001b[?25hInstalling collected packages: pandas\n",
            "\u001b[31mERROR: pip's dependency resolver does not currently take into account all the packages that are installed. This behaviour is the source of the following dependency conflicts.\n",
            "google-colab 1.0.0 requires pandas==2.2.2, but you have pandas 1.5.3 which is incompatible.\n",
            "xarray 2025.3.1 requires numpy>=1.24, but you have numpy 1.23.5 which is incompatible.\n",
            "xarray 2025.3.1 requires pandas>=2.1, but you have pandas 1.5.3 which is incompatible.\n",
            "dask-cudf-cu12 25.2.2 requires pandas<2.2.4dev0,>=2.0, but you have pandas 1.5.3 which is incompatible.\n",
            "mizani 0.13.3 requires pandas>=2.2.0, but you have pandas 1.5.3 which is incompatible.\n",
            "bigframes 2.1.0 requires numpy>=1.24.0, but you have numpy 1.23.5 which is incompatible.\n",
            "plotnine 0.14.5 requires pandas>=2.2.0, but you have pandas 1.5.3 which is incompatible.\n",
            "pymc 5.22.0 requires numpy>=1.25.0, but you have numpy 1.23.5 which is incompatible.\n",
            "dask-expr 1.1.21 requires pandas>=2, but you have pandas 1.5.3 which is incompatible.\n",
            "cudf-cu12 25.2.1 requires pandas<2.2.4dev0,>=2.0, but you have pandas 1.5.3 which is incompatible.\u001b[0m\u001b[31m\n",
            "\u001b[0mSuccessfully installed pandas-1.5.3\n",
            "created virtual environment CPython3.11.12.final.0-64 in 925ms\n",
            "  creator CPython3Posix(dest=/content/pyhealth_env, clear=False, no_vcs_ignore=False, global=False)\n",
            "  seeder FromAppData(download=False, pip=bundle, setuptools=bundle, wheel=bundle, via=copy, app_data_dir=/root/.local/share/virtualenv)\n",
            "    added seed packages: pip==25.0.1, setuptools==78.1.0, wheel==0.45.1\n",
            "  activators BashActivator,CShellActivator,FishActivator,NushellActivator,PowerShellActivator,PythonActivator\n",
            "\u001b[31mERROR: Invalid requirement: 'pandas==1.5.3#': Expected end or semicolon (after version specifier)\n",
            "    pandas==1.5.3#\n",
            "          ~~~~~~~^\u001b[0m\u001b[31m\n",
            "\u001b[0mfatal: destination path 'PyHealth' already exists and is not an empty directory.\n",
            "Processing /content/PyHealth\n",
            "  Preparing metadata (setup.py) ... \u001b[?25l\u001b[?25hdone\n",
            "Requirement already satisfied: torch>=1.8.0 in /usr/local/lib/python3.11/dist-packages (from pyhealth==1.1.4) (2.6.0+cu124)\n",
            "Requirement already satisfied: torchvision>=0.9.0 in /usr/local/lib/python3.11/dist-packages (from pyhealth==1.1.4) (0.21.0+cu124)\n",
            "Collecting rdkit>=2022.03.4 (from pyhealth==1.1.4)\n",
            "  Downloading rdkit-2024.9.6-cp311-cp311-manylinux_2_28_x86_64.whl.metadata (4.0 kB)\n",
            "Requirement already satisfied: scikit-learn>=0.24.2 in /usr/local/lib/python3.11/dist-packages (from pyhealth==1.1.4) (1.6.1)\n",
            "Requirement already satisfied: networkx>=2.6.3 in /usr/local/lib/python3.11/dist-packages (from pyhealth==1.1.4) (3.4.2)\n",
            "Requirement already satisfied: pandas<2,>=1.3.2 in /usr/local/lib/python3.11/dist-packages (from pyhealth==1.1.4) (1.5.3)\n",
            "Collecting pandarallel>=1.5.3 (from pyhealth==1.1.4)\n",
            "  Downloading pandarallel-1.6.5.tar.gz (14 kB)\n",
            "  Preparing metadata (setup.py) ... \u001b[?25l\u001b[?25hdone\n",
            "Collecting mne>=1.0.3 (from pyhealth==1.1.4)\n",
            "  Downloading mne-1.9.0-py3-none-any.whl.metadata (20 kB)\n",
            "Collecting urllib3<=1.26.15 (from pyhealth==1.1.4)\n",
            "  Downloading urllib3-1.26.15-py2.py3-none-any.whl.metadata (48 kB)\n",
            "\u001b[2K     \u001b[90m━━━━━━━━━━━━━━━━━━━━━━━━━━━━━━━━━━━━━━━━\u001b[0m \u001b[32m48.1/48.1 kB\u001b[0m \u001b[31m3.4 MB/s\u001b[0m eta \u001b[36m0:00:00\u001b[0m\n",
            "\u001b[?25hRequirement already satisfied: numpy in /usr/local/lib/python3.11/dist-packages (from pyhealth==1.1.4) (1.23.5)\n",
            "Requirement already satisfied: tqdm in /usr/local/lib/python3.11/dist-packages (from pyhealth==1.1.4) (4.67.1)\n",
            "Requirement already satisfied: polars in /usr/local/lib/python3.11/dist-packages (from pyhealth==1.1.4) (1.21.0)\n",
            "Requirement already satisfied: transformers in /usr/local/lib/python3.11/dist-packages (from pyhealth==1.1.4) (4.51.3)\n",
            "Requirement already satisfied: decorator in /usr/local/lib/python3.11/dist-packages (from mne>=1.0.3->pyhealth==1.1.4) (4.4.2)\n",
            "Requirement already satisfied: jinja2 in /usr/local/lib/python3.11/dist-packages (from mne>=1.0.3->pyhealth==1.1.4) (3.1.6)\n",
            "Requirement already satisfied: lazy-loader>=0.3 in /usr/local/lib/python3.11/dist-packages (from mne>=1.0.3->pyhealth==1.1.4) (0.4)\n",
            "Requirement already satisfied: matplotlib>=3.6 in /usr/local/lib/python3.11/dist-packages (from mne>=1.0.3->pyhealth==1.1.4) (3.10.0)\n",
            "Requirement already satisfied: packaging in /usr/local/lib/python3.11/dist-packages (from mne>=1.0.3->pyhealth==1.1.4) (24.2)\n",
            "Requirement already satisfied: pooch>=1.5 in /usr/local/lib/python3.11/dist-packages (from mne>=1.0.3->pyhealth==1.1.4) (1.8.2)\n",
            "Requirement already satisfied: scipy>=1.9 in /usr/local/lib/python3.11/dist-packages (from mne>=1.0.3->pyhealth==1.1.4) (1.15.2)\n",
            "Collecting dill>=0.3.1 (from pandarallel>=1.5.3->pyhealth==1.1.4)\n",
            "  Downloading dill-0.4.0-py3-none-any.whl.metadata (10 kB)\n",
            "Requirement already satisfied: psutil in /usr/local/lib/python3.11/dist-packages (from pandarallel>=1.5.3->pyhealth==1.1.4) (5.9.5)\n",
            "Requirement already satisfied: python-dateutil>=2.8.1 in /usr/local/lib/python3.11/dist-packages (from pandas<2,>=1.3.2->pyhealth==1.1.4) (2.9.0.post0)\n",
            "Requirement already satisfied: pytz>=2020.1 in /usr/local/lib/python3.11/dist-packages (from pandas<2,>=1.3.2->pyhealth==1.1.4) (2025.2)\n",
            "Requirement already satisfied: Pillow in /usr/local/lib/python3.11/dist-packages (from rdkit>=2022.03.4->pyhealth==1.1.4) (11.2.1)\n",
            "Requirement already satisfied: joblib>=1.2.0 in /usr/local/lib/python3.11/dist-packages (from scikit-learn>=0.24.2->pyhealth==1.1.4) (1.4.2)\n",
            "Requirement already satisfied: threadpoolctl>=3.1.0 in /usr/local/lib/python3.11/dist-packages (from scikit-learn>=0.24.2->pyhealth==1.1.4) (3.6.0)\n",
            "Requirement already satisfied: filelock in /usr/local/lib/python3.11/dist-packages (from torch>=1.8.0->pyhealth==1.1.4) (3.18.0)\n",
            "Requirement already satisfied: typing-extensions>=4.10.0 in /usr/local/lib/python3.11/dist-packages (from torch>=1.8.0->pyhealth==1.1.4) (4.13.2)\n",
            "Requirement already satisfied: fsspec in /usr/local/lib/python3.11/dist-packages (from torch>=1.8.0->pyhealth==1.1.4) (2025.3.2)\n",
            "Collecting nvidia-cuda-nvrtc-cu12==12.4.127 (from torch>=1.8.0->pyhealth==1.1.4)\n",
            "  Downloading nvidia_cuda_nvrtc_cu12-12.4.127-py3-none-manylinux2014_x86_64.whl.metadata (1.5 kB)\n",
            "Collecting nvidia-cuda-runtime-cu12==12.4.127 (from torch>=1.8.0->pyhealth==1.1.4)\n",
            "  Downloading nvidia_cuda_runtime_cu12-12.4.127-py3-none-manylinux2014_x86_64.whl.metadata (1.5 kB)\n",
            "Collecting nvidia-cuda-cupti-cu12==12.4.127 (from torch>=1.8.0->pyhealth==1.1.4)\n",
            "  Downloading nvidia_cuda_cupti_cu12-12.4.127-py3-none-manylinux2014_x86_64.whl.metadata (1.6 kB)\n",
            "Collecting nvidia-cudnn-cu12==9.1.0.70 (from torch>=1.8.0->pyhealth==1.1.4)\n",
            "  Downloading nvidia_cudnn_cu12-9.1.0.70-py3-none-manylinux2014_x86_64.whl.metadata (1.6 kB)\n",
            "Collecting nvidia-cublas-cu12==12.4.5.8 (from torch>=1.8.0->pyhealth==1.1.4)\n",
            "  Downloading nvidia_cublas_cu12-12.4.5.8-py3-none-manylinux2014_x86_64.whl.metadata (1.5 kB)\n",
            "Collecting nvidia-cufft-cu12==11.2.1.3 (from torch>=1.8.0->pyhealth==1.1.4)\n",
            "  Downloading nvidia_cufft_cu12-11.2.1.3-py3-none-manylinux2014_x86_64.whl.metadata (1.5 kB)\n",
            "Collecting nvidia-curand-cu12==10.3.5.147 (from torch>=1.8.0->pyhealth==1.1.4)\n",
            "  Downloading nvidia_curand_cu12-10.3.5.147-py3-none-manylinux2014_x86_64.whl.metadata (1.5 kB)\n",
            "Collecting nvidia-cusolver-cu12==11.6.1.9 (from torch>=1.8.0->pyhealth==1.1.4)\n",
            "  Downloading nvidia_cusolver_cu12-11.6.1.9-py3-none-manylinux2014_x86_64.whl.metadata (1.6 kB)\n",
            "Collecting nvidia-cusparse-cu12==12.3.1.170 (from torch>=1.8.0->pyhealth==1.1.4)\n",
            "  Downloading nvidia_cusparse_cu12-12.3.1.170-py3-none-manylinux2014_x86_64.whl.metadata (1.6 kB)\n",
            "Requirement already satisfied: nvidia-cusparselt-cu12==0.6.2 in /usr/local/lib/python3.11/dist-packages (from torch>=1.8.0->pyhealth==1.1.4) (0.6.2)\n",
            "Requirement already satisfied: nvidia-nccl-cu12==2.21.5 in /usr/local/lib/python3.11/dist-packages (from torch>=1.8.0->pyhealth==1.1.4) (2.21.5)\n",
            "Requirement already satisfied: nvidia-nvtx-cu12==12.4.127 in /usr/local/lib/python3.11/dist-packages (from torch>=1.8.0->pyhealth==1.1.4) (12.4.127)\n",
            "Collecting nvidia-nvjitlink-cu12==12.4.127 (from torch>=1.8.0->pyhealth==1.1.4)\n",
            "  Downloading nvidia_nvjitlink_cu12-12.4.127-py3-none-manylinux2014_x86_64.whl.metadata (1.5 kB)\n",
            "Requirement already satisfied: triton==3.2.0 in /usr/local/lib/python3.11/dist-packages (from torch>=1.8.0->pyhealth==1.1.4) (3.2.0)\n",
            "Requirement already satisfied: sympy==1.13.1 in /usr/local/lib/python3.11/dist-packages (from torch>=1.8.0->pyhealth==1.1.4) (1.13.1)\n",
            "Requirement already satisfied: mpmath<1.4,>=1.1.0 in /usr/local/lib/python3.11/dist-packages (from sympy==1.13.1->torch>=1.8.0->pyhealth==1.1.4) (1.3.0)\n",
            "Requirement already satisfied: huggingface-hub<1.0,>=0.30.0 in /usr/local/lib/python3.11/dist-packages (from transformers->pyhealth==1.1.4) (0.30.2)\n",
            "Requirement already satisfied: pyyaml>=5.1 in /usr/local/lib/python3.11/dist-packages (from transformers->pyhealth==1.1.4) (6.0.2)\n",
            "Requirement already satisfied: regex!=2019.12.17 in /usr/local/lib/python3.11/dist-packages (from transformers->pyhealth==1.1.4) (2024.11.6)\n",
            "Requirement already satisfied: requests in /usr/local/lib/python3.11/dist-packages (from transformers->pyhealth==1.1.4) (2.32.3)\n",
            "Requirement already satisfied: tokenizers<0.22,>=0.21 in /usr/local/lib/python3.11/dist-packages (from transformers->pyhealth==1.1.4) (0.21.1)\n",
            "Requirement already satisfied: safetensors>=0.4.3 in /usr/local/lib/python3.11/dist-packages (from transformers->pyhealth==1.1.4) (0.5.3)\n",
            "Requirement already satisfied: contourpy>=1.0.1 in /usr/local/lib/python3.11/dist-packages (from matplotlib>=3.6->mne>=1.0.3->pyhealth==1.1.4) (1.3.2)\n",
            "Requirement already satisfied: cycler>=0.10 in /usr/local/lib/python3.11/dist-packages (from matplotlib>=3.6->mne>=1.0.3->pyhealth==1.1.4) (0.12.1)\n",
            "Requirement already satisfied: fonttools>=4.22.0 in /usr/local/lib/python3.11/dist-packages (from matplotlib>=3.6->mne>=1.0.3->pyhealth==1.1.4) (4.57.0)\n",
            "Requirement already satisfied: kiwisolver>=1.3.1 in /usr/local/lib/python3.11/dist-packages (from matplotlib>=3.6->mne>=1.0.3->pyhealth==1.1.4) (1.4.8)\n",
            "Requirement already satisfied: pyparsing>=2.3.1 in /usr/local/lib/python3.11/dist-packages (from matplotlib>=3.6->mne>=1.0.3->pyhealth==1.1.4) (3.2.3)\n",
            "Requirement already satisfied: platformdirs>=2.5.0 in /usr/local/lib/python3.11/dist-packages (from pooch>=1.5->mne>=1.0.3->pyhealth==1.1.4) (4.3.7)\n",
            "Requirement already satisfied: six>=1.5 in /usr/local/lib/python3.11/dist-packages (from python-dateutil>=2.8.1->pandas<2,>=1.3.2->pyhealth==1.1.4) (1.17.0)\n",
            "Requirement already satisfied: charset-normalizer<4,>=2 in /usr/local/lib/python3.11/dist-packages (from requests->transformers->pyhealth==1.1.4) (3.4.1)\n",
            "Requirement already satisfied: idna<4,>=2.5 in /usr/local/lib/python3.11/dist-packages (from requests->transformers->pyhealth==1.1.4) (3.10)\n",
            "Requirement already satisfied: certifi>=2017.4.17 in /usr/local/lib/python3.11/dist-packages (from requests->transformers->pyhealth==1.1.4) (2025.4.26)\n",
            "Requirement already satisfied: MarkupSafe>=2.0 in /usr/local/lib/python3.11/dist-packages (from jinja2->mne>=1.0.3->pyhealth==1.1.4) (3.0.2)\n",
            "Downloading mne-1.9.0-py3-none-any.whl (7.4 MB)\n",
            "\u001b[2K   \u001b[90m━━━━━━━━━━━━━━━━━━━━━━━━━━━━━━━━━━━━━━━━\u001b[0m \u001b[32m7.4/7.4 MB\u001b[0m \u001b[31m98.9 MB/s\u001b[0m eta \u001b[36m0:00:00\u001b[0m\n",
            "\u001b[?25hDownloading rdkit-2024.9.6-cp311-cp311-manylinux_2_28_x86_64.whl (34.3 MB)\n",
            "\u001b[2K   \u001b[90m━━━━━━━━━━━━━━━━━━━━━━━━━━━━━━━━━━━━━━━━\u001b[0m \u001b[32m34.3/34.3 MB\u001b[0m \u001b[31m33.4 MB/s\u001b[0m eta \u001b[36m0:00:00\u001b[0m\n",
            "\u001b[?25hDownloading nvidia_cublas_cu12-12.4.5.8-py3-none-manylinux2014_x86_64.whl (363.4 MB)\n",
            "\u001b[2K   \u001b[90m━━━━━━━━━━━━━━━━━━━━━━━━━━━━━━━━━━━━━━━━\u001b[0m \u001b[32m363.4/363.4 MB\u001b[0m \u001b[31m3.9 MB/s\u001b[0m eta \u001b[36m0:00:00\u001b[0m\n",
            "\u001b[?25hDownloading nvidia_cuda_cupti_cu12-12.4.127-py3-none-manylinux2014_x86_64.whl (13.8 MB)\n",
            "\u001b[2K   \u001b[90m━━━━━━━━━━━━━━━━━━━━━━━━━━━━━━━━━━━━━━━━\u001b[0m \u001b[32m13.8/13.8 MB\u001b[0m \u001b[31m75.5 MB/s\u001b[0m eta \u001b[36m0:00:00\u001b[0m\n",
            "\u001b[?25hDownloading nvidia_cuda_nvrtc_cu12-12.4.127-py3-none-manylinux2014_x86_64.whl (24.6 MB)\n",
            "\u001b[2K   \u001b[90m━━━━━━━━━━━━━━━━━━━━━━━━━━━━━━━━━━━━━━━━\u001b[0m \u001b[32m24.6/24.6 MB\u001b[0m \u001b[31m58.1 MB/s\u001b[0m eta \u001b[36m0:00:00\u001b[0m\n",
            "\u001b[?25hDownloading nvidia_cuda_runtime_cu12-12.4.127-py3-none-manylinux2014_x86_64.whl (883 kB)\n",
            "\u001b[2K   \u001b[90m━━━━━━━━━━━━━━━━━━━━━━━━━━━━━━━━━━━━━━━━\u001b[0m \u001b[32m883.7/883.7 kB\u001b[0m \u001b[31m45.3 MB/s\u001b[0m eta \u001b[36m0:00:00\u001b[0m\n",
            "\u001b[?25hDownloading nvidia_cudnn_cu12-9.1.0.70-py3-none-manylinux2014_x86_64.whl (664.8 MB)\n",
            "\u001b[2K   \u001b[90m━━━━━━━━━━━━━━━━━━━━━━━━━━━━━━━━━━━━━━━\u001b[0m \u001b[32m664.8/664.8 MB\u001b[0m \u001b[31m976.6 kB/s\u001b[0m eta \u001b[36m0:00:00\u001b[0m\n",
            "\u001b[?25hDownloading nvidia_cufft_cu12-11.2.1.3-py3-none-manylinux2014_x86_64.whl (211.5 MB)\n",
            "\u001b[2K   \u001b[90m━━━━━━━━━━━━━━━━━━━━━━━━━━━━━━━━━━━━━━━━\u001b[0m \u001b[32m211.5/211.5 MB\u001b[0m \u001b[31m6.6 MB/s\u001b[0m eta \u001b[36m0:00:00\u001b[0m\n",
            "\u001b[?25hDownloading nvidia_curand_cu12-10.3.5.147-py3-none-manylinux2014_x86_64.whl (56.3 MB)\n",
            "\u001b[2K   \u001b[90m━━━━━━━━━━━━━━━━━━━━━━━━━━━━━━━━━━━━━━━━\u001b[0m \u001b[32m56.3/56.3 MB\u001b[0m \u001b[31m12.4 MB/s\u001b[0m eta \u001b[36m0:00:00\u001b[0m\n",
            "\u001b[?25hDownloading nvidia_cusolver_cu12-11.6.1.9-py3-none-manylinux2014_x86_64.whl (127.9 MB)\n",
            "\u001b[2K   \u001b[90m━━━━━━━━━━━━━━━━━━━━━━━━━━━━━━━━━━━━━━━━\u001b[0m \u001b[32m127.9/127.9 MB\u001b[0m \u001b[31m7.4 MB/s\u001b[0m eta \u001b[36m0:00:00\u001b[0m\n",
            "\u001b[?25hDownloading nvidia_cusparse_cu12-12.3.1.170-py3-none-manylinux2014_x86_64.whl (207.5 MB)\n",
            "\u001b[2K   \u001b[90m━━━━━━━━━━━━━━━━━━━━━━━━━━━━━━━━━━━━━━━━\u001b[0m \u001b[32m207.5/207.5 MB\u001b[0m \u001b[31m5.9 MB/s\u001b[0m eta \u001b[36m0:00:00\u001b[0m\n",
            "\u001b[?25hDownloading nvidia_nvjitlink_cu12-12.4.127-py3-none-manylinux2014_x86_64.whl (21.1 MB)\n",
            "\u001b[2K   \u001b[90m━━━━━━━━━━━━━━━━━━━━━━━━━━━━━━━━━━━━━━━━\u001b[0m \u001b[32m21.1/21.1 MB\u001b[0m \u001b[31m93.8 MB/s\u001b[0m eta \u001b[36m0:00:00\u001b[0m\n",
            "\u001b[?25hDownloading urllib3-1.26.15-py2.py3-none-any.whl (140 kB)\n",
            "\u001b[2K   \u001b[90m━━━━━━━━━━━━━━━━━━━━━━━━━━━━━━━━━━━━━━━━\u001b[0m \u001b[32m140.9/140.9 kB\u001b[0m \u001b[31m11.9 MB/s\u001b[0m eta \u001b[36m0:00:00\u001b[0m\n",
            "\u001b[?25hDownloading dill-0.4.0-py3-none-any.whl (119 kB)\n",
            "\u001b[2K   \u001b[90m━━━━━━━━━━━━━━━━━━━━━━━━━━━━━━━━━━━━━━━━\u001b[0m \u001b[32m119.7/119.7 kB\u001b[0m \u001b[31m10.5 MB/s\u001b[0m eta \u001b[36m0:00:00\u001b[0m\n",
            "\u001b[?25hBuilding wheels for collected packages: pyhealth, pandarallel\n",
            "  Building wheel for pyhealth (setup.py) ... \u001b[?25l\u001b[?25hdone\n",
            "  Created wheel for pyhealth: filename=pyhealth-1.1.4-py3-none-any.whl size=322919 sha256=11a5e812e91ddbe73f93e8a2304fdf69e3c0aff74ed62022aff2cc0b322e061c\n",
            "  Stored in directory: /tmp/pip-ephem-wheel-cache-degqj4or/wheels/fe/80/ec/c38e2873528c14d8c907179c508544b0676de56dc94d9c6c92\n",
            "  Building wheel for pandarallel (setup.py) ... \u001b[?25l\u001b[?25hdone\n",
            "  Created wheel for pandarallel: filename=pandarallel-1.6.5-py3-none-any.whl size=16674 sha256=a4f6c0eb24150c5e64f7f1d3b29ed172cc96e0d319e94951f75e31dd9028276c\n",
            "  Stored in directory: /root/.cache/pip/wheels/b9/c6/5a/829298789e94348b81af52ab42c19d49da007306bbcc983827\n",
            "Successfully built pyhealth pandarallel\n",
            "Installing collected packages: urllib3, rdkit, nvidia-nvjitlink-cu12, nvidia-curand-cu12, nvidia-cufft-cu12, nvidia-cuda-runtime-cu12, nvidia-cuda-nvrtc-cu12, nvidia-cuda-cupti-cu12, nvidia-cublas-cu12, dill, nvidia-cusparse-cu12, nvidia-cudnn-cu12, pandarallel, nvidia-cusolver-cu12, mne, pyhealth\n",
            "  Attempting uninstall: urllib3\n",
            "    Found existing installation: urllib3 2.4.0\n",
            "    Uninstalling urllib3-2.4.0:\n",
            "      Successfully uninstalled urllib3-2.4.0\n",
            "  Attempting uninstall: nvidia-nvjitlink-cu12\n",
            "    Found existing installation: nvidia-nvjitlink-cu12 12.5.82\n",
            "    Uninstalling nvidia-nvjitlink-cu12-12.5.82:\n",
            "      Successfully uninstalled nvidia-nvjitlink-cu12-12.5.82\n",
            "  Attempting uninstall: nvidia-curand-cu12\n",
            "    Found existing installation: nvidia-curand-cu12 10.3.6.82\n",
            "    Uninstalling nvidia-curand-cu12-10.3.6.82:\n",
            "      Successfully uninstalled nvidia-curand-cu12-10.3.6.82\n",
            "  Attempting uninstall: nvidia-cufft-cu12\n",
            "    Found existing installation: nvidia-cufft-cu12 11.2.3.61\n",
            "    Uninstalling nvidia-cufft-cu12-11.2.3.61:\n",
            "      Successfully uninstalled nvidia-cufft-cu12-11.2.3.61\n",
            "  Attempting uninstall: nvidia-cuda-runtime-cu12\n",
            "    Found existing installation: nvidia-cuda-runtime-cu12 12.5.82\n",
            "    Uninstalling nvidia-cuda-runtime-cu12-12.5.82:\n",
            "      Successfully uninstalled nvidia-cuda-runtime-cu12-12.5.82\n",
            "  Attempting uninstall: nvidia-cuda-nvrtc-cu12\n",
            "    Found existing installation: nvidia-cuda-nvrtc-cu12 12.5.82\n",
            "    Uninstalling nvidia-cuda-nvrtc-cu12-12.5.82:\n",
            "      Successfully uninstalled nvidia-cuda-nvrtc-cu12-12.5.82\n",
            "  Attempting uninstall: nvidia-cuda-cupti-cu12\n",
            "    Found existing installation: nvidia-cuda-cupti-cu12 12.5.82\n",
            "    Uninstalling nvidia-cuda-cupti-cu12-12.5.82:\n",
            "      Successfully uninstalled nvidia-cuda-cupti-cu12-12.5.82\n",
            "  Attempting uninstall: nvidia-cublas-cu12\n",
            "    Found existing installation: nvidia-cublas-cu12 12.5.3.2\n",
            "    Uninstalling nvidia-cublas-cu12-12.5.3.2:\n",
            "      Successfully uninstalled nvidia-cublas-cu12-12.5.3.2\n",
            "  Attempting uninstall: nvidia-cusparse-cu12\n",
            "    Found existing installation: nvidia-cusparse-cu12 12.5.1.3\n",
            "    Uninstalling nvidia-cusparse-cu12-12.5.1.3:\n",
            "      Successfully uninstalled nvidia-cusparse-cu12-12.5.1.3\n",
            "  Attempting uninstall: nvidia-cudnn-cu12\n",
            "    Found existing installation: nvidia-cudnn-cu12 9.3.0.75\n",
            "    Uninstalling nvidia-cudnn-cu12-9.3.0.75:\n",
            "      Successfully uninstalled nvidia-cudnn-cu12-9.3.0.75\n",
            "  Attempting uninstall: nvidia-cusolver-cu12\n",
            "    Found existing installation: nvidia-cusolver-cu12 11.6.3.83\n",
            "    Uninstalling nvidia-cusolver-cu12-11.6.3.83:\n",
            "      Successfully uninstalled nvidia-cusolver-cu12-11.6.3.83\n",
            "\u001b[31mERROR: pip's dependency resolver does not currently take into account all the packages that are installed. This behaviour is the source of the following dependency conflicts.\n",
            "bigframes 2.1.0 requires numpy>=1.24.0, but you have numpy 1.23.5 which is incompatible.\n",
            "blosc2 3.3.1 requires numpy>=1.26, but you have numpy 1.23.5 which is incompatible.\n",
            "tensorflow 2.18.0 requires numpy<2.1.0,>=1.26.0, but you have numpy 1.23.5 which is incompatible.\u001b[0m\u001b[31m\n",
            "\u001b[0mSuccessfully installed dill-0.4.0 mne-1.9.0 nvidia-cublas-cu12-12.4.5.8 nvidia-cuda-cupti-cu12-12.4.127 nvidia-cuda-nvrtc-cu12-12.4.127 nvidia-cuda-runtime-cu12-12.4.127 nvidia-cudnn-cu12-9.1.0.70 nvidia-cufft-cu12-11.2.1.3 nvidia-curand-cu12-10.3.5.147 nvidia-cusolver-cu12-11.6.1.9 nvidia-cusparse-cu12-12.3.1.170 nvidia-nvjitlink-cu12-12.4.127 pandarallel-1.6.5 pyhealth-1.1.4 rdkit-2024.9.6 urllib3-1.26.15\n"
          ]
        }
      ],
      "source": [
        "# Install virtualenv (if not already installed)\n",
        "!pip install virtualenv\n",
        "!pip uninstall -y numpy pandas pyhealth\n",
        "!pip cache purge\n",
        "!pip install numpy==1.23.5 --no-cache-dir\n",
        "!pip install pandas==1.5.3 --no-cache-dir\n",
        "\n",
        "# Create a new virtual environment\n",
        "!virtualenv pyhealth_env\n",
        "\n",
        "# Activate the environment (Linux/Colab)\n",
        "!source pyhealth_env/bin/activate\n",
        "\n",
        "# Install pyhealth with compatible numpy/pandas\n",
        "!pip install numpy==1.23.5 pandas==1.5.3# pyhealth==1.1.4\n",
        "!git clone https://github.com/sunlabuiuc/PyHealth/\n",
        "!cd PyHealth && pip3 install .\n",
        "\n",
        "#Restart Once the installation is completed"
      ]
    },
    {
      "cell_type": "code",
      "execution_count": 1,
      "metadata": {
        "colab": {
          "base_uri": "https://localhost:8080/"
        },
        "id": "mpAGanoASfPT",
        "outputId": "6670d8be-21c1-4b35-add9-3e620e27907b"
      },
      "outputs": [
        {
          "output_type": "stream",
          "name": "stdout",
          "text": [
            "Path to dataset files: /kaggle/input/breast-cancer-dataset-used-royston-and-altman\n"
          ]
        }
      ],
      "source": [
        "import kagglehub\n",
        "\n",
        "# Download latest version\n",
        "path = kagglehub.dataset_download(\"utkarshx27/breast-cancer-dataset-used-royston-and-altman\")\n",
        "\n",
        "print(\"Path to dataset files:\", path)"
      ]
    },
    {
      "cell_type": "code",
      "execution_count": 3,
      "metadata": {
        "colab": {
          "base_uri": "https://localhost:8080/"
        },
        "id": "bc3bp2B9SgMy",
        "outputId": "fbdaad13-eec5-43bb-eda0-2f41abe36c3d"
      },
      "outputs": [
        {
          "output_type": "stream",
          "name": "stdout",
          "text": [
            "File successfully copied from /kaggle/input/breast-cancer-dataset-used-royston-and-altman/gbsg.csv to /content/datasets\n"
          ]
        }
      ],
      "source": [
        "import shutil\n",
        "import os\n",
        "\n",
        "# Correct source path (no /1/ needed)\n",
        "source_path = \"/root/.cache/kagglehub/datasets/utkarshx27/breast-cancer-dataset-used-royston-and-altman/versions/1/gbsg.csv\"\n",
        "#\"/kaggle/input/breast-cancer-dataset-used-royston-and-altman/gbsg.csv\"\n",
        "destination_dir = \"/content/datasets\"\n",
        "\n",
        "# Create destination directory if it doesn't exist\n",
        "os.makedirs(destination_dir, exist_ok=True)\n",
        "\n",
        "# Copy the file\n",
        "shutil.copy(source_path, destination_dir)\n",
        "\n",
        "print(f\"File successfully copied from {source_path} to {destination_dir}\")"
      ]
    },
    {
      "cell_type": "code",
      "execution_count": 4,
      "metadata": {
        "colab": {
          "base_uri": "https://localhost:8080/"
        },
        "id": "aGusktY7URKj",
        "outputId": "1280389b-28e7-4598-c442-e76fa509de2c"
      },
      "outputs": [
        {
          "output_type": "stream",
          "name": "stdout",
          "text": [
            "Initializing gbsg_study dataset from /content/datasets/ (dev mode: False)\n"
          ]
        },
        {
          "output_type": "stream",
          "name": "stderr",
          "text": [
            "INFO:pyhealth.datasets.base_dataset:Initializing gbsg_study dataset from /content/datasets/ (dev mode: False)\n"
          ]
        },
        {
          "output_type": "stream",
          "name": "stdout",
          "text": [
            "Scanning table: gbsg from /content/datasets/gbsg.csv\n"
          ]
        },
        {
          "output_type": "stream",
          "name": "stderr",
          "text": [
            "INFO:pyhealth.datasets.base_dataset:Scanning table: gbsg from /content/datasets/gbsg.csv\n"
          ]
        },
        {
          "output_type": "stream",
          "name": "stdout",
          "text": [
            "<pyhealth.datasets.gbsg.GBSGDataset object at 0x7b2a412efb10>\n",
            "Setting task SurvivalAnalysisGBSG for gbsg_study base dataset...\n"
          ]
        },
        {
          "output_type": "stream",
          "name": "stderr",
          "text": [
            "INFO:pyhealth.datasets.base_dataset:Setting task SurvivalAnalysisGBSG for gbsg_study base dataset...\n"
          ]
        },
        {
          "output_type": "stream",
          "name": "stdout",
          "text": [
            "Collecting global event dataframe...\n"
          ]
        },
        {
          "output_type": "stream",
          "name": "stderr",
          "text": [
            "INFO:pyhealth.datasets.base_dataset:Collecting global event dataframe...\n"
          ]
        },
        {
          "output_type": "stream",
          "name": "stdout",
          "text": [
            "Collected dataframe with shape: (686, 13)\n"
          ]
        },
        {
          "output_type": "stream",
          "name": "stderr",
          "text": [
            "INFO:pyhealth.datasets.base_dataset:Collected dataframe with shape: (686, 13)\n"
          ]
        },
        {
          "output_type": "stream",
          "name": "stdout",
          "text": [
            "Generating samples with 2 worker(s)...\n"
          ]
        },
        {
          "output_type": "stream",
          "name": "stderr",
          "text": [
            "INFO:pyhealth.datasets.base_dataset:Generating samples with 2 worker(s)...\n"
          ]
        },
        {
          "output_type": "stream",
          "name": "stdout",
          "text": [
            "Generating samples for SurvivalAnalysisGBSG\n"
          ]
        },
        {
          "output_type": "stream",
          "name": "stderr",
          "text": [
            "INFO:pyhealth.datasets.base_dataset:Generating samples for SurvivalAnalysisGBSG\n"
          ]
        },
        {
          "output_type": "stream",
          "name": "stdout",
          "text": [
            "Label meno vocab: {0: 0, 1: 1}\n"
          ]
        },
        {
          "output_type": "stream",
          "name": "stderr",
          "text": [
            "INFO:pyhealth.processors.label_processor:Label meno vocab: {0: 0, 1: 1}\n"
          ]
        },
        {
          "output_type": "stream",
          "name": "stdout",
          "text": [
            "Label hormon vocab: {0: 0, 1: 1}\n"
          ]
        },
        {
          "output_type": "stream",
          "name": "stderr",
          "text": [
            "INFO:pyhealth.processors.label_processor:Label hormon vocab: {0: 0, 1: 1}\n"
          ]
        },
        {
          "output_type": "stream",
          "name": "stdout",
          "text": [
            "Label event vocab: {0: 0, 1: 1}\n"
          ]
        },
        {
          "output_type": "stream",
          "name": "stderr",
          "text": [
            "INFO:pyhealth.processors.label_processor:Label event vocab: {0: 0, 1: 1}\n",
            "Processing samples: 100%|██████████| 686/686 [00:00<00:00, 15221.68it/s]"
          ]
        },
        {
          "output_type": "stream",
          "name": "stdout",
          "text": [
            "Generated 686 samples for task SurvivalAnalysisGBSG\n"
          ]
        },
        {
          "output_type": "stream",
          "name": "stderr",
          "text": [
            "\n",
            "INFO:pyhealth.datasets.base_dataset:Generated 686 samples for task SurvivalAnalysisGBSG\n"
          ]
        },
        {
          "output_type": "stream",
          "name": "stdout",
          "text": [
            "Generated 686 samples\n",
            "Sample features: {'age': tensor([1]), 'meno': tensor([1.]), 'size': tensor([1]), 'grade': tensor([1]), 'nodes': tensor([1]), 'pgr': tensor([1]), 'er': tensor([1]), 'hormon': tensor([1.]), 'patient_id': '875', 'event': tensor([1.]), 'time': tensor([1])}\n"
          ]
        }
      ],
      "source": [
        "from pyhealth.datasets import GBSGDataset\n",
        "from pyhealth.tasks import SurvivalAnalysisGBSG\n",
        "# Initialize the dataset\n",
        "dataset = GBSGDataset(\n",
        "    root=\"/content/datasets/\",  # directory containing gbsg.csv\n",
        "    config_path=\"/content/PyHealth/pyhealth/datasets/configs/gbsg.yaml\",  # Your config file,\n",
        "    dataset_name=\"gbsg_study\"\n",
        ")\n",
        "print(dataset)\n",
        "\n",
        "\n",
        "# Create task\n",
        "task = SurvivalAnalysisGBSG()\n",
        "task_dataset = dataset.set_task(task)\n",
        "\n",
        "print(f\"Generated {len(task_dataset.samples)} samples\")\n",
        "print(\"Sample features:\", task_dataset.samples[0])"
      ]
    },
    {
      "cell_type": "code",
      "source": [
        "!pip install lifelines\n",
        "!pip install scikit-survival"
      ],
      "metadata": {
        "colab": {
          "base_uri": "https://localhost:8080/"
        },
        "id": "vMYkLlvmfuk2",
        "outputId": "f374d25e-1167-4659-ea7a-33726a3546da"
      },
      "execution_count": 5,
      "outputs": [
        {
          "output_type": "stream",
          "name": "stdout",
          "text": [
            "Collecting lifelines\n",
            "  Downloading lifelines-0.30.0-py3-none-any.whl.metadata (3.2 kB)\n",
            "Requirement already satisfied: numpy>=1.14.0 in /usr/local/lib/python3.11/dist-packages (from lifelines) (1.23.5)\n",
            "Requirement already satisfied: scipy>=1.7.0 in /usr/local/lib/python3.11/dist-packages (from lifelines) (1.15.2)\n",
            "Collecting pandas>=2.1 (from lifelines)\n",
            "  Downloading pandas-2.2.3-cp311-cp311-manylinux_2_17_x86_64.manylinux2014_x86_64.whl.metadata (89 kB)\n",
            "\u001b[2K     \u001b[90m━━━━━━━━━━━━━━━━━━━━━━━━━━━━━━━━━━━━━━━━\u001b[0m \u001b[32m89.9/89.9 kB\u001b[0m \u001b[31m5.9 MB/s\u001b[0m eta \u001b[36m0:00:00\u001b[0m\n",
            "\u001b[?25hRequirement already satisfied: matplotlib>=3.0 in /usr/local/lib/python3.11/dist-packages (from lifelines) (3.10.0)\n",
            "Requirement already satisfied: autograd>=1.5 in /usr/local/lib/python3.11/dist-packages (from lifelines) (1.7.0)\n",
            "Collecting autograd-gamma>=0.3 (from lifelines)\n",
            "  Downloading autograd-gamma-0.5.0.tar.gz (4.0 kB)\n",
            "  Preparing metadata (setup.py) ... \u001b[?25l\u001b[?25hdone\n",
            "Collecting formulaic>=0.2.2 (from lifelines)\n",
            "  Downloading formulaic-1.1.1-py3-none-any.whl.metadata (6.9 kB)\n",
            "Collecting interface-meta>=1.2.0 (from formulaic>=0.2.2->lifelines)\n",
            "  Downloading interface_meta-1.3.0-py3-none-any.whl.metadata (6.7 kB)\n",
            "Requirement already satisfied: typing-extensions>=4.2.0 in /usr/local/lib/python3.11/dist-packages (from formulaic>=0.2.2->lifelines) (4.13.2)\n",
            "Requirement already satisfied: wrapt>=1.0 in /usr/local/lib/python3.11/dist-packages (from formulaic>=0.2.2->lifelines) (1.17.2)\n",
            "Requirement already satisfied: contourpy>=1.0.1 in /usr/local/lib/python3.11/dist-packages (from matplotlib>=3.0->lifelines) (1.3.2)\n",
            "Requirement already satisfied: cycler>=0.10 in /usr/local/lib/python3.11/dist-packages (from matplotlib>=3.0->lifelines) (0.12.1)\n",
            "Requirement already satisfied: fonttools>=4.22.0 in /usr/local/lib/python3.11/dist-packages (from matplotlib>=3.0->lifelines) (4.57.0)\n",
            "Requirement already satisfied: kiwisolver>=1.3.1 in /usr/local/lib/python3.11/dist-packages (from matplotlib>=3.0->lifelines) (1.4.8)\n",
            "Requirement already satisfied: packaging>=20.0 in /usr/local/lib/python3.11/dist-packages (from matplotlib>=3.0->lifelines) (24.2)\n",
            "Requirement already satisfied: pillow>=8 in /usr/local/lib/python3.11/dist-packages (from matplotlib>=3.0->lifelines) (11.2.1)\n",
            "Requirement already satisfied: pyparsing>=2.3.1 in /usr/local/lib/python3.11/dist-packages (from matplotlib>=3.0->lifelines) (3.2.3)\n",
            "Requirement already satisfied: python-dateutil>=2.7 in /usr/local/lib/python3.11/dist-packages (from matplotlib>=3.0->lifelines) (2.9.0.post0)\n",
            "Requirement already satisfied: pytz>=2020.1 in /usr/local/lib/python3.11/dist-packages (from pandas>=2.1->lifelines) (2025.2)\n",
            "Requirement already satisfied: tzdata>=2022.7 in /usr/local/lib/python3.11/dist-packages (from pandas>=2.1->lifelines) (2025.2)\n",
            "Requirement already satisfied: six>=1.5 in /usr/local/lib/python3.11/dist-packages (from python-dateutil>=2.7->matplotlib>=3.0->lifelines) (1.17.0)\n",
            "Downloading lifelines-0.30.0-py3-none-any.whl (349 kB)\n",
            "\u001b[2K   \u001b[90m━━━━━━━━━━━━━━━━━━━━━━━━━━━━━━━━━━━━━━━━\u001b[0m \u001b[32m349.3/349.3 kB\u001b[0m \u001b[31m27.7 MB/s\u001b[0m eta \u001b[36m0:00:00\u001b[0m\n",
            "\u001b[?25hDownloading formulaic-1.1.1-py3-none-any.whl (115 kB)\n",
            "\u001b[2K   \u001b[90m━━━━━━━━━━━━━━━━━━━━━━━━━━━━━━━━━━━━━━━━\u001b[0m \u001b[32m115.7/115.7 kB\u001b[0m \u001b[31m11.7 MB/s\u001b[0m eta \u001b[36m0:00:00\u001b[0m\n",
            "\u001b[?25hDownloading pandas-2.2.3-cp311-cp311-manylinux_2_17_x86_64.manylinux2014_x86_64.whl (13.1 MB)\n",
            "\u001b[2K   \u001b[90m━━━━━━━━━━━━━━━━━━━━━━━━━━━━━━━━━━━━━━━━\u001b[0m \u001b[32m13.1/13.1 MB\u001b[0m \u001b[31m105.5 MB/s\u001b[0m eta \u001b[36m0:00:00\u001b[0m\n",
            "\u001b[?25hDownloading interface_meta-1.3.0-py3-none-any.whl (14 kB)\n",
            "Building wheels for collected packages: autograd-gamma\n",
            "  Building wheel for autograd-gamma (setup.py) ... \u001b[?25l\u001b[?25hdone\n",
            "  Created wheel for autograd-gamma: filename=autograd_gamma-0.5.0-py3-none-any.whl size=4030 sha256=d7392645939e86a65ada238675e22a00d1010cb7a8acf8fac5b19747fe45a0ac\n",
            "  Stored in directory: /root/.cache/pip/wheels/8b/67/f4/2caaae2146198dcb824f31a303833b07b14a5ec863fb3acd7b\n",
            "Successfully built autograd-gamma\n",
            "Installing collected packages: interface-meta, pandas, autograd-gamma, formulaic, lifelines\n",
            "  Attempting uninstall: pandas\n",
            "    Found existing installation: pandas 1.5.3\n",
            "    Uninstalling pandas-1.5.3:\n",
            "      Successfully uninstalled pandas-1.5.3\n",
            "\u001b[31mERROR: pip's dependency resolver does not currently take into account all the packages that are installed. This behaviour is the source of the following dependency conflicts.\n",
            "pyhealth 1.1.4 requires pandas<2,>=1.3.2, but you have pandas 2.2.3 which is incompatible.\n",
            "google-colab 1.0.0 requires pandas==2.2.2, but you have pandas 2.2.3 which is incompatible.\n",
            "xarray 2025.3.1 requires numpy>=1.24, but you have numpy 1.23.5 which is incompatible.\n",
            "bigframes 2.1.0 requires numpy>=1.24.0, but you have numpy 1.23.5 which is incompatible.\n",
            "pymc 5.22.0 requires numpy>=1.25.0, but you have numpy 1.23.5 which is incompatible.\u001b[0m\u001b[31m\n",
            "\u001b[0mSuccessfully installed autograd-gamma-0.5.0 formulaic-1.1.1 interface-meta-1.3.0 lifelines-0.30.0 pandas-2.2.3\n",
            "Collecting scikit-survival\n",
            "  Downloading scikit_survival-0.24.1-cp311-cp311-manylinux_2_17_x86_64.manylinux2014_x86_64.whl.metadata (48 kB)\n",
            "\u001b[2K     \u001b[90m━━━━━━━━━━━━━━━━━━━━━━━━━━━━━━━━━━━━━━━━\u001b[0m \u001b[32m48.9/48.9 kB\u001b[0m \u001b[31m3.8 MB/s\u001b[0m eta \u001b[36m0:00:00\u001b[0m\n",
            "\u001b[?25hCollecting ecos (from scikit-survival)\n",
            "  Downloading ecos-2.0.14-cp311-cp311-manylinux_2_17_x86_64.manylinux2014_x86_64.whl.metadata (8.0 kB)\n",
            "Requirement already satisfied: joblib in /usr/local/lib/python3.11/dist-packages (from scikit-survival) (1.4.2)\n",
            "Requirement already satisfied: numexpr in /usr/local/lib/python3.11/dist-packages (from scikit-survival) (2.10.2)\n",
            "Requirement already satisfied: numpy in /usr/local/lib/python3.11/dist-packages (from scikit-survival) (1.23.5)\n",
            "Collecting osqp<1.0.0,>=0.6.3 (from scikit-survival)\n",
            "  Downloading osqp-0.6.7.post3-cp311-cp311-manylinux_2_5_x86_64.manylinux1_x86_64.manylinux_2_17_x86_64.manylinux2014_x86_64.whl.metadata (1.9 kB)\n",
            "Requirement already satisfied: pandas>=1.4.0 in /usr/local/lib/python3.11/dist-packages (from scikit-survival) (2.2.3)\n",
            "Requirement already satisfied: scipy>=1.3.2 in /usr/local/lib/python3.11/dist-packages (from scikit-survival) (1.15.2)\n",
            "Requirement already satisfied: scikit-learn<1.7,>=1.6.1 in /usr/local/lib/python3.11/dist-packages (from scikit-survival) (1.6.1)\n",
            "Collecting qdldl (from osqp<1.0.0,>=0.6.3->scikit-survival)\n",
            "  Downloading qdldl-0.1.7.post5-cp311-cp311-manylinux_2_17_x86_64.manylinux2014_x86_64.whl.metadata (1.7 kB)\n",
            "Requirement already satisfied: python-dateutil>=2.8.2 in /usr/local/lib/python3.11/dist-packages (from pandas>=1.4.0->scikit-survival) (2.9.0.post0)\n",
            "Requirement already satisfied: pytz>=2020.1 in /usr/local/lib/python3.11/dist-packages (from pandas>=1.4.0->scikit-survival) (2025.2)\n",
            "Requirement already satisfied: tzdata>=2022.7 in /usr/local/lib/python3.11/dist-packages (from pandas>=1.4.0->scikit-survival) (2025.2)\n",
            "Requirement already satisfied: threadpoolctl>=3.1.0 in /usr/local/lib/python3.11/dist-packages (from scikit-learn<1.7,>=1.6.1->scikit-survival) (3.6.0)\n",
            "Requirement already satisfied: six>=1.5 in /usr/local/lib/python3.11/dist-packages (from python-dateutil>=2.8.2->pandas>=1.4.0->scikit-survival) (1.17.0)\n",
            "Downloading scikit_survival-0.24.1-cp311-cp311-manylinux_2_17_x86_64.manylinux2014_x86_64.whl (3.9 MB)\n",
            "\u001b[2K   \u001b[90m━━━━━━━━━━━━━━━━━━━━━━━━━━━━━━━━━━━━━━━━\u001b[0m \u001b[32m3.9/3.9 MB\u001b[0m \u001b[31m94.1 MB/s\u001b[0m eta \u001b[36m0:00:00\u001b[0m\n",
            "\u001b[?25hDownloading osqp-0.6.7.post3-cp311-cp311-manylinux_2_5_x86_64.manylinux1_x86_64.manylinux_2_17_x86_64.manylinux2014_x86_64.whl (298 kB)\n",
            "\u001b[2K   \u001b[90m━━━━━━━━━━━━━━━━━━━━━━━━━━━━━━━━━━━━━━━━\u001b[0m \u001b[32m298.3/298.3 kB\u001b[0m \u001b[31m21.9 MB/s\u001b[0m eta \u001b[36m0:00:00\u001b[0m\n",
            "\u001b[?25hDownloading ecos-2.0.14-cp311-cp311-manylinux_2_17_x86_64.manylinux2014_x86_64.whl (220 kB)\n",
            "\u001b[2K   \u001b[90m━━━━━━━━━━━━━━━━━━━━━━━━━━━━━━━━━━━━━━━━\u001b[0m \u001b[32m220.1/220.1 kB\u001b[0m \u001b[31m19.3 MB/s\u001b[0m eta \u001b[36m0:00:00\u001b[0m\n",
            "\u001b[?25hDownloading qdldl-0.1.7.post5-cp311-cp311-manylinux_2_17_x86_64.manylinux2014_x86_64.whl (1.2 MB)\n",
            "\u001b[2K   \u001b[90m━━━━━━━━━━━━━━━━━━━━━━━━━━━━━━━━━━━━━━━━\u001b[0m \u001b[32m1.2/1.2 MB\u001b[0m \u001b[31m57.0 MB/s\u001b[0m eta \u001b[36m0:00:00\u001b[0m\n",
            "\u001b[?25hInstalling collected packages: qdldl, ecos, osqp, scikit-survival\n",
            "  Attempting uninstall: osqp\n",
            "    Found existing installation: osqp 1.0.3\n",
            "    Uninstalling osqp-1.0.3:\n",
            "      Successfully uninstalled osqp-1.0.3\n",
            "Successfully installed ecos-2.0.14 osqp-0.6.7.post3 qdldl-0.1.7.post5 scikit-survival-0.24.1\n"
          ]
        }
      ]
    },
    {
      "cell_type": "code",
      "source": [
        "!pip install torch pyhealth optuna scikit-survival matplotlib"
      ],
      "metadata": {
        "id": "tX7BJ9LLv_gS",
        "colab": {
          "base_uri": "https://localhost:8080/",
          "height": 1000
        },
        "outputId": "e91449f9-665a-43d3-aa8f-5333ba13ed29"
      },
      "execution_count": 6,
      "outputs": [
        {
          "output_type": "stream",
          "name": "stdout",
          "text": [
            "Requirement already satisfied: torch in /usr/local/lib/python3.11/dist-packages (2.6.0+cu124)\n",
            "Requirement already satisfied: pyhealth in /usr/local/lib/python3.11/dist-packages (1.1.4)\n",
            "Collecting optuna\n",
            "  Downloading optuna-4.3.0-py3-none-any.whl.metadata (17 kB)\n",
            "Requirement already satisfied: scikit-survival in /usr/local/lib/python3.11/dist-packages (0.24.1)\n",
            "Requirement already satisfied: matplotlib in /usr/local/lib/python3.11/dist-packages (3.10.0)\n",
            "Requirement already satisfied: filelock in /usr/local/lib/python3.11/dist-packages (from torch) (3.18.0)\n",
            "Requirement already satisfied: typing-extensions>=4.10.0 in /usr/local/lib/python3.11/dist-packages (from torch) (4.13.2)\n",
            "Requirement already satisfied: networkx in /usr/local/lib/python3.11/dist-packages (from torch) (3.4.2)\n",
            "Requirement already satisfied: jinja2 in /usr/local/lib/python3.11/dist-packages (from torch) (3.1.6)\n",
            "Requirement already satisfied: fsspec in /usr/local/lib/python3.11/dist-packages (from torch) (2025.3.2)\n",
            "Requirement already satisfied: nvidia-cuda-nvrtc-cu12==12.4.127 in /usr/local/lib/python3.11/dist-packages (from torch) (12.4.127)\n",
            "Requirement already satisfied: nvidia-cuda-runtime-cu12==12.4.127 in /usr/local/lib/python3.11/dist-packages (from torch) (12.4.127)\n",
            "Requirement already satisfied: nvidia-cuda-cupti-cu12==12.4.127 in /usr/local/lib/python3.11/dist-packages (from torch) (12.4.127)\n",
            "Requirement already satisfied: nvidia-cudnn-cu12==9.1.0.70 in /usr/local/lib/python3.11/dist-packages (from torch) (9.1.0.70)\n",
            "Requirement already satisfied: nvidia-cublas-cu12==12.4.5.8 in /usr/local/lib/python3.11/dist-packages (from torch) (12.4.5.8)\n",
            "Requirement already satisfied: nvidia-cufft-cu12==11.2.1.3 in /usr/local/lib/python3.11/dist-packages (from torch) (11.2.1.3)\n",
            "Requirement already satisfied: nvidia-curand-cu12==10.3.5.147 in /usr/local/lib/python3.11/dist-packages (from torch) (10.3.5.147)\n",
            "Requirement already satisfied: nvidia-cusolver-cu12==11.6.1.9 in /usr/local/lib/python3.11/dist-packages (from torch) (11.6.1.9)\n",
            "Requirement already satisfied: nvidia-cusparse-cu12==12.3.1.170 in /usr/local/lib/python3.11/dist-packages (from torch) (12.3.1.170)\n",
            "Requirement already satisfied: nvidia-cusparselt-cu12==0.6.2 in /usr/local/lib/python3.11/dist-packages (from torch) (0.6.2)\n",
            "Requirement already satisfied: nvidia-nccl-cu12==2.21.5 in /usr/local/lib/python3.11/dist-packages (from torch) (2.21.5)\n",
            "Requirement already satisfied: nvidia-nvtx-cu12==12.4.127 in /usr/local/lib/python3.11/dist-packages (from torch) (12.4.127)\n",
            "Requirement already satisfied: nvidia-nvjitlink-cu12==12.4.127 in /usr/local/lib/python3.11/dist-packages (from torch) (12.4.127)\n",
            "Requirement already satisfied: triton==3.2.0 in /usr/local/lib/python3.11/dist-packages (from torch) (3.2.0)\n",
            "Requirement already satisfied: sympy==1.13.1 in /usr/local/lib/python3.11/dist-packages (from torch) (1.13.1)\n",
            "Requirement already satisfied: mpmath<1.4,>=1.1.0 in /usr/local/lib/python3.11/dist-packages (from sympy==1.13.1->torch) (1.3.0)\n",
            "Requirement already satisfied: torchvision>=0.9.0 in /usr/local/lib/python3.11/dist-packages (from pyhealth) (0.21.0+cu124)\n",
            "Requirement already satisfied: rdkit>=2022.03.4 in /usr/local/lib/python3.11/dist-packages (from pyhealth) (2024.9.6)\n",
            "Requirement already satisfied: scikit-learn>=0.24.2 in /usr/local/lib/python3.11/dist-packages (from pyhealth) (1.6.1)\n",
            "Collecting pandas<2,>=1.3.2 (from pyhealth)\n",
            "  Downloading pandas-1.5.3-cp311-cp311-manylinux_2_17_x86_64.manylinux2014_x86_64.whl.metadata (11 kB)\n",
            "Requirement already satisfied: pandarallel>=1.5.3 in /usr/local/lib/python3.11/dist-packages (from pyhealth) (1.6.5)\n",
            "Requirement already satisfied: mne>=1.0.3 in /usr/local/lib/python3.11/dist-packages (from pyhealth) (1.9.0)\n",
            "Requirement already satisfied: urllib3<=1.26.15 in /usr/local/lib/python3.11/dist-packages (from pyhealth) (1.26.15)\n",
            "Requirement already satisfied: numpy in /usr/local/lib/python3.11/dist-packages (from pyhealth) (1.23.5)\n",
            "Requirement already satisfied: tqdm in /usr/local/lib/python3.11/dist-packages (from pyhealth) (4.67.1)\n",
            "Requirement already satisfied: polars in /usr/local/lib/python3.11/dist-packages (from pyhealth) (1.21.0)\n",
            "Requirement already satisfied: transformers in /usr/local/lib/python3.11/dist-packages (from pyhealth) (4.51.3)\n",
            "Collecting alembic>=1.5.0 (from optuna)\n",
            "  Downloading alembic-1.15.2-py3-none-any.whl.metadata (7.3 kB)\n",
            "Collecting colorlog (from optuna)\n",
            "  Downloading colorlog-6.9.0-py3-none-any.whl.metadata (10 kB)\n",
            "Requirement already satisfied: packaging>=20.0 in /usr/local/lib/python3.11/dist-packages (from optuna) (24.2)\n",
            "Requirement already satisfied: sqlalchemy>=1.4.2 in /usr/local/lib/python3.11/dist-packages (from optuna) (2.0.40)\n",
            "Requirement already satisfied: PyYAML in /usr/local/lib/python3.11/dist-packages (from optuna) (6.0.2)\n",
            "Requirement already satisfied: ecos in /usr/local/lib/python3.11/dist-packages (from scikit-survival) (2.0.14)\n",
            "Requirement already satisfied: joblib in /usr/local/lib/python3.11/dist-packages (from scikit-survival) (1.4.2)\n",
            "Requirement already satisfied: numexpr in /usr/local/lib/python3.11/dist-packages (from scikit-survival) (2.10.2)\n",
            "Requirement already satisfied: osqp<1.0.0,>=0.6.3 in /usr/local/lib/python3.11/dist-packages (from scikit-survival) (0.6.7.post3)\n",
            "Requirement already satisfied: scipy>=1.3.2 in /usr/local/lib/python3.11/dist-packages (from scikit-survival) (1.15.2)\n",
            "Requirement already satisfied: contourpy>=1.0.1 in /usr/local/lib/python3.11/dist-packages (from matplotlib) (1.3.2)\n",
            "Requirement already satisfied: cycler>=0.10 in /usr/local/lib/python3.11/dist-packages (from matplotlib) (0.12.1)\n",
            "Requirement already satisfied: fonttools>=4.22.0 in /usr/local/lib/python3.11/dist-packages (from matplotlib) (4.57.0)\n",
            "Requirement already satisfied: kiwisolver>=1.3.1 in /usr/local/lib/python3.11/dist-packages (from matplotlib) (1.4.8)\n",
            "Requirement already satisfied: pillow>=8 in /usr/local/lib/python3.11/dist-packages (from matplotlib) (11.2.1)\n",
            "Requirement already satisfied: pyparsing>=2.3.1 in /usr/local/lib/python3.11/dist-packages (from matplotlib) (3.2.3)\n",
            "Requirement already satisfied: python-dateutil>=2.7 in /usr/local/lib/python3.11/dist-packages (from matplotlib) (2.9.0.post0)\n",
            "Requirement already satisfied: Mako in /usr/lib/python3/dist-packages (from alembic>=1.5.0->optuna) (1.1.3)\n",
            "Requirement already satisfied: decorator in /usr/local/lib/python3.11/dist-packages (from mne>=1.0.3->pyhealth) (4.4.2)\n",
            "Requirement already satisfied: lazy-loader>=0.3 in /usr/local/lib/python3.11/dist-packages (from mne>=1.0.3->pyhealth) (0.4)\n",
            "Requirement already satisfied: pooch>=1.5 in /usr/local/lib/python3.11/dist-packages (from mne>=1.0.3->pyhealth) (1.8.2)\n",
            "Requirement already satisfied: qdldl in /usr/local/lib/python3.11/dist-packages (from osqp<1.0.0,>=0.6.3->scikit-survival) (0.1.7.post5)\n",
            "Requirement already satisfied: dill>=0.3.1 in /usr/local/lib/python3.11/dist-packages (from pandarallel>=1.5.3->pyhealth) (0.4.0)\n",
            "Requirement already satisfied: psutil in /usr/local/lib/python3.11/dist-packages (from pandarallel>=1.5.3->pyhealth) (5.9.5)\n",
            "Requirement already satisfied: pytz>=2020.1 in /usr/local/lib/python3.11/dist-packages (from pandas<2,>=1.3.2->pyhealth) (2025.2)\n",
            "Requirement already satisfied: six>=1.5 in /usr/local/lib/python3.11/dist-packages (from python-dateutil>=2.7->matplotlib) (1.17.0)\n",
            "Requirement already satisfied: threadpoolctl>=3.1.0 in /usr/local/lib/python3.11/dist-packages (from scikit-learn>=0.24.2->pyhealth) (3.6.0)\n",
            "Requirement already satisfied: greenlet>=1 in /usr/local/lib/python3.11/dist-packages (from sqlalchemy>=1.4.2->optuna) (3.2.1)\n",
            "Requirement already satisfied: MarkupSafe>=2.0 in /usr/local/lib/python3.11/dist-packages (from jinja2->torch) (3.0.2)\n",
            "Requirement already satisfied: huggingface-hub<1.0,>=0.30.0 in /usr/local/lib/python3.11/dist-packages (from transformers->pyhealth) (0.30.2)\n",
            "Requirement already satisfied: regex!=2019.12.17 in /usr/local/lib/python3.11/dist-packages (from transformers->pyhealth) (2024.11.6)\n",
            "Requirement already satisfied: requests in /usr/local/lib/python3.11/dist-packages (from transformers->pyhealth) (2.32.3)\n",
            "Requirement already satisfied: tokenizers<0.22,>=0.21 in /usr/local/lib/python3.11/dist-packages (from transformers->pyhealth) (0.21.1)\n",
            "Requirement already satisfied: safetensors>=0.4.3 in /usr/local/lib/python3.11/dist-packages (from transformers->pyhealth) (0.5.3)\n",
            "Requirement already satisfied: platformdirs>=2.5.0 in /usr/local/lib/python3.11/dist-packages (from pooch>=1.5->mne>=1.0.3->pyhealth) (4.3.7)\n",
            "Requirement already satisfied: charset-normalizer<4,>=2 in /usr/local/lib/python3.11/dist-packages (from requests->transformers->pyhealth) (3.4.1)\n",
            "Requirement already satisfied: idna<4,>=2.5 in /usr/local/lib/python3.11/dist-packages (from requests->transformers->pyhealth) (3.10)\n",
            "Requirement already satisfied: certifi>=2017.4.17 in /usr/local/lib/python3.11/dist-packages (from requests->transformers->pyhealth) (2025.4.26)\n",
            "Downloading optuna-4.3.0-py3-none-any.whl (386 kB)\n",
            "\u001b[2K   \u001b[90m━━━━━━━━━━━━━━━━━━━━━━━━━━━━━━━━━━━━━━━━\u001b[0m \u001b[32m386.6/386.6 kB\u001b[0m \u001b[31m25.7 MB/s\u001b[0m eta \u001b[36m0:00:00\u001b[0m\n",
            "\u001b[?25hDownloading alembic-1.15.2-py3-none-any.whl (231 kB)\n",
            "\u001b[2K   \u001b[90m━━━━━━━━━━━━━━━━━━━━━━━━━━━━━━━━━━━━━━━━\u001b[0m \u001b[32m231.9/231.9 kB\u001b[0m \u001b[31m19.1 MB/s\u001b[0m eta \u001b[36m0:00:00\u001b[0m\n",
            "\u001b[?25hDownloading pandas-1.5.3-cp311-cp311-manylinux_2_17_x86_64.manylinux2014_x86_64.whl (12.0 MB)\n",
            "\u001b[2K   \u001b[90m━━━━━━━━━━━━━━━━━━━━━━━━━━━━━━━━━━━━━━━━\u001b[0m \u001b[32m12.0/12.0 MB\u001b[0m \u001b[31m71.3 MB/s\u001b[0m eta \u001b[36m0:00:00\u001b[0m\n",
            "\u001b[?25hDownloading colorlog-6.9.0-py3-none-any.whl (11 kB)\n",
            "Installing collected packages: colorlog, pandas, alembic, optuna\n",
            "  Attempting uninstall: pandas\n",
            "    Found existing installation: pandas 2.2.3\n",
            "    Uninstalling pandas-2.2.3:\n",
            "      Successfully uninstalled pandas-2.2.3\n",
            "\u001b[31mERROR: pip's dependency resolver does not currently take into account all the packages that are installed. This behaviour is the source of the following dependency conflicts.\n",
            "lifelines 0.30.0 requires pandas>=2.1, but you have pandas 1.5.3 which is incompatible.\n",
            "google-colab 1.0.0 requires pandas==2.2.2, but you have pandas 1.5.3 which is incompatible.\n",
            "xarray 2025.3.1 requires numpy>=1.24, but you have numpy 1.23.5 which is incompatible.\n",
            "xarray 2025.3.1 requires pandas>=2.1, but you have pandas 1.5.3 which is incompatible.\n",
            "dask-cudf-cu12 25.2.2 requires pandas<2.2.4dev0,>=2.0, but you have pandas 1.5.3 which is incompatible.\n",
            "mizani 0.13.3 requires pandas>=2.2.0, but you have pandas 1.5.3 which is incompatible.\n",
            "bigframes 2.1.0 requires numpy>=1.24.0, but you have numpy 1.23.5 which is incompatible.\n",
            "plotnine 0.14.5 requires pandas>=2.2.0, but you have pandas 1.5.3 which is incompatible.\n",
            "pymc 5.22.0 requires numpy>=1.25.0, but you have numpy 1.23.5 which is incompatible.\n",
            "dask-expr 1.1.21 requires pandas>=2, but you have pandas 1.5.3 which is incompatible.\n",
            "cudf-cu12 25.2.1 requires pandas<2.2.4dev0,>=2.0, but you have pandas 1.5.3 which is incompatible.\u001b[0m\u001b[31m\n",
            "\u001b[0mSuccessfully installed alembic-1.15.2 colorlog-6.9.0 optuna-4.3.0 pandas-1.5.3\n"
          ]
        },
        {
          "output_type": "display_data",
          "data": {
            "application/vnd.colab-display-data+json": {
              "pip_warning": {
                "packages": [
                  "pandas"
                ]
              },
              "id": "04fc316af7f2426bb7e6c06d13126416"
            }
          },
          "metadata": {}
        }
      ]
    },
    {
      "cell_type": "code",
      "source": [
        "import torch\n",
        "import torch.nn as nn\n",
        "import torch.optim as optim\n",
        "from torch.utils.data import DataLoader, TensorDataset, Subset\n",
        "from pyhealth.datasets import GBSGDataset\n",
        "from pyhealth.tasks import SurvivalAnalysisGBSG\n",
        "from sksurv.util import Surv\n",
        "from sksurv.metrics import concordance_index_censored, cumulative_dynamic_auc, integrated_brier_score, brier_score as sk_brier_score\n",
        "from sksurv.nonparametric import kaplan_meier_estimator\n",
        "from sklearn.model_selection import StratifiedKFold\n",
        "from sklearn.preprocessing import StandardScaler\n",
        "import optuna\n",
        "import numpy as np\n",
        "import matplotlib.pyplot as plt\n",
        "import pandas as pd\n",
        "import os\n",
        "from lifelines import KaplanMeierFitter\n",
        "from lifelines.statistics import logrank_test\n",
        "\n",
        "# Fix seed for reproducibility\n",
        "SEED = 42\n",
        "torch.manual_seed(SEED)\n",
        "np.random.seed(SEED)\n",
        "\n",
        "# Set device\n",
        "device = torch.device(\"cuda\" if torch.cuda.is_available() else \"cpu\")\n",
        "print(f\"Using device: {device}\")\n",
        "\n",
        "# --- Dataset Loading and Preprocessing ---\n",
        "# Define dataset root directory\n",
        "DATA_ROOT = \"./datasets/\"\n",
        "# Create directory if it doesn't exist\n",
        "os.makedirs(DATA_ROOT, exist_ok=True)\n",
        "\n",
        "# Load dataset\n",
        "# Load dataset\n",
        "dataset = GBSGDataset(\n",
        "    root=\"/content/datasets/\",\n",
        "    config_path=\"/content/PyHealth/pyhealth/datasets/configs/gbsg.yaml\",\n",
        "    dataset_name=\"gbsg_study\"\n",
        ")\n",
        "\n",
        "# Create task\n",
        "task = SurvivalAnalysisGBSG()\n",
        "task_dataset = dataset.set_task(task)\n",
        "print(f\"Generated {len(task_dataset.samples)} samples for task {task.task_name}\")\n",
        "\n",
        "\n",
        "\n",
        "# Prepare features, times, events, and original_hormon for grouping\n",
        "features_list, times_list, events_list, original_hormon_list = [], [], [], []\n",
        "\n",
        "for sample in task_dataset.samples: # Iterating directly over samples maintains order\n",
        "    # Extract features (all keys except patient_id, time, event)\n",
        "    # Assuming 'hormon' is one of the features used by the model\n",
        "    feat = {k: v for k, v in sample.items() if k not in [\"patient_id\", \"time\", \"event\"]}\n",
        "    features_list.append(list(feat.values()))\n",
        "    times_list.append(float(sample[\"time\"]))\n",
        "    events_list.append(int(sample[\"event\"]))\n",
        "    # Store the original 'hormon' value for later grouping\n",
        "    original_hormon_list.append(int(sample[\"hormon\"])) # Assume 'hormon' is 0 or 1 based on dataset info\n",
        "\n",
        "\n",
        "# Convert lists to tensors\n",
        "features = torch.tensor(features_list, dtype=torch.float32)\n",
        "times = torch.tensor(times_list, dtype=torch.float32)\n",
        "events = torch.tensor(events_list, dtype=torch.bool) # Use boolean for events\n",
        "\n",
        "print(f\"Loaded {features.shape[0]} samples with {features.shape[1]} features.\")\n",
        "\n",
        "# Normalize features\n",
        "scaler = StandardScaler()\n",
        "features_np = features.numpy() # Convert tensor to numpy for scikit-learn\n",
        "features_scaled_np = scaler.fit_transform(features_np)\n",
        "features = torch.tensor(features_scaled_np, dtype=torch.float32) # Convert back to tensor\n",
        "print(\"Features normalized.\")\n",
        "\n",
        "# Identify indices for hormonal therapy groups based on original data\n",
        "original_hormon_np = np.array(original_hormon_list)\n",
        "hormon_1_indices = np.where(original_hormon_np == 1)[0].tolist()\n",
        "hormon_0_indices = np.where(original_hormon_np == 0)[0].tolist()\n",
        "\n",
        "print(f\"Found {len(hormon_1_indices)} patients with hormonal therapy and {len(hormon_0_indices)} without.\")\n",
        "\n",
        "\n",
        "# Prepare stratification bins for K-Fold Cross-Validation\n",
        "# Stratify by a combination of time bins and event status for more balanced folds\n",
        "all_times_np = times.numpy()\n",
        "all_events_np = events.numpy().astype(int)\n",
        "\n",
        "# Create time bins using quantiles\n",
        "try:\n",
        "    time_bins = pd.qcut(all_times_np, q=5, labels=False, duplicates='drop')\n",
        "    # Combine time bin index and event status (0 or 1) to create strata\n",
        "    stratify_on = time_bins * 2 + all_events_np\n",
        "    print(\"Stratifying by 5 time bins and event status.\")\n",
        "except ValueError:\n",
        "    print(\"Could not create 5 unique time bins for stratification. Trying with 3 bins.\")\n",
        "    try:\n",
        "        time_bins = pd.qcut(all_times_np, q=3, labels=False, duplicates='drop')\n",
        "        stratify_on = time_bins * 2 + all_events_np\n",
        "        print(\"Stratifying by 3 time bins and event status.\")\n",
        "    except ValueError:\n",
        "        print(\"Could not create 3 unique time bins for stratification. Stratifying only by event status.\")\n",
        "        stratify_on = all_events_np # Fallback: stratify only by event status\n",
        "\n",
        "# Create a TensorDataset from the prepared tensors\n",
        "dataset_full = TensorDataset(features, times, events)\n",
        "\n",
        "# --- Survival Model Definition (Static MLP) ---\n",
        "class StaticHazardModel(nn.Module):\n",
        "    def __init__(self, input_dim, hidden_dim=128, dropout=0.3):\n",
        "        super().__init__()\n",
        "        self.net = nn.Sequential(\n",
        "            nn.Linear(input_dim, hidden_dim),\n",
        "            nn.BatchNorm1d(hidden_dim), # BatchNorm after linear layer\n",
        "            nn.ReLU(),\n",
        "            nn.Dropout(dropout),\n",
        "            nn.Linear(hidden_dim, hidden_dim // 2), # Intermediate layer\n",
        "            nn.ReLU(),\n",
        "            nn.Linear(hidden_dim // 2, 1) # Output a single risk score\n",
        "        )\n",
        "\n",
        "    def forward(self, x):\n",
        "        # Ensure input has at least 2 dimensions for BatchNorm1d\n",
        "        if x.dim() == 1:\n",
        "            x = x.unsqueeze(0)\n",
        "        hazard = self.net(x).squeeze() # Squeeze to remove the last dimension if it's 1\n",
        "        # Handle batch size 1 case where squeeze might remove the batch dim\n",
        "        if hazard.dim() == 0:\n",
        "             hazard = hazard.unsqueeze(0)\n",
        "        return hazard\n",
        "\n",
        "# --- Cox Loss Function (Corrected) ---\n",
        "def cox_loss(hazards, times, events):\n",
        "    # Ensure inputs are on the same device\n",
        "    hazards = hazards.to(device)\n",
        "    times = times.to(device)\n",
        "    events = events.to(device)\n",
        "\n",
        "    # Sort by time in descending order\n",
        "    order = torch.argsort(times, descending=True)\n",
        "    hazards = hazards[order]\n",
        "    events = events[order]\n",
        "\n",
        "    # Calculate log-risk for each patient\n",
        "    # Risk set includes all patients with time >= current patient's time\n",
        "    # Use cumsum on exp(hazards) after sorting by time\n",
        "    hazards_exp = torch.exp(hazards)\n",
        "    # Add a small epsilon to the cumsum for numerical stability, especially if sum is zero\n",
        "    log_risk = torch.log(torch.cumsum(hazards_exp, dim=0) + 1e-8)\n",
        "\n",
        "    # Calculate partial likelihood term for each patient\n",
        "    # partial_likelihood = risk_score * event_indicator - log(sum_of_risk_scores_in_risk_set)\n",
        "    partial_likelihood = hazards * events - log_risk\n",
        "\n",
        "    # Sum partial likelihood only for uncensored events (events == True)\n",
        "    mask = events.bool() # Ensure mask is boolean type\n",
        "    partial_likelihood_observed = partial_likelihood[mask]\n",
        "\n",
        "    # Average the negative partial likelihood over the number of observed events\n",
        "    num_observed_events = mask.sum()\n",
        "    if num_observed_events == 0:\n",
        "        # If no events in the batch, return a zero tensor.\n",
        "        # Crucially, set requires_grad based on whether the input hazards required grad.\n",
        "        # This ensures the loss tensor is part of the graph if needed for backprop.\n",
        "        loss = torch.tensor(0.0, device=device, requires_grad=hazards.requires_grad)\n",
        "    else:\n",
        "        loss = -partial_likelihood_observed.sum() / num_observed_events\n",
        "\n",
        "    return loss\n",
        "\n",
        "# --- Calibration Metrics Calculation (Corrected Brier Score using sksurv) ---\n",
        "def calculate_calibration_metrics(model, dataloader, device, eval_times, y_train, q=10):\n",
        "    \"\"\"\n",
        "    Calculates time-dependent calibration metrics (ECE, Brier) and survival probabilities.\n",
        "\n",
        "    Args:\n",
        "        model: The trained PyTorch model.\n",
        "        dataloader: DataLoader for the evaluation dataset.\n",
        "        device: The device to use ('cuda' or 'cpu').\n",
        "        eval_times (list or np.array): List of time points at which to evaluate metrics.\n",
        "        y_train (Surv): Survival data (event indicator and time) for the training set.\n",
        "                       Used by sksurv metrics to estimate the censoring distribution.\n",
        "        q (int): Number of quantiles for ECE calculation.\n",
        "\n",
        "    Returns:\n",
        "        dict: A dictionary containing:\n",
        "            \"ECE_at_times\" (list): List of ECE scores at each eval_time.\n",
        "            \"Brier_at_times\" (list): List of Brier scores at each eval_time.\n",
        "            \"EvalTimes\" (list): The evaluation time points used.\n",
        "            \"survival_probs\" (np.array): Predicted survival probabilities (n_samples, n_times).\n",
        "                                         Returns None if calculation fails.\n",
        "    \"\"\"\n",
        "    model.eval() # Set model to evaluation mode\n",
        "    all_hazards, all_times, all_events = [], [], []\n",
        "\n",
        "    # Collect hazards, times, and events from the dataloader\n",
        "    with torch.no_grad():\n",
        "        for X_batch, t_batch, e_batch in dataloader:\n",
        "            X_batch = X_batch.to(device)\n",
        "            hazards = model(X_batch).cpu().numpy().flatten() # Get hazards and move to CPU\n",
        "            all_hazards.extend(hazards)\n",
        "            all_times.extend(t_batch.numpy())\n",
        "            all_events.extend(e_batch.numpy())\n",
        "\n",
        "    all_hazards = np.array(all_hazards)\n",
        "    all_events = np.array(all_events, dtype=bool)\n",
        "    all_times = np.array(all_times)\n",
        "\n",
        "    # Create sksurv Surv object for the evaluation dataset\n",
        "    y_true = Surv.from_arrays(event=all_events, time=all_times)\n",
        "\n",
        "    ece_scores = []\n",
        "    brier_scores = []\n",
        "    survival_probs = None # Default to None\n",
        "\n",
        "    try:\n",
        "        # --- Calculate Predicted Survival Probabilities at eval_times using Breslow Estimator ---\n",
        "        # This requires calculating the baseline cumulative hazard.\n",
        "        # Sort data by time to calculate risk sets and baseline hazard\n",
        "        order = np.argsort(all_times)\n",
        "        sorted_hazards = all_hazards[order]\n",
        "        sorted_times = all_times[order]\n",
        "        sorted_events = all_events[order]\n",
        "\n",
        "        # Calculate baseline cumulative hazard based on observed events in the evaluation data\n",
        "        # This is needed to predict survival probabilities for the evaluation set itself.\n",
        "        unique_observed_times_eval = np.unique(sorted_times[sorted_events])\n",
        "        baseline_hazard_increments_eval = {}\n",
        "\n",
        "        for t in unique_observed_times_eval:\n",
        "            # Indices of patients at risk at time t (time >= t) in the *evaluation* set\n",
        "            risk_set_indices_at_t = np.where(sorted_times >= t)[0]\n",
        "            if len(risk_set_indices_at_t) > 0:\n",
        "                risk_set_sum_at_t = np.sum(np.exp(sorted_hazards[risk_set_indices_at_t]))\n",
        "                if risk_set_sum_at_t > 0:\n",
        "                     # Number of observed events occurring exactly at time t in the evaluation set\n",
        "                     num_observed_events_at_t = np.sum(sorted_events[sorted_times == t])\n",
        "                     if num_observed_events_at_t > 0:\n",
        "                         baseline_hazard_increments_eval[t] = num_observed_events_at_t / risk_set_sum_at_t\n",
        "                     else:\n",
        "                         baseline_hazard_increments_eval[t] = 0\n",
        "            else:\n",
        "                 baseline_hazard_increments_eval[t] = 0\n",
        "\n",
        "        # Build the cumulative baseline hazard function from the evaluation data\n",
        "        cumulative_baseline_hazard_func_eval = {}\n",
        "        cumulative_sum = 0\n",
        "        sorted_unique_observed_times_eval = sorted(baseline_hazard_increments_eval.keys())\n",
        "        for t in sorted_unique_observed_times_eval:\n",
        "            cumulative_sum += baseline_hazard_increments_eval[t]\n",
        "            cumulative_baseline_hazard_func_eval[t] = cumulative_sum\n",
        "\n",
        "        # Calculate survival probabilities S(t|x) = exp(-H_0_eval(t) * exp(h(x))) at eval_times\n",
        "        # using the baseline cumulative hazard estimated from the *evaluation* data.\n",
        "        survival_probs = np.zeros((len(all_hazards), len(eval_times)))\n",
        "        for i, t in enumerate(eval_times):\n",
        "            # Find the cumulative baseline hazard up to time t from the evaluation set estimates\n",
        "            relevant_times = [ut for ut in sorted_unique_observed_times_eval if ut <= t]\n",
        "            if relevant_times:\n",
        "                cum_hazard_at_t = cumulative_baseline_hazard_func_eval[relevant_times[-1]]\n",
        "                # Survival probability for each individual at time t\n",
        "                survival_probs[:, i] = np.clip(np.exp(-cum_hazard_at_t * np.exp(all_hazards)), 1e-8, 1 - 1e-8)\n",
        "            else:\n",
        "                 # For times before the first observed event in the evaluation set, survival is 1\n",
        "                 survival_probs[:, i] = 1.0\n",
        "\n",
        "        # Ensure survival curves are non-increasing over time\n",
        "        for i in range(1, survival_probs.shape[1]):\n",
        "            survival_probs[:, i] = np.minimum(survival_probs[:, i], survival_probs[:, i - 1])\n",
        "\n",
        "\n",
        "        # --- Calculate Expected Calibration Error (ECE) at each eval_time ---\n",
        "        # For simplicity here, using the basic average within bins without explicit IPCW.\n",
        "        for i, t in enumerate(eval_times):\n",
        "            # True survival status at time t (1 if survived beyond t, 0 otherwise) in the evaluation set\n",
        "            y_event_gt_t = (all_times > t).astype(float)\n",
        "            # Predicted survival probability at time t\n",
        "            y_pred = survival_probs[:, i]\n",
        "\n",
        "            # Bin predictions into quantiles\n",
        "            sorted_indices = np.argsort(y_pred)\n",
        "            bin_indices = np.array_split(sorted_indices, q)\n",
        "\n",
        "            ece = 0.0\n",
        "            total_samples = len(y_pred)\n",
        "\n",
        "            for indices in bin_indices:\n",
        "                if len(indices) == 0:\n",
        "                    continue # Skip empty bins\n",
        "                bin_pred = y_pred[indices]\n",
        "                bin_event_gt_t = y_event_gt_t[indices]\n",
        "\n",
        "                # Average predicted probability and true event status within the bin\n",
        "                avg_pred = np.mean(bin_pred)\n",
        "                avg_event = np.mean(bin_event_gt_t)\n",
        "\n",
        "                # Weighted difference, weighted by the proportion of samples in the bin\n",
        "                ece += abs(avg_event - avg_pred) * len(indices) / total_samples\n",
        "\n",
        "            ece_scores.append(ece)\n",
        "\n",
        "        # --- Calculate Brier Score at each eval_time using sksurv ---\n",
        "        # sksurv.metrics.brier_score handles IPCW internally based on y_train.\n",
        "        try:\n",
        "            # sk_brier_score requires:\n",
        "            # - y_train: survival data for the training set (used for censoring estimate)\n",
        "            # - y_true: survival data for the test/validation set\n",
        "            # - survival_probs: predicted survival probabilities for the test/validation set (n_samples, n_times)\n",
        "            # - times: the time points at which to evaluate the Brier score\n",
        "            time_points_bs, bs_at_times = sk_brier_score(y_train, y_true, survival_probs, times=eval_times)\n",
        "\n",
        "            # Ensure the returned times match the requested times, and scores match.\n",
        "            # sk_brier_score returns scores corresponding to the input 'times'.\n",
        "            brier_scores = bs_at_times.tolist() # Convert numpy array to list\n",
        "\n",
        "        except Exception as e:\n",
        "            print(f\"Error computing Brier scores using sksurv: {str(e)}\")\n",
        "            # If sk_brier_score fails, return a list of NaNs matching the number of eval_times\n",
        "            brier_scores = [float('nan')] * len(eval_times)\n",
        "\n",
        "    except Exception as e:\n",
        "         print(f\"Error during survival probability or calibration metrics calculation: {str(e)}\")\n",
        "         # If any step in this try block fails, set scores to NaN and survival_probs to None\n",
        "         ece_scores = [float('nan')] * len(eval_times)\n",
        "         brier_scores = [float('nan')] * len(eval_times)\n",
        "         survival_probs = None\n",
        "\n",
        "\n",
        "    return {\n",
        "        \"ECE_at_times\": ece_scores,\n",
        "        \"Brier_at_times\": brier_scores,\n",
        "        \"EvalTimes\": eval_times,\n",
        "        \"survival_probs\": survival_probs # Return survival probabilities for IBS calculation\n",
        "    }\n",
        "\n",
        "# --- Evaluation Metrics Function ---\n",
        "def evaluate_model(model, dataloader, device, eval_times, y_train):\n",
        "    \"\"\"\n",
        "    Evaluates the survival model using various metrics.\n",
        "\n",
        "    Args:\n",
        "        model: The trained PyTorch model.\n",
        "        dataloader: DataLoader for the evaluation dataset.\n",
        "        device: The device to use ('cuda' or 'cpu').\n",
        "        eval_times (list or np.array): List of time points at which to evaluate time-dependent metrics.\n",
        "        y_train (Surv): Survival data (event indicator and time) for the training set.\n",
        "                       Used by sksurv metrics (AUC, IBS, Brier) for censoring adjustment.\n",
        "\n",
        "    Returns:\n",
        "        dict: A dictionary containing evaluation metrics.\n",
        "    \"\"\"\n",
        "    model.eval() # Set model to evaluation mode\n",
        "    all_hazards, all_times, all_events = [], [], []\n",
        "\n",
        "    # Collect hazards, times, and events from the dataloader\n",
        "    with torch.no_grad():\n",
        "        for X_batch, t_batch, e_batch in dataloader:\n",
        "            X_batch = X_batch.to(device)\n",
        "            hazards = model(X_batch).cpu().numpy().flatten() # Get hazards and move to CPU\n",
        "            all_hazards.extend(hazards)\n",
        "            all_times.extend(t_batch.numpy())\n",
        "            all_events.extend(e_batch.numpy())\n",
        "\n",
        "    all_hazards = np.array(all_hazards)\n",
        "    all_events = np.array(all_events, dtype=bool)\n",
        "    all_times = np.array(all_times)\n",
        "\n",
        "    # Create sksurv Surv object for the evaluation dataset (y_true)\n",
        "    y_true = Surv.from_arrays(event=all_events, time=all_times)\n",
        "\n",
        "    # --- Concordance Index (Ctd) ---\n",
        "    # Ctd is calculated on predicted risk scores (hazards) and observed data\n",
        "    # Higher hazard for earlier events means higher Ctd.\n",
        "    ctd = float('nan') # Default to NaN\n",
        "    try:\n",
        "        if len(all_events) > 1: # Need at least 2 samples for Ctd\n",
        "            ctd = concordance_index_censored(all_events, all_times, all_hazards)[0]\n",
        "        else:\n",
        "             print(\"Warning: Less than 2 samples for Ctd calculation.\")\n",
        "    except Exception as e:\n",
        "        print(f\"Error computing Ctd: {str(e)}\")\n",
        "\n",
        "\n",
        "    # --- Time-dependent AUC ---\n",
        "    # Calculated on predicted risk scores (hazards) at specific time points.\n",
        "    # Requires censoring adjustment based on the training data (y_train).\n",
        "    auc_scores_list = []\n",
        "    valid_times_auc_list = []\n",
        "    avg_auc = float('nan') # Default to NaN\n",
        "\n",
        "    try:\n",
        "        # sksurv's cumulative_dynamic_auc requires:\n",
        "        # - y_train: survival data for the training set (used for censoring estimate)\n",
        "        # - y_true: survival data for the test/validation set\n",
        "        # - estimate: predicted risk scores (all_hazards)\n",
        "        # - times: the time points at which to evaluate the AUC\n",
        "        # It returns two numpy arrays: (times, auc_scores) for the valid times.\n",
        "        # It handles cases where AUC cannot be computed (e.g., censoring issues) by not returning those times/scores.\n",
        "        # Ensure eval_times is not empty and there is enough data for sksurv metrics\n",
        "        if eval_times and len(y_true) > 1 and len(y_train) > 1:\n",
        "            computed_times_auc, computed_auc_scores = cumulative_dynamic_auc(y_train, y_true, all_hazards, eval_times)\n",
        "\n",
        "            # Ensure the results are numpy arrays and filter out NaNs just in case\n",
        "            computed_times_auc = np.asarray(computed_times_auc)\n",
        "            computed_auc_scores = np.asarray(computed_auc_scores)\n",
        "\n",
        "            # Filter out NaN AUC scores if any\n",
        "            valid_mask_auc = ~np.isnan(computed_auc_scores)\n",
        "            valid_times_auc_np = computed_times_auc[valid_mask_auc]\n",
        "            auc_scores_np = computed_auc_scores[valid_mask_auc]\n",
        "\n",
        "            # Convert to list for return dictionary\n",
        "            valid_times_auc_list = valid_times_auc_np.tolist()\n",
        "            auc_scores_list = auc_scores_np.tolist()\n",
        "\n",
        "            # Calculate the average AUC over the valid times\n",
        "            avg_auc = np.mean(auc_scores_np) if len(auc_scores_np) > 0 else float('nan')\n",
        "        else:\n",
        "            print(\"Warning: Insufficient data or empty eval_times for Time-dependent AUC calculation.\")\n",
        "\n",
        "\n",
        "    except Exception as e:\n",
        "        print(f\"Error computing Time-dependent AUC: {str(e)}\")\n",
        "        # avg_auc is already nan\n",
        "        # Keep lists empty\n",
        "\n",
        "\n",
        "    # --- Calibration Metrics (ECE and Time-dependent Brier) ---\n",
        "    # Calculated using the helper function, which uses sk_brier_score internally.\n",
        "    # This function also returns the survival probabilities needed for IBS.\n",
        "    calibration_metrics = calculate_calibration_metrics(model, dataloader, device, eval_times, y_train)\n",
        "\n",
        "    # --- Integrated Brier Score (IBS) ---\n",
        "    # Calculated over the range of evaluation times using predicted survival curves.\n",
        "    # Requires censoring adjustment based on the training data (y_train).\n",
        "    ibs = float('nan') # Default to NaN\n",
        "    try:\n",
        "        # Check if survival_probs were successfully generated and eval_times is not empty\n",
        "        if calibration_metrics[\"survival_probs\"] is not None and \\\n",
        "           calibration_metrics[\"survival_probs\"].shape[1] == len(eval_times) and \\\n",
        "           len(eval_times) > 0 and len(y_true) > 1 and len(y_train) > 1: # Need enough data for IBS\n",
        "             # sksurv's integrated_brier_score requires:\n",
        "             # - y_train: survival data for the training set (used for censoring estimate)\n",
        "             # - y_true: survival data for the test/validation set\n",
        "             # - survival_probs: predicted survival probabilities over time (n_samples, n_times)\n",
        "             # - times: the time points corresponding to survival_probs\n",
        "             ibs = integrated_brier_score(y_train, y_true, calibration_metrics[\"survival_probs\"], eval_times)\n",
        "        else:\n",
        "             print(\"Warning: Survival probabilities or eval_times not available/valid for IBS calculation.\")\n",
        "\n",
        "    except Exception as e:\n",
        "        print(f\"Error computing IBS: {str(e)}\")\n",
        "\n",
        "\n",
        "    return {\n",
        "        \"Ctd\": ctd,\n",
        "        \"AUC\": avg_auc, # Average AUC over valid times\n",
        "        \"AUC_at_times\": (valid_times_auc_list, auc_scores_list), # AUC scores at specific times (as lists)\n",
        "        \"IBS\": ibs,\n",
        "        \"ECE_at_times\": calibration_metrics[\"ECE_at_times\"], # List of ECE scores per time\n",
        "        \"Brier_at_times\": calibration_metrics[\"Brier_at_times\"], # List of Brier scores per time\n",
        "        \"eval_times\": eval_times, # List of evaluation times used\n",
        "        \"survival_probs\": calibration_metrics[\"survival_probs\"] # Include survival probs for plotting\n",
        "    }\n",
        "\n",
        "# --- Optuna Objective Function ---\n",
        "def objective(trial):\n",
        "    \"\"\"\n",
        "    Objective function for Optuna hyperparameter tuning. Performs K-Fold CV\n",
        "    and returns the average Integrated Brier Score (IBS) across folds.\n",
        "    \"\"\"\n",
        "    # Define hyperparameter search space\n",
        "    params = {\n",
        "        \"lr\": trial.suggest_float(\"lr\", 1e-4, 5e-3, log=True),\n",
        "        \"batch_size\": trial.suggest_categorical(\"batch_size\", [32, 64, 128]),\n",
        "        \"hidden_dim\": trial.suggest_int(\"hidden_dim\", 64, 256), # Reduced range slightly for faster tuning\n",
        "        \"dropout\": trial.suggest_float(\"dropout\", 0.2, 0.5),\n",
        "        \"weight_decay\": trial.suggest_float(\"weight_decay\", 1e-5, 1e-3, log=True),\n",
        "        \"epochs\": 50, # Maximum epochs per fold, early stopping will be used\n",
        "        \"n_splits\": 5 # Number of folds for cross-validation\n",
        "    }\n",
        "\n",
        "    print(f\"\\nTrial {trial.number} with parameters: {params}\")\n",
        "\n",
        "    # Setup Stratified K-Fold cross-validation\n",
        "    skf = StratifiedKFold(n_splits=params[\"n_splits\"], shuffle=True, random_state=SEED)\n",
        "\n",
        "    # Lists to store metrics from each fold\n",
        "    fold_ctd = []\n",
        "    fold_auc = []\n",
        "    fold_ibs = []\n",
        "    fold_ece_at_times = [] # Store lists of ECE scores per time per fold\n",
        "    fold_brier_at_times = [] # Store lists of Brier scores per time per fold\n",
        "    fold_eval_times_list = [] # Store the evaluation times used for each fold\n",
        "\n",
        "    # Use the pre-calculated stratification bins (`stratify_on`)\n",
        "    # skf.split returns indices, so we pass `features` (or any array-like of the correct size)\n",
        "    # and the `stratify_on` array.\n",
        "    split_generator = skf.split(features, stratify_on)\n",
        "\n",
        "    for fold_idx, (train_idx, val_idx) in enumerate(split_generator):\n",
        "        print(f\"--- Fold {fold_idx + 1}/{params['n_splits']} ---\")\n",
        "\n",
        "        # Need y_train for sksurv metrics (censoring estimation)\n",
        "        # y_train should represent the data the model was trained on in this fold\n",
        "        train_subset = Subset(dataset_full, train_idx)\n",
        "        # DataLoader to easily iterate and collect times/events\n",
        "        train_data_for_y_train = DataLoader(train_subset, batch_size=len(train_subset)) # Load all at once\n",
        "        t_train_np, e_train_np = [], []\n",
        "        with torch.no_grad():\n",
        "            for _, t_batch, e_batch in train_data_for_y_train:\n",
        "                 t_train_np.extend(t_batch.numpy())\n",
        "                 e_train_np.extend(e_batch.numpy())\n",
        "        y_train = Surv.from_arrays(event=np.array(e_train_np, dtype=bool), time=np.array(t_train_np))\n",
        "\n",
        "        # Determine evaluation times for this fold based on percentiles of event times in the training split\n",
        "        train_times_fold = times[train_idx].numpy()\n",
        "        train_events_fold = events[train_idx].numpy()\n",
        "        event_times_train_fold = train_times_fold[train_events_fold]\n",
        "\n",
        "        # Handle cases with no events in the training fold\n",
        "        if len(event_times_train_fold) == 0:\n",
        "             print(f\"Warning: No events in train fold {fold_idx + 1}. Using all training times for initial eval_times percentiles.\")\n",
        "             event_times_train_fold = train_times_fold\n",
        "             # If there are no times at all in the train fold (empty split?), skip\n",
        "             if len(event_times_train_fold) == 0:\n",
        "                 print(f\"Error: No data in train fold {fold_idx + 1}. Skipping evaluation for this fold.\")\n",
        "                 fold_ctd.append(float('nan'))\n",
        "                 fold_auc.append(float('nan'))\n",
        "                 fold_ibs.append(float('nan'))\n",
        "                 fold_ece_at_times.append([])\n",
        "                 fold_brier_at_times.append([])\n",
        "                 fold_eval_times_list.append([])\n",
        "                 continue\n",
        "\n",
        "        try:\n",
        "            # Calculate initial evaluation times as percentiles\n",
        "            initial_eval_times = np.percentile(event_times_train_fold, [10, 30, 50, 70, 90]).tolist()\n",
        "            initial_eval_times = sorted(list(set(initial_eval_times))) # Ensure unique and sorted\n",
        "\n",
        "        except Exception as e:\n",
        "            print(f\"Error determining initial eval_times for fold {fold_idx + 1}: {str(e)}. Skipping evaluation for this fold.\")\n",
        "            fold_ctd.append(float('nan'))\n",
        "            fold_auc.append(float('nan'))\n",
        "            fold_ibs.append(float('nan'))\n",
        "            fold_ece_at_times.append([])\n",
        "            fold_brier_at_times.append([])\n",
        "            fold_eval_times_list.append([])\n",
        "            continue\n",
        "\n",
        "        # --- Filter eval_times to be strictly less than the maximum training time ---\n",
        "        # This is crucial for sksurv metrics that rely on censoring estimation from y_train.\n",
        "        # Get the maximum time from the actual y_train data used in this fold\n",
        "        max_train_time = y_train['time'].max()\n",
        "        # Only keep evaluation times that are strictly less than the max training time\n",
        "        valid_eval_times = [t for t in initial_eval_times if t < max_train_time]\n",
        "\n",
        "        # Check if there are still valid eval times after filtering\n",
        "        if not valid_eval_times:\n",
        "            print(f\"Warning: All determined initial eval_times for fold {fold_idx + 1} are >= max training time ({max_train_time}). Skipping evaluation for this fold.\")\n",
        "            # Append NaN/empty lists as before\n",
        "            fold_ctd.append(float('nan'))\n",
        "            fold_auc.append(float('nan'))\n",
        "            fold_ibs.append(float('nan'))\n",
        "            fold_ece_at_times.append([])\n",
        "            fold_brier_at_times.append([])\n",
        "            fold_eval_times_list.append([])\n",
        "            continue # Skip evaluation for this fold\n",
        "\n",
        "        # Use the filtered times for evaluation in this fold\n",
        "        eval_times = valid_eval_times\n",
        "        fold_eval_times_list.append(eval_times) # Store the *actual* times used for this fold\n",
        "\n",
        "\n",
        "        # Create DataLoaders for training and validation splits\n",
        "        train_loader = DataLoader(Subset(dataset_full, train_idx), batch_size=params[\"batch_size\"], shuffle=True)\n",
        "        val_loader = DataLoader(Subset(dataset_full, val_idx), batch_size=params[\"batch_size\"])\n",
        "\n",
        "        # Initialize model, optimizer, and scheduler for the current fold\n",
        "        model = StaticHazardModel(\n",
        "            input_dim=features.shape[1],\n",
        "            hidden_dim=params[\"hidden_dim\"],\n",
        "            dropout=params[\"dropout\"]\n",
        "        ).to(device)\n",
        "\n",
        "        optimizer = optim.Adam(model.parameters(), lr=params[\"lr\"], weight_decay=params[\"weight_decay\"])\n",
        "        # ReduceLROnPlateau reduces LR when a metric (validation loss) has stopped improving\n",
        "        scheduler = optim.lr_scheduler.ReduceLROnPlateau(optimizer, 'min', patience=5, factor=0.5, verbose=False) # Increased patience\n",
        "\n",
        "        # --- Training Loop for the current fold ---\n",
        "        best_val_loss = float('inf')\n",
        "        no_improvement = 0\n",
        "        max_no_improvement = 10 # Early stopping patience\n",
        "\n",
        "        print(f\"Starting training for fold {fold_idx + 1}...\")\n",
        "        for epoch in range(params[\"epochs\"]):\n",
        "            model.train() # Set model to training mode\n",
        "            total_train_loss = 0\n",
        "            num_batches = 0\n",
        "            for X_batch, t_batch, e_batch in train_loader:\n",
        "                X_batch, t_batch, e_batch = X_batch.to(device), t_batch.to(device), e_batch.to(device)\n",
        "                risks = model(X_batch)\n",
        "                loss = cox_loss(risks, t_batch, e_batch)\n",
        "\n",
        "                # Only perform backprop if loss is a valid number (not NaN or Inf)\n",
        "                # The loss function now handles the requires_grad for the 0-event case.\n",
        "                if not torch.isnan(loss) and not torch.isinf(loss):\n",
        "                    optimizer.zero_grad() # Zero gradients\n",
        "                    loss.backward() # Backpropagation\n",
        "                    # Gradient clipping to prevent exploding gradients\n",
        "                    torch.nn.utils.clip_grad_norm_(model.parameters(), max_norm=1.0)\n",
        "                    optimizer.step() # Update weights\n",
        "                    total_train_loss += loss.item()\n",
        "                    num_batches += 1\n",
        "                else:\n",
        "                    print(f\"Warning: Training loss is NaN/Inf at epoch {epoch + 1}, batch {num_batches}. Skipping update.\")\n",
        "\n",
        "\n",
        "            # --- Validation Step ---\n",
        "            model.eval() # Set model to evaluation mode\n",
        "            val_losses = []\n",
        "            with torch.no_grad(): # No gradient calculation in evaluation\n",
        "                for X_batch, t_batch, e_batch in val_loader:\n",
        "                    X_batch, t_batch, e_batch = X_batch.to(device), t_batch.to(device), e_batch.to(device)\n",
        "                    risks = model(X_batch)\n",
        "                    v_loss = cox_loss(risks, t_batch, e_batch).item()\n",
        "                    # Only consider valid loss values\n",
        "                    if not np.isnan(v_loss) and not np.isinf(v_loss):\n",
        "                         val_losses.append(v_loss)\n",
        "\n",
        "            avg_val_loss = np.mean(val_losses) if val_losses else float('inf') # Handle case with no valid val losses\n",
        "\n",
        "            # Step the learning rate scheduler based on validation loss\n",
        "            scheduler.step(avg_val_loss)\n",
        "\n",
        "            # Early stopping check based on validation loss\n",
        "            if avg_val_loss < best_val_loss:\n",
        "                best_val_loss = avg_val_loss\n",
        "                no_improvement = 0\n",
        "                # Optionally save best model state dict here if you want to restore the best epoch model\n",
        "                # torch.save(model.state_dict(), f\"best_model_fold_{fold_idx}_trial_{trial.number}.pt\")\n",
        "            else:\n",
        "                no_improvement += 1\n",
        "\n",
        "            # print(f\"Fold {fold_idx + 1}, Epoch {epoch + 1}, Train Loss: {total_train_loss/(num_batches+1e-8):.4f}, Val Loss: {avg_val_loss:.4f}, No Improvement: {no_improvement}\")\n",
        "\n",
        "            if no_improvement >= max_no_improvement:\n",
        "                print(f\"Early stopping at epoch {epoch + 1} for fold {fold_idx + 1}\")\n",
        "                # Optionally load the best model state if saved\n",
        "                # try:\n",
        "                #      model.load_state_dict(torch.load(f\"best_model_fold_{fold_idx}_trial_{trial.number}.pt\"))\n",
        "                #      print(\"Loaded best model state for evaluation.\")\n",
        "                # except FileNotFoundError:\n",
        "                #      print(\"Best model state not found, using last epoch model.\")\n",
        "                break # Exit epoch loop for this fold\n",
        "\n",
        "        # --- Evaluate the trained model on the validation split for this fold ---\n",
        "        # Evaluate the model on the validation loader using the *filtered* eval_times for this fold\n",
        "        # y_train for sksurv metrics needs to be from the training data of this fold\n",
        "        fold_results = evaluate_model(model, val_loader, device, eval_times, y_train)\n",
        "\n",
        "        # Append the metrics from this fold to the lists\n",
        "        fold_ctd.append(fold_results[\"Ctd\"])\n",
        "        fold_auc.append(fold_results[\"AUC\"])\n",
        "        fold_ibs.append(fold_results[\"IBS\"])\n",
        "        fold_ece_at_times.append(fold_results[\"ECE_at_times\"])\n",
        "        fold_brier_at_times.append(fold_results[\"Brier_at_times\"])\n",
        "\n",
        "    # --- Aggregate Metrics Across Folds ---\n",
        "    # Average the single-value metrics (Ctd, AUC, IBS)\n",
        "    avg_ctd = np.nanmean(fold_ctd) if fold_ctd else float('nan')\n",
        "    avg_auc = np.nanmean(fold_auc) if fold_auc else float('nan')\n",
        "    avg_ibs = np.nanmean(fold_ibs) if fold_ibs else float('nan')\n",
        "\n",
        "    # Aggregate time-dependent metrics (ECE, Brier)\n",
        "    # We need to average the scores at corresponding time points across folds.\n",
        "    # Since eval_times might differ slightly per fold (due to percentiles on different splits),\n",
        "    # we average the *average* time-dependent score within each fold, then average these averages.\n",
        "\n",
        "    avg_ece_per_fold = [np.nanmean(ece_list) if ece_list else float('nan') for ece_list in fold_ece_at_times]\n",
        "    avg_brier_per_fold = [np.nanmean(brier_list) if brier_list else float('nan') for brier_list in fold_brier_at_times]\n",
        "\n",
        "    overall_avg_ece_at_times = np.nanmean(avg_ece_per_fold) if avg_ece_per_fold else float('nan')\n",
        "    overall_avg_brier_at_times = np.nanmean(avg_brier_per_fold) if avg_brier_per_fold else float('nan')\n",
        "\n",
        "\n",
        "    # Report aggregated metrics\n",
        "    trial_results = {\n",
        "        \"Ctd\": avg_ctd,\n",
        "        \"AUC\": avg_auc,\n",
        "        \"IBS\": avg_ibs,\n",
        "        \"Avg_ECE_over_times\": overall_avg_ece_at_times,\n",
        "        \"Avg_Brier_over_times\": overall_avg_brier_at_times,\n",
        "        # Could also include the averaged curves if plotting within Optuna dashboard is set up\n",
        "    }\n",
        "\n",
        "    print(f\"Trial {trial.number} Results (averaged over folds): {trial_results}\")\n",
        "\n",
        "    # Optuna minimizes the objective. Use IBS as the primary objective metric.\n",
        "    # Return a high value if IBS is NaN (e.g., no events in any validation fold).\n",
        "    return avg_ibs if not np.isnan(avg_ibs) else float('inf')\n",
        "\n",
        "# --- Run Optuna Study ---\n",
        "print(\"\\nStarting Optuna study...\")\n",
        "# Create a study object. Specify the direction is 'minimize' for IBS.\n",
        "study = optuna.create_study(direction=\"minimize\")\n",
        "\n",
        "# Optimize the study. n_trials is the number of parameter sets to try.\n",
        "# timeout is the maximum time in seconds for the study.\n",
        "study.optimize(objective, n_trials=50, timeout=7200) # Run up to 50 trials or 2 hours\n",
        "\n",
        "print(\"\\nOptuna study finished.\")\n",
        "print(\"Best trial:\")\n",
        "print(f\"  Value (IBS): {study.best_trial.value:.4f}\")\n",
        "print(f\"  Params: {study.best_trial.params}\")\n",
        "\n",
        "# --- Retrain Best Model on the Full Dataset ---\n",
        "print(\"\\nRetraining the best model on the full dataset...\")\n",
        "best_params = study.best_trial.params\n",
        "\n",
        "# Initialize the model with the best hyperparameters found by Optuna\n",
        "best_model = StaticHazardModel(\n",
        "    input_dim=features.shape[1],\n",
        "    hidden_dim=best_params[\"hidden_dim\"],\n",
        "    dropout=best_params[\"dropout\"]\n",
        ").to(device)\n",
        "\n",
        "# Create a DataLoader for the full dataset for retraining\n",
        "full_train_loader = DataLoader(dataset_full, batch_size=best_params[\"batch_size\"], shuffle=True)\n",
        "\n",
        "# Initialize optimizer for the final training\n",
        "optimizer = optim.Adam(best_model.parameters(), lr=best_params[\"lr\"], weight_decay=best_params[\"weight_decay\"])\n",
        "\n",
        "# Optional: Use a learning rate scheduler for the final training as well\n",
        "scheduler = optim.lr_scheduler.ReduceLROnPlateau(optimizer, 'min', patience=5, factor=0.5, verbose=False)\n",
        "\n",
        "# Train the best model on the full dataset for a fixed number of epochs\n",
        "# Or implement early stopping based on a held-out validation set if available,\n",
        "# or based on training loss plateau. Training on the full data for a fixed number\n",
        "# of epochs (or until loss stabilizes) is a common practice after CV tuning.\n",
        "print(\"Training the final model...\")\n",
        "# Choose a reasonable number of epochs. Could be more than in CV folds.\n",
        "FINAL_TRAIN_EPOCHS = 100\n",
        "\n",
        "for epoch in range(FINAL_TRAIN_EPOCHS):\n",
        "    best_model.train() # Set model to training mode\n",
        "    total_loss = 0\n",
        "    num_batches = 0\n",
        "    for X_batch, t_batch, e_batch in full_train_loader:\n",
        "        X_batch, t_batch, e_batch = X_batch.to(device), t_batch.to(device), e_batch.to(device)\n",
        "        risks = best_model(X_batch)\n",
        "        loss = cox_loss(risks, t_batch, e_batch)\n",
        "\n",
        "        # Only perform backprop if loss is a valid number (not NaN or Inf)\n",
        "        # The loss function now handles the requires_grad for the 0-event case.\n",
        "        if not torch.isnan(loss) and not torch.isinf(loss):\n",
        "            optimizer.zero_grad()\n",
        "            loss.backward()\n",
        "            torch.nn.utils.clip_grad_norm_(best_model.parameters(), max_norm=1.0)\n",
        "            optimizer.step()\n",
        "            total_loss += loss.item()\n",
        "            num_batches += 1\n",
        "        else:\n",
        "             print(f\"Warning: Final training loss is NaN/Inf at epoch {epoch + 1}, batch {num_batches}. Skipping update.\")\n",
        "\n",
        "    avg_train_loss = total_loss / (num_batches + 1e-8)\n",
        "    # Optional: Step scheduler based on training loss for full dataset training\n",
        "    # scheduler.step(avg_train_loss)\n",
        "\n",
        "    # Optional: Print loss during full training\n",
        "    if (epoch + 1) % 10 == 0 or epoch == 0:\n",
        "        print(f\"Final Model Training - Epoch {epoch + 1}/{FINAL_TRAIN_EPOCHS}, Loss: {avg_train_loss:.4f}\")\n",
        "\n",
        "    # Optional: Simple convergence check based on training loss (less rigorous than val loss)\n",
        "    # if avg_train_loss < 0.1 and epoch > 10: # Example threshold\n",
        "    #     print(f\"Final model training converged at epoch {epoch + 1}\")\n",
        "    #     break\n",
        "\n",
        "\n",
        "print(\"Final model training complete.\")\n",
        "\n",
        "# --- Final Evaluation on the Full Dataset ---\n",
        "print(\"\\nPerforming final evaluation on the full dataset...\")\n",
        "\n",
        "# Need the survival data (times and events) for the full dataset to create y_true_full\n",
        "all_times_full, all_events_full = [], []\n",
        "# Use a DataLoader to iterate through the full dataset\n",
        "full_dataset_loader_eval = DataLoader(dataset_full, batch_size=len(dataset_full)) # Load all at once\n",
        "\n",
        "with torch.no_grad():\n",
        "    for _, t_batch, e_batch in full_dataset_loader_eval:\n",
        "        all_times_full.extend(t_batch.numpy())\n",
        "        all_events_full.extend(e_batch.numpy())\n",
        "\n",
        "# Create the sksurv Surv object for the full dataset (this is both y_train and y_true for final eval)\n",
        "y_full_data_sksurv = Surv.from_arrays(event=np.array(all_events_full, dtype=bool), time=np.array(all_times_full))\n",
        "\n",
        "# Determine initial evaluation times for the final plot based on event times in the full dataset\n",
        "event_times_full = np.array(all_times_full)[np.array(all_events_full, dtype=bool)]\n",
        "if len(event_times_full) > 0:\n",
        "    # Use percentiles of observed event times on the full dataset\n",
        "    initial_eval_times_final = np.percentile(event_times_full, [10, 30, 50, 70, 90]).tolist()\n",
        "    initial_eval_times_final = sorted(list(set(initial_eval_times_final))) # Ensure unique and sorted\n",
        "    if not initial_eval_times_final:\n",
        "        print(\"Warning: Could not determine meaningful initial final eval_times from event times. Using percentiles of all times.\")\n",
        "        initial_eval_times_final = np.percentile(np.array(all_times_full), [10, 30, 50, 70, 90]).tolist()\n",
        "        initial_eval_times_final = sorted(list(set(initial_eval_times_final)))\n",
        "else:\n",
        "    print(\"Warning: No events in the full dataset. Using percentiles of all times for initial final eval_times.\")\n",
        "    initial_eval_times_final = np.percentile(np.array(all_times_full), [10, 30, 50, 70, 90]).tolist()\n",
        "    initial_eval_times_final = sorted(list(set(initial_eval_times_final)))\n",
        "\n",
        "# --- Filter final eval_times to be strictly less than the maximum time in the full dataset ---\n",
        "# This is crucial for sksurv metrics when y_train and y_true are the full dataset.\n",
        "max_full_data_time = y_full_data_sksurv['time'].max()\n",
        "valid_eval_times_final = [t for t in initial_eval_times_final if t < max_full_data_time]\n",
        "\n",
        "# Check if there are valid times after filtering\n",
        "if not valid_eval_times_final:\n",
        "     print(f\"Error: All final initial eval_times are >= max full dataset time ({max_full_data_time}). Cannot perform final evaluation with time-dependent metrics.\")\n",
        "     # Handle gracefully, maybe print some basic metrics that don't need eval_times (like Ctd)\n",
        "     final_metrics = {\"Ctd\": float('nan'), \"AUC\": float('nan'), \"AUC_at_times\": ([], []), \"IBS\": float('nan'), \"ECE_at_times\": [], \"Brier_at_times\": [], \"eval_times\": [], \"survival_probs\": None}\n",
        "     print(\"Final Metrics (evaluated on the full dataset):\")\n",
        "     print(f\"  Concordance Index (Ctd): {final_metrics['Ctd']:.4f}\")\n",
        "     print(f\"  Time-dependent AUC (avg over times): {final_metrics['AUC']:.4f}\")\n",
        "     print(f\"  Integrated Brier Score (IBS): {final_metrics['IBS']:.4f}\")\n",
        "     print(f\"  Expected Calibration Error (ECE, avg over times): {np.nanmean(final_metrics['ECE_at_times']):.4f}\")\n",
        "     print(f\"  Brier Score (avg over times): {np.nanmean(final_metrics['Brier_at_times']):.4f}\")\n",
        "\n",
        "     # Skip plotting if no valid eval times\n",
        "     plot_calibration_possible = False\n",
        "     plot_auc_possible = False\n",
        "     plot_survival_curve_possible = False\n",
        "     plot_group_comparison_possible = False # Also add flag for the new plot\n",
        "\n",
        "else:\n",
        "    # Use the filtered times for final evaluation\n",
        "    eval_times_final = valid_eval_times_final\n",
        "    # Perform final evaluation on the full dataset using the best model\n",
        "    # For sksurv metrics in this final step, y_train and y_true are the same (the full dataset)\n",
        "    final_metrics = evaluate_model(best_model, DataLoader(dataset_full, batch_size=128), device, eval_times_final, y_full_data_sksurv) # Use a reasonable batch size for evaluation\n",
        "\n",
        "    # Print Final Metrics\n",
        "    print(\"\\nFinal Evaluation Metrics (on the full dataset):\")\n",
        "    print(f\"  Concordance Index (Ctd): {final_metrics['Ctd']:.4f}\")\n",
        "    print(f\"  Time-dependent AUC (avg over times): {final_metrics['AUC']:.4f}\")\n",
        "    print(f\"  Integrated Brier Score (IBS): {final_metrics['IBS']:.4f}\")\n",
        "    # Report average ECE and Brier over the evaluation times\n",
        "    print(f\"  Expected Calibration Error (ECE, avg over times): {np.nanmean(final_metrics['ECE_at_times']):.4f}\")\n",
        "    print(f\"  Brier Score (avg over times): {np.nanmean(final_metrics['Brier_at_times']):.4f}\")\n",
        "\n",
        "    # Check if plotting is possible\n",
        "    valid_brier_mask = ~np.isnan(final_metrics[\"Brier_at_times\"])\n",
        "    valid_ece_mask = ~np.isnan(final_metrics[\"ECE_at_times\"])\n",
        "    valid_mask = valid_brier_mask & valid_ece_mask\n",
        "    plot_calibration_possible = np.any(valid_mask)\n",
        "    plot_auc_possible = final_metrics[\"AUC_at_times\"] and len(final_metrics[\"AUC_at_times\"][0]) > 0\n",
        "    plot_survival_curve_possible = final_metrics[\"survival_probs\"] is not None and final_metrics[\"eval_times\"] is not None and len(final_metrics[\"eval_times\"]) > 0\n",
        "    # Check if group comparison plot is possible (requires survival probs and group indices)\n",
        "    plot_group_comparison_possible = plot_survival_curve_possible and hormon_1_indices and hormon_0_indices\n",
        "\n",
        "\n",
        "# --- Plot Calibration Metrics Over Time ---\n",
        "def plot_calibration(ece_scores_at_times, brier_scores_at_times, eval_times):\n",
        "    \"\"\"Plots time-dependent ECE and Brier scores.\"\"\"\n",
        "    fig, ax1 = plt.subplots(figsize=(10, 6))\n",
        "\n",
        "    # Plot ECE\n",
        "    ax1.plot(eval_times, ece_scores_at_times, 'b', marker=\"o\", linestyle='-', label=\"ECE\")\n",
        "    ax1.set_xlabel(\"Time\")\n",
        "    ax1.set_ylabel(\"Expected Calibration Error (ECE)\", color='b')\n",
        "    ax1.tick_params(axis='y', labelcolor='b')\n",
        "    ax1.grid(True)\n",
        "\n",
        "    # Create a second y-axis for Brier Score\n",
        "    ax2 = ax1.twinx()\n",
        "    ax2.plot(eval_times, brier_scores_at_times, 'r', marker=\"^\", linestyle='-', label=\"Brier Score\")\n",
        "    ax2.set_ylabel(\"Brier Score\", color='r')\n",
        "    ax2.tick_params(axis='y', labelcolor='r')\n",
        "\n",
        "    plt.title(\"Calibration Metrics Over Time (Final Model)\")\n",
        "    fig.tight_layout() # Adjust layout to prevent labels overlapping\n",
        "\n",
        "    # Add legends\n",
        "    lines1, labels1 = ax1.get_legend_handles_labels()\n",
        "    lines2, labels2 = ax2.get_legend_handles_labels()\n",
        "    ax1.legend(lines1 + lines2, labels1 + labels2, loc='upper right')\n",
        "\n",
        "    plt.show()\n",
        "\n",
        "# Plot calibration if possible\n",
        "if plot_calibration_possible:\n",
        "    # Use the valid times and scores determined earlier\n",
        "    valid_brier_mask = ~np.isnan(final_metrics[\"Brier_at_times\"])\n",
        "    valid_ece_mask = ~np.isnan(final_metrics[\"ECE_at_times\"])\n",
        "    valid_mask = valid_brier_mask & valid_ece_mask\n",
        "    plot_calibration(\n",
        "        np.array(final_metrics[\"ECE_at_times\"])[valid_mask],\n",
        "        np.array(final_metrics[\"Brier_at_times\"])[valid_mask],\n",
        "        np.array(final_metrics[\"eval_times\"])[valid_mask]\n",
        "    )\n",
        "else:\n",
        "    print(\"\\nCould not plot calibration metrics as either ECE or Brier scores are all NaN for the valid mask.\")\n",
        "    # Fallback plotting if at least one of them is valid individually\n",
        "    if np.any(~np.isnan(final_metrics[\"Brier_at_times\"])) or np.any(~np.isnan(final_metrics[\"ECE_at_times\"])):\n",
        "        print(\"Attempting partial calibration plot...\")\n",
        "        valid_brier_mask = ~np.isnan(final_metrics[\"Brier_at_times\"])\n",
        "        valid_ece_mask = ~np.isnan(final_metrics[\"ECE_at_times\"])\n",
        "        if np.any(valid_brier_mask):\n",
        "             plt.figure(figsize=(10, 6))\n",
        "             plt.plot(np.array(final_metrics[\"eval_times\"])[valid_brier_mask], np.array(final_metrics[\"Brier_at_times\"])[valid_brier_mask], 'r', marker=\"^\", linestyle='-', label=\"Brier Score\")\n",
        "             plt.xlabel(\"Time\")\n",
        "             plt.ylabel(\"Brier Score\")\n",
        "             plt.title(\"Brier Score Over Time (Final Model)\")\n",
        "             plt.legend()\n",
        "             plt.grid(True)\n",
        "             plt.show()\n",
        "        if np.any(valid_ece_mask):\n",
        "             plt.figure(figsize=(10, 6))\n",
        "             plt.plot(np.array(final_metrics[\"eval_times\"])[valid_ece_mask], np.array(final_metrics[\"ECE_at_times\"])[valid_ece_mask], 'b', marker=\"o\", linestyle='-', label=\"ECE\")\n",
        "             plt.xlabel(\"Time\")\n",
        "             plt.ylabel(\"Expected Calibration Error (ECE)\")\n",
        "             plt.title(\"Expected Calibration Error Over Time (Final Model)\")\n",
        "             plt.legend()\n",
        "             plt.grid(True)\n",
        "             plt.show()\n"
      ],
      "metadata": {
        "colab": {
          "base_uri": "https://localhost:8080/",
          "height": 1000
        },
        "id": "5_Odms8ttnkt",
        "outputId": "2ff23670-f8bf-4a0e-fecb-54e2d1eab6fc"
      },
      "execution_count": 7,
      "outputs": [
        {
          "output_type": "stream",
          "name": "stdout",
          "text": [
            "Using device: cuda\n",
            "Initializing gbsg_study dataset from /content/datasets/ (dev mode: False)\n"
          ]
        },
        {
          "output_type": "stream",
          "name": "stderr",
          "text": [
            "INFO:pyhealth.datasets.base_dataset:Initializing gbsg_study dataset from /content/datasets/ (dev mode: False)\n"
          ]
        },
        {
          "output_type": "stream",
          "name": "stdout",
          "text": [
            "Scanning table: gbsg from /content/datasets/gbsg.csv\n"
          ]
        },
        {
          "output_type": "stream",
          "name": "stderr",
          "text": [
            "INFO:pyhealth.datasets.base_dataset:Scanning table: gbsg from /content/datasets/gbsg.csv\n"
          ]
        },
        {
          "output_type": "stream",
          "name": "stdout",
          "text": [
            "Setting task SurvivalAnalysisGBSG for gbsg_study base dataset...\n"
          ]
        },
        {
          "output_type": "stream",
          "name": "stderr",
          "text": [
            "INFO:pyhealth.datasets.base_dataset:Setting task SurvivalAnalysisGBSG for gbsg_study base dataset...\n"
          ]
        },
        {
          "output_type": "stream",
          "name": "stdout",
          "text": [
            "Collecting global event dataframe...\n"
          ]
        },
        {
          "output_type": "stream",
          "name": "stderr",
          "text": [
            "INFO:pyhealth.datasets.base_dataset:Collecting global event dataframe...\n"
          ]
        },
        {
          "output_type": "stream",
          "name": "stdout",
          "text": [
            "Collected dataframe with shape: (686, 13)\n"
          ]
        },
        {
          "output_type": "stream",
          "name": "stderr",
          "text": [
            "INFO:pyhealth.datasets.base_dataset:Collected dataframe with shape: (686, 13)\n"
          ]
        },
        {
          "output_type": "stream",
          "name": "stdout",
          "text": [
            "Generating samples with 2 worker(s)...\n"
          ]
        },
        {
          "output_type": "stream",
          "name": "stderr",
          "text": [
            "INFO:pyhealth.datasets.base_dataset:Generating samples with 2 worker(s)...\n"
          ]
        },
        {
          "output_type": "stream",
          "name": "stdout",
          "text": [
            "Generating samples for SurvivalAnalysisGBSG\n"
          ]
        },
        {
          "output_type": "stream",
          "name": "stderr",
          "text": [
            "INFO:pyhealth.datasets.base_dataset:Generating samples for SurvivalAnalysisGBSG\n"
          ]
        },
        {
          "output_type": "stream",
          "name": "stdout",
          "text": [
            "Label meno vocab: {0: 0, 1: 1}\n"
          ]
        },
        {
          "output_type": "stream",
          "name": "stderr",
          "text": [
            "INFO:pyhealth.processors.label_processor:Label meno vocab: {0: 0, 1: 1}\n"
          ]
        },
        {
          "output_type": "stream",
          "name": "stdout",
          "text": [
            "Label hormon vocab: {0: 0, 1: 1}\n"
          ]
        },
        {
          "output_type": "stream",
          "name": "stderr",
          "text": [
            "INFO:pyhealth.processors.label_processor:Label hormon vocab: {0: 0, 1: 1}\n"
          ]
        },
        {
          "output_type": "stream",
          "name": "stdout",
          "text": [
            "Label event vocab: {0: 0, 1: 1}\n"
          ]
        },
        {
          "output_type": "stream",
          "name": "stderr",
          "text": [
            "INFO:pyhealth.processors.label_processor:Label event vocab: {0: 0, 1: 1}\n",
            "Processing samples: 100%|██████████| 686/686 [00:00<00:00, 9413.10it/s]"
          ]
        },
        {
          "output_type": "stream",
          "name": "stdout",
          "text": [
            "Generated 686 samples for task SurvivalAnalysisGBSG\n"
          ]
        },
        {
          "output_type": "stream",
          "name": "stderr",
          "text": [
            "\n",
            "INFO:pyhealth.datasets.base_dataset:Generated 686 samples for task SurvivalAnalysisGBSG\n",
            "[I 2025-05-05 13:29:44,337] A new study created in memory with name: no-name-3502e7e5-cbee-4881-8b1c-6cbf78d37868\n"
          ]
        },
        {
          "output_type": "stream",
          "name": "stdout",
          "text": [
            "Generated 686 samples for task SurvivalAnalysisGBSG\n",
            "Loaded 686 samples with 8 features.\n",
            "Features normalized.\n",
            "Found 246 patients with hormonal therapy and 440 without.\n",
            "Stratifying by 5 time bins and event status.\n",
            "\n",
            "Starting Optuna study...\n",
            "\n",
            "Trial 0 with parameters: {'lr': 0.0001527732448998928, 'batch_size': 32, 'hidden_dim': 214, 'dropout': 0.37671201758440176, 'weight_decay': 0.00013213676813221084, 'epochs': 50, 'n_splits': 5}\n",
            "--- Fold 1/5 ---\n"
          ]
        },
        {
          "output_type": "stream",
          "name": "stderr",
          "text": [
            "/usr/local/lib/python3.11/dist-packages/torch/optim/lr_scheduler.py:62: UserWarning: The verbose parameter is deprecated. Please use get_last_lr() to access the learning rate.\n",
            "  warnings.warn(\n"
          ]
        },
        {
          "output_type": "stream",
          "name": "stdout",
          "text": [
            "Starting training for fold 1...\n",
            "Early stopping at epoch 12 for fold 1\n",
            "--- Fold 2/5 ---\n",
            "Starting training for fold 2...\n"
          ]
        },
        {
          "output_type": "stream",
          "name": "stderr",
          "text": [
            "/usr/local/lib/python3.11/dist-packages/torch/optim/lr_scheduler.py:62: UserWarning: The verbose parameter is deprecated. Please use get_last_lr() to access the learning rate.\n",
            "  warnings.warn(\n"
          ]
        },
        {
          "output_type": "stream",
          "name": "stdout",
          "text": [
            "Early stopping at epoch 15 for fold 2\n",
            "--- Fold 3/5 ---\n",
            "Starting training for fold 3...\n"
          ]
        },
        {
          "output_type": "stream",
          "name": "stderr",
          "text": [
            "/usr/local/lib/python3.11/dist-packages/torch/optim/lr_scheduler.py:62: UserWarning: The verbose parameter is deprecated. Please use get_last_lr() to access the learning rate.\n",
            "  warnings.warn(\n"
          ]
        },
        {
          "output_type": "stream",
          "name": "stdout",
          "text": [
            "Early stopping at epoch 15 for fold 3\n",
            "--- Fold 4/5 ---\n",
            "Starting training for fold 4...\n"
          ]
        },
        {
          "output_type": "stream",
          "name": "stderr",
          "text": [
            "/usr/local/lib/python3.11/dist-packages/torch/optim/lr_scheduler.py:62: UserWarning: The verbose parameter is deprecated. Please use get_last_lr() to access the learning rate.\n",
            "  warnings.warn(\n"
          ]
        },
        {
          "output_type": "stream",
          "name": "stdout",
          "text": [
            "Early stopping at epoch 13 for fold 4\n",
            "--- Fold 5/5 ---\n",
            "Starting training for fold 5...\n"
          ]
        },
        {
          "output_type": "stream",
          "name": "stderr",
          "text": [
            "/usr/local/lib/python3.11/dist-packages/torch/optim/lr_scheduler.py:62: UserWarning: The verbose parameter is deprecated. Please use get_last_lr() to access the learning rate.\n",
            "  warnings.warn(\n",
            "[I 2025-05-05 13:30:04,204] Trial 0 finished with value: 0.16523970320391157 and parameters: {'lr': 0.0001527732448998928, 'batch_size': 32, 'hidden_dim': 214, 'dropout': 0.37671201758440176, 'weight_decay': 0.00013213676813221084}. Best is trial 0 with value: 0.16523970320391157.\n"
          ]
        },
        {
          "output_type": "stream",
          "name": "stdout",
          "text": [
            "Early stopping at epoch 16 for fold 5\n",
            "Trial 0 Results (averaged over folds): {'Ctd': 0.6530555800226929, 'AUC': 0.6637735707074317, 'IBS': 0.16523970320391157, 'Avg_ECE_over_times': 0.2098258776392082, 'Avg_Brier_over_times': 0.15671013132964937}\n",
            "\n",
            "Trial 1 with parameters: {'lr': 0.0009770861638219502, 'batch_size': 64, 'hidden_dim': 198, 'dropout': 0.33880458594506646, 'weight_decay': 4.2346307683452065e-05, 'epochs': 50, 'n_splits': 5}\n",
            "--- Fold 1/5 ---\n"
          ]
        },
        {
          "output_type": "stream",
          "name": "stderr",
          "text": [
            "/usr/local/lib/python3.11/dist-packages/torch/optim/lr_scheduler.py:62: UserWarning: The verbose parameter is deprecated. Please use get_last_lr() to access the learning rate.\n",
            "  warnings.warn(\n"
          ]
        },
        {
          "output_type": "stream",
          "name": "stdout",
          "text": [
            "Starting training for fold 1...\n",
            "Early stopping at epoch 11 for fold 1\n",
            "--- Fold 2/5 ---\n",
            "Starting training for fold 2...\n"
          ]
        },
        {
          "output_type": "stream",
          "name": "stderr",
          "text": [
            "/usr/local/lib/python3.11/dist-packages/torch/optim/lr_scheduler.py:62: UserWarning: The verbose parameter is deprecated. Please use get_last_lr() to access the learning rate.\n",
            "  warnings.warn(\n"
          ]
        },
        {
          "output_type": "stream",
          "name": "stdout",
          "text": [
            "Early stopping at epoch 11 for fold 2\n",
            "--- Fold 3/5 ---\n",
            "Starting training for fold 3...\n"
          ]
        },
        {
          "output_type": "stream",
          "name": "stderr",
          "text": [
            "/usr/local/lib/python3.11/dist-packages/torch/optim/lr_scheduler.py:62: UserWarning: The verbose parameter is deprecated. Please use get_last_lr() to access the learning rate.\n",
            "  warnings.warn(\n"
          ]
        },
        {
          "output_type": "stream",
          "name": "stdout",
          "text": [
            "Early stopping at epoch 12 for fold 3\n",
            "--- Fold 4/5 ---\n",
            "Starting training for fold 4...\n"
          ]
        },
        {
          "output_type": "stream",
          "name": "stderr",
          "text": [
            "/usr/local/lib/python3.11/dist-packages/torch/optim/lr_scheduler.py:62: UserWarning: The verbose parameter is deprecated. Please use get_last_lr() to access the learning rate.\n",
            "  warnings.warn(\n"
          ]
        },
        {
          "output_type": "stream",
          "name": "stdout",
          "text": [
            "Early stopping at epoch 19 for fold 4\n",
            "--- Fold 5/5 ---\n",
            "Starting training for fold 5...\n"
          ]
        },
        {
          "output_type": "stream",
          "name": "stderr",
          "text": [
            "/usr/local/lib/python3.11/dist-packages/torch/optim/lr_scheduler.py:62: UserWarning: The verbose parameter is deprecated. Please use get_last_lr() to access the learning rate.\n",
            "  warnings.warn(\n",
            "[I 2025-05-05 13:30:12,787] Trial 1 finished with value: 0.16992092322693333 and parameters: {'lr': 0.0009770861638219502, 'batch_size': 64, 'hidden_dim': 198, 'dropout': 0.33880458594506646, 'weight_decay': 4.2346307683452065e-05}. Best is trial 0 with value: 0.16523970320391157.\n"
          ]
        },
        {
          "output_type": "stream",
          "name": "stdout",
          "text": [
            "Early stopping at epoch 42 for fold 5\n",
            "Trial 1 Results (averaged over folds): {'Ctd': 0.6354986746808212, 'AUC': 0.6496205890120367, 'IBS': 0.16992092322693333, 'Avg_ECE_over_times': 0.22012926485740603, 'Avg_Brier_over_times': 0.1609889309176793}\n",
            "\n",
            "Trial 2 with parameters: {'lr': 0.00037843889452076094, 'batch_size': 32, 'hidden_dim': 167, 'dropout': 0.3031275973262787, 'weight_decay': 6.175226708856329e-05, 'epochs': 50, 'n_splits': 5}\n",
            "--- Fold 1/5 ---\n",
            "Starting training for fold 1...\n"
          ]
        },
        {
          "output_type": "stream",
          "name": "stderr",
          "text": [
            "/usr/local/lib/python3.11/dist-packages/torch/optim/lr_scheduler.py:62: UserWarning: The verbose parameter is deprecated. Please use get_last_lr() to access the learning rate.\n",
            "  warnings.warn(\n"
          ]
        },
        {
          "output_type": "stream",
          "name": "stdout",
          "text": [
            "Early stopping at epoch 12 for fold 1\n",
            "--- Fold 2/5 ---\n",
            "Starting training for fold 2...\n"
          ]
        },
        {
          "output_type": "stream",
          "name": "stderr",
          "text": [
            "/usr/local/lib/python3.11/dist-packages/torch/optim/lr_scheduler.py:62: UserWarning: The verbose parameter is deprecated. Please use get_last_lr() to access the learning rate.\n",
            "  warnings.warn(\n"
          ]
        },
        {
          "output_type": "stream",
          "name": "stdout",
          "text": [
            "Early stopping at epoch 12 for fold 2\n",
            "--- Fold 3/5 ---\n",
            "Starting training for fold 3...\n"
          ]
        },
        {
          "output_type": "stream",
          "name": "stderr",
          "text": [
            "/usr/local/lib/python3.11/dist-packages/torch/optim/lr_scheduler.py:62: UserWarning: The verbose parameter is deprecated. Please use get_last_lr() to access the learning rate.\n",
            "  warnings.warn(\n"
          ]
        },
        {
          "output_type": "stream",
          "name": "stdout",
          "text": [
            "Early stopping at epoch 23 for fold 3\n",
            "--- Fold 4/5 ---\n",
            "Starting training for fold 4...\n"
          ]
        },
        {
          "output_type": "stream",
          "name": "stderr",
          "text": [
            "/usr/local/lib/python3.11/dist-packages/torch/optim/lr_scheduler.py:62: UserWarning: The verbose parameter is deprecated. Please use get_last_lr() to access the learning rate.\n",
            "  warnings.warn(\n"
          ]
        },
        {
          "output_type": "stream",
          "name": "stdout",
          "text": [
            "Early stopping at epoch 11 for fold 4\n",
            "--- Fold 5/5 ---\n",
            "Starting training for fold 5...\n"
          ]
        },
        {
          "output_type": "stream",
          "name": "stderr",
          "text": [
            "/usr/local/lib/python3.11/dist-packages/torch/optim/lr_scheduler.py:62: UserWarning: The verbose parameter is deprecated. Please use get_last_lr() to access the learning rate.\n",
            "  warnings.warn(\n",
            "[I 2025-05-05 13:30:22,235] Trial 2 finished with value: 0.16867543757690096 and parameters: {'lr': 0.00037843889452076094, 'batch_size': 32, 'hidden_dim': 167, 'dropout': 0.3031275973262787, 'weight_decay': 6.175226708856329e-05}. Best is trial 0 with value: 0.16523970320391157.\n"
          ]
        },
        {
          "output_type": "stream",
          "name": "stdout",
          "text": [
            "Early stopping at epoch 36 for fold 5\n",
            "Trial 2 Results (averaged over folds): {'Ctd': 0.6489870053943753, 'AUC': 0.655225686431385, 'IBS': 0.16867543757690096, 'Avg_ECE_over_times': 0.2207508124145256, 'Avg_Brier_over_times': 0.16040415772966074}\n",
            "\n",
            "Trial 3 with parameters: {'lr': 0.0017238391487737607, 'batch_size': 32, 'hidden_dim': 254, 'dropout': 0.42276896806365816, 'weight_decay': 0.0005236188819775384, 'epochs': 50, 'n_splits': 5}\n",
            "--- Fold 1/5 ---\n",
            "Starting training for fold 1...\n"
          ]
        },
        {
          "output_type": "stream",
          "name": "stderr",
          "text": [
            "/usr/local/lib/python3.11/dist-packages/torch/optim/lr_scheduler.py:62: UserWarning: The verbose parameter is deprecated. Please use get_last_lr() to access the learning rate.\n",
            "  warnings.warn(\n"
          ]
        },
        {
          "output_type": "stream",
          "name": "stdout",
          "text": [
            "Early stopping at epoch 12 for fold 1\n",
            "--- Fold 2/5 ---\n",
            "Starting training for fold 2...\n"
          ]
        },
        {
          "output_type": "stream",
          "name": "stderr",
          "text": [
            "/usr/local/lib/python3.11/dist-packages/torch/optim/lr_scheduler.py:62: UserWarning: The verbose parameter is deprecated. Please use get_last_lr() to access the learning rate.\n",
            "  warnings.warn(\n"
          ]
        },
        {
          "output_type": "stream",
          "name": "stdout",
          "text": [
            "Early stopping at epoch 22 for fold 2\n",
            "--- Fold 3/5 ---\n",
            "Starting training for fold 3...\n"
          ]
        },
        {
          "output_type": "stream",
          "name": "stderr",
          "text": [
            "/usr/local/lib/python3.11/dist-packages/torch/optim/lr_scheduler.py:62: UserWarning: The verbose parameter is deprecated. Please use get_last_lr() to access the learning rate.\n",
            "  warnings.warn(\n"
          ]
        },
        {
          "output_type": "stream",
          "name": "stdout",
          "text": [
            "Early stopping at epoch 12 for fold 3\n",
            "--- Fold 4/5 ---\n",
            "Starting training for fold 4...\n"
          ]
        },
        {
          "output_type": "stream",
          "name": "stderr",
          "text": [
            "/usr/local/lib/python3.11/dist-packages/torch/optim/lr_scheduler.py:62: UserWarning: The verbose parameter is deprecated. Please use get_last_lr() to access the learning rate.\n",
            "  warnings.warn(\n"
          ]
        },
        {
          "output_type": "stream",
          "name": "stdout",
          "text": [
            "Early stopping at epoch 15 for fold 4\n",
            "--- Fold 5/5 ---\n",
            "Starting training for fold 5...\n"
          ]
        },
        {
          "output_type": "stream",
          "name": "stderr",
          "text": [
            "/usr/local/lib/python3.11/dist-packages/torch/optim/lr_scheduler.py:62: UserWarning: The verbose parameter is deprecated. Please use get_last_lr() to access the learning rate.\n",
            "  warnings.warn(\n",
            "[I 2025-05-05 13:30:31,230] Trial 3 finished with value: 0.17352941889199913 and parameters: {'lr': 0.0017238391487737607, 'batch_size': 32, 'hidden_dim': 254, 'dropout': 0.42276896806365816, 'weight_decay': 0.0005236188819775384}. Best is trial 0 with value: 0.16523970320391157.\n"
          ]
        },
        {
          "output_type": "stream",
          "name": "stdout",
          "text": [
            "Early stopping at epoch 29 for fold 5\n",
            "Trial 3 Results (averaged over folds): {'Ctd': 0.641923757500037, 'AUC': 0.6471685625675929, 'IBS': 0.17352941889199913, 'Avg_ECE_over_times': 0.22700353668970535, 'Avg_Brier_over_times': 0.1646667705018642}\n",
            "\n",
            "Trial 4 with parameters: {'lr': 0.0002601966953655323, 'batch_size': 32, 'hidden_dim': 82, 'dropout': 0.2717300879911423, 'weight_decay': 9.747585317836334e-05, 'epochs': 50, 'n_splits': 5}\n",
            "--- Fold 1/5 ---\n",
            "Starting training for fold 1...\n"
          ]
        },
        {
          "output_type": "stream",
          "name": "stderr",
          "text": [
            "/usr/local/lib/python3.11/dist-packages/torch/optim/lr_scheduler.py:62: UserWarning: The verbose parameter is deprecated. Please use get_last_lr() to access the learning rate.\n",
            "  warnings.warn(\n"
          ]
        },
        {
          "output_type": "stream",
          "name": "stdout",
          "text": [
            "Early stopping at epoch 17 for fold 1\n",
            "--- Fold 2/5 ---\n",
            "Starting training for fold 2...\n"
          ]
        },
        {
          "output_type": "stream",
          "name": "stderr",
          "text": [
            "/usr/local/lib/python3.11/dist-packages/torch/optim/lr_scheduler.py:62: UserWarning: The verbose parameter is deprecated. Please use get_last_lr() to access the learning rate.\n",
            "  warnings.warn(\n"
          ]
        },
        {
          "output_type": "stream",
          "name": "stdout",
          "text": [
            "Early stopping at epoch 15 for fold 2\n",
            "--- Fold 3/5 ---\n",
            "Starting training for fold 3...\n"
          ]
        },
        {
          "output_type": "stream",
          "name": "stderr",
          "text": [
            "/usr/local/lib/python3.11/dist-packages/torch/optim/lr_scheduler.py:62: UserWarning: The verbose parameter is deprecated. Please use get_last_lr() to access the learning rate.\n",
            "  warnings.warn(\n"
          ]
        },
        {
          "output_type": "stream",
          "name": "stdout",
          "text": [
            "Early stopping at epoch 19 for fold 3\n",
            "--- Fold 4/5 ---\n",
            "Starting training for fold 4...\n"
          ]
        },
        {
          "output_type": "stream",
          "name": "stderr",
          "text": [
            "/usr/local/lib/python3.11/dist-packages/torch/optim/lr_scheduler.py:62: UserWarning: The verbose parameter is deprecated. Please use get_last_lr() to access the learning rate.\n",
            "  warnings.warn(\n"
          ]
        },
        {
          "output_type": "stream",
          "name": "stdout",
          "text": [
            "Early stopping at epoch 14 for fold 4\n",
            "--- Fold 5/5 ---\n",
            "Starting training for fold 5...\n"
          ]
        },
        {
          "output_type": "stream",
          "name": "stderr",
          "text": [
            "/usr/local/lib/python3.11/dist-packages/torch/optim/lr_scheduler.py:62: UserWarning: The verbose parameter is deprecated. Please use get_last_lr() to access the learning rate.\n",
            "  warnings.warn(\n",
            "[I 2025-05-05 13:30:42,091] Trial 4 finished with value: 0.16483765196498795 and parameters: {'lr': 0.0002601966953655323, 'batch_size': 32, 'hidden_dim': 82, 'dropout': 0.2717300879911423, 'weight_decay': 9.747585317836334e-05}. Best is trial 4 with value: 0.16483765196498795.\n"
          ]
        },
        {
          "output_type": "stream",
          "name": "stdout",
          "text": [
            "Trial 4 Results (averaged over folds): {'Ctd': 0.6518096102218497, 'AUC': 0.6557116262053073, 'IBS': 0.16483765196498795, 'Avg_ECE_over_times': 0.2066911104435607, 'Avg_Brier_over_times': 0.15662870368915752}\n",
            "\n",
            "Trial 5 with parameters: {'lr': 0.00023836733352696724, 'batch_size': 64, 'hidden_dim': 245, 'dropout': 0.34648096583506816, 'weight_decay': 3.3853271908413926e-05, 'epochs': 50, 'n_splits': 5}\n",
            "--- Fold 1/5 ---\n",
            "Starting training for fold 1...\n"
          ]
        },
        {
          "output_type": "stream",
          "name": "stderr",
          "text": [
            "/usr/local/lib/python3.11/dist-packages/torch/optim/lr_scheduler.py:62: UserWarning: The verbose parameter is deprecated. Please use get_last_lr() to access the learning rate.\n",
            "  warnings.warn(\n"
          ]
        },
        {
          "output_type": "stream",
          "name": "stdout",
          "text": [
            "Early stopping at epoch 12 for fold 1\n",
            "--- Fold 2/5 ---\n",
            "Starting training for fold 2...\n"
          ]
        },
        {
          "output_type": "stream",
          "name": "stderr",
          "text": [
            "/usr/local/lib/python3.11/dist-packages/torch/optim/lr_scheduler.py:62: UserWarning: The verbose parameter is deprecated. Please use get_last_lr() to access the learning rate.\n",
            "  warnings.warn(\n"
          ]
        },
        {
          "output_type": "stream",
          "name": "stdout",
          "text": [
            "Early stopping at epoch 13 for fold 2\n",
            "--- Fold 3/5 ---\n",
            "Starting training for fold 3...\n"
          ]
        },
        {
          "output_type": "stream",
          "name": "stderr",
          "text": [
            "/usr/local/lib/python3.11/dist-packages/torch/optim/lr_scheduler.py:62: UserWarning: The verbose parameter is deprecated. Please use get_last_lr() to access the learning rate.\n",
            "  warnings.warn(\n"
          ]
        },
        {
          "output_type": "stream",
          "name": "stdout",
          "text": [
            "Early stopping at epoch 16 for fold 3\n",
            "--- Fold 4/5 ---\n",
            "Starting training for fold 4...\n"
          ]
        },
        {
          "output_type": "stream",
          "name": "stderr",
          "text": [
            "/usr/local/lib/python3.11/dist-packages/torch/optim/lr_scheduler.py:62: UserWarning: The verbose parameter is deprecated. Please use get_last_lr() to access the learning rate.\n",
            "  warnings.warn(\n"
          ]
        },
        {
          "output_type": "stream",
          "name": "stdout",
          "text": [
            "Early stopping at epoch 12 for fold 4\n",
            "--- Fold 5/5 ---\n",
            "Starting training for fold 5...\n"
          ]
        },
        {
          "output_type": "stream",
          "name": "stderr",
          "text": [
            "/usr/local/lib/python3.11/dist-packages/torch/optim/lr_scheduler.py:62: UserWarning: The verbose parameter is deprecated. Please use get_last_lr() to access the learning rate.\n",
            "  warnings.warn(\n",
            "[I 2025-05-05 13:30:48,070] Trial 5 finished with value: 0.1679815733587615 and parameters: {'lr': 0.00023836733352696724, 'batch_size': 64, 'hidden_dim': 245, 'dropout': 0.34648096583506816, 'weight_decay': 3.3853271908413926e-05}. Best is trial 4 with value: 0.16483765196498795.\n"
          ]
        },
        {
          "output_type": "stream",
          "name": "stdout",
          "text": [
            "Trial 5 Results (averaged over folds): {'Ctd': 0.6464010816824158, 'AUC': 0.6526861794183583, 'IBS': 0.1679815733587615, 'Avg_ECE_over_times': 0.2134264726444171, 'Avg_Brier_over_times': 0.1594471277337291}\n",
            "\n",
            "Trial 6 with parameters: {'lr': 0.002855229210156527, 'batch_size': 64, 'hidden_dim': 196, 'dropout': 0.27393383832842566, 'weight_decay': 0.0003934876381896718, 'epochs': 50, 'n_splits': 5}\n",
            "--- Fold 1/5 ---\n",
            "Starting training for fold 1...\n"
          ]
        },
        {
          "output_type": "stream",
          "name": "stderr",
          "text": [
            "/usr/local/lib/python3.11/dist-packages/torch/optim/lr_scheduler.py:62: UserWarning: The verbose parameter is deprecated. Please use get_last_lr() to access the learning rate.\n",
            "  warnings.warn(\n"
          ]
        },
        {
          "output_type": "stream",
          "name": "stdout",
          "text": [
            "Early stopping at epoch 22 for fold 1\n",
            "--- Fold 2/5 ---\n",
            "Starting training for fold 2...\n"
          ]
        },
        {
          "output_type": "stream",
          "name": "stderr",
          "text": [
            "/usr/local/lib/python3.11/dist-packages/torch/optim/lr_scheduler.py:62: UserWarning: The verbose parameter is deprecated. Please use get_last_lr() to access the learning rate.\n",
            "  warnings.warn(\n"
          ]
        },
        {
          "output_type": "stream",
          "name": "stdout",
          "text": [
            "Early stopping at epoch 11 for fold 2\n",
            "--- Fold 3/5 ---\n",
            "Starting training for fold 3...\n"
          ]
        },
        {
          "output_type": "stream",
          "name": "stderr",
          "text": [
            "/usr/local/lib/python3.11/dist-packages/torch/optim/lr_scheduler.py:62: UserWarning: The verbose parameter is deprecated. Please use get_last_lr() to access the learning rate.\n",
            "  warnings.warn(\n"
          ]
        },
        {
          "output_type": "stream",
          "name": "stdout",
          "text": [
            "Early stopping at epoch 12 for fold 3\n",
            "--- Fold 4/5 ---\n",
            "Starting training for fold 4...\n"
          ]
        },
        {
          "output_type": "stream",
          "name": "stderr",
          "text": [
            "/usr/local/lib/python3.11/dist-packages/torch/optim/lr_scheduler.py:62: UserWarning: The verbose parameter is deprecated. Please use get_last_lr() to access the learning rate.\n",
            "  warnings.warn(\n"
          ]
        },
        {
          "output_type": "stream",
          "name": "stdout",
          "text": [
            "Early stopping at epoch 13 for fold 4\n",
            "--- Fold 5/5 ---\n",
            "Starting training for fold 5...\n"
          ]
        },
        {
          "output_type": "stream",
          "name": "stderr",
          "text": [
            "/usr/local/lib/python3.11/dist-packages/torch/optim/lr_scheduler.py:62: UserWarning: The verbose parameter is deprecated. Please use get_last_lr() to access the learning rate.\n",
            "  warnings.warn(\n",
            "[I 2025-05-05 13:30:52,743] Trial 6 finished with value: 0.1755953726435111 and parameters: {'lr': 0.002855229210156527, 'batch_size': 64, 'hidden_dim': 196, 'dropout': 0.27393383832842566, 'weight_decay': 0.0003934876381896718}. Best is trial 4 with value: 0.16483765196498795.\n"
          ]
        },
        {
          "output_type": "stream",
          "name": "stdout",
          "text": [
            "Early stopping at epoch 29 for fold 5\n",
            "Trial 6 Results (averaged over folds): {'Ctd': 0.6339177801596027, 'AUC': 0.6476001023747997, 'IBS': 0.1755953726435111, 'Avg_ECE_over_times': 0.23210972951888334, 'Avg_Brier_over_times': 0.16663821205648582}\n",
            "\n",
            "Trial 7 with parameters: {'lr': 0.0019273468989957048, 'batch_size': 128, 'hidden_dim': 191, 'dropout': 0.43916015225813754, 'weight_decay': 0.000114026713041533, 'epochs': 50, 'n_splits': 5}\n",
            "--- Fold 1/5 ---\n",
            "Starting training for fold 1...\n"
          ]
        },
        {
          "output_type": "stream",
          "name": "stderr",
          "text": [
            "/usr/local/lib/python3.11/dist-packages/torch/optim/lr_scheduler.py:62: UserWarning: The verbose parameter is deprecated. Please use get_last_lr() to access the learning rate.\n",
            "  warnings.warn(\n"
          ]
        },
        {
          "output_type": "stream",
          "name": "stdout",
          "text": [
            "Early stopping at epoch 11 for fold 1\n",
            "--- Fold 2/5 ---\n",
            "Starting training for fold 2...\n"
          ]
        },
        {
          "output_type": "stream",
          "name": "stderr",
          "text": [
            "/usr/local/lib/python3.11/dist-packages/torch/optim/lr_scheduler.py:62: UserWarning: The verbose parameter is deprecated. Please use get_last_lr() to access the learning rate.\n",
            "  warnings.warn(\n"
          ]
        },
        {
          "output_type": "stream",
          "name": "stdout",
          "text": [
            "Early stopping at epoch 12 for fold 2\n",
            "--- Fold 3/5 ---\n",
            "Starting training for fold 3...\n"
          ]
        },
        {
          "output_type": "stream",
          "name": "stderr",
          "text": [
            "/usr/local/lib/python3.11/dist-packages/torch/optim/lr_scheduler.py:62: UserWarning: The verbose parameter is deprecated. Please use get_last_lr() to access the learning rate.\n",
            "  warnings.warn(\n"
          ]
        },
        {
          "output_type": "stream",
          "name": "stdout",
          "text": [
            "Early stopping at epoch 11 for fold 3\n",
            "--- Fold 4/5 ---\n",
            "Starting training for fold 4...\n"
          ]
        },
        {
          "output_type": "stream",
          "name": "stderr",
          "text": [
            "/usr/local/lib/python3.11/dist-packages/torch/optim/lr_scheduler.py:62: UserWarning: The verbose parameter is deprecated. Please use get_last_lr() to access the learning rate.\n",
            "  warnings.warn(\n"
          ]
        },
        {
          "output_type": "stream",
          "name": "stdout",
          "text": [
            "Early stopping at epoch 11 for fold 4\n",
            "--- Fold 5/5 ---\n",
            "Starting training for fold 5...\n"
          ]
        },
        {
          "output_type": "stream",
          "name": "stderr",
          "text": [
            "/usr/local/lib/python3.11/dist-packages/torch/optim/lr_scheduler.py:62: UserWarning: The verbose parameter is deprecated. Please use get_last_lr() to access the learning rate.\n",
            "  warnings.warn(\n",
            "[I 2025-05-05 13:30:56,101] Trial 7 finished with value: 0.16753025165515867 and parameters: {'lr': 0.0019273468989957048, 'batch_size': 128, 'hidden_dim': 191, 'dropout': 0.43916015225813754, 'weight_decay': 0.000114026713041533}. Best is trial 4 with value: 0.16483765196498795.\n"
          ]
        },
        {
          "output_type": "stream",
          "name": "stdout",
          "text": [
            "Early stopping at epoch 35 for fold 5\n",
            "Trial 7 Results (averaged over folds): {'Ctd': 0.6380150259077875, 'AUC': 0.6540072722774266, 'IBS': 0.16753025165515867, 'Avg_ECE_over_times': 0.21392481430408172, 'Avg_Brier_over_times': 0.15853651075833858}\n",
            "\n",
            "Trial 8 with parameters: {'lr': 0.00040060962964741343, 'batch_size': 128, 'hidden_dim': 235, 'dropout': 0.209247918444276, 'weight_decay': 1.7792205749832395e-05, 'epochs': 50, 'n_splits': 5}\n",
            "--- Fold 1/5 ---\n",
            "Starting training for fold 1...\n"
          ]
        },
        {
          "output_type": "stream",
          "name": "stderr",
          "text": [
            "/usr/local/lib/python3.11/dist-packages/torch/optim/lr_scheduler.py:62: UserWarning: The verbose parameter is deprecated. Please use get_last_lr() to access the learning rate.\n",
            "  warnings.warn(\n"
          ]
        },
        {
          "output_type": "stream",
          "name": "stdout",
          "text": [
            "Early stopping at epoch 12 for fold 1\n",
            "--- Fold 2/5 ---\n",
            "Starting training for fold 2...\n"
          ]
        },
        {
          "output_type": "stream",
          "name": "stderr",
          "text": [
            "/usr/local/lib/python3.11/dist-packages/torch/optim/lr_scheduler.py:62: UserWarning: The verbose parameter is deprecated. Please use get_last_lr() to access the learning rate.\n",
            "  warnings.warn(\n"
          ]
        },
        {
          "output_type": "stream",
          "name": "stdout",
          "text": [
            "Early stopping at epoch 20 for fold 2\n",
            "--- Fold 3/5 ---\n",
            "Starting training for fold 3...\n"
          ]
        },
        {
          "output_type": "stream",
          "name": "stderr",
          "text": [
            "/usr/local/lib/python3.11/dist-packages/torch/optim/lr_scheduler.py:62: UserWarning: The verbose parameter is deprecated. Please use get_last_lr() to access the learning rate.\n",
            "  warnings.warn(\n"
          ]
        },
        {
          "output_type": "stream",
          "name": "stdout",
          "text": [
            "Early stopping at epoch 11 for fold 3\n",
            "--- Fold 4/5 ---\n",
            "Starting training for fold 4...\n"
          ]
        },
        {
          "output_type": "stream",
          "name": "stderr",
          "text": [
            "/usr/local/lib/python3.11/dist-packages/torch/optim/lr_scheduler.py:62: UserWarning: The verbose parameter is deprecated. Please use get_last_lr() to access the learning rate.\n",
            "  warnings.warn(\n"
          ]
        },
        {
          "output_type": "stream",
          "name": "stdout",
          "text": [
            "Early stopping at epoch 11 for fold 4\n",
            "--- Fold 5/5 ---\n",
            "Starting training for fold 5...\n"
          ]
        },
        {
          "output_type": "stream",
          "name": "stderr",
          "text": [
            "/usr/local/lib/python3.11/dist-packages/torch/optim/lr_scheduler.py:62: UserWarning: The verbose parameter is deprecated. Please use get_last_lr() to access the learning rate.\n",
            "  warnings.warn(\n",
            "[I 2025-05-05 13:30:59,920] Trial 8 finished with value: 0.1678587438971676 and parameters: {'lr': 0.00040060962964741343, 'batch_size': 128, 'hidden_dim': 235, 'dropout': 0.209247918444276, 'weight_decay': 1.7792205749832395e-05}. Best is trial 4 with value: 0.16483765196498795.\n"
          ]
        },
        {
          "output_type": "stream",
          "name": "stdout",
          "text": [
            "Trial 8 Results (averaged over folds): {'Ctd': 0.644642710625774, 'AUC': 0.6527103116808959, 'IBS': 0.1678587438971676, 'Avg_ECE_over_times': 0.21361398240053822, 'Avg_Brier_over_times': 0.15924337291040352}\n",
            "\n",
            "Trial 9 with parameters: {'lr': 0.003923696357768371, 'batch_size': 32, 'hidden_dim': 179, 'dropout': 0.4696779155269921, 'weight_decay': 0.0007004011235349025, 'epochs': 50, 'n_splits': 5}\n",
            "--- Fold 1/5 ---\n",
            "Starting training for fold 1...\n"
          ]
        },
        {
          "output_type": "stream",
          "name": "stderr",
          "text": [
            "/usr/local/lib/python3.11/dist-packages/torch/optim/lr_scheduler.py:62: UserWarning: The verbose parameter is deprecated. Please use get_last_lr() to access the learning rate.\n",
            "  warnings.warn(\n"
          ]
        },
        {
          "output_type": "stream",
          "name": "stdout",
          "text": [
            "Early stopping at epoch 18 for fold 1\n",
            "--- Fold 2/5 ---\n",
            "Starting training for fold 2...\n"
          ]
        },
        {
          "output_type": "stream",
          "name": "stderr",
          "text": [
            "/usr/local/lib/python3.11/dist-packages/torch/optim/lr_scheduler.py:62: UserWarning: The verbose parameter is deprecated. Please use get_last_lr() to access the learning rate.\n",
            "  warnings.warn(\n"
          ]
        },
        {
          "output_type": "stream",
          "name": "stdout",
          "text": [
            "Early stopping at epoch 25 for fold 2\n",
            "--- Fold 3/5 ---\n",
            "Starting training for fold 3...\n"
          ]
        },
        {
          "output_type": "stream",
          "name": "stderr",
          "text": [
            "/usr/local/lib/python3.11/dist-packages/torch/optim/lr_scheduler.py:62: UserWarning: The verbose parameter is deprecated. Please use get_last_lr() to access the learning rate.\n",
            "  warnings.warn(\n"
          ]
        },
        {
          "output_type": "stream",
          "name": "stdout",
          "text": [
            "Early stopping at epoch 19 for fold 3\n",
            "--- Fold 4/5 ---\n",
            "Starting training for fold 4...\n"
          ]
        },
        {
          "output_type": "stream",
          "name": "stderr",
          "text": [
            "/usr/local/lib/python3.11/dist-packages/torch/optim/lr_scheduler.py:62: UserWarning: The verbose parameter is deprecated. Please use get_last_lr() to access the learning rate.\n",
            "  warnings.warn(\n"
          ]
        },
        {
          "output_type": "stream",
          "name": "stdout",
          "text": [
            "Early stopping at epoch 20 for fold 4\n",
            "--- Fold 5/5 ---\n",
            "Starting training for fold 5...\n"
          ]
        },
        {
          "output_type": "stream",
          "name": "stderr",
          "text": [
            "/usr/local/lib/python3.11/dist-packages/torch/optim/lr_scheduler.py:62: UserWarning: The verbose parameter is deprecated. Please use get_last_lr() to access the learning rate.\n",
            "  warnings.warn(\n",
            "[I 2025-05-05 13:31:09,874] Trial 9 finished with value: 0.17093959263263042 and parameters: {'lr': 0.003923696357768371, 'batch_size': 32, 'hidden_dim': 179, 'dropout': 0.4696779155269921, 'weight_decay': 0.0007004011235349025}. Best is trial 4 with value: 0.16483765196498795.\n"
          ]
        },
        {
          "output_type": "stream",
          "name": "stdout",
          "text": [
            "Early stopping at epoch 17 for fold 5\n",
            "Trial 9 Results (averaged over folds): {'Ctd': 0.6390636918747749, 'AUC': 0.6512313580216816, 'IBS': 0.17093959263263042, 'Avg_ECE_over_times': 0.2229141620578175, 'Avg_Brier_over_times': 0.1622140963452392}\n",
            "\n",
            "Trial 10 with parameters: {'lr': 0.00010682607511535988, 'batch_size': 32, 'hidden_dim': 65, 'dropout': 0.22741349198558056, 'weight_decay': 1.0092799391174126e-05, 'epochs': 50, 'n_splits': 5}\n",
            "--- Fold 1/5 ---\n",
            "Starting training for fold 1...\n"
          ]
        },
        {
          "output_type": "stream",
          "name": "stderr",
          "text": [
            "/usr/local/lib/python3.11/dist-packages/torch/optim/lr_scheduler.py:62: UserWarning: The verbose parameter is deprecated. Please use get_last_lr() to access the learning rate.\n",
            "  warnings.warn(\n"
          ]
        },
        {
          "output_type": "stream",
          "name": "stdout",
          "text": [
            "Early stopping at epoch 29 for fold 1\n",
            "--- Fold 2/5 ---\n",
            "Starting training for fold 2...\n"
          ]
        },
        {
          "output_type": "stream",
          "name": "stderr",
          "text": [
            "/usr/local/lib/python3.11/dist-packages/torch/optim/lr_scheduler.py:62: UserWarning: The verbose parameter is deprecated. Please use get_last_lr() to access the learning rate.\n",
            "  warnings.warn(\n"
          ]
        },
        {
          "output_type": "stream",
          "name": "stdout",
          "text": [
            "Early stopping at epoch 41 for fold 2\n",
            "--- Fold 3/5 ---\n",
            "Starting training for fold 3...\n"
          ]
        },
        {
          "output_type": "stream",
          "name": "stderr",
          "text": [
            "/usr/local/lib/python3.11/dist-packages/torch/optim/lr_scheduler.py:62: UserWarning: The verbose parameter is deprecated. Please use get_last_lr() to access the learning rate.\n",
            "  warnings.warn(\n"
          ]
        },
        {
          "output_type": "stream",
          "name": "stdout",
          "text": [
            "Early stopping at epoch 49 for fold 3\n",
            "--- Fold 4/5 ---\n",
            "Starting training for fold 4...\n"
          ]
        },
        {
          "output_type": "stream",
          "name": "stderr",
          "text": [
            "/usr/local/lib/python3.11/dist-packages/torch/optim/lr_scheduler.py:62: UserWarning: The verbose parameter is deprecated. Please use get_last_lr() to access the learning rate.\n",
            "  warnings.warn(\n"
          ]
        },
        {
          "output_type": "stream",
          "name": "stdout",
          "text": [
            "Early stopping at epoch 32 for fold 4\n",
            "--- Fold 5/5 ---\n",
            "Starting training for fold 5...\n"
          ]
        },
        {
          "output_type": "stream",
          "name": "stderr",
          "text": [
            "/usr/local/lib/python3.11/dist-packages/torch/optim/lr_scheduler.py:62: UserWarning: The verbose parameter is deprecated. Please use get_last_lr() to access the learning rate.\n",
            "  warnings.warn(\n",
            "[I 2025-05-05 13:31:28,936] Trial 10 finished with value: 0.16351097298532052 and parameters: {'lr': 0.00010682607511535988, 'batch_size': 32, 'hidden_dim': 65, 'dropout': 0.22741349198558056, 'weight_decay': 1.0092799391174126e-05}. Best is trial 10 with value: 0.16351097298532052.\n"
          ]
        },
        {
          "output_type": "stream",
          "name": "stdout",
          "text": [
            "Trial 10 Results (averaged over folds): {'Ctd': 0.6580856484677364, 'AUC': 0.6743158124915201, 'IBS': 0.16351097298532052, 'Avg_ECE_over_times': 0.20810645660807361, 'Avg_Brier_over_times': 0.15466863867320726}\n",
            "\n",
            "Trial 11 with parameters: {'lr': 0.00010491903224653998, 'batch_size': 32, 'hidden_dim': 70, 'dropout': 0.20282130761731143, 'weight_decay': 1.152106749158017e-05, 'epochs': 50, 'n_splits': 5}\n",
            "--- Fold 1/5 ---\n",
            "Starting training for fold 1...\n"
          ]
        },
        {
          "output_type": "stream",
          "name": "stderr",
          "text": [
            "/usr/local/lib/python3.11/dist-packages/torch/optim/lr_scheduler.py:62: UserWarning: The verbose parameter is deprecated. Please use get_last_lr() to access the learning rate.\n",
            "  warnings.warn(\n"
          ]
        },
        {
          "output_type": "stream",
          "name": "stdout",
          "text": [
            "Early stopping at epoch 24 for fold 1\n",
            "--- Fold 2/5 ---\n",
            "Starting training for fold 2...\n"
          ]
        },
        {
          "output_type": "stream",
          "name": "stderr",
          "text": [
            "/usr/local/lib/python3.11/dist-packages/torch/optim/lr_scheduler.py:62: UserWarning: The verbose parameter is deprecated. Please use get_last_lr() to access the learning rate.\n",
            "  warnings.warn(\n"
          ]
        },
        {
          "output_type": "stream",
          "name": "stdout",
          "text": [
            "Early stopping at epoch 31 for fold 2\n",
            "--- Fold 3/5 ---\n",
            "Starting training for fold 3...\n"
          ]
        },
        {
          "output_type": "stream",
          "name": "stderr",
          "text": [
            "/usr/local/lib/python3.11/dist-packages/torch/optim/lr_scheduler.py:62: UserWarning: The verbose parameter is deprecated. Please use get_last_lr() to access the learning rate.\n",
            "  warnings.warn(\n"
          ]
        },
        {
          "output_type": "stream",
          "name": "stdout",
          "text": [
            "Early stopping at epoch 43 for fold 3\n",
            "--- Fold 4/5 ---\n",
            "Starting training for fold 4...\n"
          ]
        },
        {
          "output_type": "stream",
          "name": "stderr",
          "text": [
            "/usr/local/lib/python3.11/dist-packages/torch/optim/lr_scheduler.py:62: UserWarning: The verbose parameter is deprecated. Please use get_last_lr() to access the learning rate.\n",
            "  warnings.warn(\n"
          ]
        },
        {
          "output_type": "stream",
          "name": "stdout",
          "text": [
            "Early stopping at epoch 35 for fold 4\n",
            "--- Fold 5/5 ---\n",
            "Starting training for fold 5...\n"
          ]
        },
        {
          "output_type": "stream",
          "name": "stderr",
          "text": [
            "/usr/local/lib/python3.11/dist-packages/torch/optim/lr_scheduler.py:62: UserWarning: The verbose parameter is deprecated. Please use get_last_lr() to access the learning rate.\n",
            "  warnings.warn(\n",
            "[I 2025-05-05 13:31:47,667] Trial 11 finished with value: 0.16487775145287467 and parameters: {'lr': 0.00010491903224653998, 'batch_size': 32, 'hidden_dim': 70, 'dropout': 0.20282130761731143, 'weight_decay': 1.152106749158017e-05}. Best is trial 10 with value: 0.16351097298532052.\n"
          ]
        },
        {
          "output_type": "stream",
          "name": "stdout",
          "text": [
            "Trial 11 Results (averaged over folds): {'Ctd': 0.6505208518550434, 'AUC': 0.6556746498973133, 'IBS': 0.16487775145287467, 'Avg_ECE_over_times': 0.20679462572225726, 'Avg_Brier_over_times': 0.15656201105352993}\n",
            "\n",
            "Trial 12 with parameters: {'lr': 0.0002035126264364279, 'batch_size': 32, 'hidden_dim': 72, 'dropout': 0.2558264631790719, 'weight_decay': 0.0002451617487181429, 'epochs': 50, 'n_splits': 5}\n",
            "--- Fold 1/5 ---\n",
            "Starting training for fold 1...\n"
          ]
        },
        {
          "output_type": "stream",
          "name": "stderr",
          "text": [
            "/usr/local/lib/python3.11/dist-packages/torch/optim/lr_scheduler.py:62: UserWarning: The verbose parameter is deprecated. Please use get_last_lr() to access the learning rate.\n",
            "  warnings.warn(\n"
          ]
        },
        {
          "output_type": "stream",
          "name": "stdout",
          "text": [
            "Early stopping at epoch 19 for fold 1\n",
            "--- Fold 2/5 ---\n",
            "Starting training for fold 2...\n"
          ]
        },
        {
          "output_type": "stream",
          "name": "stderr",
          "text": [
            "/usr/local/lib/python3.11/dist-packages/torch/optim/lr_scheduler.py:62: UserWarning: The verbose parameter is deprecated. Please use get_last_lr() to access the learning rate.\n",
            "  warnings.warn(\n"
          ]
        },
        {
          "output_type": "stream",
          "name": "stdout",
          "text": [
            "Early stopping at epoch 22 for fold 2\n",
            "--- Fold 3/5 ---\n",
            "Starting training for fold 3...\n"
          ]
        },
        {
          "output_type": "stream",
          "name": "stderr",
          "text": [
            "/usr/local/lib/python3.11/dist-packages/torch/optim/lr_scheduler.py:62: UserWarning: The verbose parameter is deprecated. Please use get_last_lr() to access the learning rate.\n",
            "  warnings.warn(\n"
          ]
        },
        {
          "output_type": "stream",
          "name": "stdout",
          "text": [
            "--- Fold 4/5 ---\n",
            "Starting training for fold 4...\n"
          ]
        },
        {
          "output_type": "stream",
          "name": "stderr",
          "text": [
            "/usr/local/lib/python3.11/dist-packages/torch/optim/lr_scheduler.py:62: UserWarning: The verbose parameter is deprecated. Please use get_last_lr() to access the learning rate.\n",
            "  warnings.warn(\n"
          ]
        },
        {
          "output_type": "stream",
          "name": "stdout",
          "text": [
            "Early stopping at epoch 16 for fold 4\n",
            "--- Fold 5/5 ---\n",
            "Starting training for fold 5...\n"
          ]
        },
        {
          "output_type": "stream",
          "name": "stderr",
          "text": [
            "/usr/local/lib/python3.11/dist-packages/torch/optim/lr_scheduler.py:62: UserWarning: The verbose parameter is deprecated. Please use get_last_lr() to access the learning rate.\n",
            "  warnings.warn(\n",
            "[I 2025-05-05 13:32:03,876] Trial 12 finished with value: 0.16470019038251343 and parameters: {'lr': 0.0002035126264364279, 'batch_size': 32, 'hidden_dim': 72, 'dropout': 0.2558264631790719, 'weight_decay': 0.0002451617487181429}. Best is trial 10 with value: 0.16351097298532052.\n"
          ]
        },
        {
          "output_type": "stream",
          "name": "stdout",
          "text": [
            "Trial 12 Results (averaged over folds): {'Ctd': 0.6571788046741479, 'AUC': 0.6671558679028751, 'IBS': 0.16470019038251343, 'Avg_ECE_over_times': 0.20906584633176356, 'Avg_Brier_over_times': 0.15617802046753523}\n",
            "\n",
            "Trial 13 with parameters: {'lr': 0.00011410144083335003, 'batch_size': 32, 'hidden_dim': 110, 'dropout': 0.24636899342388532, 'weight_decay': 0.00025184110348934534, 'epochs': 50, 'n_splits': 5}\n",
            "--- Fold 1/5 ---\n",
            "Starting training for fold 1...\n"
          ]
        },
        {
          "output_type": "stream",
          "name": "stderr",
          "text": [
            "/usr/local/lib/python3.11/dist-packages/torch/optim/lr_scheduler.py:62: UserWarning: The verbose parameter is deprecated. Please use get_last_lr() to access the learning rate.\n",
            "  warnings.warn(\n"
          ]
        },
        {
          "output_type": "stream",
          "name": "stdout",
          "text": [
            "Early stopping at epoch 17 for fold 1\n",
            "--- Fold 2/5 ---\n",
            "Starting training for fold 2...\n"
          ]
        },
        {
          "output_type": "stream",
          "name": "stderr",
          "text": [
            "/usr/local/lib/python3.11/dist-packages/torch/optim/lr_scheduler.py:62: UserWarning: The verbose parameter is deprecated. Please use get_last_lr() to access the learning rate.\n",
            "  warnings.warn(\n"
          ]
        },
        {
          "output_type": "stream",
          "name": "stdout",
          "text": [
            "Early stopping at epoch 22 for fold 2\n",
            "--- Fold 3/5 ---\n",
            "Starting training for fold 3...\n"
          ]
        },
        {
          "output_type": "stream",
          "name": "stderr",
          "text": [
            "/usr/local/lib/python3.11/dist-packages/torch/optim/lr_scheduler.py:62: UserWarning: The verbose parameter is deprecated. Please use get_last_lr() to access the learning rate.\n",
            "  warnings.warn(\n"
          ]
        },
        {
          "output_type": "stream",
          "name": "stdout",
          "text": [
            "Early stopping at epoch 19 for fold 3\n",
            "--- Fold 4/5 ---\n",
            "Starting training for fold 4...\n"
          ]
        },
        {
          "output_type": "stream",
          "name": "stderr",
          "text": [
            "/usr/local/lib/python3.11/dist-packages/torch/optim/lr_scheduler.py:62: UserWarning: The verbose parameter is deprecated. Please use get_last_lr() to access the learning rate.\n",
            "  warnings.warn(\n"
          ]
        },
        {
          "output_type": "stream",
          "name": "stdout",
          "text": [
            "Early stopping at epoch 17 for fold 4\n",
            "--- Fold 5/5 ---\n",
            "Starting training for fold 5...\n"
          ]
        },
        {
          "output_type": "stream",
          "name": "stderr",
          "text": [
            "/usr/local/lib/python3.11/dist-packages/torch/optim/lr_scheduler.py:62: UserWarning: The verbose parameter is deprecated. Please use get_last_lr() to access the learning rate.\n",
            "  warnings.warn(\n",
            "[I 2025-05-05 13:32:14,579] Trial 13 finished with value: 0.1646216123221444 and parameters: {'lr': 0.00011410144083335003, 'batch_size': 32, 'hidden_dim': 110, 'dropout': 0.24636899342388532, 'weight_decay': 0.00025184110348934534}. Best is trial 10 with value: 0.16351097298532052.\n"
          ]
        },
        {
          "output_type": "stream",
          "name": "stdout",
          "text": [
            "Early stopping at epoch 32 for fold 5\n",
            "Trial 13 Results (averaged over folds): {'Ctd': 0.6527213505363039, 'AUC': 0.6654776189377773, 'IBS': 0.1646216123221444, 'Avg_ECE_over_times': 0.2100345192577914, 'Avg_Brier_over_times': 0.15582611526948434}\n",
            "\n",
            "Trial 14 with parameters: {'lr': 0.0006567930913291793, 'batch_size': 128, 'hidden_dim': 128, 'dropout': 0.23631630599298248, 'weight_decay': 0.00024722476926417064, 'epochs': 50, 'n_splits': 5}\n",
            "--- Fold 1/5 ---\n",
            "Starting training for fold 1...\n"
          ]
        },
        {
          "output_type": "stream",
          "name": "stderr",
          "text": [
            "/usr/local/lib/python3.11/dist-packages/torch/optim/lr_scheduler.py:62: UserWarning: The verbose parameter is deprecated. Please use get_last_lr() to access the learning rate.\n",
            "  warnings.warn(\n"
          ]
        },
        {
          "output_type": "stream",
          "name": "stdout",
          "text": [
            "Early stopping at epoch 12 for fold 1\n",
            "--- Fold 2/5 ---\n",
            "Starting training for fold 2...\n"
          ]
        },
        {
          "output_type": "stream",
          "name": "stderr",
          "text": [
            "/usr/local/lib/python3.11/dist-packages/torch/optim/lr_scheduler.py:62: UserWarning: The verbose parameter is deprecated. Please use get_last_lr() to access the learning rate.\n",
            "  warnings.warn(\n"
          ]
        },
        {
          "output_type": "stream",
          "name": "stdout",
          "text": [
            "Early stopping at epoch 24 for fold 2\n",
            "--- Fold 3/5 ---\n",
            "Starting training for fold 3...\n"
          ]
        },
        {
          "output_type": "stream",
          "name": "stderr",
          "text": [
            "/usr/local/lib/python3.11/dist-packages/torch/optim/lr_scheduler.py:62: UserWarning: The verbose parameter is deprecated. Please use get_last_lr() to access the learning rate.\n",
            "  warnings.warn(\n"
          ]
        },
        {
          "output_type": "stream",
          "name": "stdout",
          "text": [
            "Early stopping at epoch 11 for fold 3\n",
            "--- Fold 4/5 ---\n",
            "Starting training for fold 4...\n"
          ]
        },
        {
          "output_type": "stream",
          "name": "stderr",
          "text": [
            "/usr/local/lib/python3.11/dist-packages/torch/optim/lr_scheduler.py:62: UserWarning: The verbose parameter is deprecated. Please use get_last_lr() to access the learning rate.\n",
            "  warnings.warn(\n"
          ]
        },
        {
          "output_type": "stream",
          "name": "stdout",
          "text": [
            "Early stopping at epoch 11 for fold 4\n",
            "--- Fold 5/5 ---\n",
            "Starting training for fold 5...\n"
          ]
        },
        {
          "output_type": "stream",
          "name": "stderr",
          "text": [
            "/usr/local/lib/python3.11/dist-packages/torch/optim/lr_scheduler.py:62: UserWarning: The verbose parameter is deprecated. Please use get_last_lr() to access the learning rate.\n",
            "  warnings.warn(\n",
            "[I 2025-05-05 13:32:19,120] Trial 14 finished with value: 0.16779776516499154 and parameters: {'lr': 0.0006567930913291793, 'batch_size': 128, 'hidden_dim': 128, 'dropout': 0.23631630599298248, 'weight_decay': 0.00024722476926417064}. Best is trial 10 with value: 0.16351097298532052.\n"
          ]
        },
        {
          "output_type": "stream",
          "name": "stdout",
          "text": [
            "Trial 14 Results (averaged over folds): {'Ctd': 0.6449857638178713, 'AUC': 0.6562849445026391, 'IBS': 0.16779776516499154, 'Avg_ECE_over_times': 0.21436726324863975, 'Avg_Brier_over_times': 0.15943659238035357}\n",
            "\n",
            "Trial 15 with parameters: {'lr': 0.00011500256398474295, 'batch_size': 32, 'hidden_dim': 117, 'dropout': 0.30592106503210026, 'weight_decay': 2.1726747644555168e-05, 'epochs': 50, 'n_splits': 5}\n",
            "--- Fold 1/5 ---\n",
            "Starting training for fold 1...\n"
          ]
        },
        {
          "output_type": "stream",
          "name": "stderr",
          "text": [
            "/usr/local/lib/python3.11/dist-packages/torch/optim/lr_scheduler.py:62: UserWarning: The verbose parameter is deprecated. Please use get_last_lr() to access the learning rate.\n",
            "  warnings.warn(\n"
          ]
        },
        {
          "output_type": "stream",
          "name": "stdout",
          "text": [
            "Early stopping at epoch 21 for fold 1\n",
            "--- Fold 2/5 ---\n",
            "Starting training for fold 2...\n"
          ]
        },
        {
          "output_type": "stream",
          "name": "stderr",
          "text": [
            "/usr/local/lib/python3.11/dist-packages/torch/optim/lr_scheduler.py:62: UserWarning: The verbose parameter is deprecated. Please use get_last_lr() to access the learning rate.\n",
            "  warnings.warn(\n"
          ]
        },
        {
          "output_type": "stream",
          "name": "stdout",
          "text": [
            "Early stopping at epoch 29 for fold 2\n",
            "--- Fold 3/5 ---\n",
            "Starting training for fold 3...\n"
          ]
        },
        {
          "output_type": "stream",
          "name": "stderr",
          "text": [
            "/usr/local/lib/python3.11/dist-packages/torch/optim/lr_scheduler.py:62: UserWarning: The verbose parameter is deprecated. Please use get_last_lr() to access the learning rate.\n",
            "  warnings.warn(\n"
          ]
        },
        {
          "output_type": "stream",
          "name": "stdout",
          "text": [
            "Early stopping at epoch 31 for fold 3\n",
            "--- Fold 4/5 ---\n",
            "Starting training for fold 4...\n"
          ]
        },
        {
          "output_type": "stream",
          "name": "stderr",
          "text": [
            "/usr/local/lib/python3.11/dist-packages/torch/optim/lr_scheduler.py:62: UserWarning: The verbose parameter is deprecated. Please use get_last_lr() to access the learning rate.\n",
            "  warnings.warn(\n"
          ]
        },
        {
          "output_type": "stream",
          "name": "stdout",
          "text": [
            "Early stopping at epoch 16 for fold 4\n",
            "--- Fold 5/5 ---\n",
            "Starting training for fold 5...\n"
          ]
        },
        {
          "output_type": "stream",
          "name": "stderr",
          "text": [
            "/usr/local/lib/python3.11/dist-packages/torch/optim/lr_scheduler.py:62: UserWarning: The verbose parameter is deprecated. Please use get_last_lr() to access the learning rate.\n",
            "  warnings.warn(\n",
            "[I 2025-05-05 13:32:30,755] Trial 15 finished with value: 0.16336631894953635 and parameters: {'lr': 0.00011500256398474295, 'batch_size': 32, 'hidden_dim': 117, 'dropout': 0.30592106503210026, 'weight_decay': 2.1726747644555168e-05}. Best is trial 15 with value: 0.16336631894953635.\n"
          ]
        },
        {
          "output_type": "stream",
          "name": "stdout",
          "text": [
            "Early stopping at epoch 36 for fold 5\n",
            "Trial 15 Results (averaged over folds): {'Ctd': 0.6596097891583895, 'AUC': 0.6677597891220688, 'IBS': 0.16336631894953635, 'Avg_ECE_over_times': 0.20570428152964992, 'Avg_Brier_over_times': 0.1549752057746996}\n",
            "\n",
            "Trial 16 with parameters: {'lr': 0.00010071304485544158, 'batch_size': 32, 'hidden_dim': 140, 'dropout': 0.30881376706970626, 'weight_decay': 1.997833239171911e-05, 'epochs': 50, 'n_splits': 5}\n",
            "--- Fold 1/5 ---\n",
            "Starting training for fold 1...\n"
          ]
        },
        {
          "output_type": "stream",
          "name": "stderr",
          "text": [
            "/usr/local/lib/python3.11/dist-packages/torch/optim/lr_scheduler.py:62: UserWarning: The verbose parameter is deprecated. Please use get_last_lr() to access the learning rate.\n",
            "  warnings.warn(\n"
          ]
        },
        {
          "output_type": "stream",
          "name": "stdout",
          "text": [
            "Early stopping at epoch 18 for fold 1\n",
            "--- Fold 2/5 ---\n",
            "Starting training for fold 2...\n"
          ]
        },
        {
          "output_type": "stream",
          "name": "stderr",
          "text": [
            "/usr/local/lib/python3.11/dist-packages/torch/optim/lr_scheduler.py:62: UserWarning: The verbose parameter is deprecated. Please use get_last_lr() to access the learning rate.\n",
            "  warnings.warn(\n"
          ]
        },
        {
          "output_type": "stream",
          "name": "stdout",
          "text": [
            "Early stopping at epoch 19 for fold 2\n",
            "--- Fold 3/5 ---\n",
            "Starting training for fold 3...\n"
          ]
        },
        {
          "output_type": "stream",
          "name": "stderr",
          "text": [
            "/usr/local/lib/python3.11/dist-packages/torch/optim/lr_scheduler.py:62: UserWarning: The verbose parameter is deprecated. Please use get_last_lr() to access the learning rate.\n",
            "  warnings.warn(\n"
          ]
        },
        {
          "output_type": "stream",
          "name": "stdout",
          "text": [
            "Early stopping at epoch 36 for fold 3\n",
            "--- Fold 4/5 ---\n",
            "Starting training for fold 4...\n"
          ]
        },
        {
          "output_type": "stream",
          "name": "stderr",
          "text": [
            "/usr/local/lib/python3.11/dist-packages/torch/optim/lr_scheduler.py:62: UserWarning: The verbose parameter is deprecated. Please use get_last_lr() to access the learning rate.\n",
            "  warnings.warn(\n"
          ]
        },
        {
          "output_type": "stream",
          "name": "stdout",
          "text": [
            "Early stopping at epoch 20 for fold 4\n",
            "--- Fold 5/5 ---\n",
            "Starting training for fold 5...\n"
          ]
        },
        {
          "output_type": "stream",
          "name": "stderr",
          "text": [
            "/usr/local/lib/python3.11/dist-packages/torch/optim/lr_scheduler.py:62: UserWarning: The verbose parameter is deprecated. Please use get_last_lr() to access the learning rate.\n",
            "  warnings.warn(\n",
            "[I 2025-05-05 13:32:42,407] Trial 16 finished with value: 0.16352165918081316 and parameters: {'lr': 0.00010071304485544158, 'batch_size': 32, 'hidden_dim': 140, 'dropout': 0.30881376706970626, 'weight_decay': 1.997833239171911e-05}. Best is trial 15 with value: 0.16336631894953635.\n"
          ]
        },
        {
          "output_type": "stream",
          "name": "stdout",
          "text": [
            "Early stopping at epoch 48 for fold 5\n",
            "Trial 16 Results (averaged over folds): {'Ctd': 0.6585843566150762, 'AUC': 0.6651923247919536, 'IBS': 0.16352165918081316, 'Avg_ECE_over_times': 0.20669040947428602, 'Avg_Brier_over_times': 0.1551337125144655}\n",
            "\n",
            "Trial 17 with parameters: {'lr': 0.0004413439839656403, 'batch_size': 32, 'hidden_dim': 101, 'dropout': 0.3896001938056662, 'weight_decay': 1.0428737679254828e-05, 'epochs': 50, 'n_splits': 5}\n",
            "--- Fold 1/5 ---\n",
            "Starting training for fold 1...\n"
          ]
        },
        {
          "output_type": "stream",
          "name": "stderr",
          "text": [
            "/usr/local/lib/python3.11/dist-packages/torch/optim/lr_scheduler.py:62: UserWarning: The verbose parameter is deprecated. Please use get_last_lr() to access the learning rate.\n",
            "  warnings.warn(\n"
          ]
        },
        {
          "output_type": "stream",
          "name": "stdout",
          "text": [
            "Early stopping at epoch 16 for fold 1\n",
            "--- Fold 2/5 ---\n",
            "Starting training for fold 2...\n"
          ]
        },
        {
          "output_type": "stream",
          "name": "stderr",
          "text": [
            "/usr/local/lib/python3.11/dist-packages/torch/optim/lr_scheduler.py:62: UserWarning: The verbose parameter is deprecated. Please use get_last_lr() to access the learning rate.\n",
            "  warnings.warn(\n"
          ]
        },
        {
          "output_type": "stream",
          "name": "stdout",
          "text": [
            "Early stopping at epoch 23 for fold 2\n",
            "--- Fold 3/5 ---\n",
            "Starting training for fold 3...\n"
          ]
        },
        {
          "output_type": "stream",
          "name": "stderr",
          "text": [
            "/usr/local/lib/python3.11/dist-packages/torch/optim/lr_scheduler.py:62: UserWarning: The verbose parameter is deprecated. Please use get_last_lr() to access the learning rate.\n",
            "  warnings.warn(\n"
          ]
        },
        {
          "output_type": "stream",
          "name": "stdout",
          "text": [
            "Early stopping at epoch 18 for fold 3\n",
            "--- Fold 4/5 ---\n",
            "Starting training for fold 4...\n"
          ]
        },
        {
          "output_type": "stream",
          "name": "stderr",
          "text": [
            "/usr/local/lib/python3.11/dist-packages/torch/optim/lr_scheduler.py:62: UserWarning: The verbose parameter is deprecated. Please use get_last_lr() to access the learning rate.\n",
            "  warnings.warn(\n"
          ]
        },
        {
          "output_type": "stream",
          "name": "stdout",
          "text": [
            "Early stopping at epoch 13 for fold 4\n",
            "--- Fold 5/5 ---\n",
            "Starting training for fold 5...\n"
          ]
        },
        {
          "output_type": "stream",
          "name": "stderr",
          "text": [
            "/usr/local/lib/python3.11/dist-packages/torch/optim/lr_scheduler.py:62: UserWarning: The verbose parameter is deprecated. Please use get_last_lr() to access the learning rate.\n",
            "  warnings.warn(\n",
            "[I 2025-05-05 13:32:49,053] Trial 17 finished with value: 0.1648254518434766 and parameters: {'lr': 0.0004413439839656403, 'batch_size': 32, 'hidden_dim': 101, 'dropout': 0.3896001938056662, 'weight_decay': 1.0428737679254828e-05}. Best is trial 15 with value: 0.16336631894953635.\n"
          ]
        },
        {
          "output_type": "stream",
          "name": "stdout",
          "text": [
            "Early stopping at epoch 13 for fold 5\n",
            "Trial 17 Results (averaged over folds): {'Ctd': 0.6513923236920512, 'AUC': 0.6610225458331933, 'IBS': 0.1648254518434766, 'Avg_ECE_over_times': 0.2074154982621895, 'Avg_Brier_over_times': 0.15642521601071854}\n",
            "\n",
            "Trial 18 with parameters: {'lr': 0.00017085312896055927, 'batch_size': 64, 'hidden_dim': 97, 'dropout': 0.3065502000387349, 'weight_decay': 2.0372031630526524e-05, 'epochs': 50, 'n_splits': 5}\n",
            "--- Fold 1/5 ---\n",
            "Starting training for fold 1...\n"
          ]
        },
        {
          "output_type": "stream",
          "name": "stderr",
          "text": [
            "/usr/local/lib/python3.11/dist-packages/torch/optim/lr_scheduler.py:62: UserWarning: The verbose parameter is deprecated. Please use get_last_lr() to access the learning rate.\n",
            "  warnings.warn(\n"
          ]
        },
        {
          "output_type": "stream",
          "name": "stdout",
          "text": [
            "Early stopping at epoch 20 for fold 1\n",
            "--- Fold 2/5 ---\n",
            "Starting training for fold 2...\n"
          ]
        },
        {
          "output_type": "stream",
          "name": "stderr",
          "text": [
            "/usr/local/lib/python3.11/dist-packages/torch/optim/lr_scheduler.py:62: UserWarning: The verbose parameter is deprecated. Please use get_last_lr() to access the learning rate.\n",
            "  warnings.warn(\n"
          ]
        },
        {
          "output_type": "stream",
          "name": "stdout",
          "text": [
            "Early stopping at epoch 33 for fold 2\n",
            "--- Fold 3/5 ---\n",
            "Starting training for fold 3...\n"
          ]
        },
        {
          "output_type": "stream",
          "name": "stderr",
          "text": [
            "/usr/local/lib/python3.11/dist-packages/torch/optim/lr_scheduler.py:62: UserWarning: The verbose parameter is deprecated. Please use get_last_lr() to access the learning rate.\n",
            "  warnings.warn(\n"
          ]
        },
        {
          "output_type": "stream",
          "name": "stdout",
          "text": [
            "Early stopping at epoch 25 for fold 3\n",
            "--- Fold 4/5 ---\n",
            "Starting training for fold 4...\n"
          ]
        },
        {
          "output_type": "stream",
          "name": "stderr",
          "text": [
            "/usr/local/lib/python3.11/dist-packages/torch/optim/lr_scheduler.py:62: UserWarning: The verbose parameter is deprecated. Please use get_last_lr() to access the learning rate.\n",
            "  warnings.warn(\n"
          ]
        },
        {
          "output_type": "stream",
          "name": "stdout",
          "text": [
            "Early stopping at epoch 11 for fold 4\n",
            "--- Fold 5/5 ---\n",
            "Starting training for fold 5...\n"
          ]
        },
        {
          "output_type": "stream",
          "name": "stderr",
          "text": [
            "/usr/local/lib/python3.11/dist-packages/torch/optim/lr_scheduler.py:62: UserWarning: The verbose parameter is deprecated. Please use get_last_lr() to access the learning rate.\n",
            "  warnings.warn(\n",
            "[I 2025-05-05 13:32:55,004] Trial 18 finished with value: 0.16339937712112274 and parameters: {'lr': 0.00017085312896055927, 'batch_size': 64, 'hidden_dim': 97, 'dropout': 0.3065502000387349, 'weight_decay': 2.0372031630526524e-05}. Best is trial 15 with value: 0.16336631894953635.\n"
          ]
        },
        {
          "output_type": "stream",
          "name": "stdout",
          "text": [
            "Trial 18 Results (averaged over folds): {'Ctd': 0.6541804799649422, 'AUC': 0.6692414958413309, 'IBS': 0.16339937712112274, 'Avg_ECE_over_times': 0.20708230034751157, 'Avg_Brier_over_times': 0.15468067020793538}\n",
            "\n",
            "Trial 19 with parameters: {'lr': 0.00017390225816546283, 'batch_size': 64, 'hidden_dim': 143, 'dropout': 0.3046761602329477, 'weight_decay': 2.616922681702797e-05, 'epochs': 50, 'n_splits': 5}\n",
            "--- Fold 1/5 ---\n",
            "Starting training for fold 1...\n"
          ]
        },
        {
          "output_type": "stream",
          "name": "stderr",
          "text": [
            "/usr/local/lib/python3.11/dist-packages/torch/optim/lr_scheduler.py:62: UserWarning: The verbose parameter is deprecated. Please use get_last_lr() to access the learning rate.\n",
            "  warnings.warn(\n"
          ]
        },
        {
          "output_type": "stream",
          "name": "stdout",
          "text": [
            "Early stopping at epoch 16 for fold 1\n",
            "--- Fold 2/5 ---\n",
            "Starting training for fold 2...\n"
          ]
        },
        {
          "output_type": "stream",
          "name": "stderr",
          "text": [
            "/usr/local/lib/python3.11/dist-packages/torch/optim/lr_scheduler.py:62: UserWarning: The verbose parameter is deprecated. Please use get_last_lr() to access the learning rate.\n",
            "  warnings.warn(\n"
          ]
        },
        {
          "output_type": "stream",
          "name": "stdout",
          "text": [
            "Early stopping at epoch 28 for fold 2\n",
            "--- Fold 3/5 ---\n",
            "Starting training for fold 3...\n"
          ]
        },
        {
          "output_type": "stream",
          "name": "stderr",
          "text": [
            "/usr/local/lib/python3.11/dist-packages/torch/optim/lr_scheduler.py:62: UserWarning: The verbose parameter is deprecated. Please use get_last_lr() to access the learning rate.\n",
            "  warnings.warn(\n"
          ]
        },
        {
          "output_type": "stream",
          "name": "stdout",
          "text": [
            "Early stopping at epoch 27 for fold 3\n",
            "--- Fold 4/5 ---\n",
            "Starting training for fold 4...\n"
          ]
        },
        {
          "output_type": "stream",
          "name": "stderr",
          "text": [
            "/usr/local/lib/python3.11/dist-packages/torch/optim/lr_scheduler.py:62: UserWarning: The verbose parameter is deprecated. Please use get_last_lr() to access the learning rate.\n",
            "  warnings.warn(\n"
          ]
        },
        {
          "output_type": "stream",
          "name": "stdout",
          "text": [
            "Early stopping at epoch 13 for fold 4\n",
            "--- Fold 5/5 ---\n",
            "Starting training for fold 5...\n"
          ]
        },
        {
          "output_type": "stream",
          "name": "stderr",
          "text": [
            "/usr/local/lib/python3.11/dist-packages/torch/optim/lr_scheduler.py:62: UserWarning: The verbose parameter is deprecated. Please use get_last_lr() to access the learning rate.\n",
            "  warnings.warn(\n",
            "[I 2025-05-05 13:33:00,874] Trial 19 finished with value: 0.1650777301360653 and parameters: {'lr': 0.00017390225816546283, 'batch_size': 64, 'hidden_dim': 143, 'dropout': 0.3046761602329477, 'weight_decay': 2.616922681702797e-05}. Best is trial 15 with value: 0.16336631894953635.\n"
          ]
        },
        {
          "output_type": "stream",
          "name": "stdout",
          "text": [
            "Trial 19 Results (averaged over folds): {'Ctd': 0.6498484272822782, 'AUC': 0.6608652535696418, 'IBS': 0.1650777301360653, 'Avg_ECE_over_times': 0.2078458775789031, 'Avg_Brier_over_times': 0.15655142478852313}\n",
            "\n",
            "Trial 20 with parameters: {'lr': 0.0008340103645161021, 'batch_size': 64, 'hidden_dim': 100, 'dropout': 0.3764961561312639, 'weight_decay': 5.791679955677435e-05, 'epochs': 50, 'n_splits': 5}\n",
            "--- Fold 1/5 ---\n",
            "Starting training for fold 1...\n"
          ]
        },
        {
          "output_type": "stream",
          "name": "stderr",
          "text": [
            "/usr/local/lib/python3.11/dist-packages/torch/optim/lr_scheduler.py:62: UserWarning: The verbose parameter is deprecated. Please use get_last_lr() to access the learning rate.\n",
            "  warnings.warn(\n"
          ]
        },
        {
          "output_type": "stream",
          "name": "stdout",
          "text": [
            "Early stopping at epoch 12 for fold 1\n",
            "--- Fold 2/5 ---\n",
            "Starting training for fold 2...\n"
          ]
        },
        {
          "output_type": "stream",
          "name": "stderr",
          "text": [
            "/usr/local/lib/python3.11/dist-packages/torch/optim/lr_scheduler.py:62: UserWarning: The verbose parameter is deprecated. Please use get_last_lr() to access the learning rate.\n",
            "  warnings.warn(\n"
          ]
        },
        {
          "output_type": "stream",
          "name": "stdout",
          "text": [
            "Early stopping at epoch 13 for fold 2\n",
            "--- Fold 3/5 ---\n",
            "Starting training for fold 3...\n"
          ]
        },
        {
          "output_type": "stream",
          "name": "stderr",
          "text": [
            "/usr/local/lib/python3.11/dist-packages/torch/optim/lr_scheduler.py:62: UserWarning: The verbose parameter is deprecated. Please use get_last_lr() to access the learning rate.\n",
            "  warnings.warn(\n"
          ]
        },
        {
          "output_type": "stream",
          "name": "stdout",
          "text": [
            "Early stopping at epoch 11 for fold 3\n",
            "--- Fold 4/5 ---\n",
            "Starting training for fold 4...\n"
          ]
        },
        {
          "output_type": "stream",
          "name": "stderr",
          "text": [
            "/usr/local/lib/python3.11/dist-packages/torch/optim/lr_scheduler.py:62: UserWarning: The verbose parameter is deprecated. Please use get_last_lr() to access the learning rate.\n",
            "  warnings.warn(\n"
          ]
        },
        {
          "output_type": "stream",
          "name": "stdout",
          "text": [
            "Early stopping at epoch 11 for fold 4\n",
            "--- Fold 5/5 ---\n",
            "Starting training for fold 5...\n"
          ]
        },
        {
          "output_type": "stream",
          "name": "stderr",
          "text": [
            "/usr/local/lib/python3.11/dist-packages/torch/optim/lr_scheduler.py:62: UserWarning: The verbose parameter is deprecated. Please use get_last_lr() to access the learning rate.\n",
            "  warnings.warn(\n",
            "[I 2025-05-05 13:33:05,176] Trial 20 finished with value: 0.16560597186060957 and parameters: {'lr': 0.0008340103645161021, 'batch_size': 64, 'hidden_dim': 100, 'dropout': 0.3764961561312639, 'weight_decay': 5.791679955677435e-05}. Best is trial 15 with value: 0.16336631894953635.\n"
          ]
        },
        {
          "output_type": "stream",
          "name": "stdout",
          "text": [
            "Trial 20 Results (averaged over folds): {'Ctd': 0.6524607261275659, 'AUC': 0.6593769614713981, 'IBS': 0.16560597186060957, 'Avg_ECE_over_times': 0.2100480184750173, 'Avg_Brier_over_times': 0.15748418734138028}\n",
            "\n",
            "Trial 21 with parameters: {'lr': 0.00014767251374875733, 'batch_size': 64, 'hidden_dim': 88, 'dropout': 0.3246315208897894, 'weight_decay': 1.532186069801206e-05, 'epochs': 50, 'n_splits': 5}\n",
            "--- Fold 1/5 ---\n",
            "Starting training for fold 1...\n"
          ]
        },
        {
          "output_type": "stream",
          "name": "stderr",
          "text": [
            "/usr/local/lib/python3.11/dist-packages/torch/optim/lr_scheduler.py:62: UserWarning: The verbose parameter is deprecated. Please use get_last_lr() to access the learning rate.\n",
            "  warnings.warn(\n"
          ]
        },
        {
          "output_type": "stream",
          "name": "stdout",
          "text": [
            "Early stopping at epoch 19 for fold 1\n",
            "--- Fold 2/5 ---\n",
            "Starting training for fold 2...\n"
          ]
        },
        {
          "output_type": "stream",
          "name": "stderr",
          "text": [
            "/usr/local/lib/python3.11/dist-packages/torch/optim/lr_scheduler.py:62: UserWarning: The verbose parameter is deprecated. Please use get_last_lr() to access the learning rate.\n",
            "  warnings.warn(\n"
          ]
        },
        {
          "output_type": "stream",
          "name": "stdout",
          "text": [
            "Early stopping at epoch 31 for fold 2\n",
            "--- Fold 3/5 ---\n",
            "Starting training for fold 3...\n"
          ]
        },
        {
          "output_type": "stream",
          "name": "stderr",
          "text": [
            "/usr/local/lib/python3.11/dist-packages/torch/optim/lr_scheduler.py:62: UserWarning: The verbose parameter is deprecated. Please use get_last_lr() to access the learning rate.\n",
            "  warnings.warn(\n"
          ]
        },
        {
          "output_type": "stream",
          "name": "stdout",
          "text": [
            "Early stopping at epoch 21 for fold 3\n",
            "--- Fold 4/5 ---\n",
            "Starting training for fold 4...\n"
          ]
        },
        {
          "output_type": "stream",
          "name": "stderr",
          "text": [
            "/usr/local/lib/python3.11/dist-packages/torch/optim/lr_scheduler.py:62: UserWarning: The verbose parameter is deprecated. Please use get_last_lr() to access the learning rate.\n",
            "  warnings.warn(\n"
          ]
        },
        {
          "output_type": "stream",
          "name": "stdout",
          "text": [
            "Early stopping at epoch 24 for fold 4\n",
            "--- Fold 5/5 ---\n",
            "Starting training for fold 5...\n"
          ]
        },
        {
          "output_type": "stream",
          "name": "stderr",
          "text": [
            "/usr/local/lib/python3.11/dist-packages/torch/optim/lr_scheduler.py:62: UserWarning: The verbose parameter is deprecated. Please use get_last_lr() to access the learning rate.\n",
            "  warnings.warn(\n",
            "[I 2025-05-05 13:33:11,362] Trial 21 finished with value: 0.16464927585716943 and parameters: {'lr': 0.00014767251374875733, 'batch_size': 64, 'hidden_dim': 88, 'dropout': 0.3246315208897894, 'weight_decay': 1.532186069801206e-05}. Best is trial 15 with value: 0.16336631894953635.\n"
          ]
        },
        {
          "output_type": "stream",
          "name": "stdout",
          "text": [
            "Trial 21 Results (averaged over folds): {'Ctd': 0.6474545995657587, 'AUC': 0.6586322472346525, 'IBS': 0.16464927585716943, 'Avg_ECE_over_times': 0.20666695956721245, 'Avg_Brier_over_times': 0.15621568388433948}\n",
            "\n",
            "Trial 22 with parameters: {'lr': 0.0002976917170103101, 'batch_size': 64, 'hidden_dim': 118, 'dropout': 0.2871698410250468, 'weight_decay': 2.5444577174453727e-05, 'epochs': 50, 'n_splits': 5}\n",
            "--- Fold 1/5 ---\n",
            "Starting training for fold 1...\n"
          ]
        },
        {
          "output_type": "stream",
          "name": "stderr",
          "text": [
            "/usr/local/lib/python3.11/dist-packages/torch/optim/lr_scheduler.py:62: UserWarning: The verbose parameter is deprecated. Please use get_last_lr() to access the learning rate.\n",
            "  warnings.warn(\n"
          ]
        },
        {
          "output_type": "stream",
          "name": "stdout",
          "text": [
            "Early stopping at epoch 14 for fold 1\n",
            "--- Fold 2/5 ---\n"
          ]
        },
        {
          "output_type": "stream",
          "name": "stderr",
          "text": [
            "/usr/local/lib/python3.11/dist-packages/torch/optim/lr_scheduler.py:62: UserWarning: The verbose parameter is deprecated. Please use get_last_lr() to access the learning rate.\n",
            "  warnings.warn(\n"
          ]
        },
        {
          "output_type": "stream",
          "name": "stdout",
          "text": [
            "Starting training for fold 2...\n",
            "Early stopping at epoch 22 for fold 2\n",
            "--- Fold 3/5 ---\n",
            "Starting training for fold 3...\n"
          ]
        },
        {
          "output_type": "stream",
          "name": "stderr",
          "text": [
            "/usr/local/lib/python3.11/dist-packages/torch/optim/lr_scheduler.py:62: UserWarning: The verbose parameter is deprecated. Please use get_last_lr() to access the learning rate.\n",
            "  warnings.warn(\n"
          ]
        },
        {
          "output_type": "stream",
          "name": "stdout",
          "text": [
            "Early stopping at epoch 14 for fold 3\n",
            "--- Fold 4/5 ---\n",
            "Starting training for fold 4...\n"
          ]
        },
        {
          "output_type": "stream",
          "name": "stderr",
          "text": [
            "/usr/local/lib/python3.11/dist-packages/torch/optim/lr_scheduler.py:62: UserWarning: The verbose parameter is deprecated. Please use get_last_lr() to access the learning rate.\n",
            "  warnings.warn(\n"
          ]
        },
        {
          "output_type": "stream",
          "name": "stdout",
          "text": [
            "Early stopping at epoch 11 for fold 4\n",
            "--- Fold 5/5 ---\n",
            "Starting training for fold 5...\n"
          ]
        },
        {
          "output_type": "stream",
          "name": "stderr",
          "text": [
            "/usr/local/lib/python3.11/dist-packages/torch/optim/lr_scheduler.py:62: UserWarning: The verbose parameter is deprecated. Please use get_last_lr() to access the learning rate.\n",
            "  warnings.warn(\n",
            "[I 2025-05-05 13:33:16,929] Trial 22 finished with value: 0.16532982823370568 and parameters: {'lr': 0.0002976917170103101, 'batch_size': 64, 'hidden_dim': 118, 'dropout': 0.2871698410250468, 'weight_decay': 2.5444577174453727e-05}. Best is trial 15 with value: 0.16336631894953635.\n"
          ]
        },
        {
          "output_type": "stream",
          "name": "stdout",
          "text": [
            "Trial 22 Results (averaged over folds): {'Ctd': 0.6522819547503999, 'AUC': 0.6619232225237522, 'IBS': 0.16532982823370568, 'Avg_ECE_over_times': 0.2121675544266258, 'Avg_Brier_over_times': 0.15687261556974702}\n",
            "\n",
            "Trial 23 with parameters: {'lr': 0.00014903436306984574, 'batch_size': 128, 'hidden_dim': 93, 'dropout': 0.2272075459398035, 'weight_decay': 1.4118875050999802e-05, 'epochs': 50, 'n_splits': 5}\n",
            "--- Fold 1/5 ---\n",
            "Starting training for fold 1...\n"
          ]
        },
        {
          "output_type": "stream",
          "name": "stderr",
          "text": [
            "/usr/local/lib/python3.11/dist-packages/torch/optim/lr_scheduler.py:62: UserWarning: The verbose parameter is deprecated. Please use get_last_lr() to access the learning rate.\n",
            "  warnings.warn(\n"
          ]
        },
        {
          "output_type": "stream",
          "name": "stdout",
          "text": [
            "Early stopping at epoch 11 for fold 1\n",
            "--- Fold 2/5 ---\n",
            "Starting training for fold 2...\n"
          ]
        },
        {
          "output_type": "stream",
          "name": "stderr",
          "text": [
            "/usr/local/lib/python3.11/dist-packages/torch/optim/lr_scheduler.py:62: UserWarning: The verbose parameter is deprecated. Please use get_last_lr() to access the learning rate.\n",
            "  warnings.warn(\n"
          ]
        },
        {
          "output_type": "stream",
          "name": "stdout",
          "text": [
            "--- Fold 3/5 ---\n",
            "Starting training for fold 3...\n"
          ]
        },
        {
          "output_type": "stream",
          "name": "stderr",
          "text": [
            "/usr/local/lib/python3.11/dist-packages/torch/optim/lr_scheduler.py:62: UserWarning: The verbose parameter is deprecated. Please use get_last_lr() to access the learning rate.\n",
            "  warnings.warn(\n"
          ]
        },
        {
          "output_type": "stream",
          "name": "stdout",
          "text": [
            "Early stopping at epoch 11 for fold 3\n",
            "--- Fold 4/5 ---\n",
            "Starting training for fold 4...\n"
          ]
        },
        {
          "output_type": "stream",
          "name": "stderr",
          "text": [
            "/usr/local/lib/python3.11/dist-packages/torch/optim/lr_scheduler.py:62: UserWarning: The verbose parameter is deprecated. Please use get_last_lr() to access the learning rate.\n",
            "  warnings.warn(\n"
          ]
        },
        {
          "output_type": "stream",
          "name": "stdout",
          "text": [
            "Early stopping at epoch 18 for fold 4\n",
            "--- Fold 5/5 ---\n",
            "Starting training for fold 5...\n"
          ]
        },
        {
          "output_type": "stream",
          "name": "stderr",
          "text": [
            "/usr/local/lib/python3.11/dist-packages/torch/optim/lr_scheduler.py:62: UserWarning: The verbose parameter is deprecated. Please use get_last_lr() to access the learning rate.\n",
            "  warnings.warn(\n",
            "[I 2025-05-05 13:33:20,776] Trial 23 finished with value: 0.16520821422179263 and parameters: {'lr': 0.00014903436306984574, 'batch_size': 128, 'hidden_dim': 93, 'dropout': 0.2272075459398035, 'weight_decay': 1.4118875050999802e-05}. Best is trial 15 with value: 0.16336631894953635.\n"
          ]
        },
        {
          "output_type": "stream",
          "name": "stdout",
          "text": [
            "Trial 23 Results (averaged over folds): {'Ctd': 0.6393704222731628, 'AUC': 0.6476157047975599, 'IBS': 0.16520821422179263, 'Avg_ECE_over_times': 0.20697866449398764, 'Avg_Brier_over_times': 0.15655476677750718}\n",
            "\n",
            "Trial 24 with parameters: {'lr': 0.00012853233795308226, 'batch_size': 32, 'hidden_dim': 65, 'dropout': 0.2789546560837739, 'weight_decay': 1.0245015528815746e-05, 'epochs': 50, 'n_splits': 5}\n",
            "--- Fold 1/5 ---\n",
            "Starting training for fold 1...\n"
          ]
        },
        {
          "output_type": "stream",
          "name": "stderr",
          "text": [
            "/usr/local/lib/python3.11/dist-packages/torch/optim/lr_scheduler.py:62: UserWarning: The verbose parameter is deprecated. Please use get_last_lr() to access the learning rate.\n",
            "  warnings.warn(\n"
          ]
        },
        {
          "output_type": "stream",
          "name": "stdout",
          "text": [
            "Early stopping at epoch 26 for fold 1\n",
            "--- Fold 2/5 ---\n",
            "Starting training for fold 2...\n"
          ]
        },
        {
          "output_type": "stream",
          "name": "stderr",
          "text": [
            "/usr/local/lib/python3.11/dist-packages/torch/optim/lr_scheduler.py:62: UserWarning: The verbose parameter is deprecated. Please use get_last_lr() to access the learning rate.\n",
            "  warnings.warn(\n"
          ]
        },
        {
          "output_type": "stream",
          "name": "stdout",
          "text": [
            "Early stopping at epoch 22 for fold 2\n",
            "--- Fold 3/5 ---\n",
            "Starting training for fold 3...\n"
          ]
        },
        {
          "output_type": "stream",
          "name": "stderr",
          "text": [
            "/usr/local/lib/python3.11/dist-packages/torch/optim/lr_scheduler.py:62: UserWarning: The verbose parameter is deprecated. Please use get_last_lr() to access the learning rate.\n",
            "  warnings.warn(\n"
          ]
        },
        {
          "output_type": "stream",
          "name": "stdout",
          "text": [
            "Early stopping at epoch 42 for fold 3\n",
            "--- Fold 4/5 ---\n",
            "Starting training for fold 4...\n"
          ]
        },
        {
          "output_type": "stream",
          "name": "stderr",
          "text": [
            "/usr/local/lib/python3.11/dist-packages/torch/optim/lr_scheduler.py:62: UserWarning: The verbose parameter is deprecated. Please use get_last_lr() to access the learning rate.\n",
            "  warnings.warn(\n"
          ]
        },
        {
          "output_type": "stream",
          "name": "stdout",
          "text": [
            "Early stopping at epoch 17 for fold 4\n",
            "--- Fold 5/5 ---\n",
            "Starting training for fold 5...\n"
          ]
        },
        {
          "output_type": "stream",
          "name": "stderr",
          "text": [
            "/usr/local/lib/python3.11/dist-packages/torch/optim/lr_scheduler.py:62: UserWarning: The verbose parameter is deprecated. Please use get_last_lr() to access the learning rate.\n",
            "  warnings.warn(\n",
            "[I 2025-05-05 13:33:32,195] Trial 24 finished with value: 0.16468835528671924 and parameters: {'lr': 0.00012853233795308226, 'batch_size': 32, 'hidden_dim': 65, 'dropout': 0.2789546560837739, 'weight_decay': 1.0245015528815746e-05}. Best is trial 15 with value: 0.16336631894953635.\n"
          ]
        },
        {
          "output_type": "stream",
          "name": "stdout",
          "text": [
            "Early stopping at epoch 36 for fold 5\n",
            "Trial 24 Results (averaged over folds): {'Ctd': 0.6527589671417086, 'AUC': 0.6608444935738328, 'IBS': 0.16468835528671924, 'Avg_ECE_over_times': 0.20542287710000698, 'Avg_Brier_over_times': 0.15626597645669763}\n",
            "\n",
            "Trial 25 with parameters: {'lr': 0.00020582986727660073, 'batch_size': 64, 'hidden_dim': 123, 'dropout': 0.35873148528610743, 'weight_decay': 2.4491885275304228e-05, 'epochs': 50, 'n_splits': 5}\n",
            "--- Fold 1/5 ---\n",
            "Starting training for fold 1...\n"
          ]
        },
        {
          "output_type": "stream",
          "name": "stderr",
          "text": [
            "/usr/local/lib/python3.11/dist-packages/torch/optim/lr_scheduler.py:62: UserWarning: The verbose parameter is deprecated. Please use get_last_lr() to access the learning rate.\n",
            "  warnings.warn(\n"
          ]
        },
        {
          "output_type": "stream",
          "name": "stdout",
          "text": [
            "Early stopping at epoch 14 for fold 1\n",
            "--- Fold 2/5 ---\n",
            "Starting training for fold 2...\n"
          ]
        },
        {
          "output_type": "stream",
          "name": "stderr",
          "text": [
            "/usr/local/lib/python3.11/dist-packages/torch/optim/lr_scheduler.py:62: UserWarning: The verbose parameter is deprecated. Please use get_last_lr() to access the learning rate.\n",
            "  warnings.warn(\n"
          ]
        },
        {
          "output_type": "stream",
          "name": "stdout",
          "text": [
            "Early stopping at epoch 18 for fold 2\n",
            "--- Fold 3/5 ---\n",
            "Starting training for fold 3...\n"
          ]
        },
        {
          "output_type": "stream",
          "name": "stderr",
          "text": [
            "/usr/local/lib/python3.11/dist-packages/torch/optim/lr_scheduler.py:62: UserWarning: The verbose parameter is deprecated. Please use get_last_lr() to access the learning rate.\n",
            "  warnings.warn(\n"
          ]
        },
        {
          "output_type": "stream",
          "name": "stdout",
          "text": [
            "Early stopping at epoch 18 for fold 3\n",
            "--- Fold 4/5 ---\n",
            "Starting training for fold 4...\n"
          ]
        },
        {
          "output_type": "stream",
          "name": "stderr",
          "text": [
            "/usr/local/lib/python3.11/dist-packages/torch/optim/lr_scheduler.py:62: UserWarning: The verbose parameter is deprecated. Please use get_last_lr() to access the learning rate.\n",
            "  warnings.warn(\n"
          ]
        },
        {
          "output_type": "stream",
          "name": "stdout",
          "text": [
            "Early stopping at epoch 18 for fold 4\n",
            "--- Fold 5/5 ---\n",
            "Starting training for fold 5...\n"
          ]
        },
        {
          "output_type": "stream",
          "name": "stderr",
          "text": [
            "/usr/local/lib/python3.11/dist-packages/torch/optim/lr_scheduler.py:62: UserWarning: The verbose parameter is deprecated. Please use get_last_lr() to access the learning rate.\n",
            "  warnings.warn(\n",
            "[I 2025-05-05 13:33:37,480] Trial 25 finished with value: 0.16312124782048065 and parameters: {'lr': 0.00020582986727660073, 'batch_size': 64, 'hidden_dim': 123, 'dropout': 0.35873148528610743, 'weight_decay': 2.4491885275304228e-05}. Best is trial 25 with value: 0.16312124782048065.\n"
          ]
        },
        {
          "output_type": "stream",
          "name": "stdout",
          "text": [
            "Early stopping at epoch 47 for fold 5\n",
            "Trial 25 Results (averaged over folds): {'Ctd': 0.6575095123929405, 'AUC': 0.6669850223487624, 'IBS': 0.16312124782048065, 'Avg_ECE_over_times': 0.20874498493941857, 'Avg_Brier_over_times': 0.1548037962072903}\n",
            "\n",
            "Trial 26 with parameters: {'lr': 0.0003026715190772683, 'batch_size': 64, 'hidden_dim': 144, 'dropout': 0.35591016006316667, 'weight_decay': 4.195382072361548e-05, 'epochs': 50, 'n_splits': 5}\n",
            "--- Fold 1/5 ---\n",
            "Starting training for fold 1...\n"
          ]
        },
        {
          "output_type": "stream",
          "name": "stderr",
          "text": [
            "/usr/local/lib/python3.11/dist-packages/torch/optim/lr_scheduler.py:62: UserWarning: The verbose parameter is deprecated. Please use get_last_lr() to access the learning rate.\n",
            "  warnings.warn(\n"
          ]
        },
        {
          "output_type": "stream",
          "name": "stdout",
          "text": [
            "Early stopping at epoch 14 for fold 1\n",
            "--- Fold 2/5 ---\n",
            "Starting training for fold 2...\n"
          ]
        },
        {
          "output_type": "stream",
          "name": "stderr",
          "text": [
            "/usr/local/lib/python3.11/dist-packages/torch/optim/lr_scheduler.py:62: UserWarning: The verbose parameter is deprecated. Please use get_last_lr() to access the learning rate.\n",
            "  warnings.warn(\n"
          ]
        },
        {
          "output_type": "stream",
          "name": "stdout",
          "text": [
            "Early stopping at epoch 15 for fold 2\n",
            "--- Fold 3/5 ---\n",
            "Starting training for fold 3...\n"
          ]
        },
        {
          "output_type": "stream",
          "name": "stderr",
          "text": [
            "/usr/local/lib/python3.11/dist-packages/torch/optim/lr_scheduler.py:62: UserWarning: The verbose parameter is deprecated. Please use get_last_lr() to access the learning rate.\n",
            "  warnings.warn(\n"
          ]
        },
        {
          "output_type": "stream",
          "name": "stdout",
          "text": [
            "Early stopping at epoch 20 for fold 3\n",
            "--- Fold 4/5 ---\n",
            "Starting training for fold 4...\n"
          ]
        },
        {
          "output_type": "stream",
          "name": "stderr",
          "text": [
            "/usr/local/lib/python3.11/dist-packages/torch/optim/lr_scheduler.py:62: UserWarning: The verbose parameter is deprecated. Please use get_last_lr() to access the learning rate.\n",
            "  warnings.warn(\n"
          ]
        },
        {
          "output_type": "stream",
          "name": "stdout",
          "text": [
            "Early stopping at epoch 13 for fold 4\n",
            "--- Fold 5/5 ---\n",
            "Starting training for fold 5...\n"
          ]
        },
        {
          "output_type": "stream",
          "name": "stderr",
          "text": [
            "/usr/local/lib/python3.11/dist-packages/torch/optim/lr_scheduler.py:62: UserWarning: The verbose parameter is deprecated. Please use get_last_lr() to access the learning rate.\n",
            "  warnings.warn(\n",
            "[I 2025-05-05 13:33:41,752] Trial 26 finished with value: 0.16557587707747395 and parameters: {'lr': 0.0003026715190772683, 'batch_size': 64, 'hidden_dim': 144, 'dropout': 0.35591016006316667, 'weight_decay': 4.195382072361548e-05}. Best is trial 25 with value: 0.16312124782048065.\n"
          ]
        },
        {
          "output_type": "stream",
          "name": "stdout",
          "text": [
            "Early stopping at epoch 32 for fold 5\n",
            "Trial 26 Results (averaged over folds): {'Ctd': 0.6537121173949847, 'AUC': 0.6592275501014384, 'IBS': 0.16557587707747395, 'Avg_ECE_over_times': 0.21041661066427872, 'Avg_Brier_over_times': 0.15722997132767164}\n",
            "\n",
            "Trial 27 with parameters: {'lr': 0.0005395984010111615, 'batch_size': 64, 'hidden_dim': 116, 'dropout': 0.32709512084298753, 'weight_decay': 2.4757903767684673e-05, 'epochs': 50, 'n_splits': 5}\n",
            "--- Fold 1/5 ---\n",
            "Starting training for fold 1...\n"
          ]
        },
        {
          "output_type": "stream",
          "name": "stderr",
          "text": [
            "/usr/local/lib/python3.11/dist-packages/torch/optim/lr_scheduler.py:62: UserWarning: The verbose parameter is deprecated. Please use get_last_lr() to access the learning rate.\n",
            "  warnings.warn(\n"
          ]
        },
        {
          "output_type": "stream",
          "name": "stdout",
          "text": [
            "Early stopping at epoch 13 for fold 1\n",
            "--- Fold 2/5 ---\n",
            "Starting training for fold 2...\n"
          ]
        },
        {
          "output_type": "stream",
          "name": "stderr",
          "text": [
            "/usr/local/lib/python3.11/dist-packages/torch/optim/lr_scheduler.py:62: UserWarning: The verbose parameter is deprecated. Please use get_last_lr() to access the learning rate.\n",
            "  warnings.warn(\n"
          ]
        },
        {
          "output_type": "stream",
          "name": "stdout",
          "text": [
            "Early stopping at epoch 18 for fold 2\n",
            "--- Fold 3/5 ---\n",
            "Starting training for fold 3...\n"
          ]
        },
        {
          "output_type": "stream",
          "name": "stderr",
          "text": [
            "/usr/local/lib/python3.11/dist-packages/torch/optim/lr_scheduler.py:62: UserWarning: The verbose parameter is deprecated. Please use get_last_lr() to access the learning rate.\n",
            "  warnings.warn(\n"
          ]
        },
        {
          "output_type": "stream",
          "name": "stdout",
          "text": [
            "Early stopping at epoch 12 for fold 3\n",
            "--- Fold 4/5 ---\n",
            "Starting training for fold 4...\n"
          ]
        },
        {
          "output_type": "stream",
          "name": "stderr",
          "text": [
            "/usr/local/lib/python3.11/dist-packages/torch/optim/lr_scheduler.py:62: UserWarning: The verbose parameter is deprecated. Please use get_last_lr() to access the learning rate.\n",
            "  warnings.warn(\n"
          ]
        },
        {
          "output_type": "stream",
          "name": "stdout",
          "text": [
            "Early stopping at epoch 13 for fold 4\n",
            "--- Fold 5/5 ---\n",
            "Starting training for fold 5...\n"
          ]
        },
        {
          "output_type": "stream",
          "name": "stderr",
          "text": [
            "/usr/local/lib/python3.11/dist-packages/torch/optim/lr_scheduler.py:62: UserWarning: The verbose parameter is deprecated. Please use get_last_lr() to access the learning rate.\n",
            "  warnings.warn(\n",
            "[I 2025-05-05 13:33:46,213] Trial 27 finished with value: 0.16599510179378824 and parameters: {'lr': 0.0005395984010111615, 'batch_size': 64, 'hidden_dim': 116, 'dropout': 0.32709512084298753, 'weight_decay': 2.4757903767684673e-05}. Best is trial 25 with value: 0.16312124782048065.\n"
          ]
        },
        {
          "output_type": "stream",
          "name": "stdout",
          "text": [
            "Trial 27 Results (averaged over folds): {'Ctd': 0.6503127849332728, 'AUC': 0.6598375072498365, 'IBS': 0.16599510179378824, 'Avg_ECE_over_times': 0.2120847487419341, 'Avg_Brier_over_times': 0.1574879539653733}\n",
            "\n",
            "Trial 28 with parameters: {'lr': 0.0002000154318260831, 'batch_size': 64, 'hidden_dim': 158, 'dropout': 0.39795074636991357, 'weight_decay': 6.272245759143649e-05, 'epochs': 50, 'n_splits': 5}\n",
            "--- Fold 1/5 ---\n",
            "Starting training for fold 1...\n"
          ]
        },
        {
          "output_type": "stream",
          "name": "stderr",
          "text": [
            "/usr/local/lib/python3.11/dist-packages/torch/optim/lr_scheduler.py:62: UserWarning: The verbose parameter is deprecated. Please use get_last_lr() to access the learning rate.\n",
            "  warnings.warn(\n"
          ]
        },
        {
          "output_type": "stream",
          "name": "stdout",
          "text": [
            "Early stopping at epoch 15 for fold 1\n",
            "--- Fold 2/5 ---\n",
            "Starting training for fold 2...\n"
          ]
        },
        {
          "output_type": "stream",
          "name": "stderr",
          "text": [
            "/usr/local/lib/python3.11/dist-packages/torch/optim/lr_scheduler.py:62: UserWarning: The verbose parameter is deprecated. Please use get_last_lr() to access the learning rate.\n",
            "  warnings.warn(\n"
          ]
        },
        {
          "output_type": "stream",
          "name": "stdout",
          "text": [
            "Early stopping at epoch 18 for fold 2\n",
            "--- Fold 3/5 ---\n",
            "Starting training for fold 3...\n"
          ]
        },
        {
          "output_type": "stream",
          "name": "stderr",
          "text": [
            "/usr/local/lib/python3.11/dist-packages/torch/optim/lr_scheduler.py:62: UserWarning: The verbose parameter is deprecated. Please use get_last_lr() to access the learning rate.\n",
            "  warnings.warn(\n"
          ]
        },
        {
          "output_type": "stream",
          "name": "stdout",
          "text": [
            "Early stopping at epoch 12 for fold 3\n",
            "--- Fold 4/5 ---\n",
            "Starting training for fold 4...\n"
          ]
        },
        {
          "output_type": "stream",
          "name": "stderr",
          "text": [
            "/usr/local/lib/python3.11/dist-packages/torch/optim/lr_scheduler.py:62: UserWarning: The verbose parameter is deprecated. Please use get_last_lr() to access the learning rate.\n",
            "  warnings.warn(\n"
          ]
        },
        {
          "output_type": "stream",
          "name": "stdout",
          "text": [
            "Early stopping at epoch 15 for fold 4\n",
            "--- Fold 5/5 ---\n",
            "Starting training for fold 5...\n"
          ]
        },
        {
          "output_type": "stream",
          "name": "stderr",
          "text": [
            "/usr/local/lib/python3.11/dist-packages/torch/optim/lr_scheduler.py:62: UserWarning: The verbose parameter is deprecated. Please use get_last_lr() to access the learning rate.\n",
            "  warnings.warn(\n",
            "[I 2025-05-05 13:33:51,114] Trial 28 finished with value: 0.16544275940256323 and parameters: {'lr': 0.0002000154318260831, 'batch_size': 64, 'hidden_dim': 158, 'dropout': 0.39795074636991357, 'weight_decay': 6.272245759143649e-05}. Best is trial 25 with value: 0.16312124782048065.\n"
          ]
        },
        {
          "output_type": "stream",
          "name": "stdout",
          "text": [
            "Early stopping at epoch 39 for fold 5\n",
            "Trial 28 Results (averaged over folds): {'Ctd': 0.6511377212313594, 'AUC': 0.6584053362271892, 'IBS': 0.16544275940256323, 'Avg_ECE_over_times': 0.207799409000617, 'Avg_Brier_over_times': 0.15690116118263586}\n",
            "\n",
            "Trial 29 with parameters: {'lr': 0.00017753863958839283, 'batch_size': 64, 'hidden_dim': 127, 'dropout': 0.37188102211687535, 'weight_decay': 3.698704429339353e-05, 'epochs': 50, 'n_splits': 5}\n",
            "--- Fold 1/5 ---\n",
            "Starting training for fold 1...\n"
          ]
        },
        {
          "output_type": "stream",
          "name": "stderr",
          "text": [
            "/usr/local/lib/python3.11/dist-packages/torch/optim/lr_scheduler.py:62: UserWarning: The verbose parameter is deprecated. Please use get_last_lr() to access the learning rate.\n",
            "  warnings.warn(\n"
          ]
        },
        {
          "output_type": "stream",
          "name": "stdout",
          "text": [
            "Early stopping at epoch 13 for fold 1\n",
            "--- Fold 2/5 ---\n",
            "Starting training for fold 2...\n"
          ]
        },
        {
          "output_type": "stream",
          "name": "stderr",
          "text": [
            "/usr/local/lib/python3.11/dist-packages/torch/optim/lr_scheduler.py:62: UserWarning: The verbose parameter is deprecated. Please use get_last_lr() to access the learning rate.\n",
            "  warnings.warn(\n"
          ]
        },
        {
          "output_type": "stream",
          "name": "stdout",
          "text": [
            "Early stopping at epoch 20 for fold 2\n",
            "--- Fold 3/5 ---\n",
            "Starting training for fold 3...\n"
          ]
        },
        {
          "output_type": "stream",
          "name": "stderr",
          "text": [
            "/usr/local/lib/python3.11/dist-packages/torch/optim/lr_scheduler.py:62: UserWarning: The verbose parameter is deprecated. Please use get_last_lr() to access the learning rate.\n",
            "  warnings.warn(\n"
          ]
        },
        {
          "output_type": "stream",
          "name": "stdout",
          "text": [
            "Early stopping at epoch 22 for fold 3\n",
            "--- Fold 4/5 ---\n",
            "Starting training for fold 4...\n"
          ]
        },
        {
          "output_type": "stream",
          "name": "stderr",
          "text": [
            "/usr/local/lib/python3.11/dist-packages/torch/optim/lr_scheduler.py:62: UserWarning: The verbose parameter is deprecated. Please use get_last_lr() to access the learning rate.\n",
            "  warnings.warn(\n"
          ]
        },
        {
          "output_type": "stream",
          "name": "stdout",
          "text": [
            "Early stopping at epoch 15 for fold 4\n",
            "--- Fold 5/5 ---\n",
            "Starting training for fold 5...\n"
          ]
        },
        {
          "output_type": "stream",
          "name": "stderr",
          "text": [
            "/usr/local/lib/python3.11/dist-packages/torch/optim/lr_scheduler.py:62: UserWarning: The verbose parameter is deprecated. Please use get_last_lr() to access the learning rate.\n",
            "  warnings.warn(\n",
            "[I 2025-05-05 13:33:55,992] Trial 29 finished with value: 0.16474942455076208 and parameters: {'lr': 0.00017753863958839283, 'batch_size': 64, 'hidden_dim': 127, 'dropout': 0.37188102211687535, 'weight_decay': 3.698704429339353e-05}. Best is trial 25 with value: 0.16312124782048065.\n"
          ]
        },
        {
          "output_type": "stream",
          "name": "stdout",
          "text": [
            "Early stopping at epoch 40 for fold 5\n",
            "Trial 29 Results (averaged over folds): {'Ctd': 0.6520551156854429, 'AUC': 0.6636498332014682, 'IBS': 0.16474942455076208, 'Avg_ECE_over_times': 0.21032649913492008, 'Avg_Brier_over_times': 0.15620545282385404}\n",
            "\n",
            "Trial 30 with parameters: {'lr': 0.00033435692468943056, 'batch_size': 64, 'hidden_dim': 130, 'dropout': 0.35280987830108296, 'weight_decay': 0.00016839360873528126, 'epochs': 50, 'n_splits': 5}\n",
            "--- Fold 1/5 ---\n",
            "Starting training for fold 1...\n"
          ]
        },
        {
          "output_type": "stream",
          "name": "stderr",
          "text": [
            "/usr/local/lib/python3.11/dist-packages/torch/optim/lr_scheduler.py:62: UserWarning: The verbose parameter is deprecated. Please use get_last_lr() to access the learning rate.\n",
            "  warnings.warn(\n"
          ]
        },
        {
          "output_type": "stream",
          "name": "stdout",
          "text": [
            "Early stopping at epoch 13 for fold 1\n",
            "--- Fold 2/5 ---\n",
            "Starting training for fold 2...\n"
          ]
        },
        {
          "output_type": "stream",
          "name": "stderr",
          "text": [
            "/usr/local/lib/python3.11/dist-packages/torch/optim/lr_scheduler.py:62: UserWarning: The verbose parameter is deprecated. Please use get_last_lr() to access the learning rate.\n",
            "  warnings.warn(\n"
          ]
        },
        {
          "output_type": "stream",
          "name": "stdout",
          "text": [
            "Early stopping at epoch 32 for fold 2\n",
            "--- Fold 3/5 ---\n",
            "Starting training for fold 3...\n"
          ]
        },
        {
          "output_type": "stream",
          "name": "stderr",
          "text": [
            "/usr/local/lib/python3.11/dist-packages/torch/optim/lr_scheduler.py:62: UserWarning: The verbose parameter is deprecated. Please use get_last_lr() to access the learning rate.\n",
            "  warnings.warn(\n"
          ]
        },
        {
          "output_type": "stream",
          "name": "stdout",
          "text": [
            "Early stopping at epoch 14 for fold 3\n",
            "--- Fold 4/5 ---\n",
            "Starting training for fold 4...\n"
          ]
        },
        {
          "output_type": "stream",
          "name": "stderr",
          "text": [
            "/usr/local/lib/python3.11/dist-packages/torch/optim/lr_scheduler.py:62: UserWarning: The verbose parameter is deprecated. Please use get_last_lr() to access the learning rate.\n",
            "  warnings.warn(\n"
          ]
        },
        {
          "output_type": "stream",
          "name": "stdout",
          "text": [
            "Early stopping at epoch 13 for fold 4\n",
            "--- Fold 5/5 ---\n",
            "Starting training for fold 5...\n"
          ]
        },
        {
          "output_type": "stream",
          "name": "stderr",
          "text": [
            "/usr/local/lib/python3.11/dist-packages/torch/optim/lr_scheduler.py:62: UserWarning: The verbose parameter is deprecated. Please use get_last_lr() to access the learning rate.\n",
            "  warnings.warn(\n",
            "[I 2025-05-05 13:34:01,620] Trial 30 finished with value: 0.16558446128140306 and parameters: {'lr': 0.00033435692468943056, 'batch_size': 64, 'hidden_dim': 130, 'dropout': 0.35280987830108296, 'weight_decay': 0.00016839360873528126}. Best is trial 25 with value: 0.16312124782048065.\n"
          ]
        },
        {
          "output_type": "stream",
          "name": "stdout",
          "text": [
            "Trial 30 Results (averaged over folds): {'Ctd': 0.6509718133874559, 'AUC': 0.6583522685282672, 'IBS': 0.16558446128140306, 'Avg_ECE_over_times': 0.20805835088390429, 'Avg_Brier_over_times': 0.1571610484801928}\n",
            "\n",
            "Trial 31 with parameters: {'lr': 0.00012790064711211744, 'batch_size': 32, 'hidden_dim': 80, 'dropout': 0.41353588876483194, 'weight_decay': 2.015096693481999e-05, 'epochs': 50, 'n_splits': 5}\n",
            "--- Fold 1/5 ---\n",
            "Starting training for fold 1...\n"
          ]
        },
        {
          "output_type": "stream",
          "name": "stderr",
          "text": [
            "/usr/local/lib/python3.11/dist-packages/torch/optim/lr_scheduler.py:62: UserWarning: The verbose parameter is deprecated. Please use get_last_lr() to access the learning rate.\n",
            "  warnings.warn(\n"
          ]
        },
        {
          "output_type": "stream",
          "name": "stdout",
          "text": [
            "Early stopping at epoch 20 for fold 1\n",
            "--- Fold 2/5 ---\n",
            "Starting training for fold 2...\n"
          ]
        },
        {
          "output_type": "stream",
          "name": "stderr",
          "text": [
            "/usr/local/lib/python3.11/dist-packages/torch/optim/lr_scheduler.py:62: UserWarning: The verbose parameter is deprecated. Please use get_last_lr() to access the learning rate.\n",
            "  warnings.warn(\n"
          ]
        },
        {
          "output_type": "stream",
          "name": "stdout",
          "text": [
            "Early stopping at epoch 34 for fold 2\n",
            "--- Fold 3/5 ---\n",
            "Starting training for fold 3...\n"
          ]
        },
        {
          "output_type": "stream",
          "name": "stderr",
          "text": [
            "/usr/local/lib/python3.11/dist-packages/torch/optim/lr_scheduler.py:62: UserWarning: The verbose parameter is deprecated. Please use get_last_lr() to access the learning rate.\n",
            "  warnings.warn(\n"
          ]
        },
        {
          "output_type": "stream",
          "name": "stdout",
          "text": [
            "Early stopping at epoch 47 for fold 3\n",
            "--- Fold 4/5 ---\n",
            "Starting training for fold 4...\n"
          ]
        },
        {
          "output_type": "stream",
          "name": "stderr",
          "text": [
            "/usr/local/lib/python3.11/dist-packages/torch/optim/lr_scheduler.py:62: UserWarning: The verbose parameter is deprecated. Please use get_last_lr() to access the learning rate.\n",
            "  warnings.warn(\n"
          ]
        },
        {
          "output_type": "stream",
          "name": "stdout",
          "text": [
            "Early stopping at epoch 21 for fold 4\n",
            "--- Fold 5/5 ---\n",
            "Starting training for fold 5...\n"
          ]
        },
        {
          "output_type": "stream",
          "name": "stderr",
          "text": [
            "/usr/local/lib/python3.11/dist-packages/torch/optim/lr_scheduler.py:62: UserWarning: The verbose parameter is deprecated. Please use get_last_lr() to access the learning rate.\n",
            "  warnings.warn(\n",
            "[I 2025-05-05 13:34:13,800] Trial 31 finished with value: 0.1636675110798908 and parameters: {'lr': 0.00012790064711211744, 'batch_size': 32, 'hidden_dim': 80, 'dropout': 0.41353588876483194, 'weight_decay': 2.015096693481999e-05}. Best is trial 25 with value: 0.16312124782048065.\n"
          ]
        },
        {
          "output_type": "stream",
          "name": "stdout",
          "text": [
            "Early stopping at epoch 34 for fold 5\n",
            "Trial 31 Results (averaged over folds): {'Ctd': 0.6662340360091006, 'AUC': 0.669887186380722, 'IBS': 0.1636675110798908, 'Avg_ECE_over_times': 0.20868964946151447, 'Avg_Brier_over_times': 0.15522896842376985}\n",
            "\n",
            "Trial 32 with parameters: {'lr': 0.00015636186528044017, 'batch_size': 32, 'hidden_dim': 106, 'dropout': 0.32427545483817743, 'weight_decay': 1.4580176722004753e-05, 'epochs': 50, 'n_splits': 5}\n",
            "--- Fold 1/5 ---\n",
            "Starting training for fold 1...\n"
          ]
        },
        {
          "output_type": "stream",
          "name": "stderr",
          "text": [
            "/usr/local/lib/python3.11/dist-packages/torch/optim/lr_scheduler.py:62: UserWarning: The verbose parameter is deprecated. Please use get_last_lr() to access the learning rate.\n",
            "  warnings.warn(\n"
          ]
        },
        {
          "output_type": "stream",
          "name": "stdout",
          "text": [
            "Early stopping at epoch 17 for fold 1\n",
            "--- Fold 2/5 ---\n",
            "Starting training for fold 2...\n"
          ]
        },
        {
          "output_type": "stream",
          "name": "stderr",
          "text": [
            "/usr/local/lib/python3.11/dist-packages/torch/optim/lr_scheduler.py:62: UserWarning: The verbose parameter is deprecated. Please use get_last_lr() to access the learning rate.\n",
            "  warnings.warn(\n"
          ]
        },
        {
          "output_type": "stream",
          "name": "stdout",
          "text": [
            "Early stopping at epoch 17 for fold 2\n",
            "--- Fold 3/5 ---\n",
            "Starting training for fold 3...\n"
          ]
        },
        {
          "output_type": "stream",
          "name": "stderr",
          "text": [
            "/usr/local/lib/python3.11/dist-packages/torch/optim/lr_scheduler.py:62: UserWarning: The verbose parameter is deprecated. Please use get_last_lr() to access the learning rate.\n",
            "  warnings.warn(\n"
          ]
        },
        {
          "output_type": "stream",
          "name": "stdout",
          "text": [
            "Early stopping at epoch 31 for fold 3\n",
            "--- Fold 4/5 ---\n",
            "Starting training for fold 4...\n"
          ]
        },
        {
          "output_type": "stream",
          "name": "stderr",
          "text": [
            "/usr/local/lib/python3.11/dist-packages/torch/optim/lr_scheduler.py:62: UserWarning: The verbose parameter is deprecated. Please use get_last_lr() to access the learning rate.\n",
            "  warnings.warn(\n"
          ]
        },
        {
          "output_type": "stream",
          "name": "stdout",
          "text": [
            "Early stopping at epoch 16 for fold 4\n",
            "--- Fold 5/5 ---\n",
            "Starting training for fold 5...\n"
          ]
        },
        {
          "output_type": "stream",
          "name": "stderr",
          "text": [
            "/usr/local/lib/python3.11/dist-packages/torch/optim/lr_scheduler.py:62: UserWarning: The verbose parameter is deprecated. Please use get_last_lr() to access the learning rate.\n",
            "  warnings.warn(\n",
            "[I 2025-05-05 13:34:21,926] Trial 32 finished with value: 0.16534374283961986 and parameters: {'lr': 0.00015636186528044017, 'batch_size': 32, 'hidden_dim': 106, 'dropout': 0.32427545483817743, 'weight_decay': 1.4580176722004753e-05}. Best is trial 25 with value: 0.16312124782048065.\n"
          ]
        },
        {
          "output_type": "stream",
          "name": "stdout",
          "text": [
            "Early stopping at epoch 22 for fold 5\n",
            "Trial 32 Results (averaged over folds): {'Ctd': 0.6515140124166239, 'AUC': 0.655384353392899, 'IBS': 0.16534374283961986, 'Avg_ECE_over_times': 0.20841659909812757, 'Avg_Brier_over_times': 0.15702865737433652}\n",
            "\n",
            "Trial 33 with parameters: {'lr': 0.0002453065989646123, 'batch_size': 64, 'hidden_dim': 93, 'dropout': 0.2959367927215005, 'weight_decay': 3.1475040634916526e-05, 'epochs': 50, 'n_splits': 5}\n",
            "--- Fold 1/5 ---\n",
            "Starting training for fold 1...\n"
          ]
        },
        {
          "output_type": "stream",
          "name": "stderr",
          "text": [
            "/usr/local/lib/python3.11/dist-packages/torch/optim/lr_scheduler.py:62: UserWarning: The verbose parameter is deprecated. Please use get_last_lr() to access the learning rate.\n",
            "  warnings.warn(\n"
          ]
        },
        {
          "output_type": "stream",
          "name": "stdout",
          "text": [
            "Early stopping at epoch 19 for fold 1\n",
            "--- Fold 2/5 ---\n",
            "Starting training for fold 2...\n"
          ]
        },
        {
          "output_type": "stream",
          "name": "stderr",
          "text": [
            "/usr/local/lib/python3.11/dist-packages/torch/optim/lr_scheduler.py:62: UserWarning: The verbose parameter is deprecated. Please use get_last_lr() to access the learning rate.\n",
            "  warnings.warn(\n"
          ]
        },
        {
          "output_type": "stream",
          "name": "stdout",
          "text": [
            "Early stopping at epoch 27 for fold 2\n",
            "--- Fold 3/5 ---\n",
            "Starting training for fold 3...\n"
          ]
        },
        {
          "output_type": "stream",
          "name": "stderr",
          "text": [
            "/usr/local/lib/python3.11/dist-packages/torch/optim/lr_scheduler.py:62: UserWarning: The verbose parameter is deprecated. Please use get_last_lr() to access the learning rate.\n",
            "  warnings.warn(\n"
          ]
        },
        {
          "output_type": "stream",
          "name": "stdout",
          "text": [
            "Early stopping at epoch 21 for fold 3\n",
            "--- Fold 4/5 ---\n",
            "Starting training for fold 4...\n"
          ]
        },
        {
          "output_type": "stream",
          "name": "stderr",
          "text": [
            "/usr/local/lib/python3.11/dist-packages/torch/optim/lr_scheduler.py:62: UserWarning: The verbose parameter is deprecated. Please use get_last_lr() to access the learning rate.\n",
            "  warnings.warn(\n"
          ]
        },
        {
          "output_type": "stream",
          "name": "stdout",
          "text": [
            "Early stopping at epoch 14 for fold 4\n",
            "--- Fold 5/5 ---\n",
            "Starting training for fold 5...\n"
          ]
        },
        {
          "output_type": "stream",
          "name": "stderr",
          "text": [
            "/usr/local/lib/python3.11/dist-packages/torch/optim/lr_scheduler.py:62: UserWarning: The verbose parameter is deprecated. Please use get_last_lr() to access the learning rate.\n",
            "  warnings.warn(\n",
            "[I 2025-05-05 13:34:27,924] Trial 33 finished with value: 0.1643900368263267 and parameters: {'lr': 0.0002453065989646123, 'batch_size': 64, 'hidden_dim': 93, 'dropout': 0.2959367927215005, 'weight_decay': 3.1475040634916526e-05}. Best is trial 25 with value: 0.16312124782048065.\n"
          ]
        },
        {
          "output_type": "stream",
          "name": "stdout",
          "text": [
            "Early stopping at epoch 49 for fold 5\n",
            "Trial 33 Results (averaged over folds): {'Ctd': 0.6571214556021638, 'AUC': 0.6653319380739193, 'IBS': 0.1643900368263267, 'Avg_ECE_over_times': 0.20768346341790078, 'Avg_Brier_over_times': 0.15588855139770388}\n",
            "\n",
            "Trial 34 with parameters: {'lr': 0.0001012056771464502, 'batch_size': 32, 'hidden_dim': 159, 'dropout': 0.2611487043108138, 'weight_decay': 5.5567056268840544e-05, 'epochs': 50, 'n_splits': 5}\n",
            "--- Fold 1/5 ---\n",
            "Starting training for fold 1...\n"
          ]
        },
        {
          "output_type": "stream",
          "name": "stderr",
          "text": [
            "/usr/local/lib/python3.11/dist-packages/torch/optim/lr_scheduler.py:62: UserWarning: The verbose parameter is deprecated. Please use get_last_lr() to access the learning rate.\n",
            "  warnings.warn(\n"
          ]
        },
        {
          "output_type": "stream",
          "name": "stdout",
          "text": [
            "Early stopping at epoch 14 for fold 1\n",
            "--- Fold 2/5 ---\n",
            "Starting training for fold 2...\n"
          ]
        },
        {
          "output_type": "stream",
          "name": "stderr",
          "text": [
            "/usr/local/lib/python3.11/dist-packages/torch/optim/lr_scheduler.py:62: UserWarning: The verbose parameter is deprecated. Please use get_last_lr() to access the learning rate.\n",
            "  warnings.warn(\n"
          ]
        },
        {
          "output_type": "stream",
          "name": "stdout",
          "text": [
            "Early stopping at epoch 20 for fold 2\n",
            "--- Fold 3/5 ---\n",
            "Starting training for fold 3...\n"
          ]
        },
        {
          "output_type": "stream",
          "name": "stderr",
          "text": [
            "/usr/local/lib/python3.11/dist-packages/torch/optim/lr_scheduler.py:62: UserWarning: The verbose parameter is deprecated. Please use get_last_lr() to access the learning rate.\n",
            "  warnings.warn(\n"
          ]
        },
        {
          "output_type": "stream",
          "name": "stdout",
          "text": [
            "Early stopping at epoch 15 for fold 3\n",
            "--- Fold 4/5 ---\n",
            "Starting training for fold 4...\n"
          ]
        },
        {
          "output_type": "stream",
          "name": "stderr",
          "text": [
            "/usr/local/lib/python3.11/dist-packages/torch/optim/lr_scheduler.py:62: UserWarning: The verbose parameter is deprecated. Please use get_last_lr() to access the learning rate.\n",
            "  warnings.warn(\n"
          ]
        },
        {
          "output_type": "stream",
          "name": "stdout",
          "text": [
            "Early stopping at epoch 14 for fold 4\n",
            "--- Fold 5/5 ---\n",
            "Starting training for fold 5...\n"
          ]
        },
        {
          "output_type": "stream",
          "name": "stderr",
          "text": [
            "/usr/local/lib/python3.11/dist-packages/torch/optim/lr_scheduler.py:62: UserWarning: The verbose parameter is deprecated. Please use get_last_lr() to access the learning rate.\n",
            "  warnings.warn(\n",
            "[I 2025-05-05 13:34:35,032] Trial 34 finished with value: 0.16506226032545587 and parameters: {'lr': 0.0001012056771464502, 'batch_size': 32, 'hidden_dim': 159, 'dropout': 0.2611487043108138, 'weight_decay': 5.5567056268840544e-05}. Best is trial 25 with value: 0.16312124782048065.\n"
          ]
        },
        {
          "output_type": "stream",
          "name": "stdout",
          "text": [
            "Early stopping at epoch 31 for fold 5\n",
            "Trial 34 Results (averaged over folds): {'Ctd': 0.6530790607224068, 'AUC': 0.6598823010220879, 'IBS': 0.16506226032545587, 'Avg_ECE_over_times': 0.2087637468851613, 'Avg_Brier_over_times': 0.15687447613790081}\n",
            "\n",
            "Trial 35 with parameters: {'lr': 0.001232091725423518, 'batch_size': 128, 'hidden_dim': 80, 'dropout': 0.22395572438988776, 'weight_decay': 7.554502369520786e-05, 'epochs': 50, 'n_splits': 5}\n",
            "--- Fold 1/5 ---\n",
            "Starting training for fold 1...\n"
          ]
        },
        {
          "output_type": "stream",
          "name": "stderr",
          "text": [
            "/usr/local/lib/python3.11/dist-packages/torch/optim/lr_scheduler.py:62: UserWarning: The verbose parameter is deprecated. Please use get_last_lr() to access the learning rate.\n",
            "  warnings.warn(\n"
          ]
        },
        {
          "output_type": "stream",
          "name": "stdout",
          "text": [
            "Early stopping at epoch 20 for fold 1\n",
            "--- Fold 2/5 ---\n",
            "Starting training for fold 2...\n"
          ]
        },
        {
          "output_type": "stream",
          "name": "stderr",
          "text": [
            "/usr/local/lib/python3.11/dist-packages/torch/optim/lr_scheduler.py:62: UserWarning: The verbose parameter is deprecated. Please use get_last_lr() to access the learning rate.\n",
            "  warnings.warn(\n"
          ]
        },
        {
          "output_type": "stream",
          "name": "stdout",
          "text": [
            "Early stopping at epoch 22 for fold 2\n",
            "--- Fold 3/5 ---\n",
            "Starting training for fold 3...\n"
          ]
        },
        {
          "output_type": "stream",
          "name": "stderr",
          "text": [
            "/usr/local/lib/python3.11/dist-packages/torch/optim/lr_scheduler.py:62: UserWarning: The verbose parameter is deprecated. Please use get_last_lr() to access the learning rate.\n",
            "  warnings.warn(\n"
          ]
        },
        {
          "output_type": "stream",
          "name": "stdout",
          "text": [
            "Early stopping at epoch 11 for fold 3\n",
            "--- Fold 4/5 ---\n",
            "Starting training for fold 4...\n"
          ]
        },
        {
          "output_type": "stream",
          "name": "stderr",
          "text": [
            "/usr/local/lib/python3.11/dist-packages/torch/optim/lr_scheduler.py:62: UserWarning: The verbose parameter is deprecated. Please use get_last_lr() to access the learning rate.\n",
            "  warnings.warn(\n"
          ]
        },
        {
          "output_type": "stream",
          "name": "stdout",
          "text": [
            "Early stopping at epoch 11 for fold 4\n",
            "--- Fold 5/5 ---\n",
            "Starting training for fold 5...\n"
          ]
        },
        {
          "output_type": "stream",
          "name": "stderr",
          "text": [
            "/usr/local/lib/python3.11/dist-packages/torch/optim/lr_scheduler.py:62: UserWarning: The verbose parameter is deprecated. Please use get_last_lr() to access the learning rate.\n",
            "  warnings.warn(\n",
            "[I 2025-05-05 13:34:38,642] Trial 35 finished with value: 0.16610771853275902 and parameters: {'lr': 0.001232091725423518, 'batch_size': 128, 'hidden_dim': 80, 'dropout': 0.22395572438988776, 'weight_decay': 7.554502369520786e-05}. Best is trial 25 with value: 0.16312124782048065.\n"
          ]
        },
        {
          "output_type": "stream",
          "name": "stdout",
          "text": [
            "Trial 35 Results (averaged over folds): {'Ctd': 0.6525728232520145, 'AUC': 0.6610788708125641, 'IBS': 0.16610771853275902, 'Avg_ECE_over_times': 0.21629115701737694, 'Avg_Brier_over_times': 0.15784938884588384}\n",
            "\n",
            "Trial 36 with parameters: {'lr': 0.00022153456527535808, 'batch_size': 32, 'hidden_dim': 122, 'dropout': 0.316363939677188, 'weight_decay': 1.2998163517241031e-05, 'epochs': 50, 'n_splits': 5}\n",
            "--- Fold 1/5 ---\n",
            "Starting training for fold 1...\n"
          ]
        },
        {
          "output_type": "stream",
          "name": "stderr",
          "text": [
            "/usr/local/lib/python3.11/dist-packages/torch/optim/lr_scheduler.py:62: UserWarning: The verbose parameter is deprecated. Please use get_last_lr() to access the learning rate.\n",
            "  warnings.warn(\n"
          ]
        },
        {
          "output_type": "stream",
          "name": "stdout",
          "text": [
            "Early stopping at epoch 15 for fold 1\n",
            "--- Fold 2/5 ---\n",
            "Starting training for fold 2...\n"
          ]
        },
        {
          "output_type": "stream",
          "name": "stderr",
          "text": [
            "/usr/local/lib/python3.11/dist-packages/torch/optim/lr_scheduler.py:62: UserWarning: The verbose parameter is deprecated. Please use get_last_lr() to access the learning rate.\n",
            "  warnings.warn(\n"
          ]
        },
        {
          "output_type": "stream",
          "name": "stdout",
          "text": [
            "Early stopping at epoch 17 for fold 2\n",
            "--- Fold 3/5 ---\n",
            "Starting training for fold 3...\n"
          ]
        },
        {
          "output_type": "stream",
          "name": "stderr",
          "text": [
            "/usr/local/lib/python3.11/dist-packages/torch/optim/lr_scheduler.py:62: UserWarning: The verbose parameter is deprecated. Please use get_last_lr() to access the learning rate.\n",
            "  warnings.warn(\n"
          ]
        },
        {
          "output_type": "stream",
          "name": "stdout",
          "text": [
            "Early stopping at epoch 14 for fold 3\n",
            "--- Fold 4/5 ---\n",
            "Starting training for fold 4...\n"
          ]
        },
        {
          "output_type": "stream",
          "name": "stderr",
          "text": [
            "/usr/local/lib/python3.11/dist-packages/torch/optim/lr_scheduler.py:62: UserWarning: The verbose parameter is deprecated. Please use get_last_lr() to access the learning rate.\n",
            "  warnings.warn(\n"
          ]
        },
        {
          "output_type": "stream",
          "name": "stdout",
          "text": [
            "Early stopping at epoch 13 for fold 4\n",
            "--- Fold 5/5 ---\n",
            "Starting training for fold 5...\n"
          ]
        },
        {
          "output_type": "stream",
          "name": "stderr",
          "text": [
            "/usr/local/lib/python3.11/dist-packages/torch/optim/lr_scheduler.py:62: UserWarning: The verbose parameter is deprecated. Please use get_last_lr() to access the learning rate.\n",
            "  warnings.warn(\n",
            "[I 2025-05-05 13:34:47,148] Trial 36 finished with value: 0.16578260247843996 and parameters: {'lr': 0.00022153456527535808, 'batch_size': 32, 'hidden_dim': 122, 'dropout': 0.316363939677188, 'weight_decay': 1.2998163517241031e-05}. Best is trial 25 with value: 0.16312124782048065.\n"
          ]
        },
        {
          "output_type": "stream",
          "name": "stdout",
          "text": [
            "Trial 36 Results (averaged over folds): {'Ctd': 0.6518918001357527, 'AUC': 0.6606278403105195, 'IBS': 0.16578260247843996, 'Avg_ECE_over_times': 0.2121915760795264, 'Avg_Brier_over_times': 0.15740743262444198}\n",
            "\n",
            "Trial 37 with parameters: {'lr': 0.00012612565540300838, 'batch_size': 64, 'hidden_dim': 213, 'dropout': 0.36374627933911385, 'weight_decay': 1.9096549955672963e-05, 'epochs': 50, 'n_splits': 5}\n",
            "--- Fold 1/5 ---\n",
            "Starting training for fold 1...\n"
          ]
        },
        {
          "output_type": "stream",
          "name": "stderr",
          "text": [
            "/usr/local/lib/python3.11/dist-packages/torch/optim/lr_scheduler.py:62: UserWarning: The verbose parameter is deprecated. Please use get_last_lr() to access the learning rate.\n",
            "  warnings.warn(\n"
          ]
        },
        {
          "output_type": "stream",
          "name": "stdout",
          "text": [
            "Early stopping at epoch 17 for fold 1\n",
            "--- Fold 2/5 ---\n",
            "Starting training for fold 2...\n"
          ]
        },
        {
          "output_type": "stream",
          "name": "stderr",
          "text": [
            "/usr/local/lib/python3.11/dist-packages/torch/optim/lr_scheduler.py:62: UserWarning: The verbose parameter is deprecated. Please use get_last_lr() to access the learning rate.\n",
            "  warnings.warn(\n"
          ]
        },
        {
          "output_type": "stream",
          "name": "stdout",
          "text": [
            "Early stopping at epoch 17 for fold 2\n",
            "--- Fold 3/5 ---\n",
            "Starting training for fold 3...\n"
          ]
        },
        {
          "output_type": "stream",
          "name": "stderr",
          "text": [
            "/usr/local/lib/python3.11/dist-packages/torch/optim/lr_scheduler.py:62: UserWarning: The verbose parameter is deprecated. Please use get_last_lr() to access the learning rate.\n",
            "  warnings.warn(\n"
          ]
        },
        {
          "output_type": "stream",
          "name": "stdout",
          "text": [
            "Early stopping at epoch 17 for fold 3\n",
            "--- Fold 4/5 ---\n",
            "Starting training for fold 4...\n"
          ]
        },
        {
          "output_type": "stream",
          "name": "stderr",
          "text": [
            "/usr/local/lib/python3.11/dist-packages/torch/optim/lr_scheduler.py:62: UserWarning: The verbose parameter is deprecated. Please use get_last_lr() to access the learning rate.\n",
            "  warnings.warn(\n"
          ]
        },
        {
          "output_type": "stream",
          "name": "stdout",
          "text": [
            "Early stopping at epoch 12 for fold 4\n",
            "--- Fold 5/5 ---\n",
            "Starting training for fold 5...\n"
          ]
        },
        {
          "output_type": "stream",
          "name": "stderr",
          "text": [
            "/usr/local/lib/python3.11/dist-packages/torch/optim/lr_scheduler.py:62: UserWarning: The verbose parameter is deprecated. Please use get_last_lr() to access the learning rate.\n",
            "  warnings.warn(\n",
            "[I 2025-05-05 13:34:52,527] Trial 37 finished with value: 0.16401634744841947 and parameters: {'lr': 0.00012612565540300838, 'batch_size': 64, 'hidden_dim': 213, 'dropout': 0.36374627933911385, 'weight_decay': 1.9096549955672963e-05}. Best is trial 25 with value: 0.16312124782048065.\n"
          ]
        },
        {
          "output_type": "stream",
          "name": "stdout",
          "text": [
            "Trial 37 Results (averaged over folds): {'Ctd': 0.6576219749134007, 'AUC': 0.6676079645596183, 'IBS': 0.16401634744841947, 'Avg_ECE_over_times': 0.20698303831078557, 'Avg_Brier_over_times': 0.15555708609437113}\n",
            "\n",
            "Trial 38 with parameters: {'lr': 0.00017438650733974967, 'batch_size': 32, 'hidden_dim': 110, 'dropout': 0.33608898259217396, 'weight_decay': 2.9062831146670196e-05, 'epochs': 50, 'n_splits': 5}\n",
            "--- Fold 1/5 ---\n",
            "Starting training for fold 1...\n"
          ]
        },
        {
          "output_type": "stream",
          "name": "stderr",
          "text": [
            "/usr/local/lib/python3.11/dist-packages/torch/optim/lr_scheduler.py:62: UserWarning: The verbose parameter is deprecated. Please use get_last_lr() to access the learning rate.\n",
            "  warnings.warn(\n"
          ]
        },
        {
          "output_type": "stream",
          "name": "stdout",
          "text": [
            "Early stopping at epoch 17 for fold 1\n",
            "--- Fold 2/5 ---\n",
            "Starting training for fold 2...\n"
          ]
        },
        {
          "output_type": "stream",
          "name": "stderr",
          "text": [
            "/usr/local/lib/python3.11/dist-packages/torch/optim/lr_scheduler.py:62: UserWarning: The verbose parameter is deprecated. Please use get_last_lr() to access the learning rate.\n",
            "  warnings.warn(\n"
          ]
        },
        {
          "output_type": "stream",
          "name": "stdout",
          "text": [
            "Early stopping at epoch 32 for fold 2\n",
            "--- Fold 3/5 ---\n",
            "Starting training for fold 3...\n"
          ]
        },
        {
          "output_type": "stream",
          "name": "stderr",
          "text": [
            "/usr/local/lib/python3.11/dist-packages/torch/optim/lr_scheduler.py:62: UserWarning: The verbose parameter is deprecated. Please use get_last_lr() to access the learning rate.\n",
            "  warnings.warn(\n"
          ]
        },
        {
          "output_type": "stream",
          "name": "stdout",
          "text": [
            "Early stopping at epoch 34 for fold 3\n",
            "--- Fold 4/5 ---\n",
            "Starting training for fold 4...\n"
          ]
        },
        {
          "output_type": "stream",
          "name": "stderr",
          "text": [
            "/usr/local/lib/python3.11/dist-packages/torch/optim/lr_scheduler.py:62: UserWarning: The verbose parameter is deprecated. Please use get_last_lr() to access the learning rate.\n",
            "  warnings.warn(\n"
          ]
        },
        {
          "output_type": "stream",
          "name": "stdout",
          "text": [
            "Early stopping at epoch 14 for fold 4\n",
            "--- Fold 5/5 ---\n",
            "Starting training for fold 5...\n"
          ]
        },
        {
          "output_type": "stream",
          "name": "stderr",
          "text": [
            "/usr/local/lib/python3.11/dist-packages/torch/optim/lr_scheduler.py:62: UserWarning: The verbose parameter is deprecated. Please use get_last_lr() to access the learning rate.\n",
            "  warnings.warn(\n",
            "[I 2025-05-05 13:35:01,694] Trial 38 finished with value: 0.16289076485324372 and parameters: {'lr': 0.00017438650733974967, 'batch_size': 32, 'hidden_dim': 110, 'dropout': 0.33608898259217396, 'weight_decay': 2.9062831146670196e-05}. Best is trial 38 with value: 0.16289076485324372.\n"
          ]
        },
        {
          "output_type": "stream",
          "name": "stdout",
          "text": [
            "Early stopping at epoch 25 for fold 5\n",
            "Trial 38 Results (averaged over folds): {'Ctd': 0.6656057605815006, 'AUC': 0.6775507013108091, 'IBS': 0.16289076485324372, 'Avg_ECE_over_times': 0.20735713619836157, 'Avg_Brier_over_times': 0.15451498570853145}\n",
            "\n",
            "Trial 39 with parameters: {'lr': 0.0004940376855403017, 'batch_size': 64, 'hidden_dim': 149, 'dropout': 0.3446494272617804, 'weight_decay': 3.156819343482188e-05, 'epochs': 50, 'n_splits': 5}\n",
            "--- Fold 1/5 ---\n",
            "Starting training for fold 1...\n"
          ]
        },
        {
          "output_type": "stream",
          "name": "stderr",
          "text": [
            "/usr/local/lib/python3.11/dist-packages/torch/optim/lr_scheduler.py:62: UserWarning: The verbose parameter is deprecated. Please use get_last_lr() to access the learning rate.\n",
            "  warnings.warn(\n"
          ]
        },
        {
          "output_type": "stream",
          "name": "stdout",
          "text": [
            "Early stopping at epoch 12 for fold 1\n",
            "--- Fold 2/5 ---\n",
            "Starting training for fold 2...\n"
          ]
        },
        {
          "output_type": "stream",
          "name": "stderr",
          "text": [
            "/usr/local/lib/python3.11/dist-packages/torch/optim/lr_scheduler.py:62: UserWarning: The verbose parameter is deprecated. Please use get_last_lr() to access the learning rate.\n",
            "  warnings.warn(\n"
          ]
        },
        {
          "output_type": "stream",
          "name": "stdout",
          "text": [
            "Early stopping at epoch 16 for fold 2\n",
            "--- Fold 3/5 ---\n",
            "Starting training for fold 3...\n"
          ]
        },
        {
          "output_type": "stream",
          "name": "stderr",
          "text": [
            "/usr/local/lib/python3.11/dist-packages/torch/optim/lr_scheduler.py:62: UserWarning: The verbose parameter is deprecated. Please use get_last_lr() to access the learning rate.\n",
            "  warnings.warn(\n"
          ]
        },
        {
          "output_type": "stream",
          "name": "stdout",
          "text": [
            "Early stopping at epoch 12 for fold 3\n",
            "--- Fold 4/5 ---\n",
            "Starting training for fold 4...\n"
          ]
        },
        {
          "output_type": "stream",
          "name": "stderr",
          "text": [
            "/usr/local/lib/python3.11/dist-packages/torch/optim/lr_scheduler.py:62: UserWarning: The verbose parameter is deprecated. Please use get_last_lr() to access the learning rate.\n",
            "  warnings.warn(\n"
          ]
        },
        {
          "output_type": "stream",
          "name": "stdout",
          "text": [
            "Early stopping at epoch 12 for fold 4\n",
            "--- Fold 5/5 ---\n",
            "Starting training for fold 5...\n"
          ]
        },
        {
          "output_type": "stream",
          "name": "stderr",
          "text": [
            "/usr/local/lib/python3.11/dist-packages/torch/optim/lr_scheduler.py:62: UserWarning: The verbose parameter is deprecated. Please use get_last_lr() to access the learning rate.\n",
            "  warnings.warn(\n",
            "[I 2025-05-05 13:35:06,294] Trial 39 finished with value: 0.16520463207284425 and parameters: {'lr': 0.0004940376855403017, 'batch_size': 64, 'hidden_dim': 149, 'dropout': 0.3446494272617804, 'weight_decay': 3.156819343482188e-05}. Best is trial 38 with value: 0.16289076485324372.\n"
          ]
        },
        {
          "output_type": "stream",
          "name": "stdout",
          "text": [
            "Early stopping at epoch 39 for fold 5\n",
            "Trial 39 Results (averaged over folds): {'Ctd': 0.6526782847750363, 'AUC': 0.6668234559070806, 'IBS': 0.16520463207284425, 'Avg_ECE_over_times': 0.2113672710016845, 'Avg_Brier_over_times': 0.15670011429982816}\n",
            "\n",
            "Trial 40 with parameters: {'lr': 0.00026390908859035244, 'batch_size': 32, 'hidden_dim': 175, 'dropout': 0.34055147660089874, 'weight_decay': 4.373002899996896e-05, 'epochs': 50, 'n_splits': 5}\n",
            "--- Fold 1/5 ---\n",
            "Starting training for fold 1...\n"
          ]
        },
        {
          "output_type": "stream",
          "name": "stderr",
          "text": [
            "/usr/local/lib/python3.11/dist-packages/torch/optim/lr_scheduler.py:62: UserWarning: The verbose parameter is deprecated. Please use get_last_lr() to access the learning rate.\n",
            "  warnings.warn(\n"
          ]
        },
        {
          "output_type": "stream",
          "name": "stdout",
          "text": [
            "Early stopping at epoch 12 for fold 1\n",
            "--- Fold 2/5 ---\n",
            "Starting training for fold 2...\n"
          ]
        },
        {
          "output_type": "stream",
          "name": "stderr",
          "text": [
            "/usr/local/lib/python3.11/dist-packages/torch/optim/lr_scheduler.py:62: UserWarning: The verbose parameter is deprecated. Please use get_last_lr() to access the learning rate.\n",
            "  warnings.warn(\n"
          ]
        },
        {
          "output_type": "stream",
          "name": "stdout",
          "text": [
            "Early stopping at epoch 13 for fold 2\n",
            "--- Fold 3/5 ---\n",
            "Starting training for fold 3...\n"
          ]
        },
        {
          "output_type": "stream",
          "name": "stderr",
          "text": [
            "/usr/local/lib/python3.11/dist-packages/torch/optim/lr_scheduler.py:62: UserWarning: The verbose parameter is deprecated. Please use get_last_lr() to access the learning rate.\n",
            "  warnings.warn(\n"
          ]
        },
        {
          "output_type": "stream",
          "name": "stdout",
          "text": [
            "Early stopping at epoch 15 for fold 3\n",
            "--- Fold 4/5 ---\n",
            "Starting training for fold 4...\n"
          ]
        },
        {
          "output_type": "stream",
          "name": "stderr",
          "text": [
            "/usr/local/lib/python3.11/dist-packages/torch/optim/lr_scheduler.py:62: UserWarning: The verbose parameter is deprecated. Please use get_last_lr() to access the learning rate.\n",
            "  warnings.warn(\n"
          ]
        },
        {
          "output_type": "stream",
          "name": "stdout",
          "text": [
            "Early stopping at epoch 11 for fold 4\n",
            "--- Fold 5/5 ---\n",
            "Starting training for fold 5...\n"
          ]
        },
        {
          "output_type": "stream",
          "name": "stderr",
          "text": [
            "/usr/local/lib/python3.11/dist-packages/torch/optim/lr_scheduler.py:62: UserWarning: The verbose parameter is deprecated. Please use get_last_lr() to access the learning rate.\n",
            "  warnings.warn(\n",
            "[I 2025-05-05 13:35:13,432] Trial 40 finished with value: 0.16529557380257742 and parameters: {'lr': 0.00026390908859035244, 'batch_size': 32, 'hidden_dim': 175, 'dropout': 0.34055147660089874, 'weight_decay': 4.373002899996896e-05}. Best is trial 38 with value: 0.16289076485324372.\n"
          ]
        },
        {
          "output_type": "stream",
          "name": "stdout",
          "text": [
            "Early stopping at epoch 44 for fold 5\n",
            "Trial 40 Results (averaged over folds): {'Ctd': 0.6529015698463393, 'AUC': 0.6645309448748205, 'IBS': 0.16529557380257742, 'Avg_ECE_over_times': 0.21178015690154034, 'Avg_Brier_over_times': 0.15674212184877342}\n",
            "\n",
            "Trial 41 with parameters: {'lr': 0.00017595515552702853, 'batch_size': 32, 'hidden_dim': 112, 'dropout': 0.28995366875746964, 'weight_decay': 2.3662533638016637e-05, 'epochs': 50, 'n_splits': 5}\n",
            "--- Fold 1/5 ---\n",
            "Starting training for fold 1...\n"
          ]
        },
        {
          "output_type": "stream",
          "name": "stderr",
          "text": [
            "/usr/local/lib/python3.11/dist-packages/torch/optim/lr_scheduler.py:62: UserWarning: The verbose parameter is deprecated. Please use get_last_lr() to access the learning rate.\n",
            "  warnings.warn(\n"
          ]
        },
        {
          "output_type": "stream",
          "name": "stdout",
          "text": [
            "Early stopping at epoch 20 for fold 1\n",
            "--- Fold 2/5 ---\n",
            "Starting training for fold 2...\n"
          ]
        },
        {
          "output_type": "stream",
          "name": "stderr",
          "text": [
            "/usr/local/lib/python3.11/dist-packages/torch/optim/lr_scheduler.py:62: UserWarning: The verbose parameter is deprecated. Please use get_last_lr() to access the learning rate.\n",
            "  warnings.warn(\n"
          ]
        },
        {
          "output_type": "stream",
          "name": "stdout",
          "text": [
            "Early stopping at epoch 19 for fold 2\n",
            "--- Fold 3/5 ---\n",
            "Starting training for fold 3...\n"
          ]
        },
        {
          "output_type": "stream",
          "name": "stderr",
          "text": [
            "/usr/local/lib/python3.11/dist-packages/torch/optim/lr_scheduler.py:62: UserWarning: The verbose parameter is deprecated. Please use get_last_lr() to access the learning rate.\n",
            "  warnings.warn(\n"
          ]
        },
        {
          "output_type": "stream",
          "name": "stdout",
          "text": [
            "Early stopping at epoch 28 for fold 3\n",
            "--- Fold 4/5 ---\n",
            "Starting training for fold 4...\n"
          ]
        },
        {
          "output_type": "stream",
          "name": "stderr",
          "text": [
            "/usr/local/lib/python3.11/dist-packages/torch/optim/lr_scheduler.py:62: UserWarning: The verbose parameter is deprecated. Please use get_last_lr() to access the learning rate.\n",
            "  warnings.warn(\n"
          ]
        },
        {
          "output_type": "stream",
          "name": "stdout",
          "text": [
            "Early stopping at epoch 15 for fold 4\n",
            "--- Fold 5/5 ---\n",
            "Starting training for fold 5...\n"
          ]
        },
        {
          "output_type": "stream",
          "name": "stderr",
          "text": [
            "/usr/local/lib/python3.11/dist-packages/torch/optim/lr_scheduler.py:62: UserWarning: The verbose parameter is deprecated. Please use get_last_lr() to access the learning rate.\n",
            "  warnings.warn(\n",
            "[I 2025-05-05 13:35:23,742] Trial 41 finished with value: 0.16519137848145943 and parameters: {'lr': 0.00017595515552702853, 'batch_size': 32, 'hidden_dim': 112, 'dropout': 0.28995366875746964, 'weight_decay': 2.3662533638016637e-05}. Best is trial 38 with value: 0.16289076485324372.\n"
          ]
        },
        {
          "output_type": "stream",
          "name": "stdout",
          "text": [
            "Trial 41 Results (averaged over folds): {'Ctd': 0.6571929051704458, 'AUC': 0.6654404575004054, 'IBS': 0.16519137848145943, 'Avg_ECE_over_times': 0.21181360009341638, 'Avg_Brier_over_times': 0.1566791596750337}\n",
            "\n",
            "Trial 42 with parameters: {'lr': 0.00013976093124302847, 'batch_size': 32, 'hidden_dim': 99, 'dropout': 0.3904906475335921, 'weight_decay': 1.7718025055985666e-05, 'epochs': 50, 'n_splits': 5}\n",
            "--- Fold 1/5 ---\n",
            "Starting training for fold 1...\n"
          ]
        },
        {
          "output_type": "stream",
          "name": "stderr",
          "text": [
            "/usr/local/lib/python3.11/dist-packages/torch/optim/lr_scheduler.py:62: UserWarning: The verbose parameter is deprecated. Please use get_last_lr() to access the learning rate.\n",
            "  warnings.warn(\n"
          ]
        },
        {
          "output_type": "stream",
          "name": "stdout",
          "text": [
            "Early stopping at epoch 24 for fold 1\n",
            "--- Fold 2/5 ---\n",
            "Starting training for fold 2...\n"
          ]
        },
        {
          "output_type": "stream",
          "name": "stderr",
          "text": [
            "/usr/local/lib/python3.11/dist-packages/torch/optim/lr_scheduler.py:62: UserWarning: The verbose parameter is deprecated. Please use get_last_lr() to access the learning rate.\n",
            "  warnings.warn(\n"
          ]
        },
        {
          "output_type": "stream",
          "name": "stdout",
          "text": [
            "Early stopping at epoch 21 for fold 2\n",
            "--- Fold 3/5 ---\n",
            "Starting training for fold 3...\n"
          ]
        },
        {
          "output_type": "stream",
          "name": "stderr",
          "text": [
            "/usr/local/lib/python3.11/dist-packages/torch/optim/lr_scheduler.py:62: UserWarning: The verbose parameter is deprecated. Please use get_last_lr() to access the learning rate.\n",
            "  warnings.warn(\n"
          ]
        },
        {
          "output_type": "stream",
          "name": "stdout",
          "text": [
            "Early stopping at epoch 29 for fold 3\n",
            "--- Fold 4/5 ---\n",
            "Starting training for fold 4...\n"
          ]
        },
        {
          "output_type": "stream",
          "name": "stderr",
          "text": [
            "/usr/local/lib/python3.11/dist-packages/torch/optim/lr_scheduler.py:62: UserWarning: The verbose parameter is deprecated. Please use get_last_lr() to access the learning rate.\n",
            "  warnings.warn(\n"
          ]
        },
        {
          "output_type": "stream",
          "name": "stdout",
          "text": [
            "Early stopping at epoch 14 for fold 4\n",
            "--- Fold 5/5 ---\n",
            "Starting training for fold 5...\n"
          ]
        },
        {
          "output_type": "stream",
          "name": "stderr",
          "text": [
            "/usr/local/lib/python3.11/dist-packages/torch/optim/lr_scheduler.py:62: UserWarning: The verbose parameter is deprecated. Please use get_last_lr() to access the learning rate.\n",
            "  warnings.warn(\n",
            "[I 2025-05-05 13:35:33,563] Trial 42 finished with value: 0.16570858137825342 and parameters: {'lr': 0.00013976093124302847, 'batch_size': 32, 'hidden_dim': 99, 'dropout': 0.3904906475335921, 'weight_decay': 1.7718025055985666e-05}. Best is trial 38 with value: 0.16289076485324372.\n"
          ]
        },
        {
          "output_type": "stream",
          "name": "stdout",
          "text": [
            "Early stopping at epoch 37 for fold 5\n",
            "Trial 42 Results (averaged over folds): {'Ctd': 0.6492598380452254, 'AUC': 0.6541384409613014, 'IBS': 0.16570858137825342, 'Avg_ECE_over_times': 0.21159605485000058, 'Avg_Brier_over_times': 0.15715314034497}\n",
            "\n",
            "Trial 43 with parameters: {'lr': 0.00019959828731067457, 'batch_size': 32, 'hidden_dim': 86, 'dropout': 0.44834466921097255, 'weight_decay': 1.5341123518163767e-05, 'epochs': 50, 'n_splits': 5}\n",
            "--- Fold 1/5 ---\n",
            "Starting training for fold 1...\n"
          ]
        },
        {
          "output_type": "stream",
          "name": "stderr",
          "text": [
            "/usr/local/lib/python3.11/dist-packages/torch/optim/lr_scheduler.py:62: UserWarning: The verbose parameter is deprecated. Please use get_last_lr() to access the learning rate.\n",
            "  warnings.warn(\n"
          ]
        },
        {
          "output_type": "stream",
          "name": "stdout",
          "text": [
            "Early stopping at epoch 20 for fold 1\n",
            "--- Fold 2/5 ---\n",
            "Starting training for fold 2...\n"
          ]
        },
        {
          "output_type": "stream",
          "name": "stderr",
          "text": [
            "/usr/local/lib/python3.11/dist-packages/torch/optim/lr_scheduler.py:62: UserWarning: The verbose parameter is deprecated. Please use get_last_lr() to access the learning rate.\n",
            "  warnings.warn(\n"
          ]
        },
        {
          "output_type": "stream",
          "name": "stdout",
          "text": [
            "Early stopping at epoch 37 for fold 2\n",
            "--- Fold 3/5 ---\n",
            "Starting training for fold 3...\n"
          ]
        },
        {
          "output_type": "stream",
          "name": "stderr",
          "text": [
            "/usr/local/lib/python3.11/dist-packages/torch/optim/lr_scheduler.py:62: UserWarning: The verbose parameter is deprecated. Please use get_last_lr() to access the learning rate.\n",
            "  warnings.warn(\n"
          ]
        },
        {
          "output_type": "stream",
          "name": "stdout",
          "text": [
            "Early stopping at epoch 19 for fold 3\n",
            "--- Fold 4/5 ---\n",
            "Starting training for fold 4...\n"
          ]
        },
        {
          "output_type": "stream",
          "name": "stderr",
          "text": [
            "/usr/local/lib/python3.11/dist-packages/torch/optim/lr_scheduler.py:62: UserWarning: The verbose parameter is deprecated. Please use get_last_lr() to access the learning rate.\n",
            "  warnings.warn(\n"
          ]
        },
        {
          "output_type": "stream",
          "name": "stdout",
          "text": [
            "Early stopping at epoch 13 for fold 4\n",
            "--- Fold 5/5 ---\n",
            "Starting training for fold 5...\n"
          ]
        },
        {
          "output_type": "stream",
          "name": "stderr",
          "text": [
            "/usr/local/lib/python3.11/dist-packages/torch/optim/lr_scheduler.py:62: UserWarning: The verbose parameter is deprecated. Please use get_last_lr() to access the learning rate.\n",
            "  warnings.warn(\n",
            "[I 2025-05-05 13:35:42,682] Trial 43 finished with value: 0.16428384818440428 and parameters: {'lr': 0.00019959828731067457, 'batch_size': 32, 'hidden_dim': 86, 'dropout': 0.44834466921097255, 'weight_decay': 1.5341123518163767e-05}. Best is trial 38 with value: 0.16289076485324372.\n"
          ]
        },
        {
          "output_type": "stream",
          "name": "stdout",
          "text": [
            "Early stopping at epoch 27 for fold 5\n",
            "Trial 43 Results (averaged over folds): {'Ctd': 0.6533043636313927, 'AUC': 0.6569534064343306, 'IBS': 0.16428384818440428, 'Avg_ECE_over_times': 0.20804046038935065, 'Avg_Brier_over_times': 0.15568396417995817}\n",
            "\n",
            "Trial 44 with parameters: {'lr': 0.0001212700298405832, 'batch_size': 32, 'hidden_dim': 74, 'dropout': 0.2667499099349192, 'weight_decay': 4.602127619675835e-05, 'epochs': 50, 'n_splits': 5}\n",
            "--- Fold 1/5 ---\n",
            "Starting training for fold 1...\n"
          ]
        },
        {
          "output_type": "stream",
          "name": "stderr",
          "text": [
            "/usr/local/lib/python3.11/dist-packages/torch/optim/lr_scheduler.py:62: UserWarning: The verbose parameter is deprecated. Please use get_last_lr() to access the learning rate.\n",
            "  warnings.warn(\n"
          ]
        },
        {
          "output_type": "stream",
          "name": "stdout",
          "text": [
            "Early stopping at epoch 28 for fold 1\n",
            "--- Fold 2/5 ---\n",
            "Starting training for fold 2...\n"
          ]
        },
        {
          "output_type": "stream",
          "name": "stderr",
          "text": [
            "/usr/local/lib/python3.11/dist-packages/torch/optim/lr_scheduler.py:62: UserWarning: The verbose parameter is deprecated. Please use get_last_lr() to access the learning rate.\n",
            "  warnings.warn(\n"
          ]
        },
        {
          "output_type": "stream",
          "name": "stdout",
          "text": [
            "Early stopping at epoch 28 for fold 2\n",
            "--- Fold 3/5 ---\n",
            "Starting training for fold 3...\n"
          ]
        },
        {
          "output_type": "stream",
          "name": "stderr",
          "text": [
            "/usr/local/lib/python3.11/dist-packages/torch/optim/lr_scheduler.py:62: UserWarning: The verbose parameter is deprecated. Please use get_last_lr() to access the learning rate.\n",
            "  warnings.warn(\n"
          ]
        },
        {
          "output_type": "stream",
          "name": "stdout",
          "text": [
            "--- Fold 4/5 ---\n",
            "Starting training for fold 4...\n"
          ]
        },
        {
          "output_type": "stream",
          "name": "stderr",
          "text": [
            "/usr/local/lib/python3.11/dist-packages/torch/optim/lr_scheduler.py:62: UserWarning: The verbose parameter is deprecated. Please use get_last_lr() to access the learning rate.\n",
            "  warnings.warn(\n"
          ]
        },
        {
          "output_type": "stream",
          "name": "stdout",
          "text": [
            "Early stopping at epoch 17 for fold 4\n",
            "--- Fold 5/5 ---\n",
            "Starting training for fold 5...\n"
          ]
        },
        {
          "output_type": "stream",
          "name": "stderr",
          "text": [
            "/usr/local/lib/python3.11/dist-packages/torch/optim/lr_scheduler.py:62: UserWarning: The verbose parameter is deprecated. Please use get_last_lr() to access the learning rate.\n",
            "  warnings.warn(\n",
            "[I 2025-05-05 13:35:56,030] Trial 44 finished with value: 0.16466197923148088 and parameters: {'lr': 0.0001212700298405832, 'batch_size': 32, 'hidden_dim': 74, 'dropout': 0.2667499099349192, 'weight_decay': 4.602127619675835e-05}. Best is trial 38 with value: 0.16289076485324372.\n"
          ]
        },
        {
          "output_type": "stream",
          "name": "stdout",
          "text": [
            "Trial 44 Results (averaged over folds): {'Ctd': 0.6550810398665039, 'AUC': 0.6618288332744434, 'IBS': 0.16466197923148088, 'Avg_ECE_over_times': 0.20607581137302478, 'Avg_Brier_over_times': 0.1561759096706728}\n",
            "\n",
            "Trial 45 with parameters: {'lr': 0.00017094698239166568, 'batch_size': 128, 'hidden_dim': 134, 'dropout': 0.4973795218134481, 'weight_decay': 8.012544261960108e-05, 'epochs': 50, 'n_splits': 5}\n",
            "--- Fold 1/5 ---\n",
            "Starting training for fold 1...\n"
          ]
        },
        {
          "output_type": "stream",
          "name": "stderr",
          "text": [
            "/usr/local/lib/python3.11/dist-packages/torch/optim/lr_scheduler.py:62: UserWarning: The verbose parameter is deprecated. Please use get_last_lr() to access the learning rate.\n",
            "  warnings.warn(\n"
          ]
        },
        {
          "output_type": "stream",
          "name": "stdout",
          "text": [
            "Early stopping at epoch 17 for fold 1\n",
            "--- Fold 2/5 ---\n",
            "Starting training for fold 2...\n"
          ]
        },
        {
          "output_type": "stream",
          "name": "stderr",
          "text": [
            "/usr/local/lib/python3.11/dist-packages/torch/optim/lr_scheduler.py:62: UserWarning: The verbose parameter is deprecated. Please use get_last_lr() to access the learning rate.\n",
            "  warnings.warn(\n"
          ]
        },
        {
          "output_type": "stream",
          "name": "stdout",
          "text": [
            "Early stopping at epoch 46 for fold 2\n",
            "--- Fold 3/5 ---\n",
            "Starting training for fold 3...\n"
          ]
        },
        {
          "output_type": "stream",
          "name": "stderr",
          "text": [
            "/usr/local/lib/python3.11/dist-packages/torch/optim/lr_scheduler.py:62: UserWarning: The verbose parameter is deprecated. Please use get_last_lr() to access the learning rate.\n",
            "  warnings.warn(\n"
          ]
        },
        {
          "output_type": "stream",
          "name": "stdout",
          "text": [
            "Early stopping at epoch 15 for fold 3\n",
            "--- Fold 4/5 ---\n",
            "Starting training for fold 4...\n"
          ]
        },
        {
          "output_type": "stream",
          "name": "stderr",
          "text": [
            "/usr/local/lib/python3.11/dist-packages/torch/optim/lr_scheduler.py:62: UserWarning: The verbose parameter is deprecated. Please use get_last_lr() to access the learning rate.\n",
            "  warnings.warn(\n"
          ]
        },
        {
          "output_type": "stream",
          "name": "stdout",
          "text": [
            "Early stopping at epoch 15 for fold 4\n",
            "--- Fold 5/5 ---\n",
            "Starting training for fold 5...\n"
          ]
        },
        {
          "output_type": "stream",
          "name": "stderr",
          "text": [
            "/usr/local/lib/python3.11/dist-packages/torch/optim/lr_scheduler.py:62: UserWarning: The verbose parameter is deprecated. Please use get_last_lr() to access the learning rate.\n",
            "  warnings.warn(\n",
            "[I 2025-05-05 13:36:00,118] Trial 45 finished with value: 0.16371962567836848 and parameters: {'lr': 0.00017094698239166568, 'batch_size': 128, 'hidden_dim': 134, 'dropout': 0.4973795218134481, 'weight_decay': 8.012544261960108e-05}. Best is trial 38 with value: 0.16289076485324372.\n"
          ]
        },
        {
          "output_type": "stream",
          "name": "stdout",
          "text": [
            "Trial 45 Results (averaged over folds): {'Ctd': 0.6590616320112344, 'AUC': 0.664971937216075, 'IBS': 0.16371962567836848, 'Avg_ECE_over_times': 0.20579968209561375, 'Avg_Brier_over_times': 0.15498706497134898}\n",
            "\n",
            "Trial 46 with parameters: {'lr': 0.0003578111907219635, 'batch_size': 32, 'hidden_dim': 65, 'dropout': 0.3282410411798226, 'weight_decay': 1.2295971694710473e-05, 'epochs': 50, 'n_splits': 5}\n",
            "--- Fold 1/5 ---\n",
            "Starting training for fold 1...\n"
          ]
        },
        {
          "output_type": "stream",
          "name": "stderr",
          "text": [
            "/usr/local/lib/python3.11/dist-packages/torch/optim/lr_scheduler.py:62: UserWarning: The verbose parameter is deprecated. Please use get_last_lr() to access the learning rate.\n",
            "  warnings.warn(\n"
          ]
        },
        {
          "output_type": "stream",
          "name": "stdout",
          "text": [
            "Early stopping at epoch 14 for fold 1\n",
            "--- Fold 2/5 ---\n",
            "Starting training for fold 2...\n"
          ]
        },
        {
          "output_type": "stream",
          "name": "stderr",
          "text": [
            "/usr/local/lib/python3.11/dist-packages/torch/optim/lr_scheduler.py:62: UserWarning: The verbose parameter is deprecated. Please use get_last_lr() to access the learning rate.\n",
            "  warnings.warn(\n"
          ]
        },
        {
          "output_type": "stream",
          "name": "stdout",
          "text": [
            "Early stopping at epoch 16 for fold 2\n",
            "--- Fold 3/5 ---\n",
            "Starting training for fold 3...\n"
          ]
        },
        {
          "output_type": "stream",
          "name": "stderr",
          "text": [
            "/usr/local/lib/python3.11/dist-packages/torch/optim/lr_scheduler.py:62: UserWarning: The verbose parameter is deprecated. Please use get_last_lr() to access the learning rate.\n",
            "  warnings.warn(\n"
          ]
        },
        {
          "output_type": "stream",
          "name": "stdout",
          "text": [
            "Early stopping at epoch 20 for fold 3\n",
            "--- Fold 4/5 ---\n",
            "Starting training for fold 4...\n"
          ]
        },
        {
          "output_type": "stream",
          "name": "stderr",
          "text": [
            "/usr/local/lib/python3.11/dist-packages/torch/optim/lr_scheduler.py:62: UserWarning: The verbose parameter is deprecated. Please use get_last_lr() to access the learning rate.\n",
            "  warnings.warn(\n"
          ]
        },
        {
          "output_type": "stream",
          "name": "stdout",
          "text": [
            "Early stopping at epoch 15 for fold 4\n",
            "--- Fold 5/5 ---\n",
            "Starting training for fold 5...\n"
          ]
        },
        {
          "output_type": "stream",
          "name": "stderr",
          "text": [
            "/usr/local/lib/python3.11/dist-packages/torch/optim/lr_scheduler.py:62: UserWarning: The verbose parameter is deprecated. Please use get_last_lr() to access the learning rate.\n",
            "  warnings.warn(\n",
            "[I 2025-05-05 13:36:09,000] Trial 46 finished with value: 0.16421837181919505 and parameters: {'lr': 0.0003578111907219635, 'batch_size': 32, 'hidden_dim': 65, 'dropout': 0.3282410411798226, 'weight_decay': 1.2295971694710473e-05}. Best is trial 38 with value: 0.16289076485324372.\n"
          ]
        },
        {
          "output_type": "stream",
          "name": "stdout",
          "text": [
            "Early stopping at epoch 42 for fold 5\n",
            "Trial 46 Results (averaged over folds): {'Ctd': 0.6537207684933879, 'AUC': 0.6661910453523252, 'IBS': 0.16421837181919505, 'Avg_ECE_over_times': 0.20843340651477288, 'Avg_Brier_over_times': 0.15558895188645588}\n",
            "\n",
            "Trial 47 with parameters: {'lr': 0.0002481126031973118, 'batch_size': 32, 'hidden_dim': 106, 'dropout': 0.3646469643625698, 'weight_decay': 0.000909197703084938, 'epochs': 50, 'n_splits': 5}\n",
            "--- Fold 1/5 ---\n",
            "Starting training for fold 1...\n"
          ]
        },
        {
          "output_type": "stream",
          "name": "stderr",
          "text": [
            "/usr/local/lib/python3.11/dist-packages/torch/optim/lr_scheduler.py:62: UserWarning: The verbose parameter is deprecated. Please use get_last_lr() to access the learning rate.\n",
            "  warnings.warn(\n"
          ]
        },
        {
          "output_type": "stream",
          "name": "stdout",
          "text": [
            "Early stopping at epoch 14 for fold 1\n",
            "--- Fold 2/5 ---\n",
            "Starting training for fold 2...\n"
          ]
        },
        {
          "output_type": "stream",
          "name": "stderr",
          "text": [
            "/usr/local/lib/python3.11/dist-packages/torch/optim/lr_scheduler.py:62: UserWarning: The verbose parameter is deprecated. Please use get_last_lr() to access the learning rate.\n",
            "  warnings.warn(\n"
          ]
        },
        {
          "output_type": "stream",
          "name": "stdout",
          "text": [
            "Early stopping at epoch 19 for fold 2\n",
            "--- Fold 3/5 ---\n",
            "Starting training for fold 3...\n"
          ]
        },
        {
          "output_type": "stream",
          "name": "stderr",
          "text": [
            "/usr/local/lib/python3.11/dist-packages/torch/optim/lr_scheduler.py:62: UserWarning: The verbose parameter is deprecated. Please use get_last_lr() to access the learning rate.\n",
            "  warnings.warn(\n"
          ]
        },
        {
          "output_type": "stream",
          "name": "stdout",
          "text": [
            "Early stopping at epoch 17 for fold 3\n",
            "--- Fold 4/5 ---\n",
            "Starting training for fold 4...\n"
          ]
        },
        {
          "output_type": "stream",
          "name": "stderr",
          "text": [
            "/usr/local/lib/python3.11/dist-packages/torch/optim/lr_scheduler.py:62: UserWarning: The verbose parameter is deprecated. Please use get_last_lr() to access the learning rate.\n",
            "  warnings.warn(\n"
          ]
        },
        {
          "output_type": "stream",
          "name": "stdout",
          "text": [
            "Early stopping at epoch 13 for fold 4\n",
            "--- Fold 5/5 ---\n",
            "Starting training for fold 5...\n"
          ]
        },
        {
          "output_type": "stream",
          "name": "stderr",
          "text": [
            "/usr/local/lib/python3.11/dist-packages/torch/optim/lr_scheduler.py:62: UserWarning: The verbose parameter is deprecated. Please use get_last_lr() to access the learning rate.\n",
            "  warnings.warn(\n",
            "[I 2025-05-05 13:36:18,343] Trial 47 finished with value: 0.16392510253852804 and parameters: {'lr': 0.0002481126031973118, 'batch_size': 32, 'hidden_dim': 106, 'dropout': 0.3646469643625698, 'weight_decay': 0.000909197703084938}. Best is trial 38 with value: 0.16289076485324372.\n"
          ]
        },
        {
          "output_type": "stream",
          "name": "stdout",
          "text": [
            "Trial 47 Results (averaged over folds): {'Ctd': 0.6541280870939435, 'AUC': 0.6708932024270103, 'IBS': 0.16392510253852804, 'Avg_ECE_over_times': 0.20762909168731997, 'Avg_Brier_over_times': 0.1554519529085032}\n",
            "\n",
            "Trial 48 with parameters: {'lr': 0.00011548615718137959, 'batch_size': 32, 'hidden_dim': 122, 'dropout': 0.3104520256485737, 'weight_decay': 3.147855676140557e-05, 'epochs': 50, 'n_splits': 5}\n",
            "--- Fold 1/5 ---\n",
            "Starting training for fold 1...\n"
          ]
        },
        {
          "output_type": "stream",
          "name": "stderr",
          "text": [
            "/usr/local/lib/python3.11/dist-packages/torch/optim/lr_scheduler.py:62: UserWarning: The verbose parameter is deprecated. Please use get_last_lr() to access the learning rate.\n",
            "  warnings.warn(\n"
          ]
        },
        {
          "output_type": "stream",
          "name": "stdout",
          "text": [
            "Early stopping at epoch 26 for fold 1\n",
            "--- Fold 2/5 ---\n",
            "Starting training for fold 2...\n"
          ]
        },
        {
          "output_type": "stream",
          "name": "stderr",
          "text": [
            "/usr/local/lib/python3.11/dist-packages/torch/optim/lr_scheduler.py:62: UserWarning: The verbose parameter is deprecated. Please use get_last_lr() to access the learning rate.\n",
            "  warnings.warn(\n"
          ]
        },
        {
          "output_type": "stream",
          "name": "stdout",
          "text": [
            "Early stopping at epoch 17 for fold 2\n",
            "--- Fold 3/5 ---\n",
            "Starting training for fold 3...\n"
          ]
        },
        {
          "output_type": "stream",
          "name": "stderr",
          "text": [
            "/usr/local/lib/python3.11/dist-packages/torch/optim/lr_scheduler.py:62: UserWarning: The verbose parameter is deprecated. Please use get_last_lr() to access the learning rate.\n",
            "  warnings.warn(\n"
          ]
        },
        {
          "output_type": "stream",
          "name": "stdout",
          "text": [
            "Early stopping at epoch 25 for fold 3\n",
            "--- Fold 4/5 ---\n",
            "Starting training for fold 4...\n"
          ]
        },
        {
          "output_type": "stream",
          "name": "stderr",
          "text": [
            "/usr/local/lib/python3.11/dist-packages/torch/optim/lr_scheduler.py:62: UserWarning: The verbose parameter is deprecated. Please use get_last_lr() to access the learning rate.\n",
            "  warnings.warn(\n"
          ]
        },
        {
          "output_type": "stream",
          "name": "stdout",
          "text": [
            "Early stopping at epoch 17 for fold 4\n",
            "--- Fold 5/5 ---\n",
            "Starting training for fold 5...\n"
          ]
        },
        {
          "output_type": "stream",
          "name": "stderr",
          "text": [
            "/usr/local/lib/python3.11/dist-packages/torch/optim/lr_scheduler.py:62: UserWarning: The verbose parameter is deprecated. Please use get_last_lr() to access the learning rate.\n",
            "  warnings.warn(\n",
            "[I 2025-05-05 13:36:28,972] Trial 48 finished with value: 0.16354043655848302 and parameters: {'lr': 0.00011548615718137959, 'batch_size': 32, 'hidden_dim': 122, 'dropout': 0.3104520256485737, 'weight_decay': 3.147855676140557e-05}. Best is trial 38 with value: 0.16289076485324372.\n"
          ]
        },
        {
          "output_type": "stream",
          "name": "stdout",
          "text": [
            "Trial 48 Results (averaged over folds): {'Ctd': 0.6594449747532347, 'AUC': 0.6685289048343368, 'IBS': 0.16354043655848302, 'Avg_ECE_over_times': 0.2054471011168204, 'Avg_Brier_over_times': 0.15535992991402262}\n",
            "\n",
            "Trial 49 with parameters: {'lr': 0.004400298965821104, 'batch_size': 64, 'hidden_dim': 95, 'dropout': 0.24821413032792716, 'weight_decay': 2.1991018483129388e-05, 'epochs': 50, 'n_splits': 5}\n",
            "--- Fold 1/5 ---\n",
            "Starting training for fold 1...\n"
          ]
        },
        {
          "output_type": "stream",
          "name": "stderr",
          "text": [
            "/usr/local/lib/python3.11/dist-packages/torch/optim/lr_scheduler.py:62: UserWarning: The verbose parameter is deprecated. Please use get_last_lr() to access the learning rate.\n",
            "  warnings.warn(\n"
          ]
        },
        {
          "output_type": "stream",
          "name": "stdout",
          "text": [
            "Early stopping at epoch 19 for fold 1\n",
            "--- Fold 2/5 ---\n",
            "Starting training for fold 2...\n"
          ]
        },
        {
          "output_type": "stream",
          "name": "stderr",
          "text": [
            "/usr/local/lib/python3.11/dist-packages/torch/optim/lr_scheduler.py:62: UserWarning: The verbose parameter is deprecated. Please use get_last_lr() to access the learning rate.\n",
            "  warnings.warn(\n"
          ]
        },
        {
          "output_type": "stream",
          "name": "stdout",
          "text": [
            "Early stopping at epoch 15 for fold 2\n",
            "--- Fold 3/5 ---\n",
            "Starting training for fold 3...\n"
          ]
        },
        {
          "output_type": "stream",
          "name": "stderr",
          "text": [
            "/usr/local/lib/python3.11/dist-packages/torch/optim/lr_scheduler.py:62: UserWarning: The verbose parameter is deprecated. Please use get_last_lr() to access the learning rate.\n",
            "  warnings.warn(\n"
          ]
        },
        {
          "output_type": "stream",
          "name": "stdout",
          "text": [
            "Early stopping at epoch 12 for fold 3\n",
            "--- Fold 4/5 ---\n",
            "Starting training for fold 4...\n"
          ]
        },
        {
          "output_type": "stream",
          "name": "stderr",
          "text": [
            "/usr/local/lib/python3.11/dist-packages/torch/optim/lr_scheduler.py:62: UserWarning: The verbose parameter is deprecated. Please use get_last_lr() to access the learning rate.\n",
            "  warnings.warn(\n"
          ]
        },
        {
          "output_type": "stream",
          "name": "stdout",
          "text": [
            "Early stopping at epoch 11 for fold 4\n",
            "--- Fold 5/5 ---\n",
            "Starting training for fold 5...\n"
          ]
        },
        {
          "output_type": "stream",
          "name": "stderr",
          "text": [
            "/usr/local/lib/python3.11/dist-packages/torch/optim/lr_scheduler.py:62: UserWarning: The verbose parameter is deprecated. Please use get_last_lr() to access the learning rate.\n",
            "  warnings.warn(\n",
            "[I 2025-05-05 13:36:32,888] Trial 49 finished with value: 0.17198335371827037 and parameters: {'lr': 0.004400298965821104, 'batch_size': 64, 'hidden_dim': 95, 'dropout': 0.24821413032792716, 'weight_decay': 2.1991018483129388e-05}. Best is trial 38 with value: 0.16289076485324372.\n"
          ]
        },
        {
          "output_type": "stream",
          "name": "stdout",
          "text": [
            "Early stopping at epoch 34 for fold 5\n",
            "Trial 49 Results (averaged over folds): {'Ctd': 0.644761180551715, 'AUC': 0.6617964381766392, 'IBS': 0.17198335371827037, 'Avg_ECE_over_times': 0.22593604681916007, 'Avg_Brier_over_times': 0.16317495869170456}\n",
            "\n",
            "Optuna study finished.\n",
            "Best trial:\n",
            "  Value (IBS): 0.1629\n",
            "  Params: {'lr': 0.00017438650733974967, 'batch_size': 32, 'hidden_dim': 110, 'dropout': 0.33608898259217396, 'weight_decay': 2.9062831146670196e-05}\n",
            "\n",
            "Retraining the best model on the full dataset...\n",
            "Training the final model...\n",
            "Final Model Training - Epoch 1/100, Loss: 2.4969\n"
          ]
        },
        {
          "output_type": "stream",
          "name": "stderr",
          "text": [
            "/usr/local/lib/python3.11/dist-packages/torch/optim/lr_scheduler.py:62: UserWarning: The verbose parameter is deprecated. Please use get_last_lr() to access the learning rate.\n",
            "  warnings.warn(\n"
          ]
        },
        {
          "output_type": "stream",
          "name": "stdout",
          "text": [
            "Final Model Training - Epoch 10/100, Loss: 2.3861\n",
            "Final Model Training - Epoch 20/100, Loss: 2.3078\n",
            "Final Model Training - Epoch 30/100, Loss: 2.3464\n",
            "Final Model Training - Epoch 40/100, Loss: 2.3476\n",
            "Final Model Training - Epoch 50/100, Loss: 2.3380\n",
            "Final Model Training - Epoch 60/100, Loss: 2.3106\n",
            "Final Model Training - Epoch 70/100, Loss: 2.2770\n",
            "Final Model Training - Epoch 80/100, Loss: 2.2905\n",
            "Final Model Training - Epoch 90/100, Loss: 2.2937\n",
            "Final Model Training - Epoch 100/100, Loss: 2.2897\n",
            "Final model training complete.\n",
            "\n",
            "Performing final evaluation on the full dataset...\n",
            "\n",
            "Final Evaluation Metrics (on the full dataset):\n",
            "  Concordance Index (Ctd): 0.7187\n",
            "  Time-dependent AUC (avg over times): 0.7492\n",
            "  Integrated Brier Score (IBS): 0.1497\n",
            "  Expected Calibration Error (ECE, avg over times): 0.1921\n",
            "  Brier Score (avg over times): 0.1418\n"
          ]
        },
        {
          "output_type": "display_data",
          "data": {
            "text/plain": [
              "<Figure size 1000x600 with 2 Axes>"
            ],
            "image/png": "[encoded data removed]"
          },
          "metadata": {}
        }
      ]
    },
    {
      "cell_type": "code",
      "source": [
        "import matplotlib.pyplot as plt\n",
        "import numpy as np\n",
        "import torch\n",
        "from torch.utils.data import DataLoader # Assuming you have this\n",
        "# Assuming lifelines is installed and imported\n",
        "try:\n",
        "    from lifelines import KaplanMeierFitter\n",
        "    from lifelines.statistics import logrank_test\n",
        "    lifelines_available = True\n",
        "except ImportError:\n",
        "    print(\"Warning: lifelines library not found. Kaplan-Meier plotting and log-rank test will be skipped.\")\n",
        "    lifelines_available = False\n",
        "# Assuming sksurv is installed and imported for kaplan_meier_estimator if used elsewhere\n",
        "try:\n",
        "    from sksurv.nonparametric import kaplan_meier_estimator\n",
        "    sksurv_available = True\n",
        "except ImportError:\n",
        "    print(\"Warning: scikit-survival library not found. Some functionality might be affected if used elsewhere.\")\n",
        "    sksurv_available = False"
      ],
      "metadata": {
        "id": "mhtxBdVlEr1l"
      },
      "execution_count": 8,
      "outputs": []
    },
    {
      "cell_type": "code",
      "source": [
        "# Optional: Plot Time-dependent AUC at evaluated times\n",
        "if plot_auc_possible:\n",
        "    auc_times, auc_scores = final_metrics[\"AUC_at_times\"]\n",
        "    # Ensure lists are numpy arrays for plotting if they aren't already\n",
        "    auc_times = np.array(auc_times)\n",
        "    auc_scores = np.array(auc_scores)\n",
        "    plt.figure(figsize=(10, 6))\n",
        "    plt.plot(auc_times, auc_scores, marker='o', linestyle='-')\n",
        "    plt.xlabel(\"Time\")\n",
        "    plt.ylabel(\"Time-dependent AUC\")\n",
        "    plt.title(\"Time-dependent AUC Over Time (Final Model)\")\n",
        "    plt.grid(True)\n",
        "    plt.ylim(0, 1.05) # Set y-axis limits for AUC\n",
        "    plt.show()\n",
        "else:\n",
        "    print(\"\\nCould not plot Time-dependent AUC as no valid AUC scores were computed.\")\n",
        "\n",
        "\n",
        "# --- Plot Predicted Survival Curves vs Kaplan-Meier ---\n",
        "if plot_survival_curve_possible and sksurv_available: # Check if sksurv KM estimator is available\n",
        "    print(\"\\nPlotting predicted survival curves vs Kaplan-Meier for sample individuals...\")\n",
        "\n",
        "    try:\n",
        "        # Get predicted hazards for the full dataset from the best model\n",
        "        best_model.eval()\n",
        "        all_hazards_full = []\n",
        "        # Use the same DataLoader as final evaluation\n",
        "        full_dataset_loader_hazards = DataLoader(dataset_full, batch_size=128, shuffle=False) # Ensure shuffle=False for consistent ordering\n",
        "        with torch.no_grad():\n",
        "            for X_batch, _, _ in full_dataset_loader_hazards:\n",
        "                X_batch = X_batch.to(device)\n",
        "                # Assuming model output is hazard or risk score; use it directly for ranking\n",
        "                # If model outputs survival function directly, need a different way to rank\n",
        "                preds = best_model(X_batch).cpu().numpy().flatten()\n",
        "                all_hazards_full.extend(preds)\n",
        "        all_hazards_full = np.array(all_hazards_full)\n",
        "        # Ensure the number of hazards matches the number of samples\n",
        "        if len(all_hazards_full) != len(dataset_full):\n",
        "             raise ValueError(f\"Mismatch between number of hazards ({len(all_hazards_full)}) and dataset size ({len(dataset_full)})\")\n",
        "\n",
        "\n",
        "        # Get predicted survival probabilities and times from the final evaluation metrics\n",
        "        predicted_survival_probs = final_metrics[\"survival_probs\"]\n",
        "        eval_times_for_survival_plot = final_metrics[\"eval_times\"]\n",
        "        # Ensure eval_times is a list or 1D array\n",
        "        if isinstance(eval_times_for_survival_plot, np.ndarray):\n",
        "             eval_times_for_survival_plot = eval_times_for_survival_plot.tolist()\n",
        "\n",
        "        # Calculate Kaplan-Meier curve for the full dataset (using y_full_data_sksurv created earlier)\n",
        "        km_times, km_survival_prob = kaplan_meier_estimator(y_full_data_sksurv[\"event\"], y_full_data_sksurv[\"time\"])\n",
        "\n",
        "        # Select individuals representing different risk groups based on predicted hazards/scores\n",
        "        # Sort individuals by their predicted hazard (ascending order means lower risk first)\n",
        "        sorted_indices_by_hazard = np.argsort(all_hazards_full)\n",
        "\n",
        "        # Choose individuals at specific percentiles of the sorted hazards\n",
        "        # Example: 10th (low risk), 50th (medium risk), 90th (high risk) percentiles\n",
        "        percentiles_to_plot = [10, 50, 90]\n",
        "        selected_indices = [sorted_indices_by_hazard[min(int(len(all_hazards_full) * p / 100), len(all_hazards_full) - 1)] for p in percentiles_to_plot]\n",
        "        # Use min() with len() - 1 to handle potential edge cases with small datasets\n",
        "\n",
        "        plt.figure(figsize=(10, 7))\n",
        "\n",
        "        # Plot Kaplan-Meier curve\n",
        "        plt.step(km_times, km_survival_prob, where=\"post\", label=\"Kaplan-Meier (Full Dataset)\", color='black', linestyle='--')\n",
        "\n",
        "        # Plot predicted survival curves for selected individuals\n",
        "        colors = ['green', 'blue', 'red'] # Colors for low, medium, high risk\n",
        "        labels = ['Predicted Survival (Low Risk)', 'Predicted Survival (Medium Risk)', 'Predicted Survival (High Risk)']\n",
        "\n",
        "        # The predicted_survival_probs are discrete points at eval_times.\n",
        "        # Plotting as markers connected by lines is appropriate.\n",
        "        # Add (0, 1.0) as a starting point.\n",
        "        plot_times_pred = [0] + eval_times_for_survival_plot\n",
        "        for i, idx in enumerate(selected_indices):\n",
        "            # Ensure the index is valid\n",
        "            if idx < 0 or idx >= predicted_survival_probs.shape[0]:\n",
        "                 print(f\"Warning: Selected index {idx} is out of bounds for predicted probabilities (shape: {predicted_survival_probs.shape}). Skipping this individual.\")\n",
        "                 continue\n",
        "            predicted_curve = predicted_survival_probs[idx, :]\n",
        "             # Ensure predicted_curve has the correct length\n",
        "            if len(predicted_curve) != len(eval_times_for_survival_plot):\n",
        "                 print(f\"Warning: Mismatch in length between predicted curve ({len(predicted_curve)}) and eval times ({len(eval_times_for_survival_plot)}) for index {idx}. Skipping.\")\n",
        "                 continue\n",
        "            plot_probs = [1.0] + predicted_curve.tolist()\n",
        "            plt.plot(plot_times_pred, plot_probs, marker='o', markersize=4, linestyle='-', color=colors[i], label=labels[i])\n",
        "\n",
        "\n",
        "        plt.xlabel(\"Time\")\n",
        "        plt.ylabel(\"Survival Probability\")\n",
        "        plt.title(\"Predicted Survival Curves for Sample Individuals vs Kaplan-Meier\")\n",
        "        plt.legend()\n",
        "        plt.grid(True)\n",
        "        plt.ylim(0, 1.05) # Ensure y-axis is from 0 to 1\n",
        "        plt.show()\n",
        "\n",
        "    except Exception as e:\n",
        "        import traceback\n",
        "        print(f\"Error plotting individual survival curves: {str(e)}\")\n",
        "        print(traceback.format_exc()) # Print traceback for detailed debugging\n",
        "        print(\"Could not plot predicted survival curves for sample individuals vs Kaplan-Meier.\")\n",
        "\n",
        "elif not sksurv_available:\n",
        "     print(\"\\nSkipping plotting predicted survival curves vs Kaplan-Meier because scikit-survival is not available.\")\n",
        "else:\n",
        "    print(\"\\nCould not plot predicted survival curves for sample individuals vs Kaplan-Meier as survival probabilities or evaluation times are not available.\")\n",
        "\n",
        "\n",
        "# --- Compare Model Predicted Group Survival vs Kaplan-Meier by Hormonal Therapy (Corrected Plotting) ---\n",
        "if plot_group_comparison_possible:\n",
        "    print(\"\\nComparing model predicted group survival vs Kaplan-Meier by hormonal therapy...\")\n",
        "\n",
        "    try:\n",
        "        # Get predicted survival probabilities and times from the final evaluation metrics\n",
        "        predicted_survival_probs_full = final_metrics[\"survival_probs\"]\n",
        "        eval_times_for_group_plot = final_metrics[\"eval_times\"]\n",
        "        # Ensure eval_times is a list or 1D array\n",
        "        if isinstance(eval_times_for_group_plot, np.ndarray):\n",
        "             eval_times_for_group_plot = eval_times_for_group_plot.tolist()\n",
        "\n",
        "        # --- Calculate Kaplan-Meier curves for the two groups (actual data) using lifelines ---\n",
        "        kmf_hormon = KaplanMeierFitter()\n",
        "        kmf_no_hormon = KaplanMeierFitter()\n",
        "\n",
        "        # Slice the full times and events tensors using the group indices\n",
        "        # Ensure indices are valid before slicing\n",
        "        times_hormon = times[hormon_1_indices].numpy() if hormon_1_indices else np.array([])\n",
        "        events_hormon = events[hormon_1_indices].numpy() if hormon_1_indices else np.array([])\n",
        "        times_no_hormon = times[hormon_0_indices].numpy() if hormon_0_indices else np.array([])\n",
        "        events_no_hormon = events[hormon_0_indices].numpy() if hormon_0_indices else np.array([])\n",
        "\n",
        "        # Define consistent colors and labels\n",
        "        color_hormon = 'blue'\n",
        "        color_no_hormon = 'red'\n",
        "        label_hormon_km = 'KM (Hormonal Therapy)'\n",
        "        label_no_hormon_km = 'KM (No Hormonal Therapy)'\n",
        "        label_hormon_pred = 'Model Avg (Hormonal Therapy)'\n",
        "        label_no_hormon_pred = 'Model Avg (No Hormonal Therapy)'\n",
        "\n",
        "        # Fit KM to each group's actual data only if data exists\n",
        "        km_hormon_fitted = False\n",
        "        if len(times_hormon) > 0:\n",
        "            kmf_hormon.fit(durations=times_hormon, event_observed=events_hormon, label=label_hormon_km)\n",
        "            km_hormon_fitted = True\n",
        "        else:\n",
        "            print(\"Warning: No data for Hormonal Therapy group KM curve.\")\n",
        "\n",
        "        km_no_hormon_fitted = False\n",
        "        #if len(times_no_hormon) > 0:\n",
        "            #kmf_no_hormon.fit(durations=times_no_hormon, event_observed=events_no_hormon, label=label_no_hormon_km)\n",
        "            #km_no_hormon_fitted = True\n",
        "        #else:\n",
        "        #    print(\"Warning: No data for No Hormonal Therapy group KM curve.\")\n",
        "\n",
        "        # --- Calculate Model Predicted survival curves for the two groups (average) ---\n",
        "        n_eval_times = len(eval_times_for_group_plot)\n",
        "        # Slice the predicted survival probabilities using the group indices\n",
        "        predicted_probs_hormon = predicted_survival_probs_full[hormon_1_indices, :] if hormon_1_indices else np.empty((0, n_eval_times))\n",
        "        predicted_probs_no_hormon = predicted_survival_probs_full[hormon_0_indices, :] if hormon_0_indices else np.empty((0, n_eval_times))\n",
        "\n",
        "        # Calculate the average predicted survival probability over time for each group\n",
        "        # Handle cases where a group might be empty to avoid errors\n",
        "        avg_predicted_hormon = np.mean(predicted_probs_hormon, axis=0) if predicted_probs_hormon.shape[0] > 0 else np.full(n_eval_times, np.nan)\n",
        "        avg_predicted_no_hormon = np.mean(predicted_probs_no_hormon, axis=0) if predicted_probs_no_hormon.shape[0] > 0 else np.full(n_eval_times, np.nan)\n",
        "\n",
        "        # --- Plotting ---\n",
        "        plt.figure(figsize=(10, 7))\n",
        "        ax = plt.gca() # Get current axes\n",
        "\n",
        "        # Plot Kaplan-Meier curves using lifelines' plot method if they were fitted\n",
        "        if km_hormon_fitted:\n",
        "             kmf_hormon.plot_survival_function(ax=ax, color=color_hormon, linestyle='-') # label is set during fit\n",
        "        if km_no_hormon_fitted:\n",
        "             kmf_no_hormon.plot_survival_function(ax=ax, color=color_no_hormon, linestyle='-') # label is set during fit\n",
        "\n",
        "        # Plot average predicted survival curves (as lines/markers at eval_times)\n",
        "        # Add (0, 1.0) as a starting point for the predicted curves\n",
        "        plot_times_pred = [0] + eval_times_for_group_plot\n",
        "\n",
        "        # Plot predicted curves, checking if they are valid (not all NaN)\n",
        "        plot_pred_hormon = False\n",
        "        if not np.all(np.isnan(avg_predicted_hormon)):\n",
        "            # Plot on the same axes\n",
        "            ax.plot(plot_times_pred, [1.0] + avg_predicted_hormon.tolist(), marker='x', linestyle='--', color=color_hormon, label=label_hormon_pred)\n",
        "            plot_pred_hormon = True\n",
        "        else:\n",
        "            print(\"Warning: Cannot plot average predicted survival for Hormonal Therapy group (empty or all NaN).\")\n",
        "\n",
        "        plot_pred_no_hormon = False\n",
        "        if not np.all(np.isnan(avg_predicted_no_hormon)):\n",
        "            # Plot on the same axes\n",
        "            ax.plot(plot_times_pred, [1.0] + avg_predicted_no_hormon.tolist(), marker='x', linestyle='--', color=color_no_hormon, label=label_no_hormon_pred)\n",
        "            plot_pred_no_hormon = True\n",
        "        else:\n",
        "            print(\"Warning: Cannot plot average predicted survival for No Hormonal Therapy group (empty or all NaN).\")\n",
        "\n",
        "        # Only add legend if something was plotted\n",
        "        if km_hormon_fitted or km_no_hormon_fitted or plot_pred_hormon or plot_pred_no_hormon:\n",
        "             ax.legend() # Let matplotlib handle the legend automatically\n",
        "\n",
        "        plt.xlabel(\"Time\")\n",
        "        plt.ylabel(\"Survival Probability\")\n",
        "        plt.title(\"Survival Function Comparison: Actual KM vs. Model Average Prediction by Hormonal Therapy\")\n",
        "        plt.grid(True)\n",
        "        plt.ylim(0, 1.05) # Ensure y-axis is from 0 to 1\n",
        "        plt.show()\n",
        "\n",
        "        # --- Perform Log-rank test using lifelines ---\n",
        "        print(\"\\nPerforming Log-rank test on actual data groups:\")\n",
        "        # Check if there is enough data in each group for the log-rank test\n",
        "        if len(times_hormon) > 0 and len(times_no_hormon) > 0:\n",
        "            try:\n",
        "                results = logrank_test(\n",
        "                    durations_A=times_hormon, durations_B=times_no_hormon,\n",
        "                    event_observed_A=events_hormon, event_observed_B=events_no_hormon\n",
        "                )\n",
        "                # Print the p-value and summary\n",
        "                print(f\"Log-rank test p-value: {results.p_value:.4f}\")\n",
        "                # print(results.print_summary()) # Uncomment for full summary\n",
        "            except Exception as logrank_e:\n",
        "                 print(f\"Error during log-rank test: {logrank_e}\")\n",
        "                 print(\"Could not perform log-rank test.\")\n",
        "        else:\n",
        "            print(\"Warning: One or both groups have insufficient data. Cannot perform Log-rank test.\")\n",
        "\n",
        "    except Exception as e:\n",
        "        import traceback\n",
        "        print(f\"Error comparing group survival curves or performing log-rank test: {str(e)}\")\n",
        "        print(traceback.format_exc()) # Print traceback for detailed debugging\n",
        "        print(\"Could not plot group survival curve comparison or perform log-rank test.\")\n",
        "\n",
        "elif not lifelines_available:\n",
        "     print(\"\\nSkipping group survival comparison because lifelines library is not available.\")\n",
        "elif not plot_survival_curve_possible:\n",
        "     print(\"\\nSkipping group survival comparison because survival probabilities are not available.\")\n",
        "elif len(hormon_1_indices) == 0 or len(hormon_0_indices) == 0:\n",
        "     print(\"\\nSkipping group survival comparison because one or both hormonal therapy groups are empty.\")\n",
        "else:\n",
        "    print(\"\\nCould not plot group survival comparison or perform log-rank test for other reasons.\")"
      ],
      "metadata": {
        "colab": {
          "base_uri": "https://localhost:8080/",
          "height": 1000
        },
        "id": "NyZZQEVxEs4M",
        "outputId": "45e47b16-468f-4da5-8c11-d128cf3f032f"
      },
      "execution_count": 9,
      "outputs": [
        {
          "output_type": "display_data",
          "data": {
            "text/plain": [
              "<Figure size 1000x600 with 1 Axes>"
            ],
            "image/png": "[encoded data removed]"
          },
          "metadata": {}
        },
        {
          "output_type": "stream",
          "name": "stdout",
          "text": [
            "\n",
            "Plotting predicted survival curves vs Kaplan-Meier for sample individuals...\n"
          ]
        },
        {
          "output_type": "display_data",
          "data": {
            "text/plain": [
              "<Figure size 1000x700 with 1 Axes>"
            ],
            "image/png": "[encoded data removed]"
          },
          "metadata": {}
        },
        {
          "output_type": "stream",
          "name": "stdout",
          "text": [
            "\n",
            "Comparing model predicted group survival vs Kaplan-Meier by hormonal therapy...\n"
          ]
        },
        {
          "output_type": "display_data",
          "data": {
            "text/plain": [
              "<Figure size 1000x700 with 1 Axes>"
            ],
            "image/png": "[encoded data removed]"
          },
          "metadata": {}
        },
        {
          "output_type": "stream",
          "name": "stdout",
          "text": [
            "\n",
            "Performing Log-rank test on actual data groups:\n",
            "Log-rank test p-value: 0.0487\n"
          ]
        }
      ]
    },
    {
      "cell_type": "code",
      "source": [
        "# --- Group Evaluation at 75th Percentile ---\n",
        "def evaluate_hormonal_groups(best_model, dataset_full, hormon_indices_list, device, eval_times, y_train):\n",
        "    \"\"\"\n",
        "    Evaluate model performance on hormonal therapy groups (75th percentile split)\n",
        "\n",
        "    Args:\n",
        "        best_model: Trained PyTorch model\n",
        "        dataset_full: Full dataset tensor\n",
        "        hormon_indices_list: List of indices for hormonal groups\n",
        "        device: Device to use\n",
        "        eval_times: Evaluation time points\n",
        "        y_train: Training survival data for sksurv metrics\n",
        "\n",
        "    Returns:\n",
        "        Dictionary containing metrics for each group\n",
        "    \"\"\"\n",
        "    group_metrics = {}\n",
        "    group_names = ['No Hormonal Therapy', 'Hormonal Therapy']\n",
        "\n",
        "    for idx, indices in enumerate(hormon_indices_list):\n",
        "        if len(indices) == 0:\n",
        "            print(f\"Warning: No samples in group {group_names[idx]}. Skipping evaluation.\")\n",
        "            continue\n",
        "\n",
        "        group_loader = DataLoader(Subset(dataset_full, indices), batch_size=128)\n",
        "\n",
        "        # Ensure y_train is Surv object and eval_times are valid\n",
        "        group_results = evaluate_model(\n",
        "            best_model,\n",
        "            group_loader,\n",
        "            device,\n",
        "            [t for t in eval_times if t < y_train['time'].max()],\n",
        "            y_train\n",
        "        )\n",
        "\n",
        "        group_metrics[group_names[idx]] = group_results\n",
        "        print(f\"\\n{group_names[idx]} Metrics:\")\n",
        "        print(f\"  Ctd: {group_results['Ctd']:.4f}\")\n",
        "        print(f\"  AUC: {group_results['AUC']:.4f}\")\n",
        "        print(f\"  IBS: {group_results['IBS']:.4f}\")\n",
        "        print(f\"  Avg ECE: {np.nanmean(group_results['ECE_at_times']):.4f}\")\n",
        "        print(f\"  Avg Brier: {np.nanmean(group_results['Brier_at_times']):.4f}\")\n",
        "\n",
        "    return group_metrics\n",
        "\n",
        "# --- Survival Curve Comparison ---\n",
        "def plot_group_survival_curves(best_model, dataset_full, hormon_indices_list, times, events, eval_times, device):\n",
        "    best_model.eval()\n",
        "    group_survival = []\n",
        "\n",
        "    with torch.no_grad():\n",
        "        for indices in hormon_indices_list:\n",
        "            if len(indices) == 0:\n",
        "                group_survival.append(None)\n",
        "                continue\n",
        "\n",
        "            X_group = torch.stack([dataset_full[i][0] for i in indices]).to(device)\n",
        "            hazards = best_model(X_group).cpu().numpy().flatten()\n",
        "\n",
        "            order = np.argsort(times[indices])\n",
        "            sorted_hazards = hazards[order]\n",
        "            sorted_times = times[indices][order]\n",
        "            sorted_events = events[indices][order]\n",
        "\n",
        "            unique_times = np.unique(sorted_times[sorted_events])\n",
        "            baseline_hazard = {}\n",
        "            for t in unique_times:\n",
        "                risk_set = np.where(sorted_times >= t)[0]\n",
        "                risk_sum = np.sum(np.exp(sorted_hazards[risk_set])) if len(risk_set) > 0 else 0\n",
        "                events_at_t = np.sum(sorted_times == t)\n",
        "                baseline_hazard[t] = events_at_t / risk_sum if risk_sum > 0 else 0\n",
        "\n",
        "            survival_probs = np.zeros(len(eval_times))\n",
        "            cum_hazard = 0\n",
        "            for i, t in enumerate(eval_times):\n",
        "                relevant_times = [ut for ut in unique_times if ut <= t]\n",
        "                if relevant_times:\n",
        "                    cum_hazard += sum(baseline_hazard[ut] for ut in relevant_times)\n",
        "                survival_probs[i] = np.exp(-cum_hazard * np.mean(np.exp(sorted_hazards)))\n",
        "\n",
        "            group_survival.append(survival_probs)\n",
        "\n",
        "    plt.figure(figsize=(10, 6))\n",
        "    colors = ['blue', 'red']\n",
        "    labels = ['No Hormonal Therapy', 'Hormonal Therapy']\n",
        "\n",
        "    # Store legend handles and labels manually\n",
        "    legend_handles = []\n",
        "\n",
        "    for i, survival_probs in enumerate(group_survival):\n",
        "        if survival_probs is None:\n",
        "            continue\n",
        "\n",
        "        # Kaplan-Meier Plot\n",
        "        kmf = KaplanMeierFitter()\n",
        "        kmf.fit(times[hormon_indices_list[i]], event_observed=events[hormon_indices_list[i]])\n",
        "        #km_line = kmf.plot_survival_function(color=colors[i])  # Do NOT include label here\n",
        "        #legend_handles.append(km_line.get_lines()[0])  # Manually add KM line to legend\n",
        "\n",
        "        # Model prediction plot\n",
        "        model_line, = plt.plot(\n",
        "            eval_times,\n",
        "            survival_probs,\n",
        "            linestyle='--',\n",
        "            marker='o',\n",
        "            color=colors[i],\n",
        "            label=f'Model - {labels[i]}'\n",
        "        )\n",
        "        legend_handles.append(model_line)\n",
        "\n",
        "    # Create legend manually\n",
        "    plt.legend(legend_handles, [f'KM - {l}' for l in labels] + [f'Model - {l}' for l in labels])\n",
        "    plt.title('Survival Curves by Hormonal Therapy Status')\n",
        "    plt.xlabel('Time')\n",
        "    plt.ylabel('Survival Probability')\n",
        "    plt.grid(True)\n",
        "    plt.ylim(0, 1.05)\n",
        "    plt.show()\n",
        "\n",
        "# --- Main Execution with Fixes ---\n",
        "if __name__ == \"__main__\":\n",
        "    # Convert tensors to NumPy arrays for plotting functions\n",
        "    times_np = times.numpy()\n",
        "    events_np = events.numpy()\n",
        "\n",
        "    # Final evaluation on full dataset\n",
        "    final_eval_times = np.percentile(times_np, [10, 25, 50, 75, 90])\n",
        "    full_loader = DataLoader(dataset_full, batch_size=128)\n",
        "    y_full = Surv.from_arrays(event=events_np, time=times_np)\n",
        "\n",
        "    # Final model training and evaluation\n",
        "    final_metrics = evaluate_model(best_model, full_loader, device, final_eval_times, y_full)\n",
        "\n",
        "    # Group evaluation\n",
        "    hormon_indices_list = [hormon_0_indices, hormon_1_indices]\n",
        "    group_metrics = evaluate_hormonal_groups(\n",
        "        best_model,\n",
        "        dataset_full,\n",
        "        hormon_indices_list,\n",
        "        device,\n",
        "        final_eval_times,\n",
        "        y_full\n",
        "    )\n",
        "\n",
        "    # Survival curve plotting\n",
        "    plot_group_survival_curves(\n",
        "        best_model,\n",
        "        dataset_full,\n",
        "        hormon_indices_list,\n",
        "        times_np,  # Use NumPy arrays\n",
        "        events_np,\n",
        "        final_eval_times,\n",
        "        device\n",
        "    )\n",
        "\n",
        "    # Log-rank test\n",
        "    if len(hormon_0_indices) > 0 and len(hormon_1_indices) > 0:\n",
        "        results = logrank_test(\n",
        "            durations_A=times_np[hormon_0_indices],\n",
        "            durations_B=times_np[hormon_1_indices],\n",
        "            event_observed_A=events_np[hormon_0_indices],\n",
        "            event_observed_B=events_np[hormon_1_indices]\n",
        "        )\n",
        "        print(f\"\\nLog-rank test p-value: {results.p_value:.4f}\")"
      ],
      "metadata": {
        "colab": {
          "base_uri": "https://localhost:8080/",
          "height": 885
        },
        "id": "z534tOjIf4gh",
        "outputId": "583291a3-c490-41ae-c058-04675ed68eb8"
      },
      "execution_count": 10,
      "outputs": [
        {
          "output_type": "stream",
          "name": "stdout",
          "text": [
            "Error computing Time-dependent AUC: The truth value of an array with more than one element is ambiguous. Use a.any() or a.all()\n",
            "\n",
            "No Hormonal Therapy Metrics:\n",
            "  Ctd: 0.7007\n",
            "  AUC: 0.7303\n",
            "  IBS: 0.1579\n",
            "  Avg ECE: 0.1840\n",
            "  Avg Brier: 0.1442\n",
            "\n",
            "Hormonal Therapy Metrics:\n",
            "  Ctd: 0.7558\n",
            "  AUC: 0.7778\n",
            "  IBS: 0.1378\n",
            "  Avg ECE: 0.2096\n",
            "  Avg Brier: 0.1313\n"
          ]
        },
        {
          "output_type": "display_data",
          "data": {
            "text/plain": [
              "<Figure size 1000x600 with 1 Axes>"
            ],
            "image/png": "[encoded data removed]"
          },
          "metadata": {}
        },
        {
          "output_type": "stream",
          "name": "stdout",
          "text": [
            "\n",
            "Log-rank test p-value: 0.0487\n"
          ]
        }
      ]
    }
  ],
  "metadata": {
    "accelerator": "GPU",
    "colab": {
      "gpuType": "T4",
      "provenance": []
    },
    "kernelspec": {
      "display_name": "Python 3",
      "name": "python3"
    },
    "language_info": {
      "name": "python"
    }
  },
  "nbformat": 4,
  "nbformat_minor": 0
}
